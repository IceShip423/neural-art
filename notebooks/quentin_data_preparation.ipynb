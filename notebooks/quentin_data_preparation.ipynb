{
 "cells": [
  {
   "cell_type": "markdown",
   "id": "1de8a528",
   "metadata": {},
   "source": [
    "# Import"
   ]
  },
  {
   "cell_type": "code",
   "execution_count": 1,
   "id": "bac68fee-f859-4d79-a020-ecd6c6cfc4dd",
   "metadata": {
    "ExecuteTime": {
     "end_time": "2021-08-24T08:17:29.175436Z",
     "start_time": "2021-08-24T08:17:29.162936Z"
    }
   },
   "outputs": [],
   "source": [
    "%load_ext autoreload\n",
    "%autoreload 2"
   ]
  },
  {
   "cell_type": "code",
   "execution_count": 2,
   "id": "0c2feac0",
   "metadata": {
    "ExecuteTime": {
     "end_time": "2021-08-24T08:17:30.022575Z",
     "start_time": "2021-08-24T08:17:29.176306Z"
    }
   },
   "outputs": [],
   "source": [
    "import pandas as pd\n",
    "import numpy as np\n",
    "import seaborn as sns\n",
    "sns.set_theme(style=\"darkgrid\")\n",
    "import matplotlib.pyplot as plt\n",
    "import os\n",
    "from shutil import copyfile"
   ]
  },
  {
   "cell_type": "code",
   "execution_count": 3,
   "id": "a503ab16",
   "metadata": {
    "ExecuteTime": {
     "end_time": "2021-08-24T08:17:30.165909Z",
     "start_time": "2021-08-24T08:17:30.024133Z"
    }
   },
   "outputs": [],
   "source": [
    "!cd /Users/q/code/gregoirelafay/neural-art"
   ]
  },
  {
   "cell_type": "code",
   "execution_count": 4,
   "id": "ccf9bc92",
   "metadata": {
    "ExecuteTime": {
     "end_time": "2021-08-24T08:17:30.197489Z",
     "start_time": "2021-08-24T08:17:30.168405Z"
    }
   },
   "outputs": [
    {
     "data": {
      "text/plain": [
       "'/Users/q/code/gregoirelafay/neural-art/notebooks'"
      ]
     },
     "execution_count": 4,
     "metadata": {},
     "output_type": "execute_result"
    }
   ],
   "source": [
    "pwd"
   ]
  },
  {
   "cell_type": "code",
   "execution_count": 5,
   "id": "8e11ad43-bc6a-425a-a2e3-0d36cc773bda",
   "metadata": {
    "ExecuteTime": {
     "end_time": "2021-08-24T08:17:30.217233Z",
     "start_time": "2021-08-24T08:17:30.198704Z"
    }
   },
   "outputs": [],
   "source": [
    "from neuralart.data import *"
   ]
  },
  {
   "cell_type": "markdown",
   "id": "44e5a94d",
   "metadata": {},
   "source": [
    "# Get Data"
   ]
  },
  {
   "cell_type": "code",
   "execution_count": 8,
   "id": "d0081d1c",
   "metadata": {
    "ExecuteTime": {
     "end_time": "2021-08-24T08:21:41.396958Z",
     "start_time": "2021-08-24T08:21:41.346405Z"
    }
   },
   "outputs": [],
   "source": [
    "csv_path = \"../raw_data/wikiart\"\n",
    "image_path= \"../raw_data/wikiart/wikiart-movement-class_27\"\n",
    "sample_path = \"../raw_data/wikiart\""
   ]
  },
  {
   "cell_type": "code",
   "execution_count": 9,
   "id": "642dc50c",
   "metadata": {
    "ExecuteTime": {
     "end_time": "2021-08-24T08:21:54.202461Z",
     "start_time": "2021-08-24T08:21:43.351402Z"
    }
   },
   "outputs": [],
   "source": [
    "data = get_data(csv_path, image_path, create_csv=True)"
   ]
  },
  {
   "cell_type": "code",
   "execution_count": 10,
   "id": "20d09207",
   "metadata": {
    "ExecuteTime": {
     "end_time": "2021-08-24T08:21:57.540639Z",
     "start_time": "2021-08-24T08:21:57.489165Z"
    }
   },
   "outputs": [
    {
     "name": "stdout",
     "output_type": "stream",
     "text": [
      "(81446, 9)\n"
     ]
    },
    {
     "data": {
      "text/html": [
       "<div>\n",
       "<style scoped>\n",
       "    .dataframe tbody tr th:only-of-type {\n",
       "        vertical-align: middle;\n",
       "    }\n",
       "\n",
       "    .dataframe tbody tr th {\n",
       "        vertical-align: top;\n",
       "    }\n",
       "\n",
       "    .dataframe thead th {\n",
       "        text-align: right;\n",
       "    }\n",
       "</style>\n",
       "<table border=\"1\" class=\"dataframe\">\n",
       "  <thead>\n",
       "    <tr style=\"text-align: right;\">\n",
       "      <th></th>\n",
       "      <th>path</th>\n",
       "      <th>movement</th>\n",
       "      <th>artist</th>\n",
       "      <th>title</th>\n",
       "      <th>image</th>\n",
       "      <th>genre</th>\n",
       "      <th>cs-split-genre</th>\n",
       "      <th>cs-split-style</th>\n",
       "      <th>cs-split-artist</th>\n",
       "    </tr>\n",
       "  </thead>\n",
       "  <tbody>\n",
       "    <tr>\n",
       "      <th>0</th>\n",
       "      <td>Early_Renaissance/filippo-lippi_two-saints.jpg</td>\n",
       "      <td>Early_Renaissance</td>\n",
       "      <td>filippo-lippi</td>\n",
       "      <td>two-saints.jpg</td>\n",
       "      <td>filippo-lippi_two-saints.jpg</td>\n",
       "      <td>religious_painting</td>\n",
       "      <td>val</td>\n",
       "      <td>val</td>\n",
       "      <td>NaN</td>\n",
       "    </tr>\n",
       "  </tbody>\n",
       "</table>\n",
       "</div>"
      ],
      "text/plain": [
       "                                             path           movement  \\\n",
       "0  Early_Renaissance/filippo-lippi_two-saints.jpg  Early_Renaissance   \n",
       "\n",
       "          artist           title                         image  \\\n",
       "0  filippo-lippi  two-saints.jpg  filippo-lippi_two-saints.jpg   \n",
       "\n",
       "                genre cs-split-genre cs-split-style cs-split-artist  \n",
       "0  religious_painting            val            val             NaN  "
      ]
     },
     "execution_count": 10,
     "metadata": {},
     "output_type": "execute_result"
    }
   ],
   "source": [
    "print(data.shape)\n",
    "data.head(1)"
   ]
  },
  {
   "cell_type": "code",
   "execution_count": 11,
   "id": "bcfacb6f",
   "metadata": {
    "ExecuteTime": {
     "end_time": "2021-08-24T08:22:01.337477Z",
     "start_time": "2021-08-24T08:21:58.302481Z"
    }
   },
   "outputs": [],
   "source": [
    "sample = get_sample(data, image_path, sample_path, target='movement', n=100, random_state=123, \n",
    "                    replace=True, create_directory=True, create_csv=True)    \n"
   ]
  },
  {
   "cell_type": "code",
   "execution_count": 12,
   "id": "3f897366",
   "metadata": {
    "ExecuteTime": {
     "end_time": "2021-08-24T08:22:01.357623Z",
     "start_time": "2021-08-24T08:22:01.338738Z"
    }
   },
   "outputs": [
    {
     "name": "stdout",
     "output_type": "stream",
     "text": [
      "(2700, 9)\n"
     ]
    },
    {
     "data": {
      "text/html": [
       "<div>\n",
       "<style scoped>\n",
       "    .dataframe tbody tr th:only-of-type {\n",
       "        vertical-align: middle;\n",
       "    }\n",
       "\n",
       "    .dataframe tbody tr th {\n",
       "        vertical-align: top;\n",
       "    }\n",
       "\n",
       "    .dataframe thead th {\n",
       "        text-align: right;\n",
       "    }\n",
       "</style>\n",
       "<table border=\"1\" class=\"dataframe\">\n",
       "  <thead>\n",
       "    <tr style=\"text-align: right;\">\n",
       "      <th></th>\n",
       "      <th>path</th>\n",
       "      <th>movement</th>\n",
       "      <th>artist</th>\n",
       "      <th>title</th>\n",
       "      <th>image</th>\n",
       "      <th>genre</th>\n",
       "      <th>cs-split-genre</th>\n",
       "      <th>cs-split-style</th>\n",
       "      <th>cs-split-artist</th>\n",
       "    </tr>\n",
       "  </thead>\n",
       "  <tbody>\n",
       "    <tr>\n",
       "      <th>76876</th>\n",
       "      <td>Abstract_Expressionism/john-hoyland_landslide-...</td>\n",
       "      <td>Abstract_Expressionism</td>\n",
       "      <td>john-hoyland</td>\n",
       "      <td>landslide-1978.jpg</td>\n",
       "      <td>john-hoyland_landslide-1978.jpg</td>\n",
       "      <td>abstract_painting</td>\n",
       "      <td>train</td>\n",
       "      <td>train</td>\n",
       "      <td>NaN</td>\n",
       "    </tr>\n",
       "  </tbody>\n",
       "</table>\n",
       "</div>"
      ],
      "text/plain": [
       "                                                    path  \\\n",
       "76876  Abstract_Expressionism/john-hoyland_landslide-...   \n",
       "\n",
       "                     movement        artist               title  \\\n",
       "76876  Abstract_Expressionism  john-hoyland  landslide-1978.jpg   \n",
       "\n",
       "                                 image              genre cs-split-genre  \\\n",
       "76876  john-hoyland_landslide-1978.jpg  abstract_painting          train   \n",
       "\n",
       "      cs-split-style cs-split-artist  \n",
       "76876          train             NaN  "
      ]
     },
     "execution_count": 12,
     "metadata": {},
     "output_type": "execute_result"
    }
   ],
   "source": [
    "print(sample.shape)\n",
    "sample.head(1)"
   ]
  },
  {
   "cell_type": "code",
   "execution_count": 13,
   "id": "502eff25",
   "metadata": {
    "ExecuteTime": {
     "end_time": "2021-08-24T08:22:13.541286Z",
     "start_time": "2021-08-24T08:22:02.451842Z"
    }
   },
   "outputs": [],
   "source": [
    "merge = {\"Abstract_Expressionism\": \"Abstract\", \n",
    "         \"Action_painting\": \"Abstract\", \n",
    "         \"Color_Field_Painting\": \"Abstract\",\n",
    "         \"Synthetic_Cubism\": \"Cubism\", \n",
    "         \"Analytical_Cubism\": \"Cubism\",\n",
    "         \"Rococo\": \"Baroque\",\n",
    "         \"Early_Renaissance\": \"Renaissance\",\n",
    "         \"High_Renaissance\": \"Renaissance\",\n",
    "         \"Mannerism_Late_Renaissance\": \"Renaissance\",\n",
    "         \"Northern_Renaissance\": \"Renaissance\",\n",
    "         \"Post_Impressionism\": \"Impressionism\",\n",
    "         \"Symbolism\": \"Impressionism\"\n",
    "        }\n",
    "\n",
    "data_merge = get_data(csv_path, image_path, create_csv=True, merge=merge)"
   ]
  },
  {
   "cell_type": "markdown",
   "id": "c60a9c35",
   "metadata": {},
   "source": [
    "# Data Visualization"
   ]
  },
  {
   "cell_type": "code",
   "execution_count": 14,
   "id": "ad13813c",
   "metadata": {
    "ExecuteTime": {
     "end_time": "2021-08-24T08:22:13.801451Z",
     "start_time": "2021-08-24T08:22:13.542583Z"
    }
   },
   "outputs": [
    {
     "data": {
      "image/png": "[encoded data removed]",
      "text/plain": [
       "<Figure size 1080x720 with 1 Axes>"
      ]
     },
     "metadata": {},
     "output_type": "display_data"
    }
   ],
   "source": [
    "col = ['cs-split-artist','cs-split-genre','cs-split-style','path']\n",
    "\n",
    "fig, ax = plt.subplots(1,1,figsize=(15,10))\n",
    "sns.barplot(y=data[col].count().index, \n",
    "            x=data[col].count().values,\n",
    "            order=data[col].count().sort_values(ascending=False).index,\n",
    "            ax=ax);\n",
    "\n",
    "for i, v in enumerate(data[col].count().sort_values(ascending=False).values):\n",
    "    ax.text(v, i , str(v), color='blue', fontweight='bold')\n",
    "    \n",
    "ax.set_yticklabels(['total','cs-movement (style)','cs-genre','cs-artist']);\n",
    "ax.set_title(\"Number of images per target\");\n",
    "ax.set_xlabel(\"Count\");\n",
    "ax.set_ylabel(\"Target\");"
   ]
  },
  {
   "cell_type": "code",
   "execution_count": 15,
   "id": "63f5a6f6",
   "metadata": {
    "ExecuteTime": {
     "end_time": "2021-08-24T08:22:13.993517Z",
     "start_time": "2021-08-24T08:22:13.802612Z"
    }
   },
   "outputs": [
    {
     "data": {
      "image/png": "[encoded data removed]",
      "text/plain": [
       "<Figure size 1080x720 with 1 Axes>"
      ]
     },
     "metadata": {},
     "output_type": "display_data"
    }
   ],
   "source": [
    "col = ['artist','genre','movement']\n",
    "\n",
    "fig, ax = plt.subplots(1,1,figsize=(15,10))\n",
    "sns.barplot(y=data[col].nunique().index, \n",
    "            x=data[col].nunique().values,\n",
    "            order=data[col].nunique().sort_values(ascending=False).index,\n",
    "            ax=ax);\n",
    "\n",
    "for i, v in enumerate(data[col].nunique().sort_values(ascending=False).values):\n",
    "    ax.text(v, i , str(v), color='blue', fontweight='bold')\n",
    "    \n",
    "ax.set_title(\"Number of classes per target (all images)\");\n",
    "ax.set_xlabel(\"Count\");\n",
    "ax.set_ylabel(\"Target\");"
   ]
  },
  {
   "cell_type": "code",
   "execution_count": 16,
   "id": "e6e8af76",
   "metadata": {
    "ExecuteTime": {
     "end_time": "2021-08-24T08:22:14.335261Z",
     "start_time": "2021-08-24T08:22:13.995347Z"
    }
   },
   "outputs": [
    {
     "data": {
      "image/png": "[encoded data removed]",
      "text/plain": [
       "<Figure size 1080x720 with 1 Axes>"
      ]
     },
     "metadata": {},
     "output_type": "display_data"
    }
   ],
   "source": [
    "fig, ax = plt.subplots(1,1,figsize=(15,10));\n",
    "sns.countplot(data=data, y=\"movement\", \n",
    "              order = data['movement'].value_counts().index,\n",
    "              ax=ax);\n",
    "\n",
    "for i, v in enumerate(data[\"movement\"].value_counts().values):\n",
    "    ax.text(v, i , str(v), color='blue', fontweight='bold')\n",
    "    \n",
    "ax.set_title(\"Number of images per movement (style)\");\n",
    "ax.set_ylabel(\"Movement (style)\");"
   ]
  },
  {
   "cell_type": "code",
   "execution_count": 17,
   "id": "5ff5761a",
   "metadata": {
    "ExecuteTime": {
     "end_time": "2021-08-24T08:22:14.617001Z",
     "start_time": "2021-08-24T08:22:14.336193Z"
    }
   },
   "outputs": [
    {
     "data": {
      "image/png": "[encoded data removed]",
      "text/plain": [
       "<Figure size 1080x720 with 1 Axes>"
      ]
     },
     "metadata": {},
     "output_type": "display_data"
    }
   ],
   "source": [
    "fig, ax = plt.subplots(1,1,figsize=(15,10));\n",
    "sns.countplot(data=data_merge, y=\"movement\", \n",
    "              order = data_merge['movement'].value_counts().index,\n",
    "              ax=ax);\n",
    "\n",
    "for i, v in enumerate(data_merge[\"movement\"].value_counts().values):\n",
    "    ax.text(v, i , str(v), color='blue', fontweight='bold')\n",
    "    \n",
    "ax.set_title(\"Number of images per merged movement\");\n",
    "ax.set_ylabel(\"Movement (style)\");"
   ]
  },
  {
   "cell_type": "code",
   "execution_count": 18,
   "id": "cf57b917",
   "metadata": {
    "ExecuteTime": {
     "end_time": "2021-08-24T08:22:14.829715Z",
     "start_time": "2021-08-24T08:22:14.618009Z"
    }
   },
   "outputs": [
    {
     "data": {
      "image/png": "[encoded data removed]",
      "text/plain": [
       "<Figure size 1080x720 with 1 Axes>"
      ]
     },
     "metadata": {},
     "output_type": "display_data"
    }
   ],
   "source": [
    "fig, ax = plt.subplots(1,1,figsize=(15,10));\n",
    "sns.countplot(data=data, y=\"genre\", \n",
    "              order = data['genre'].value_counts().index,\n",
    "              ax=ax);\n",
    "\n",
    "for i, v in enumerate(data[\"genre\"].value_counts().values):\n",
    "    ax.text(v, i , str(v), color='blue', fontweight='bold')\n",
    "    \n",
    "ax.set_title(\"Number of images per genre\");"
   ]
  },
  {
   "cell_type": "code",
   "execution_count": 19,
   "id": "ed175839",
   "metadata": {
    "ExecuteTime": {
     "end_time": "2021-08-24T08:22:15.181890Z",
     "start_time": "2021-08-24T08:22:14.830765Z"
    }
   },
   "outputs": [
    {
     "data": {
      "image/png": "[encoded data removed]",
      "text/plain": [
       "<Figure size 1080x720 with 1 Axes>"
      ]
     },
     "metadata": {},
     "output_type": "display_data"
    }
   ],
   "source": [
    "fig, ax = plt.subplots(1,1,figsize=(15,10));\n",
    "sns.barplot(y=data.groupby(\"movement\").artist.nunique().index, \n",
    "            x=data.groupby(\"movement\").artist.nunique().values,\n",
    "            order=data.groupby(\"movement\").artist.nunique().sort_values(ascending=False).index,\n",
    "            ax=ax);\n",
    "\n",
    "for i, v in enumerate(data.groupby(\"movement\").artist.nunique().sort_values(ascending=False).values):\n",
    "    ax.text(v, i , str(v), color='blue', fontweight='bold')\n",
    "    \n",
    "ax.set_title(\"Number of artists per movement\");\n",
    "ax.set_xlabel(\"Count\");"
   ]
  },
  {
   "cell_type": "code",
   "execution_count": 20,
   "id": "a0723070",
   "metadata": {
    "ExecuteTime": {
     "end_time": "2021-08-24T08:22:15.513585Z",
     "start_time": "2021-08-24T08:22:15.182889Z"
    }
   },
   "outputs": [
    {
     "data": {
      "image/png": "[encoded data removed]",
      "text/plain": [
       "<Figure size 1080x720 with 1 Axes>"
      ]
     },
     "metadata": {},
     "output_type": "display_data"
    }
   ],
   "source": [
    "data2 = data[data[\"cs-split-genre\"].notnull()]\n",
    "\n",
    "fig, ax = plt.subplots(1,1,figsize=(15,10));\n",
    "sns.countplot(data=data2, y=\"movement\", \n",
    "              order = data2['movement'].value_counts().index,\n",
    "              ax=ax);\n",
    "\n",
    "for i, v in enumerate(data2[\"movement\"].value_counts().values):\n",
    "    ax.text(v, i , str(v), color='blue', fontweight='bold')\n",
    "    \n",
    "ax.set_title(\"Number of images with genre per movement (style)\");\n",
    "ax.set_ylabel(\"Movement (style)\");"
   ]
  },
  {
   "cell_type": "code",
   "execution_count": 22,
   "id": "0fac5421",
   "metadata": {
    "ExecuteTime": {
     "end_time": "2021-08-24T08:22:28.418732Z",
     "start_time": "2021-08-24T08:22:28.358990Z"
    }
   },
   "outputs": [
    {
     "name": "stderr",
     "output_type": "stream",
     "text": [
      "/usr/local/Caskroom/miniforge/base/envs/lewagon/lib/python3.7/site-packages/ipykernel_launcher.py:1: UserWarning: Boolean Series key will be reindexed to match DataFrame index.\n",
      "  \"\"\"Entry point for launching an IPython kernel.\n"
     ]
    },
    {
     "data": {
      "text/html": [
       "<div>\n",
       "<style scoped>\n",
       "    .dataframe tbody tr th:only-of-type {\n",
       "        vertical-align: middle;\n",
       "    }\n",
       "\n",
       "    .dataframe tbody tr th {\n",
       "        vertical-align: top;\n",
       "    }\n",
       "\n",
       "    .dataframe thead th {\n",
       "        text-align: right;\n",
       "    }\n",
       "</style>\n",
       "<table border=\"1\" class=\"dataframe\">\n",
       "  <thead>\n",
       "    <tr style=\"text-align: right;\">\n",
       "      <th></th>\n",
       "      <th>path</th>\n",
       "      <th>movement</th>\n",
       "      <th>artist</th>\n",
       "      <th>title</th>\n",
       "      <th>image</th>\n",
       "      <th>genre</th>\n",
       "      <th>cs-split-genre</th>\n",
       "      <th>cs-split-style</th>\n",
       "      <th>cs-split-artist</th>\n",
       "    </tr>\n",
       "  </thead>\n",
       "  <tbody>\n",
       "    <tr>\n",
       "      <th>75530</th>\n",
       "      <td>Abstract_Expressionism/joan-mitchell_untitled-...</td>\n",
       "      <td>Abstract_Expressionism</td>\n",
       "      <td>joan-mitchell</td>\n",
       "      <td>untitled-1958.jpg</td>\n",
       "      <td>joan-mitchell_untitled-1958.jpg</td>\n",
       "      <td>abstract_painting</td>\n",
       "      <td>train</td>\n",
       "      <td>train</td>\n",
       "      <td>NaN</td>\n",
       "    </tr>\n",
       "    <tr>\n",
       "      <th>75532</th>\n",
       "      <td>Abstract_Expressionism/brice-marden_han-shan-e...</td>\n",
       "      <td>Abstract_Expressionism</td>\n",
       "      <td>brice-marden</td>\n",
       "      <td>han-shan-exit-1992.jpg</td>\n",
       "      <td>brice-marden_han-shan-exit-1992.jpg</td>\n",
       "      <td>abstract_painting</td>\n",
       "      <td>val</td>\n",
       "      <td>val</td>\n",
       "      <td>NaN</td>\n",
       "    </tr>\n",
       "    <tr>\n",
       "      <th>75533</th>\n",
       "      <td>Abstract_Expressionism/atsuko-tanaka_93e-1993.jpg</td>\n",
       "      <td>Abstract_Expressionism</td>\n",
       "      <td>atsuko-tanaka</td>\n",
       "      <td>93e-1993.jpg</td>\n",
       "      <td>atsuko-tanaka_93e-1993.jpg</td>\n",
       "      <td>abstract_painting</td>\n",
       "      <td>train</td>\n",
       "      <td>train</td>\n",
       "      <td>NaN</td>\n",
       "    </tr>\n",
       "    <tr>\n",
       "      <th>75534</th>\n",
       "      <td>Abstract_Expressionism/atsuko-tanaka_untitled-...</td>\n",
       "      <td>Abstract_Expressionism</td>\n",
       "      <td>atsuko-tanaka</td>\n",
       "      <td>untitled-1963.jpg</td>\n",
       "      <td>atsuko-tanaka_untitled-1963.jpg</td>\n",
       "      <td>abstract_painting</td>\n",
       "      <td>train</td>\n",
       "      <td>train</td>\n",
       "      <td>NaN</td>\n",
       "    </tr>\n",
       "    <tr>\n",
       "      <th>75535</th>\n",
       "      <td>Abstract_Expressionism/lee-krasner_untitled-19...</td>\n",
       "      <td>Abstract_Expressionism</td>\n",
       "      <td>lee-krasner</td>\n",
       "      <td>untitled-1964.jpg</td>\n",
       "      <td>lee-krasner_untitled-1964.jpg</td>\n",
       "      <td>abstract_painting</td>\n",
       "      <td>train</td>\n",
       "      <td>train</td>\n",
       "      <td>NaN</td>\n",
       "    </tr>\n",
       "  </tbody>\n",
       "</table>\n",
       "</div>"
      ],
      "text/plain": [
       "                                                    path  \\\n",
       "75530  Abstract_Expressionism/joan-mitchell_untitled-...   \n",
       "75532  Abstract_Expressionism/brice-marden_han-shan-e...   \n",
       "75533  Abstract_Expressionism/atsuko-tanaka_93e-1993.jpg   \n",
       "75534  Abstract_Expressionism/atsuko-tanaka_untitled-...   \n",
       "75535  Abstract_Expressionism/lee-krasner_untitled-19...   \n",
       "\n",
       "                     movement         artist                   title  \\\n",
       "75530  Abstract_Expressionism  joan-mitchell       untitled-1958.jpg   \n",
       "75532  Abstract_Expressionism   brice-marden  han-shan-exit-1992.jpg   \n",
       "75533  Abstract_Expressionism  atsuko-tanaka            93e-1993.jpg   \n",
       "75534  Abstract_Expressionism  atsuko-tanaka       untitled-1963.jpg   \n",
       "75535  Abstract_Expressionism    lee-krasner       untitled-1964.jpg   \n",
       "\n",
       "                                     image              genre cs-split-genre  \\\n",
       "75530      joan-mitchell_untitled-1958.jpg  abstract_painting          train   \n",
       "75532  brice-marden_han-shan-exit-1992.jpg  abstract_painting            val   \n",
       "75533           atsuko-tanaka_93e-1993.jpg  abstract_painting          train   \n",
       "75534      atsuko-tanaka_untitled-1963.jpg  abstract_painting          train   \n",
       "75535        lee-krasner_untitled-1964.jpg  abstract_painting          train   \n",
       "\n",
       "      cs-split-style cs-split-artist  \n",
       "75530          train             NaN  \n",
       "75532            val             NaN  \n",
       "75533          train             NaN  \n",
       "75534          train             NaN  \n",
       "75535          train             NaN  "
      ]
     },
     "execution_count": 22,
     "metadata": {},
     "output_type": "execute_result"
    }
   ],
   "source": [
    "data[data[\"cs-split-genre\"].notnull()][data[\"movement\"]==\"Abstract_Expressionism\"].head()"
   ]
  },
  {
   "cell_type": "code",
   "execution_count": 368,
   "id": "1897786a",
   "metadata": {
    "ExecuteTime": {
     "end_time": "2021-08-24T19:49:56.691785Z",
     "start_time": "2021-08-24T19:49:56.633371Z"
    }
   },
   "outputs": [],
   "source": [
    "#Quick function to display a sample of the selected database\n",
    "\n",
    "def show_samples(df,sample_size=10):\n",
    "\n",
    "    root_path='../raw_data/wikiart//wikiart-movement-class_27/'\n",
    "    sample=df.sample(n=sample_size).reset_index()\n",
    "\n",
    "    folder_path=list(sample['path'])\n",
    "    fig = plt.figure(constrained_layout=True,figsize=(10,5*sample_size))\n",
    "\n",
    "    for i in list(range(0,sample_size)):\n",
    "        artist=sample['artist'][i]\n",
    "        movement=sample['movement'][i]\n",
    "        title=sample['title'][i]\n",
    "        path=root_path+sample['path'][i]\n",
    "\n",
    "        plt.subplot(sample_size,1,i+1)\n",
    "        image=plt.imread(path)\n",
    "        label=f'{movement} - {title} by {artist}'\n",
    "        plt.text(x=10,y=-2,s=label)\n",
    "        plt.imshow(image)\n",
    "        plt.axis(\"off\")"
   ]
  },
  {
   "cell_type": "code",
   "execution_count": 313,
   "id": "deadebe2",
   "metadata": {
    "ExecuteTime": {
     "end_time": "2021-08-24T18:36:47.545396Z",
     "start_time": "2021-08-24T18:36:47.452817Z"
    }
   },
   "outputs": [],
   "source": [
    "merge1=['Abstract_Expressionism','Action_painting']\n",
    "merge2=['Analytical_Cubism','Cubism','Synthetic_Cubism']\n",
    "merge3=['Rococo','Baroque']\n",
    "merge4=['Early_Renaissance','High_Renaissance','Northern_Renaissance']\n",
    "merge5=['Impressionism','Post_Impressionism','Symbolism']\n",
    "merge6=['Contemporary_Realism','New_Realism']\n",
    "\n",
    "#isolation of df to quick check similarities :\n",
    "df1=data[data.movement.isin(merge1)]\n",
    "df2=data[data.movement.isin(merge2)]\n",
    "df3=data[data.movement.isin(merge3)]\n",
    "df4=data[data.movement.isin(merge4)]\n",
    "df5=data[data.movement.isin(merge5)]\n",
    "df6=data[data.movement.isin(merge6)]"
   ]
  },
  {
   "cell_type": "markdown",
   "id": "c48afe47",
   "metadata": {},
   "source": [
    "# Merge study\n"
   ]
  },
  {
   "cell_type": "markdown",
   "id": "3e91963e",
   "metadata": {},
   "source": [
    "## Summary + initial database"
   ]
  },
  {
   "cell_type": "markdown",
   "id": "12a1a4f8",
   "metadata": {},
   "source": [
    "**Final list of proposed splits :**"
   ]
  },
  {
   "cell_type": "markdown",
   "id": "43c643da",
   "metadata": {},
   "source": [
    "- Merge1 : merge_mov1 ; Modèle facile avec des mouvements très spécifiques, presque uniquement des drops, un seul merge sur renaissance \n",
    "- Merge2 : merge_mov2 ; Modèle facile, merge d'une partie des mouvements droppés précédements , drop limités \n",
    "- Merge3 : merge_mov3 ; Modèle complet, merge d'une partie des mouvements droppés précédements , aucun drop hormis duplicatas de Chan\n",
    "- Merge4 : merge_mov4 : Modèle initial, pas de merge, mouvements de la db de Chan\n",
    "- Merge5 : merge_mov5 : Modèle plus complet, split sur les mouvements majoritaires par courant/école/nationalité des artistes"
   ]
  },
  {
   "cell_type": "markdown",
   "id": "c6fde58d",
   "metadata": {},
   "source": [
    "**Methodo :**"
   ]
  },
  {
   "cell_type": "markdown",
   "id": "8524cff4",
   "metadata": {},
   "source": [
    "- General review of movements\n",
    "- Basic split : movements regroupment / dropping\n",
    "\n",
    "- Historical Detailed plits : dive into artists specific schools / periods / sub-movements ?\n",
    "- Technical Detailed split : dive into images specificities ? color balances (could be synonymous of a period for an artist) ? painting format ?"
   ]
  },
  {
   "cell_type": "markdown",
   "id": "6da008f7",
   "metadata": {},
   "source": [
    "**Database :**"
   ]
  },
  {
   "cell_type": "markdown",
   "id": "fdfbbba1",
   "metadata": {},
   "source": [
    "- add regex to scan period min/max\n"
   ]
  },
  {
   "cell_type": "code",
   "execution_count": 77,
   "id": "6dd59572",
   "metadata": {
    "ExecuteTime": {
     "end_time": "2021-08-24T10:46:22.701635Z",
     "start_time": "2021-08-24T10:46:11.876438Z"
    }
   },
   "outputs": [],
   "source": [
    "df=get_data(csv_path, image_path, create_csv=True)\n",
    "df.drop(columns=['cs-split-genre','cs-split-style','cs-split-artist'],inplace=True)"
   ]
  },
  {
   "cell_type": "code",
   "execution_count": 116,
   "id": "301b94f7",
   "metadata": {
    "ExecuteTime": {
     "end_time": "2021-08-24T12:22:15.981643Z",
     "start_time": "2021-08-24T12:22:15.556463Z"
    }
   },
   "outputs": [],
   "source": [
    "if df['title'].str.extract(r'([0-9]{4})') is not '':\n",
    "    df['date']=df['title'].str.extract(r'([0-9]{4})').astype(float)"
   ]
  },
  {
   "cell_type": "code",
   "execution_count": 255,
   "id": "611a7f7c",
   "metadata": {
    "ExecuteTime": {
     "end_time": "2021-08-24T14:46:34.387648Z",
     "start_time": "2021-08-24T14:46:34.327134Z"
    },
    "collapsed": true
   },
   "outputs": [
    {
     "data": {
      "text/plain": [
       "{'Abstract_Expressionism': 'Abstract_Expressionism',\n",
       " 'Action_painting': 'Action_painting',\n",
       " 'Analytical_Cubism': 'Analytical_Cubism',\n",
       " 'Art_Nouveau_Modern': 'Art_Nouveau_Modern',\n",
       " 'Baroque': 'Baroque',\n",
       " 'Color_Field_Painting': 'Color_Field_Painting',\n",
       " 'Contemporary_Realism': 'Contemporary_Realism',\n",
       " 'Cubism': 'Cubism',\n",
       " 'Early_Renaissance': 'Early_Renaissance',\n",
       " 'Expressionism': 'Expressionism',\n",
       " 'Fauvism': 'Fauvism',\n",
       " 'High_Renaissance': 'High_Renaissance',\n",
       " 'Impressionism': 'Impressionism',\n",
       " 'Mannerism_Late_Renaissance': 'Mannerism_Late_Renaissance',\n",
       " 'Minimalism': 'Minimalism',\n",
       " 'Naive_Art_Primitivism': 'Naive_Art_Primitivism',\n",
       " 'New_Realism': 'New_Realism',\n",
       " 'Northern_Renaissance': 'Northern_Renaissance',\n",
       " 'Pointillism': 'Pointillism',\n",
       " 'Pop_Art': 'Pop_Art',\n",
       " 'Post_Impressionism': 'Post_Impressionism',\n",
       " 'Realism': 'Realism',\n",
       " 'Rococo': 'Rococo',\n",
       " 'Romanticism': 'Romanticism',\n",
       " 'Symbolism': 'Symbolism',\n",
       " 'Synthetic_Cubism': 'Synthetic_Cubism',\n",
       " 'Ukiyo_e': 'Ukiyo_e'}"
      ]
     },
     "execution_count": 255,
     "metadata": {},
     "output_type": "execute_result"
    }
   ],
   "source": [
    "#Create dictionnaries to merge movements\n",
    "mov_dict_init={ i : i for i in df_mov['movement'] }\n",
    "mov_dict_init"
   ]
  },
  {
   "cell_type": "markdown",
   "id": "f70bdfa0",
   "metadata": {},
   "source": [
    "## Movements review"
   ]
  },
  {
   "cell_type": "code",
   "execution_count": 339,
   "id": "e8b4a1b2",
   "metadata": {
    "ExecuteTime": {
     "end_time": "2021-08-24T19:03:06.286078Z",
     "start_time": "2021-08-24T19:03:06.235200Z"
    }
   },
   "outputs": [],
   "source": [
    "#General function to display synthesis table by movement from a specific dataframe\n",
    "\n",
    "def df_grouping(df):\n",
    "    df_mov=df.groupby(by='movement').nunique()\n",
    "    df_mov['Q1_year']=df.groupby(by='movement').quantile(0.25)['date'].astype(int)\n",
    "    df_mov['Q3_year']=df.groupby(by='movement').quantile(0.75)['date'].astype(int)\n",
    "    df_mov['mean_year']=df.groupby(by='movement').mean()['date'].astype(int)\n",
    "    df_mov['duration']=df_mov['Q3_year']-df_mov['Q1_year']\n",
    "    df_mov['artist_ratio']=round(df_mov['title']/df_mov['artist'],2)\n",
    "    df_mov.drop(columns=['path','date'],inplace=True)\n",
    "    df_mov.sort_values(['mean_year'])\n",
    "    df_mov.reset_index(inplace=True)\n",
    "    return df_mov"
   ]
  },
  {
   "cell_type": "code",
   "execution_count": 337,
   "id": "43ac5895",
   "metadata": {
    "ExecuteTime": {
     "end_time": "2021-08-24T19:02:17.216227Z",
     "start_time": "2021-08-24T19:02:17.015391Z"
    },
    "collapsed": true
   },
   "outputs": [
    {
     "name": "stderr",
     "output_type": "stream",
     "text": [
      "/usr/local/Caskroom/miniforge/base/envs/lewagon/lib/python3.7/site-packages/ipykernel_launcher.py:3: FutureWarning:\n",
      "\n",
      "Dropping invalid columns in DataFrameGroupBy.quantile is deprecated. In a future version, a TypeError will be raised. Before calling .quantile, select only columns which should be valid for the function.\n",
      "\n",
      "/usr/local/Caskroom/miniforge/base/envs/lewagon/lib/python3.7/site-packages/ipykernel_launcher.py:4: FutureWarning:\n",
      "\n",
      "Dropping invalid columns in DataFrameGroupBy.quantile is deprecated. In a future version, a TypeError will be raised. Before calling .quantile, select only columns which should be valid for the function.\n",
      "\n"
     ]
    }
   ],
   "source": [
    "df_mov=df_grouping(df)"
   ]
  },
  {
   "cell_type": "code",
   "execution_count": 1,
   "id": "f5d36906",
   "metadata": {
    "ExecuteTime": {
     "end_time": "2021-08-25T08:52:10.581445Z",
     "start_time": "2021-08-25T08:52:10.478037Z"
    }
   },
   "outputs": [
    {
     "ename": "NameError",
     "evalue": "name 'px' is not defined",
     "output_type": "error",
     "traceback": [
      "\u001b[0;31m---------------------------------------------------------------------------\u001b[0m",
      "\u001b[0;31mNameError\u001b[0m                                 Traceback (most recent call last)",
      "\u001b[0;32m/var/folders/fj/p95wd_qn4vq1ll96h80g0__80000gn/T/ipykernel_21183/3520596413.py\u001b[0m in \u001b[0;36m<module>\u001b[0;34m\u001b[0m\n\u001b[1;32m      1\u001b[0m \u001b[0;31m#Print original movements\u001b[0m\u001b[0;34m\u001b[0m\u001b[0;34m\u001b[0m\u001b[0;34m\u001b[0m\u001b[0m\n\u001b[0;32m----> 2\u001b[0;31m fig =px.scatter(df_mov,x='mean_year',y='artist_ratio',size='title',text='movement',\n\u001b[0m\u001b[1;32m      3\u001b[0m                hover_name=\"movement\",color=\"title\",size_max=30,color_continuous_scale='jet')\n\u001b[1;32m      4\u001b[0m \u001b[0mfig\u001b[0m\u001b[0;34m.\u001b[0m\u001b[0mupdate_traces\u001b[0m\u001b[0;34m(\u001b[0m\u001b[0mtextposition\u001b[0m\u001b[0;34m=\u001b[0m\u001b[0;34m'top center'\u001b[0m\u001b[0;34m)\u001b[0m\u001b[0;34m\u001b[0m\u001b[0;34m\u001b[0m\u001b[0m\n\u001b[1;32m      5\u001b[0m fig.update_layout(title='Movements Initial Split',\n",
      "\u001b[0;31mNameError\u001b[0m: name 'px' is not defined"
     ]
    }
   ],
   "source": [
    "#Print original movements\n",
    "fig =px.scatter(df_mov,x='mean_year',y='artist_ratio',size='title',text='movement',\n",
    "               hover_name=\"movement\",color=\"title\",size_max=30,color_continuous_scale='jet')\n",
    "fig.update_traces(textposition='top center')\n",
    "fig.update_layout(title='Movements Initial Split',\n",
    "    xaxis={'title':'Mean Year'},\n",
    "    yaxis={'title':'Artist Ratio - Painting per Artist'})\n",
    "\n",
    "fig.show()"
   ]
  },
  {
   "cell_type": "markdown",
   "id": "0513fe8f",
   "metadata": {},
   "source": [
    "##### TO DO\n",
    "\n",
    "Add analysis from country origin by artists or even more detailed artist data"
   ]
  },
  {
   "cell_type": "markdown",
   "id": "e2188d20",
   "metadata": {
    "ExecuteTime": {
     "end_time": "2021-08-24T14:49:12.890050Z",
     "start_time": "2021-08-24T14:49:12.832852Z"
    }
   },
   "source": [
    "## Basic splits"
   ]
  },
  {
   "cell_type": "markdown",
   "id": "e12452e8",
   "metadata": {},
   "source": [
    "**Merge1 :** \n",
    "\n",
    "Modèle facile avec des mouvements très spécifiques, presque uniquement des drops, un seul merge sur renaissance :\n",
    "- Bonne taille de dataset : drop des mouvements avec moins de 1000 paintings\n",
    "- Artist ratio élevé : plus d'exemples par artistes pour fitter drop si <25\n",
    "- merge unique :\n",
    "        Renaissance=['Early_Renaissance','High_Renaissance','Northern_Renaissance']\n",
    "\n",
    "\n",
    "\n"
   ]
  },
  {
   "cell_type": "code",
   "execution_count": 366,
   "id": "f19bd151",
   "metadata": {
    "ExecuteTime": {
     "end_time": "2021-08-24T19:44:36.009676Z",
     "start_time": "2021-08-24T19:44:35.529248Z"
    }
   },
   "outputs": [
    {
     "name": "stderr",
     "output_type": "stream",
     "text": [
      "/usr/local/Caskroom/miniforge/base/envs/lewagon/lib/python3.7/site-packages/ipykernel_launcher.py:5: FutureWarning:\n",
      "\n",
      "Dropping invalid columns in DataFrameGroupBy.quantile is deprecated. In a future version, a TypeError will be raised. Before calling .quantile, select only columns which should be valid for the function.\n",
      "\n",
      "/usr/local/Caskroom/miniforge/base/envs/lewagon/lib/python3.7/site-packages/ipykernel_launcher.py:6: FutureWarning:\n",
      "\n",
      "Dropping invalid columns in DataFrameGroupBy.quantile is deprecated. In a future version, a TypeError will be raised. Before calling .quantile, select only columns which should be valid for the function.\n",
      "\n"
     ]
    },
    {
     "data": {
      "text/html": [
       "<div>\n",
       "<style scoped>\n",
       "    .dataframe tbody tr th:only-of-type {\n",
       "        vertical-align: middle;\n",
       "    }\n",
       "\n",
       "    .dataframe tbody tr th {\n",
       "        vertical-align: top;\n",
       "    }\n",
       "\n",
       "    .dataframe thead th {\n",
       "        text-align: right;\n",
       "    }\n",
       "</style>\n",
       "<table border=\"1\" class=\"dataframe\">\n",
       "  <thead>\n",
       "    <tr style=\"text-align: right;\">\n",
       "      <th></th>\n",
       "      <th>movement</th>\n",
       "      <th>artist</th>\n",
       "      <th>title</th>\n",
       "      <th>image</th>\n",
       "      <th>genre</th>\n",
       "      <th>Q1_year</th>\n",
       "      <th>Q3_year</th>\n",
       "      <th>mean_year</th>\n",
       "      <th>duration</th>\n",
       "      <th>artist_ratio</th>\n",
       "    </tr>\n",
       "  </thead>\n",
       "  <tbody>\n",
       "    <tr>\n",
       "      <th>0</th>\n",
       "      <td>Art_Nouveau_Modern</td>\n",
       "      <td>80</td>\n",
       "      <td>4308</td>\n",
       "      <td>4334</td>\n",
       "      <td>9</td>\n",
       "      <td>1900</td>\n",
       "      <td>1916</td>\n",
       "      <td>1907</td>\n",
       "      <td>16</td>\n",
       "      <td>53.85</td>\n",
       "    </tr>\n",
       "    <tr>\n",
       "      <th>1</th>\n",
       "      <td>Baroque</td>\n",
       "      <td>71</td>\n",
       "      <td>4083</td>\n",
       "      <td>4241</td>\n",
       "      <td>10</td>\n",
       "      <td>1630</td>\n",
       "      <td>1659</td>\n",
       "      <td>1647</td>\n",
       "      <td>29</td>\n",
       "      <td>57.51</td>\n",
       "    </tr>\n",
       "    <tr>\n",
       "      <th>2</th>\n",
       "      <td>Expressionism</td>\n",
       "      <td>237</td>\n",
       "      <td>6389</td>\n",
       "      <td>6736</td>\n",
       "      <td>10</td>\n",
       "      <td>1913</td>\n",
       "      <td>1947</td>\n",
       "      <td>1947</td>\n",
       "      <td>34</td>\n",
       "      <td>26.96</td>\n",
       "    </tr>\n",
       "    <tr>\n",
       "      <th>3</th>\n",
       "      <td>Impressionism</td>\n",
       "      <td>230</td>\n",
       "      <td>12660</td>\n",
       "      <td>13060</td>\n",
       "      <td>9</td>\n",
       "      <td>1882</td>\n",
       "      <td>1909</td>\n",
       "      <td>1897</td>\n",
       "      <td>27</td>\n",
       "      <td>55.04</td>\n",
       "    </tr>\n",
       "    <tr>\n",
       "      <th>4</th>\n",
       "      <td>Mannerism_Late_Renaissance</td>\n",
       "      <td>19</td>\n",
       "      <td>1215</td>\n",
       "      <td>1279</td>\n",
       "      <td>8</td>\n",
       "      <td>1542</td>\n",
       "      <td>1578</td>\n",
       "      <td>1558</td>\n",
       "      <td>36</td>\n",
       "      <td>63.95</td>\n",
       "    </tr>\n",
       "  </tbody>\n",
       "</table>\n",
       "</div>"
      ],
      "text/plain": [
       "                     movement  artist  title  image  genre  Q1_year  Q3_year  \\\n",
       "0          Art_Nouveau_Modern      80   4308   4334      9     1900     1916   \n",
       "1                     Baroque      71   4083   4241     10     1630     1659   \n",
       "2               Expressionism     237   6389   6736     10     1913     1947   \n",
       "3               Impressionism     230  12660  13060      9     1882     1909   \n",
       "4  Mannerism_Late_Renaissance      19   1215   1279      8     1542     1578   \n",
       "\n",
       "   mean_year  duration  artist_ratio  \n",
       "0       1907        16         53.85  \n",
       "1       1647        29         57.51  \n",
       "2       1947        34         26.96  \n",
       "3       1897        27         55.04  \n",
       "4       1558        36         63.95  "
      ]
     },
     "execution_count": 366,
     "metadata": {},
     "output_type": "execute_result"
    }
   ],
   "source": [
    "merge_mov1={'Abstract_Expressionism': None,\n",
    "                 'Action_painting': None,\n",
    "                 'Analytical_Cubism': None,\n",
    "                 'Art_Nouveau_Modern': 'Art_Nouveau_Modern',\n",
    "                 'Baroque': 'Baroque',\n",
    "                 'Color_Field_Painting': None,\n",
    "                 'Contemporary_Realism': None,\n",
    "                 'Cubism': None,\n",
    "                 'Early_Renaissance': 'Renaissance',\n",
    "                 'Expressionism': 'Expressionism',\n",
    "                 'Fauvism': None,\n",
    "                 'High_Renaissance': 'Renaissance',\n",
    "                 'Impressionism': 'Impressionism',\n",
    "                 'Mannerism_Late_Renaissance': 'Mannerism_Late_Renaissance',\n",
    "                 'Minimalism': None,\n",
    "                 'Naive_Art_Primitivism': 'Naive_Art_Primitivism',\n",
    "                 'New_Realism': None,\n",
    "                 'Northern_Renaissance': 'Renaissance',\n",
    "                 'Pointillism': None,\n",
    "                 'Pop_Art': None,\n",
    "                 'Post_Impressionism': 'Post_Impressionism',\n",
    "                 'Realism': 'Realism',\n",
    "                 'Rococo': 'Rococo',\n",
    "                 'Romanticism': 'Romanticism',\n",
    "                 'Symbolism': 'Symbolism',\n",
    "                 'Synthetic_Cubism': None,\n",
    "                 'Ukiyo_e': 'Ukiyo_e'}\n",
    "df_mov1=df_grouping(df.replace(merge_mov1.keys(),merge_mov1.values()))\n",
    "df_mov1.head()"
   ]
  },
  {
   "cell_type": "code",
   "execution_count": 357,
   "id": "31e79769",
   "metadata": {
    "ExecuteTime": {
     "end_time": "2021-08-24T19:20:34.433549Z",
     "start_time": "2021-08-24T19:20:34.334647Z"
    }
   },
   "outputs": [
    {
     "data": {
      "application/vnd.plotly.v1+json": {
       "config": {
        "plotlyServerURL": "https://plot.ly"
       },
       "data": [
        {
         "hovertemplate": "<b>%{hovertext}</b><br><br>mean_year=%{x}<br>artist_ratio=%{y}<br>title=%{marker.color}<br>movement=%{text}<extra></extra>",
         "hovertext": [
          "Art_Nouveau_Modern",
          "Baroque",
          "Expressionism",
          "Impressionism",
          "Mannerism_Late_Renaissance",
          "Naive_Art_Primitivism",
          "Post_Impressionism",
          "Realism",
          "Renaissance",
          "Rococo",
          "Romanticism",
          "Symbolism",
          "Ukiyo_e"
         ],
         "legendgroup": "",
         "marker": {
          "color": [
           4308,
           4083,
           6389,
           12660,
           1215,
           2358,
           6276,
           10456,
           4911,
           2068,
           6939,
           4472,
           1084
          ],
          "coloraxis": "coloraxis",
          "size": [
           4308,
           4083,
           6389,
           12660,
           1215,
           2358,
           6276,
           10456,
           4911,
           2068,
           6939,
           4472,
           1084
          ],
          "sizemode": "area",
          "sizeref": 14.066666666666666,
          "symbol": "circle"
         },
         "mode": "markers+text",
         "name": "",
         "orientation": "v",
         "showlegend": false,
         "text": [
          "Art_Nouveau_Modern",
          "Baroque",
          "Expressionism",
          "Impressionism",
          "Mannerism_Late_Renaissance",
          "Naive_Art_Primitivism",
          "Post_Impressionism",
          "Realism",
          "Renaissance",
          "Rococo",
          "Romanticism",
          "Symbolism",
          "Ukiyo_e"
         ],
         "textposition": "top center",
         "type": "scatter",
         "x": [
          1907,
          1647,
          1947,
          1897,
          1558,
          1946,
          1910,
          1888,
          1494,
          1764,
          1850,
          1914,
          1839
         ],
         "xaxis": "x",
         "y": [
          53.85,
          57.51,
          26.96,
          55.04,
          63.95,
          32.75,
          34.3,
          56.52,
          77.95,
          68.93,
          66.09,
          48.61,
          72.27
         ],
         "yaxis": "y"
        }
       ],
       "layout": {
        "coloraxis": {
         "colorbar": {
          "title": {
           "text": "title"
          }
         },
         "colorscale": [
          [
           0,
           "rgb(0,0,131)"
          ],
          [
           0.2,
           "rgb(0,60,170)"
          ],
          [
           0.4,
           "rgb(5,255,255)"
          ],
          [
           0.6,
           "rgb(255,255,0)"
          ],
          [
           0.8,
           "rgb(250,0,0)"
          ],
          [
           1,
           "rgb(128,0,0)"
          ]
         ]
        },
        "legend": {
         "itemsizing": "constant",
         "tracegroupgap": 0
        },
        "margin": {
         "t": 60
        },
        "template": {
         "data": {
          "bar": [
           {
            "error_x": {
             "color": "#2a3f5f"
            },
            "error_y": {
             "color": "#2a3f5f"
            },
            "marker": {
             "line": {
              "color": "#E5ECF6",
              "width": 0.5
             },
             "pattern": {
              "fillmode": "overlay",
              "size": 10,
              "solidity": 0.2
             }
            },
            "type": "bar"
           }
          ],
          "barpolar": [
           {
            "marker": {
             "line": {
              "color": "#E5ECF6",
              "width": 0.5
             },
             "pattern": {
              "fillmode": "overlay",
              "size": 10,
              "solidity": 0.2
             }
            },
            "type": "barpolar"
           }
          ],
          "carpet": [
           {
            "aaxis": {
             "endlinecolor": "#2a3f5f",
             "gridcolor": "white",
             "linecolor": "white",
             "minorgridcolor": "white",
             "startlinecolor": "#2a3f5f"
            },
            "baxis": {
             "endlinecolor": "#2a3f5f",
             "gridcolor": "white",
             "linecolor": "white",
             "minorgridcolor": "white",
             "startlinecolor": "#2a3f5f"
            },
            "type": "carpet"
           }
          ],
          "choropleth": [
           {
            "colorbar": {
             "outlinewidth": 0,
             "ticks": ""
            },
            "type": "choropleth"
           }
          ],
          "contour": [
           {
            "colorbar": {
             "outlinewidth": 0,
             "ticks": ""
            },
            "colorscale": [
             [
              0,
              "#0d0887"
             ],
             [
              0.1111111111111111,
              "#46039f"
             ],
             [
              0.2222222222222222,
              "#7201a8"
             ],
             [
              0.3333333333333333,
              "#9c179e"
             ],
             [
              0.4444444444444444,
              "#bd3786"
             ],
             [
              0.5555555555555556,
              "#d8576b"
             ],
             [
              0.6666666666666666,
              "#ed7953"
             ],
             [
              0.7777777777777778,
              "#fb9f3a"
             ],
             [
              0.8888888888888888,
              "#fdca26"
             ],
             [
              1,
              "#f0f921"
             ]
            ],
            "type": "contour"
           }
          ],
          "contourcarpet": [
           {
            "colorbar": {
             "outlinewidth": 0,
             "ticks": ""
            },
            "type": "contourcarpet"
           }
          ],
          "heatmap": [
           {
            "colorbar": {
             "outlinewidth": 0,
             "ticks": ""
            },
            "colorscale": [
             [
              0,
              "#0d0887"
             ],
             [
              0.1111111111111111,
              "#46039f"
             ],
             [
              0.2222222222222222,
              "#7201a8"
             ],
             [
              0.3333333333333333,
              "#9c179e"
             ],
             [
              0.4444444444444444,
              "#bd3786"
             ],
             [
              0.5555555555555556,
              "#d8576b"
             ],
             [
              0.6666666666666666,
              "#ed7953"
             ],
             [
              0.7777777777777778,
              "#fb9f3a"
             ],
             [
              0.8888888888888888,
              "#fdca26"
             ],
             [
              1,
              "#f0f921"
             ]
            ],
            "type": "heatmap"
           }
          ],
          "heatmapgl": [
           {
            "colorbar": {
             "outlinewidth": 0,
             "ticks": ""
            },
            "colorscale": [
             [
              0,
              "#0d0887"
             ],
             [
              0.1111111111111111,
              "#46039f"
             ],
             [
              0.2222222222222222,
              "#7201a8"
             ],
             [
              0.3333333333333333,
              "#9c179e"
             ],
             [
              0.4444444444444444,
              "#bd3786"
             ],
             [
              0.5555555555555556,
              "#d8576b"
             ],
             [
              0.6666666666666666,
              "#ed7953"
             ],
             [
              0.7777777777777778,
              "#fb9f3a"
             ],
             [
              0.8888888888888888,
              "#fdca26"
             ],
             [
              1,
              "#f0f921"
             ]
            ],
            "type": "heatmapgl"
           }
          ],
          "histogram": [
           {
            "marker": {
             "pattern": {
              "fillmode": "overlay",
              "size": 10,
              "solidity": 0.2
             }
            },
            "type": "histogram"
           }
          ],
          "histogram2d": [
           {
            "colorbar": {
             "outlinewidth": 0,
             "ticks": ""
            },
            "colorscale": [
             [
              0,
              "#0d0887"
             ],
             [
              0.1111111111111111,
              "#46039f"
             ],
             [
              0.2222222222222222,
              "#7201a8"
             ],
             [
              0.3333333333333333,
              "#9c179e"
             ],
             [
              0.4444444444444444,
              "#bd3786"
             ],
             [
              0.5555555555555556,
              "#d8576b"
             ],
             [
              0.6666666666666666,
              "#ed7953"
             ],
             [
              0.7777777777777778,
              "#fb9f3a"
             ],
             [
              0.8888888888888888,
              "#fdca26"
             ],
             [
              1,
              "#f0f921"
             ]
            ],
            "type": "histogram2d"
           }
          ],
          "histogram2dcontour": [
           {
            "colorbar": {
             "outlinewidth": 0,
             "ticks": ""
            },
            "colorscale": [
             [
              0,
              "#0d0887"
             ],
             [
              0.1111111111111111,
              "#46039f"
             ],
             [
              0.2222222222222222,
              "#7201a8"
             ],
             [
              0.3333333333333333,
              "#9c179e"
             ],
             [
              0.4444444444444444,
              "#bd3786"
             ],
             [
              0.5555555555555556,
              "#d8576b"
             ],
             [
              0.6666666666666666,
              "#ed7953"
             ],
             [
              0.7777777777777778,
              "#fb9f3a"
             ],
             [
              0.8888888888888888,
              "#fdca26"
             ],
             [
              1,
              "#f0f921"
             ]
            ],
            "type": "histogram2dcontour"
           }
          ],
          "mesh3d": [
           {
            "colorbar": {
             "outlinewidth": 0,
             "ticks": ""
            },
            "type": "mesh3d"
           }
          ],
          "parcoords": [
           {
            "line": {
             "colorbar": {
              "outlinewidth": 0,
              "ticks": ""
             }
            },
            "type": "parcoords"
           }
          ],
          "pie": [
           {
            "automargin": true,
            "type": "pie"
           }
          ],
          "scatter": [
           {
            "marker": {
             "colorbar": {
              "outlinewidth": 0,
              "ticks": ""
             }
            },
            "type": "scatter"
           }
          ],
          "scatter3d": [
           {
            "line": {
             "colorbar": {
              "outlinewidth": 0,
              "ticks": ""
             }
            },
            "marker": {
             "colorbar": {
              "outlinewidth": 0,
              "ticks": ""
             }
            },
            "type": "scatter3d"
           }
          ],
          "scattercarpet": [
           {
            "marker": {
             "colorbar": {
              "outlinewidth": 0,
              "ticks": ""
             }
            },
            "type": "scattercarpet"
           }
          ],
          "scattergeo": [
           {
            "marker": {
             "colorbar": {
              "outlinewidth": 0,
              "ticks": ""
             }
            },
            "type": "scattergeo"
           }
          ],
          "scattergl": [
           {
            "marker": {
             "colorbar": {
              "outlinewidth": 0,
              "ticks": ""
             }
            },
            "type": "scattergl"
           }
          ],
          "scattermapbox": [
           {
            "marker": {
             "colorbar": {
              "outlinewidth": 0,
              "ticks": ""
             }
            },
            "type": "scattermapbox"
           }
          ],
          "scatterpolar": [
           {
            "marker": {
             "colorbar": {
              "outlinewidth": 0,
              "ticks": ""
             }
            },
            "type": "scatterpolar"
           }
          ],
          "scatterpolargl": [
           {
            "marker": {
             "colorbar": {
              "outlinewidth": 0,
              "ticks": ""
             }
            },
            "type": "scatterpolargl"
           }
          ],
          "scatterternary": [
           {
            "marker": {
             "colorbar": {
              "outlinewidth": 0,
              "ticks": ""
             }
            },
            "type": "scatterternary"
           }
          ],
          "surface": [
           {
            "colorbar": {
             "outlinewidth": 0,
             "ticks": ""
            },
            "colorscale": [
             [
              0,
              "#0d0887"
             ],
             [
              0.1111111111111111,
              "#46039f"
             ],
             [
              0.2222222222222222,
              "#7201a8"
             ],
             [
              0.3333333333333333,
              "#9c179e"
             ],
             [
              0.4444444444444444,
              "#bd3786"
             ],
             [
              0.5555555555555556,
              "#d8576b"
             ],
             [
              0.6666666666666666,
              "#ed7953"
             ],
             [
              0.7777777777777778,
              "#fb9f3a"
             ],
             [
              0.8888888888888888,
              "#fdca26"
             ],
             [
              1,
              "#f0f921"
             ]
            ],
            "type": "surface"
           }
          ],
          "table": [
           {
            "cells": {
             "fill": {
              "color": "#EBF0F8"
             },
             "line": {
              "color": "white"
             }
            },
            "header": {
             "fill": {
              "color": "#C8D4E3"
             },
             "line": {
              "color": "white"
             }
            },
            "type": "table"
           }
          ]
         },
         "layout": {
          "annotationdefaults": {
           "arrowcolor": "#2a3f5f",
           "arrowhead": 0,
           "arrowwidth": 1
          },
          "autotypenumbers": "strict",
          "coloraxis": {
           "colorbar": {
            "outlinewidth": 0,
            "ticks": ""
           }
          },
          "colorscale": {
           "diverging": [
            [
             0,
             "#8e0152"
            ],
            [
             0.1,
             "#c51b7d"
            ],
            [
             0.2,
             "#de77ae"
            ],
            [
             0.3,
             "#f1b6da"
            ],
            [
             0.4,
             "#fde0ef"
            ],
            [
             0.5,
             "#f7f7f7"
            ],
            [
             0.6,
             "#e6f5d0"
            ],
            [
             0.7,
             "#b8e186"
            ],
            [
             0.8,
             "#7fbc41"
            ],
            [
             0.9,
             "#4d9221"
            ],
            [
             1,
             "#276419"
            ]
           ],
           "sequential": [
            [
             0,
             "#0d0887"
            ],
            [
             0.1111111111111111,
             "#46039f"
            ],
            [
             0.2222222222222222,
             "#7201a8"
            ],
            [
             0.3333333333333333,
             "#9c179e"
            ],
            [
             0.4444444444444444,
             "#bd3786"
            ],
            [
             0.5555555555555556,
             "#d8576b"
            ],
            [
             0.6666666666666666,
             "#ed7953"
            ],
            [
             0.7777777777777778,
             "#fb9f3a"
            ],
            [
             0.8888888888888888,
             "#fdca26"
            ],
            [
             1,
             "#f0f921"
            ]
           ],
           "sequentialminus": [
            [
             0,
             "#0d0887"
            ],
            [
             0.1111111111111111,
             "#46039f"
            ],
            [
             0.2222222222222222,
             "#7201a8"
            ],
            [
             0.3333333333333333,
             "#9c179e"
            ],
            [
             0.4444444444444444,
             "#bd3786"
            ],
            [
             0.5555555555555556,
             "#d8576b"
            ],
            [
             0.6666666666666666,
             "#ed7953"
            ],
            [
             0.7777777777777778,
             "#fb9f3a"
            ],
            [
             0.8888888888888888,
             "#fdca26"
            ],
            [
             1,
             "#f0f921"
            ]
           ]
          },
          "colorway": [
           "#636efa",
           "#EF553B",
           "#00cc96",
           "#ab63fa",
           "#FFA15A",
           "#19d3f3",
           "#FF6692",
           "#B6E880",
           "#FF97FF",
           "#FECB52"
          ],
          "font": {
           "color": "#2a3f5f"
          },
          "geo": {
           "bgcolor": "white",
           "lakecolor": "white",
           "landcolor": "#E5ECF6",
           "showlakes": true,
           "showland": true,
           "subunitcolor": "white"
          },
          "hoverlabel": {
           "align": "left"
          },
          "hovermode": "closest",
          "mapbox": {
           "style": "light"
          },
          "paper_bgcolor": "white",
          "plot_bgcolor": "#E5ECF6",
          "polar": {
           "angularaxis": {
            "gridcolor": "white",
            "linecolor": "white",
            "ticks": ""
           },
           "bgcolor": "#E5ECF6",
           "radialaxis": {
            "gridcolor": "white",
            "linecolor": "white",
            "ticks": ""
           }
          },
          "scene": {
           "xaxis": {
            "backgroundcolor": "#E5ECF6",
            "gridcolor": "white",
            "gridwidth": 2,
            "linecolor": "white",
            "showbackground": true,
            "ticks": "",
            "zerolinecolor": "white"
           },
           "yaxis": {
            "backgroundcolor": "#E5ECF6",
            "gridcolor": "white",
            "gridwidth": 2,
            "linecolor": "white",
            "showbackground": true,
            "ticks": "",
            "zerolinecolor": "white"
           },
           "zaxis": {
            "backgroundcolor": "#E5ECF6",
            "gridcolor": "white",
            "gridwidth": 2,
            "linecolor": "white",
            "showbackground": true,
            "ticks": "",
            "zerolinecolor": "white"
           }
          },
          "shapedefaults": {
           "line": {
            "color": "#2a3f5f"
           }
          },
          "ternary": {
           "aaxis": {
            "gridcolor": "white",
            "linecolor": "white",
            "ticks": ""
           },
           "baxis": {
            "gridcolor": "white",
            "linecolor": "white",
            "ticks": ""
           },
           "bgcolor": "#E5ECF6",
           "caxis": {
            "gridcolor": "white",
            "linecolor": "white",
            "ticks": ""
           }
          },
          "title": {
           "x": 0.05
          },
          "xaxis": {
           "automargin": true,
           "gridcolor": "white",
           "linecolor": "white",
           "ticks": "",
           "title": {
            "standoff": 15
           },
           "zerolinecolor": "white",
           "zerolinewidth": 2
          },
          "yaxis": {
           "automargin": true,
           "gridcolor": "white",
           "linecolor": "white",
           "ticks": "",
           "title": {
            "standoff": 15
           },
           "zerolinecolor": "white",
           "zerolinewidth": 2
          }
         }
        },
        "title": {
         "text": "Movements Merge1 Split"
        },
        "xaxis": {
         "anchor": "y",
         "domain": [
          0,
          1
         ],
         "title": {
          "text": "Mean Year"
         }
        },
        "yaxis": {
         "anchor": "x",
         "domain": [
          0,
          1
         ],
         "title": {
          "text": "Artist Ratio - Painting per Artist"
         }
        }
       }
      },
      "text/html": [
       "<div>                            <div id=\"84f25fea-edc5-466d-aa2d-a4f6549490bd\" class=\"plotly-graph-div\" style=\"height:525px; width:100%;\"></div>            <script type=\"text/javascript\">                require([\"plotly\"], function(Plotly) {                    window.PLOTLYENV=window.PLOTLYENV || {};                                    if (document.getElementById(\"84f25fea-edc5-466d-aa2d-a4f6549490bd\")) {                    Plotly.newPlot(                        \"84f25fea-edc5-466d-aa2d-a4f6549490bd\",                        [{\"hovertemplate\":\"<b>%{hovertext}</b><br><br>mean_year=%{x}<br>artist_ratio=%{y}<br>title=%{marker.color}<br>movement=%{text}<extra></extra>\",\"hovertext\":[\"Art_Nouveau_Modern\",\"Baroque\",\"Expressionism\",\"Impressionism\",\"Mannerism_Late_Renaissance\",\"Naive_Art_Primitivism\",\"Post_Impressionism\",\"Realism\",\"Renaissance\",\"Rococo\",\"Romanticism\",\"Symbolism\",\"Ukiyo_e\"],\"legendgroup\":\"\",\"marker\":{\"color\":[4308,4083,6389,12660,1215,2358,6276,10456,4911,2068,6939,4472,1084],\"coloraxis\":\"coloraxis\",\"size\":[4308,4083,6389,12660,1215,2358,6276,10456,4911,2068,6939,4472,1084],\"sizemode\":\"area\",\"sizeref\":14.066666666666666,\"symbol\":\"circle\"},\"mode\":\"markers+text\",\"name\":\"\",\"orientation\":\"v\",\"showlegend\":false,\"text\":[\"Art_Nouveau_Modern\",\"Baroque\",\"Expressionism\",\"Impressionism\",\"Mannerism_Late_Renaissance\",\"Naive_Art_Primitivism\",\"Post_Impressionism\",\"Realism\",\"Renaissance\",\"Rococo\",\"Romanticism\",\"Symbolism\",\"Ukiyo_e\"],\"textposition\":\"top center\",\"type\":\"scatter\",\"x\":[1907,1647,1947,1897,1558,1946,1910,1888,1494,1764,1850,1914,1839],\"xaxis\":\"x\",\"y\":[53.85,57.51,26.96,55.04,63.95,32.75,34.3,56.52,77.95,68.93,66.09,48.61,72.27],\"yaxis\":\"y\"}],                        {\"coloraxis\":{\"colorbar\":{\"title\":{\"text\":\"title\"}},\"colorscale\":[[0.0,\"rgb(0,0,131)\"],[0.2,\"rgb(0,60,170)\"],[0.4,\"rgb(5,255,255)\"],[0.6,\"rgb(255,255,0)\"],[0.8,\"rgb(250,0,0)\"],[1.0,\"rgb(128,0,0)\"]]},\"legend\":{\"itemsizing\":\"constant\",\"tracegroupgap\":0},\"margin\":{\"t\":60},\"template\":{\"data\":{\"bar\":[{\"error_x\":{\"color\":\"#2a3f5f\"},\"error_y\":{\"color\":\"#2a3f5f\"},\"marker\":{\"line\":{\"color\":\"#E5ECF6\",\"width\":0.5},\"pattern\":{\"fillmode\":\"overlay\",\"size\":10,\"solidity\":0.2}},\"type\":\"bar\"}],\"barpolar\":[{\"marker\":{\"line\":{\"color\":\"#E5ECF6\",\"width\":0.5},\"pattern\":{\"fillmode\":\"overlay\",\"size\":10,\"solidity\":0.2}},\"type\":\"barpolar\"}],\"carpet\":[{\"aaxis\":{\"endlinecolor\":\"#2a3f5f\",\"gridcolor\":\"white\",\"linecolor\":\"white\",\"minorgridcolor\":\"white\",\"startlinecolor\":\"#2a3f5f\"},\"baxis\":{\"endlinecolor\":\"#2a3f5f\",\"gridcolor\":\"white\",\"linecolor\":\"white\",\"minorgridcolor\":\"white\",\"startlinecolor\":\"#2a3f5f\"},\"type\":\"carpet\"}],\"choropleth\":[{\"colorbar\":{\"outlinewidth\":0,\"ticks\":\"\"},\"type\":\"choropleth\"}],\"contour\":[{\"colorbar\":{\"outlinewidth\":0,\"ticks\":\"\"},\"colorscale\":[[0.0,\"#0d0887\"],[0.1111111111111111,\"#46039f\"],[0.2222222222222222,\"#7201a8\"],[0.3333333333333333,\"#9c179e\"],[0.4444444444444444,\"#bd3786\"],[0.5555555555555556,\"#d8576b\"],[0.6666666666666666,\"#ed7953\"],[0.7777777777777778,\"#fb9f3a\"],[0.8888888888888888,\"#fdca26\"],[1.0,\"#f0f921\"]],\"type\":\"contour\"}],\"contourcarpet\":[{\"colorbar\":{\"outlinewidth\":0,\"ticks\":\"\"},\"type\":\"contourcarpet\"}],\"heatmap\":[{\"colorbar\":{\"outlinewidth\":0,\"ticks\":\"\"},\"colorscale\":[[0.0,\"#0d0887\"],[0.1111111111111111,\"#46039f\"],[0.2222222222222222,\"#7201a8\"],[0.3333333333333333,\"#9c179e\"],[0.4444444444444444,\"#bd3786\"],[0.5555555555555556,\"#d8576b\"],[0.6666666666666666,\"#ed7953\"],[0.7777777777777778,\"#fb9f3a\"],[0.8888888888888888,\"#fdca26\"],[1.0,\"#f0f921\"]],\"type\":\"heatmap\"}],\"heatmapgl\":[{\"colorbar\":{\"outlinewidth\":0,\"ticks\":\"\"},\"colorscale\":[[0.0,\"#0d0887\"],[0.1111111111111111,\"#46039f\"],[0.2222222222222222,\"#7201a8\"],[0.3333333333333333,\"#9c179e\"],[0.4444444444444444,\"#bd3786\"],[0.5555555555555556,\"#d8576b\"],[0.6666666666666666,\"#ed7953\"],[0.7777777777777778,\"#fb9f3a\"],[0.8888888888888888,\"#fdca26\"],[1.0,\"#f0f921\"]],\"type\":\"heatmapgl\"}],\"histogram\":[{\"marker\":{\"pattern\":{\"fillmode\":\"overlay\",\"size\":10,\"solidity\":0.2}},\"type\":\"histogram\"}],\"histogram2d\":[{\"colorbar\":{\"outlinewidth\":0,\"ticks\":\"\"},\"colorscale\":[[0.0,\"#0d0887\"],[0.1111111111111111,\"#46039f\"],[0.2222222222222222,\"#7201a8\"],[0.3333333333333333,\"#9c179e\"],[0.4444444444444444,\"#bd3786\"],[0.5555555555555556,\"#d8576b\"],[0.6666666666666666,\"#ed7953\"],[0.7777777777777778,\"#fb9f3a\"],[0.8888888888888888,\"#fdca26\"],[1.0,\"#f0f921\"]],\"type\":\"histogram2d\"}],\"histogram2dcontour\":[{\"colorbar\":{\"outlinewidth\":0,\"ticks\":\"\"},\"colorscale\":[[0.0,\"#0d0887\"],[0.1111111111111111,\"#46039f\"],[0.2222222222222222,\"#7201a8\"],[0.3333333333333333,\"#9c179e\"],[0.4444444444444444,\"#bd3786\"],[0.5555555555555556,\"#d8576b\"],[0.6666666666666666,\"#ed7953\"],[0.7777777777777778,\"#fb9f3a\"],[0.8888888888888888,\"#fdca26\"],[1.0,\"#f0f921\"]],\"type\":\"histogram2dcontour\"}],\"mesh3d\":[{\"colorbar\":{\"outlinewidth\":0,\"ticks\":\"\"},\"type\":\"mesh3d\"}],\"parcoords\":[{\"line\":{\"colorbar\":{\"outlinewidth\":0,\"ticks\":\"\"}},\"type\":\"parcoords\"}],\"pie\":[{\"automargin\":true,\"type\":\"pie\"}],\"scatter\":[{\"marker\":{\"colorbar\":{\"outlinewidth\":0,\"ticks\":\"\"}},\"type\":\"scatter\"}],\"scatter3d\":[{\"line\":{\"colorbar\":{\"outlinewidth\":0,\"ticks\":\"\"}},\"marker\":{\"colorbar\":{\"outlinewidth\":0,\"ticks\":\"\"}},\"type\":\"scatter3d\"}],\"scattercarpet\":[{\"marker\":{\"colorbar\":{\"outlinewidth\":0,\"ticks\":\"\"}},\"type\":\"scattercarpet\"}],\"scattergeo\":[{\"marker\":{\"colorbar\":{\"outlinewidth\":0,\"ticks\":\"\"}},\"type\":\"scattergeo\"}],\"scattergl\":[{\"marker\":{\"colorbar\":{\"outlinewidth\":0,\"ticks\":\"\"}},\"type\":\"scattergl\"}],\"scattermapbox\":[{\"marker\":{\"colorbar\":{\"outlinewidth\":0,\"ticks\":\"\"}},\"type\":\"scattermapbox\"}],\"scatterpolar\":[{\"marker\":{\"colorbar\":{\"outlinewidth\":0,\"ticks\":\"\"}},\"type\":\"scatterpolar\"}],\"scatterpolargl\":[{\"marker\":{\"colorbar\":{\"outlinewidth\":0,\"ticks\":\"\"}},\"type\":\"scatterpolargl\"}],\"scatterternary\":[{\"marker\":{\"colorbar\":{\"outlinewidth\":0,\"ticks\":\"\"}},\"type\":\"scatterternary\"}],\"surface\":[{\"colorbar\":{\"outlinewidth\":0,\"ticks\":\"\"},\"colorscale\":[[0.0,\"#0d0887\"],[0.1111111111111111,\"#46039f\"],[0.2222222222222222,\"#7201a8\"],[0.3333333333333333,\"#9c179e\"],[0.4444444444444444,\"#bd3786\"],[0.5555555555555556,\"#d8576b\"],[0.6666666666666666,\"#ed7953\"],[0.7777777777777778,\"#fb9f3a\"],[0.8888888888888888,\"#fdca26\"],[1.0,\"#f0f921\"]],\"type\":\"surface\"}],\"table\":[{\"cells\":{\"fill\":{\"color\":\"#EBF0F8\"},\"line\":{\"color\":\"white\"}},\"header\":{\"fill\":{\"color\":\"#C8D4E3\"},\"line\":{\"color\":\"white\"}},\"type\":\"table\"}]},\"layout\":{\"annotationdefaults\":{\"arrowcolor\":\"#2a3f5f\",\"arrowhead\":0,\"arrowwidth\":1},\"autotypenumbers\":\"strict\",\"coloraxis\":{\"colorbar\":{\"outlinewidth\":0,\"ticks\":\"\"}},\"colorscale\":{\"diverging\":[[0,\"#8e0152\"],[0.1,\"#c51b7d\"],[0.2,\"#de77ae\"],[0.3,\"#f1b6da\"],[0.4,\"#fde0ef\"],[0.5,\"#f7f7f7\"],[0.6,\"#e6f5d0\"],[0.7,\"#b8e186\"],[0.8,\"#7fbc41\"],[0.9,\"#4d9221\"],[1,\"#276419\"]],\"sequential\":[[0.0,\"#0d0887\"],[0.1111111111111111,\"#46039f\"],[0.2222222222222222,\"#7201a8\"],[0.3333333333333333,\"#9c179e\"],[0.4444444444444444,\"#bd3786\"],[0.5555555555555556,\"#d8576b\"],[0.6666666666666666,\"#ed7953\"],[0.7777777777777778,\"#fb9f3a\"],[0.8888888888888888,\"#fdca26\"],[1.0,\"#f0f921\"]],\"sequentialminus\":[[0.0,\"#0d0887\"],[0.1111111111111111,\"#46039f\"],[0.2222222222222222,\"#7201a8\"],[0.3333333333333333,\"#9c179e\"],[0.4444444444444444,\"#bd3786\"],[0.5555555555555556,\"#d8576b\"],[0.6666666666666666,\"#ed7953\"],[0.7777777777777778,\"#fb9f3a\"],[0.8888888888888888,\"#fdca26\"],[1.0,\"#f0f921\"]]},\"colorway\":[\"#636efa\",\"#EF553B\",\"#00cc96\",\"#ab63fa\",\"#FFA15A\",\"#19d3f3\",\"#FF6692\",\"#B6E880\",\"#FF97FF\",\"#FECB52\"],\"font\":{\"color\":\"#2a3f5f\"},\"geo\":{\"bgcolor\":\"white\",\"lakecolor\":\"white\",\"landcolor\":\"#E5ECF6\",\"showlakes\":true,\"showland\":true,\"subunitcolor\":\"white\"},\"hoverlabel\":{\"align\":\"left\"},\"hovermode\":\"closest\",\"mapbox\":{\"style\":\"light\"},\"paper_bgcolor\":\"white\",\"plot_bgcolor\":\"#E5ECF6\",\"polar\":{\"angularaxis\":{\"gridcolor\":\"white\",\"linecolor\":\"white\",\"ticks\":\"\"},\"bgcolor\":\"#E5ECF6\",\"radialaxis\":{\"gridcolor\":\"white\",\"linecolor\":\"white\",\"ticks\":\"\"}},\"scene\":{\"xaxis\":{\"backgroundcolor\":\"#E5ECF6\",\"gridcolor\":\"white\",\"gridwidth\":2,\"linecolor\":\"white\",\"showbackground\":true,\"ticks\":\"\",\"zerolinecolor\":\"white\"},\"yaxis\":{\"backgroundcolor\":\"#E5ECF6\",\"gridcolor\":\"white\",\"gridwidth\":2,\"linecolor\":\"white\",\"showbackground\":true,\"ticks\":\"\",\"zerolinecolor\":\"white\"},\"zaxis\":{\"backgroundcolor\":\"#E5ECF6\",\"gridcolor\":\"white\",\"gridwidth\":2,\"linecolor\":\"white\",\"showbackground\":true,\"ticks\":\"\",\"zerolinecolor\":\"white\"}},\"shapedefaults\":{\"line\":{\"color\":\"#2a3f5f\"}},\"ternary\":{\"aaxis\":{\"gridcolor\":\"white\",\"linecolor\":\"white\",\"ticks\":\"\"},\"baxis\":{\"gridcolor\":\"white\",\"linecolor\":\"white\",\"ticks\":\"\"},\"bgcolor\":\"#E5ECF6\",\"caxis\":{\"gridcolor\":\"white\",\"linecolor\":\"white\",\"ticks\":\"\"}},\"title\":{\"x\":0.05},\"xaxis\":{\"automargin\":true,\"gridcolor\":\"white\",\"linecolor\":\"white\",\"ticks\":\"\",\"title\":{\"standoff\":15},\"zerolinecolor\":\"white\",\"zerolinewidth\":2},\"yaxis\":{\"automargin\":true,\"gridcolor\":\"white\",\"linecolor\":\"white\",\"ticks\":\"\",\"title\":{\"standoff\":15},\"zerolinecolor\":\"white\",\"zerolinewidth\":2}}},\"title\":{\"text\":\"Movements Merge1 Split\"},\"xaxis\":{\"anchor\":\"y\",\"domain\":[0.0,1.0],\"title\":{\"text\":\"Mean Year\"}},\"yaxis\":{\"anchor\":\"x\",\"domain\":[0.0,1.0],\"title\":{\"text\":\"Artist Ratio - Painting per Artist\"}}},                        {\"responsive\": true}                    ).then(function(){\n",
       "                            \n",
       "var gd = document.getElementById('84f25fea-edc5-466d-aa2d-a4f6549490bd');\n",
       "var x = new MutationObserver(function (mutations, observer) {{\n",
       "        var display = window.getComputedStyle(gd).display;\n",
       "        if (!display || display === 'none') {{\n",
       "            console.log([gd, 'removed!']);\n",
       "            Plotly.purge(gd);\n",
       "            observer.disconnect();\n",
       "        }}\n",
       "}});\n",
       "\n",
       "// Listen for the removal of the full notebook cells\n",
       "var notebookContainer = gd.closest('#notebook-container');\n",
       "if (notebookContainer) {{\n",
       "    x.observe(notebookContainer, {childList: true});\n",
       "}}\n",
       "\n",
       "// Listen for the clearing of the current output cell\n",
       "var outputEl = gd.closest('.output');\n",
       "if (outputEl) {{\n",
       "    x.observe(outputEl, {childList: true});\n",
       "}}\n",
       "\n",
       "                        })                };                });            </script>        </div>"
      ]
     },
     "metadata": {},
     "output_type": "display_data"
    }
   ],
   "source": [
    "fig1 =px.scatter(df_mov1,x='mean_year',y='artist_ratio',size='title',text='movement',\n",
    "               hover_name=\"movement\",color=\"title\",size_max=30,color_continuous_scale='jet')\n",
    "fig1.update_traces(textposition='top center')\n",
    "fig1.update_layout(title='Movements Merge1 Split',\n",
    "    xaxis={'title':'Mean Year'},\n",
    "    yaxis={'title':'Artist Ratio - Painting per Artist'})\n",
    "\n",
    "fig1.show()"
   ]
  },
  {
   "cell_type": "markdown",
   "id": "834dd593",
   "metadata": {},
   "source": [
    "**Merge2 :**\n",
    "\n",
    "Modèle facile, merge d'une partie des mouvements droppés précédements , drop limités :\n",
    "\n",
    "- Bonne taille de dataset : drop des mouvements avec moins de 1000 paintings\n",
    "- Artist ratio modéré: plus d'exemples par artistes pour fitter drop si <15\n",
    "- Merging des mouvements sous représentés par proximité\n",
    "        Abstract=['Abstract_Expressionism','Action_painting']\n",
    "        Cubism=['Analytical_Cubism','Cubism','Synthetic_Cubism']\n",
    "        Renaissance=['Early_Renaissance','High_Renaissance','Northern_Renaissance']\n",
    "        New_Realism=['Contemporary_Realism','New_Realism']\n",
    "\n"
   ]
  },
  {
   "cell_type": "code",
   "execution_count": 365,
   "id": "ca655968",
   "metadata": {
    "ExecuteTime": {
     "end_time": "2021-08-24T19:44:28.277277Z",
     "start_time": "2021-08-24T19:44:27.759286Z"
    }
   },
   "outputs": [
    {
     "name": "stderr",
     "output_type": "stream",
     "text": [
      "/usr/local/Caskroom/miniforge/base/envs/lewagon/lib/python3.7/site-packages/ipykernel_launcher.py:5: FutureWarning:\n",
      "\n",
      "Dropping invalid columns in DataFrameGroupBy.quantile is deprecated. In a future version, a TypeError will be raised. Before calling .quantile, select only columns which should be valid for the function.\n",
      "\n",
      "/usr/local/Caskroom/miniforge/base/envs/lewagon/lib/python3.7/site-packages/ipykernel_launcher.py:6: FutureWarning:\n",
      "\n",
      "Dropping invalid columns in DataFrameGroupBy.quantile is deprecated. In a future version, a TypeError will be raised. Before calling .quantile, select only columns which should be valid for the function.\n",
      "\n"
     ]
    },
    {
     "data": {
      "text/html": [
       "<div>\n",
       "<style scoped>\n",
       "    .dataframe tbody tr th:only-of-type {\n",
       "        vertical-align: middle;\n",
       "    }\n",
       "\n",
       "    .dataframe tbody tr th {\n",
       "        vertical-align: top;\n",
       "    }\n",
       "\n",
       "    .dataframe thead th {\n",
       "        text-align: right;\n",
       "    }\n",
       "</style>\n",
       "<table border=\"1\" class=\"dataframe\">\n",
       "  <thead>\n",
       "    <tr style=\"text-align: right;\">\n",
       "      <th></th>\n",
       "      <th>movement</th>\n",
       "      <th>artist</th>\n",
       "      <th>title</th>\n",
       "      <th>image</th>\n",
       "      <th>genre</th>\n",
       "      <th>Q1_year</th>\n",
       "      <th>Q3_year</th>\n",
       "      <th>mean_year</th>\n",
       "      <th>duration</th>\n",
       "      <th>artist_ratio</th>\n",
       "    </tr>\n",
       "  </thead>\n",
       "  <tbody>\n",
       "    <tr>\n",
       "      <th>0</th>\n",
       "      <td>Abstract</td>\n",
       "      <td>144</td>\n",
       "      <td>2536</td>\n",
       "      <td>2873</td>\n",
       "      <td>10</td>\n",
       "      <td>1957</td>\n",
       "      <td>1982</td>\n",
       "      <td>1969</td>\n",
       "      <td>25</td>\n",
       "      <td>17.61</td>\n",
       "    </tr>\n",
       "    <tr>\n",
       "      <th>1</th>\n",
       "      <td>Art_Nouveau_Modern</td>\n",
       "      <td>80</td>\n",
       "      <td>4308</td>\n",
       "      <td>4334</td>\n",
       "      <td>9</td>\n",
       "      <td>1900</td>\n",
       "      <td>1916</td>\n",
       "      <td>1907</td>\n",
       "      <td>16</td>\n",
       "      <td>53.85</td>\n",
       "    </tr>\n",
       "    <tr>\n",
       "      <th>2</th>\n",
       "      <td>Baroque</td>\n",
       "      <td>71</td>\n",
       "      <td>4083</td>\n",
       "      <td>4241</td>\n",
       "      <td>10</td>\n",
       "      <td>1630</td>\n",
       "      <td>1659</td>\n",
       "      <td>1647</td>\n",
       "      <td>29</td>\n",
       "      <td>57.51</td>\n",
       "    </tr>\n",
       "    <tr>\n",
       "      <th>3</th>\n",
       "      <td>Cubism</td>\n",
       "      <td>142</td>\n",
       "      <td>2483</td>\n",
       "      <td>2561</td>\n",
       "      <td>10</td>\n",
       "      <td>1913</td>\n",
       "      <td>1937</td>\n",
       "      <td>1927</td>\n",
       "      <td>24</td>\n",
       "      <td>17.49</td>\n",
       "    </tr>\n",
       "    <tr>\n",
       "      <th>4</th>\n",
       "      <td>Expressionism</td>\n",
       "      <td>237</td>\n",
       "      <td>6389</td>\n",
       "      <td>6736</td>\n",
       "      <td>10</td>\n",
       "      <td>1913</td>\n",
       "      <td>1947</td>\n",
       "      <td>1947</td>\n",
       "      <td>34</td>\n",
       "      <td>26.96</td>\n",
       "    </tr>\n",
       "  </tbody>\n",
       "</table>\n",
       "</div>"
      ],
      "text/plain": [
       "             movement  artist  title  image  genre  Q1_year  Q3_year  \\\n",
       "0            Abstract     144   2536   2873     10     1957     1982   \n",
       "1  Art_Nouveau_Modern      80   4308   4334      9     1900     1916   \n",
       "2             Baroque      71   4083   4241     10     1630     1659   \n",
       "3              Cubism     142   2483   2561     10     1913     1937   \n",
       "4       Expressionism     237   6389   6736     10     1913     1947   \n",
       "\n",
       "   mean_year  duration  artist_ratio  \n",
       "0       1969        25         17.61  \n",
       "1       1907        16         53.85  \n",
       "2       1647        29         57.51  \n",
       "3       1927        24         17.49  \n",
       "4       1947        34         26.96  "
      ]
     },
     "execution_count": 365,
     "metadata": {},
     "output_type": "execute_result"
    }
   ],
   "source": [
    "merge_mov2={'Abstract_Expressionism': 'Abstract',\n",
    "                 'Action_painting': 'Abstract',\n",
    "                 'Analytical_Cubism': 'Cubism',\n",
    "                 'Art_Nouveau_Modern': 'Art_Nouveau_Modern',\n",
    "                 'Baroque': 'Baroque',\n",
    "                 'Color_Field_Painting': None,\n",
    "                 'Contemporary_Realism': 'New_Realism',\n",
    "                 'Cubism': 'Cubism',\n",
    "                 'Early_Renaissance': 'Renaissance',\n",
    "                 'Expressionism': 'Expressionism',\n",
    "                 'Fauvism': None,\n",
    "                 'High_Renaissance': 'Renaissance',\n",
    "                 'Impressionism': 'Impressionism',\n",
    "                 'Mannerism_Late_Renaissance': 'Mannerism_Late_Renaissance',\n",
    "                 'Minimalism': None,\n",
    "                 'Naive_Art_Primitivism': 'Naive_Art_Primitivism',\n",
    "                 'New_Realism': 'New_Realism',\n",
    "                 'Northern_Renaissance': 'Renaissance',\n",
    "                 'Pointillism': None,\n",
    "                 'Pop_Art': 'Pop_Art',\n",
    "                 'Post_Impressionism': 'Post_Impressionism',\n",
    "                 'Realism': 'Realism',\n",
    "                 'Rococo': 'Rococo',\n",
    "                 'Romanticism': 'Romanticism',\n",
    "                 'Symbolism': 'Symbolism',\n",
    "                 'Synthetic_Cubism': 'Cubism',\n",
    "                 'Ukiyo_e': 'Ukiyo_e'}\n",
    "df_mov2=df_grouping(df.replace(merge_mov2.keys(),merge_mov2.values()))\n",
    "df_mov2.head()"
   ]
  },
  {
   "cell_type": "code",
   "execution_count": 359,
   "id": "132183d6",
   "metadata": {
    "ExecuteTime": {
     "end_time": "2021-08-24T19:22:19.217013Z",
     "start_time": "2021-08-24T19:22:19.131244Z"
    }
   },
   "outputs": [
    {
     "data": {
      "application/vnd.plotly.v1+json": {
       "config": {
        "plotlyServerURL": "https://plot.ly"
       },
       "data": [
        {
         "hovertemplate": "<b>%{hovertext}</b><br><br>mean_year=%{x}<br>artist_ratio=%{y}<br>title=%{marker.color}<br>movement=%{text}<extra></extra>",
         "hovertext": [
          "Abstract",
          "Art_Nouveau_Modern",
          "Baroque",
          "Cubism",
          "Expressionism",
          "Impressionism",
          "Mannerism_Late_Renaissance",
          "Naive_Art_Primitivism",
          "New_Realism",
          "Pop_Art",
          "Post_Impressionism",
          "Realism",
          "Renaissance",
          "Rococo",
          "Romanticism",
          "Symbolism",
          "Ukiyo_e"
         ],
         "legendgroup": "",
         "marker": {
          "color": [
           2536,
           4308,
           4083,
           2483,
           6389,
           12660,
           1215,
           2358,
           783,
           1460,
           6276,
           10456,
           4911,
           2068,
           6939,
           4472,
           1084
          ],
          "coloraxis": "coloraxis",
          "size": [
           2536,
           4308,
           4083,
           2483,
           6389,
           12660,
           1215,
           2358,
           783,
           1460,
           6276,
           10456,
           4911,
           2068,
           6939,
           4472,
           1084
          ],
          "sizemode": "area",
          "sizeref": 14.066666666666666,
          "symbol": "circle"
         },
         "mode": "markers+text",
         "name": "",
         "orientation": "v",
         "showlegend": false,
         "text": [
          "Abstract",
          "Art_Nouveau_Modern",
          "Baroque",
          "Cubism",
          "Expressionism",
          "Impressionism",
          "Mannerism_Late_Renaissance",
          "Naive_Art_Primitivism",
          "New_Realism",
          "Pop_Art",
          "Post_Impressionism",
          "Realism",
          "Renaissance",
          "Rococo",
          "Romanticism",
          "Symbolism",
          "Ukiyo_e"
         ],
         "textposition": "top center",
         "type": "scatter",
         "x": [
          1969,
          1907,
          1647,
          1927,
          1947,
          1897,
          1558,
          1946,
          1969,
          2002,
          1910,
          1888,
          1494,
          1764,
          1850,
          1914,
          1839
         ],
         "xaxis": "x",
         "y": [
          17.61,
          53.85,
          57.51,
          17.49,
          26.96,
          55.04,
          63.95,
          32.75,
          37.29,
          18.72,
          34.3,
          56.52,
          77.95,
          68.93,
          66.09,
          48.61,
          72.27
         ],
         "yaxis": "y"
        }
       ],
       "layout": {
        "coloraxis": {
         "colorbar": {
          "title": {
           "text": "title"
          }
         },
         "colorscale": [
          [
           0,
           "rgb(0,0,131)"
          ],
          [
           0.2,
           "rgb(0,60,170)"
          ],
          [
           0.4,
           "rgb(5,255,255)"
          ],
          [
           0.6,
           "rgb(255,255,0)"
          ],
          [
           0.8,
           "rgb(250,0,0)"
          ],
          [
           1,
           "rgb(128,0,0)"
          ]
         ]
        },
        "legend": {
         "itemsizing": "constant",
         "tracegroupgap": 0
        },
        "margin": {
         "t": 60
        },
        "template": {
         "data": {
          "bar": [
           {
            "error_x": {
             "color": "#2a3f5f"
            },
            "error_y": {
             "color": "#2a3f5f"
            },
            "marker": {
             "line": {
              "color": "#E5ECF6",
              "width": 0.5
             },
             "pattern": {
              "fillmode": "overlay",
              "size": 10,
              "solidity": 0.2
             }
            },
            "type": "bar"
           }
          ],
          "barpolar": [
           {
            "marker": {
             "line": {
              "color": "#E5ECF6",
              "width": 0.5
             },
             "pattern": {
              "fillmode": "overlay",
              "size": 10,
              "solidity": 0.2
             }
            },
            "type": "barpolar"
           }
          ],
          "carpet": [
           {
            "aaxis": {
             "endlinecolor": "#2a3f5f",
             "gridcolor": "white",
             "linecolor": "white",
             "minorgridcolor": "white",
             "startlinecolor": "#2a3f5f"
            },
            "baxis": {
             "endlinecolor": "#2a3f5f",
             "gridcolor": "white",
             "linecolor": "white",
             "minorgridcolor": "white",
             "startlinecolor": "#2a3f5f"
            },
            "type": "carpet"
           }
          ],
          "choropleth": [
           {
            "colorbar": {
             "outlinewidth": 0,
             "ticks": ""
            },
            "type": "choropleth"
           }
          ],
          "contour": [
           {
            "colorbar": {
             "outlinewidth": 0,
             "ticks": ""
            },
            "colorscale": [
             [
              0,
              "#0d0887"
             ],
             [
              0.1111111111111111,
              "#46039f"
             ],
             [
              0.2222222222222222,
              "#7201a8"
             ],
             [
              0.3333333333333333,
              "#9c179e"
             ],
             [
              0.4444444444444444,
              "#bd3786"
             ],
             [
              0.5555555555555556,
              "#d8576b"
             ],
             [
              0.6666666666666666,
              "#ed7953"
             ],
             [
              0.7777777777777778,
              "#fb9f3a"
             ],
             [
              0.8888888888888888,
              "#fdca26"
             ],
             [
              1,
              "#f0f921"
             ]
            ],
            "type": "contour"
           }
          ],
          "contourcarpet": [
           {
            "colorbar": {
             "outlinewidth": 0,
             "ticks": ""
            },
            "type": "contourcarpet"
           }
          ],
          "heatmap": [
           {
            "colorbar": {
             "outlinewidth": 0,
             "ticks": ""
            },
            "colorscale": [
             [
              0,
              "#0d0887"
             ],
             [
              0.1111111111111111,
              "#46039f"
             ],
             [
              0.2222222222222222,
              "#7201a8"
             ],
             [
              0.3333333333333333,
              "#9c179e"
             ],
             [
              0.4444444444444444,
              "#bd3786"
             ],
             [
              0.5555555555555556,
              "#d8576b"
             ],
             [
              0.6666666666666666,
              "#ed7953"
             ],
             [
              0.7777777777777778,
              "#fb9f3a"
             ],
             [
              0.8888888888888888,
              "#fdca26"
             ],
             [
              1,
              "#f0f921"
             ]
            ],
            "type": "heatmap"
           }
          ],
          "heatmapgl": [
           {
            "colorbar": {
             "outlinewidth": 0,
             "ticks": ""
            },
            "colorscale": [
             [
              0,
              "#0d0887"
             ],
             [
              0.1111111111111111,
              "#46039f"
             ],
             [
              0.2222222222222222,
              "#7201a8"
             ],
             [
              0.3333333333333333,
              "#9c179e"
             ],
             [
              0.4444444444444444,
              "#bd3786"
             ],
             [
              0.5555555555555556,
              "#d8576b"
             ],
             [
              0.6666666666666666,
              "#ed7953"
             ],
             [
              0.7777777777777778,
              "#fb9f3a"
             ],
             [
              0.8888888888888888,
              "#fdca26"
             ],
             [
              1,
              "#f0f921"
             ]
            ],
            "type": "heatmapgl"
           }
          ],
          "histogram": [
           {
            "marker": {
             "pattern": {
              "fillmode": "overlay",
              "size": 10,
              "solidity": 0.2
             }
            },
            "type": "histogram"
           }
          ],
          "histogram2d": [
           {
            "colorbar": {
             "outlinewidth": 0,
             "ticks": ""
            },
            "colorscale": [
             [
              0,
              "#0d0887"
             ],
             [
              0.1111111111111111,
              "#46039f"
             ],
             [
              0.2222222222222222,
              "#7201a8"
             ],
             [
              0.3333333333333333,
              "#9c179e"
             ],
             [
              0.4444444444444444,
              "#bd3786"
             ],
             [
              0.5555555555555556,
              "#d8576b"
             ],
             [
              0.6666666666666666,
              "#ed7953"
             ],
             [
              0.7777777777777778,
              "#fb9f3a"
             ],
             [
              0.8888888888888888,
              "#fdca26"
             ],
             [
              1,
              "#f0f921"
             ]
            ],
            "type": "histogram2d"
           }
          ],
          "histogram2dcontour": [
           {
            "colorbar": {
             "outlinewidth": 0,
             "ticks": ""
            },
            "colorscale": [
             [
              0,
              "#0d0887"
             ],
             [
              0.1111111111111111,
              "#46039f"
             ],
             [
              0.2222222222222222,
              "#7201a8"
             ],
             [
              0.3333333333333333,
              "#9c179e"
             ],
             [
              0.4444444444444444,
              "#bd3786"
             ],
             [
              0.5555555555555556,
              "#d8576b"
             ],
             [
              0.6666666666666666,
              "#ed7953"
             ],
             [
              0.7777777777777778,
              "#fb9f3a"
             ],
             [
              0.8888888888888888,
              "#fdca26"
             ],
             [
              1,
              "#f0f921"
             ]
            ],
            "type": "histogram2dcontour"
           }
          ],
          "mesh3d": [
           {
            "colorbar": {
             "outlinewidth": 0,
             "ticks": ""
            },
            "type": "mesh3d"
           }
          ],
          "parcoords": [
           {
            "line": {
             "colorbar": {
              "outlinewidth": 0,
              "ticks": ""
             }
            },
            "type": "parcoords"
           }
          ],
          "pie": [
           {
            "automargin": true,
            "type": "pie"
           }
          ],
          "scatter": [
           {
            "marker": {
             "colorbar": {
              "outlinewidth": 0,
              "ticks": ""
             }
            },
            "type": "scatter"
           }
          ],
          "scatter3d": [
           {
            "line": {
             "colorbar": {
              "outlinewidth": 0,
              "ticks": ""
             }
            },
            "marker": {
             "colorbar": {
              "outlinewidth": 0,
              "ticks": ""
             }
            },
            "type": "scatter3d"
           }
          ],
          "scattercarpet": [
           {
            "marker": {
             "colorbar": {
              "outlinewidth": 0,
              "ticks": ""
             }
            },
            "type": "scattercarpet"
           }
          ],
          "scattergeo": [
           {
            "marker": {
             "colorbar": {
              "outlinewidth": 0,
              "ticks": ""
             }
            },
            "type": "scattergeo"
           }
          ],
          "scattergl": [
           {
            "marker": {
             "colorbar": {
              "outlinewidth": 0,
              "ticks": ""
             }
            },
            "type": "scattergl"
           }
          ],
          "scattermapbox": [
           {
            "marker": {
             "colorbar": {
              "outlinewidth": 0,
              "ticks": ""
             }
            },
            "type": "scattermapbox"
           }
          ],
          "scatterpolar": [
           {
            "marker": {
             "colorbar": {
              "outlinewidth": 0,
              "ticks": ""
             }
            },
            "type": "scatterpolar"
           }
          ],
          "scatterpolargl": [
           {
            "marker": {
             "colorbar": {
              "outlinewidth": 0,
              "ticks": ""
             }
            },
            "type": "scatterpolargl"
           }
          ],
          "scatterternary": [
           {
            "marker": {
             "colorbar": {
              "outlinewidth": 0,
              "ticks": ""
             }
            },
            "type": "scatterternary"
           }
          ],
          "surface": [
           {
            "colorbar": {
             "outlinewidth": 0,
             "ticks": ""
            },
            "colorscale": [
             [
              0,
              "#0d0887"
             ],
             [
              0.1111111111111111,
              "#46039f"
             ],
             [
              0.2222222222222222,
              "#7201a8"
             ],
             [
              0.3333333333333333,
              "#9c179e"
             ],
             [
              0.4444444444444444,
              "#bd3786"
             ],
             [
              0.5555555555555556,
              "#d8576b"
             ],
             [
              0.6666666666666666,
              "#ed7953"
             ],
             [
              0.7777777777777778,
              "#fb9f3a"
             ],
             [
              0.8888888888888888,
              "#fdca26"
             ],
             [
              1,
              "#f0f921"
             ]
            ],
            "type": "surface"
           }
          ],
          "table": [
           {
            "cells": {
             "fill": {
              "color": "#EBF0F8"
             },
             "line": {
              "color": "white"
             }
            },
            "header": {
             "fill": {
              "color": "#C8D4E3"
             },
             "line": {
              "color": "white"
             }
            },
            "type": "table"
           }
          ]
         },
         "layout": {
          "annotationdefaults": {
           "arrowcolor": "#2a3f5f",
           "arrowhead": 0,
           "arrowwidth": 1
          },
          "autotypenumbers": "strict",
          "coloraxis": {
           "colorbar": {
            "outlinewidth": 0,
            "ticks": ""
           }
          },
          "colorscale": {
           "diverging": [
            [
             0,
             "#8e0152"
            ],
            [
             0.1,
             "#c51b7d"
            ],
            [
             0.2,
             "#de77ae"
            ],
            [
             0.3,
             "#f1b6da"
            ],
            [
             0.4,
             "#fde0ef"
            ],
            [
             0.5,
             "#f7f7f7"
            ],
            [
             0.6,
             "#e6f5d0"
            ],
            [
             0.7,
             "#b8e186"
            ],
            [
             0.8,
             "#7fbc41"
            ],
            [
             0.9,
             "#4d9221"
            ],
            [
             1,
             "#276419"
            ]
           ],
           "sequential": [
            [
             0,
             "#0d0887"
            ],
            [
             0.1111111111111111,
             "#46039f"
            ],
            [
             0.2222222222222222,
             "#7201a8"
            ],
            [
             0.3333333333333333,
             "#9c179e"
            ],
            [
             0.4444444444444444,
             "#bd3786"
            ],
            [
             0.5555555555555556,
             "#d8576b"
            ],
            [
             0.6666666666666666,
             "#ed7953"
            ],
            [
             0.7777777777777778,
             "#fb9f3a"
            ],
            [
             0.8888888888888888,
             "#fdca26"
            ],
            [
             1,
             "#f0f921"
            ]
           ],
           "sequentialminus": [
            [
             0,
             "#0d0887"
            ],
            [
             0.1111111111111111,
             "#46039f"
            ],
            [
             0.2222222222222222,
             "#7201a8"
            ],
            [
             0.3333333333333333,
             "#9c179e"
            ],
            [
             0.4444444444444444,
             "#bd3786"
            ],
            [
             0.5555555555555556,
             "#d8576b"
            ],
            [
             0.6666666666666666,
             "#ed7953"
            ],
            [
             0.7777777777777778,
             "#fb9f3a"
            ],
            [
             0.8888888888888888,
             "#fdca26"
            ],
            [
             1,
             "#f0f921"
            ]
           ]
          },
          "colorway": [
           "#636efa",
           "#EF553B",
           "#00cc96",
           "#ab63fa",
           "#FFA15A",
           "#19d3f3",
           "#FF6692",
           "#B6E880",
           "#FF97FF",
           "#FECB52"
          ],
          "font": {
           "color": "#2a3f5f"
          },
          "geo": {
           "bgcolor": "white",
           "lakecolor": "white",
           "landcolor": "#E5ECF6",
           "showlakes": true,
           "showland": true,
           "subunitcolor": "white"
          },
          "hoverlabel": {
           "align": "left"
          },
          "hovermode": "closest",
          "mapbox": {
           "style": "light"
          },
          "paper_bgcolor": "white",
          "plot_bgcolor": "#E5ECF6",
          "polar": {
           "angularaxis": {
            "gridcolor": "white",
            "linecolor": "white",
            "ticks": ""
           },
           "bgcolor": "#E5ECF6",
           "radialaxis": {
            "gridcolor": "white",
            "linecolor": "white",
            "ticks": ""
           }
          },
          "scene": {
           "xaxis": {
            "backgroundcolor": "#E5ECF6",
            "gridcolor": "white",
            "gridwidth": 2,
            "linecolor": "white",
            "showbackground": true,
            "ticks": "",
            "zerolinecolor": "white"
           },
           "yaxis": {
            "backgroundcolor": "#E5ECF6",
            "gridcolor": "white",
            "gridwidth": 2,
            "linecolor": "white",
            "showbackground": true,
            "ticks": "",
            "zerolinecolor": "white"
           },
           "zaxis": {
            "backgroundcolor": "#E5ECF6",
            "gridcolor": "white",
            "gridwidth": 2,
            "linecolor": "white",
            "showbackground": true,
            "ticks": "",
            "zerolinecolor": "white"
           }
          },
          "shapedefaults": {
           "line": {
            "color": "#2a3f5f"
           }
          },
          "ternary": {
           "aaxis": {
            "gridcolor": "white",
            "linecolor": "white",
            "ticks": ""
           },
           "baxis": {
            "gridcolor": "white",
            "linecolor": "white",
            "ticks": ""
           },
           "bgcolor": "#E5ECF6",
           "caxis": {
            "gridcolor": "white",
            "linecolor": "white",
            "ticks": ""
           }
          },
          "title": {
           "x": 0.05
          },
          "xaxis": {
           "automargin": true,
           "gridcolor": "white",
           "linecolor": "white",
           "ticks": "",
           "title": {
            "standoff": 15
           },
           "zerolinecolor": "white",
           "zerolinewidth": 2
          },
          "yaxis": {
           "automargin": true,
           "gridcolor": "white",
           "linecolor": "white",
           "ticks": "",
           "title": {
            "standoff": 15
           },
           "zerolinecolor": "white",
           "zerolinewidth": 2
          }
         }
        },
        "title": {
         "text": "Movements Merge2 Split"
        },
        "xaxis": {
         "anchor": "y",
         "domain": [
          0,
          1
         ],
         "title": {
          "text": "Mean Year"
         }
        },
        "yaxis": {
         "anchor": "x",
         "domain": [
          0,
          1
         ],
         "title": {
          "text": "Artist Ratio - Painting per Artist"
         }
        }
       }
      },
      "text/html": [
       "<div>                            <div id=\"e0690fb5-3113-4305-8aa0-345ad888e8fb\" class=\"plotly-graph-div\" style=\"height:525px; width:100%;\"></div>            <script type=\"text/javascript\">                require([\"plotly\"], function(Plotly) {                    window.PLOTLYENV=window.PLOTLYENV || {};                                    if (document.getElementById(\"e0690fb5-3113-4305-8aa0-345ad888e8fb\")) {                    Plotly.newPlot(                        \"e0690fb5-3113-4305-8aa0-345ad888e8fb\",                        [{\"hovertemplate\":\"<b>%{hovertext}</b><br><br>mean_year=%{x}<br>artist_ratio=%{y}<br>title=%{marker.color}<br>movement=%{text}<extra></extra>\",\"hovertext\":[\"Abstract\",\"Art_Nouveau_Modern\",\"Baroque\",\"Cubism\",\"Expressionism\",\"Impressionism\",\"Mannerism_Late_Renaissance\",\"Naive_Art_Primitivism\",\"New_Realism\",\"Pop_Art\",\"Post_Impressionism\",\"Realism\",\"Renaissance\",\"Rococo\",\"Romanticism\",\"Symbolism\",\"Ukiyo_e\"],\"legendgroup\":\"\",\"marker\":{\"color\":[2536,4308,4083,2483,6389,12660,1215,2358,783,1460,6276,10456,4911,2068,6939,4472,1084],\"coloraxis\":\"coloraxis\",\"size\":[2536,4308,4083,2483,6389,12660,1215,2358,783,1460,6276,10456,4911,2068,6939,4472,1084],\"sizemode\":\"area\",\"sizeref\":14.066666666666666,\"symbol\":\"circle\"},\"mode\":\"markers+text\",\"name\":\"\",\"orientation\":\"v\",\"showlegend\":false,\"text\":[\"Abstract\",\"Art_Nouveau_Modern\",\"Baroque\",\"Cubism\",\"Expressionism\",\"Impressionism\",\"Mannerism_Late_Renaissance\",\"Naive_Art_Primitivism\",\"New_Realism\",\"Pop_Art\",\"Post_Impressionism\",\"Realism\",\"Renaissance\",\"Rococo\",\"Romanticism\",\"Symbolism\",\"Ukiyo_e\"],\"textposition\":\"top center\",\"type\":\"scatter\",\"x\":[1969,1907,1647,1927,1947,1897,1558,1946,1969,2002,1910,1888,1494,1764,1850,1914,1839],\"xaxis\":\"x\",\"y\":[17.61,53.85,57.51,17.49,26.96,55.04,63.95,32.75,37.29,18.72,34.3,56.52,77.95,68.93,66.09,48.61,72.27],\"yaxis\":\"y\"}],                        {\"coloraxis\":{\"colorbar\":{\"title\":{\"text\":\"title\"}},\"colorscale\":[[0.0,\"rgb(0,0,131)\"],[0.2,\"rgb(0,60,170)\"],[0.4,\"rgb(5,255,255)\"],[0.6,\"rgb(255,255,0)\"],[0.8,\"rgb(250,0,0)\"],[1.0,\"rgb(128,0,0)\"]]},\"legend\":{\"itemsizing\":\"constant\",\"tracegroupgap\":0},\"margin\":{\"t\":60},\"template\":{\"data\":{\"bar\":[{\"error_x\":{\"color\":\"#2a3f5f\"},\"error_y\":{\"color\":\"#2a3f5f\"},\"marker\":{\"line\":{\"color\":\"#E5ECF6\",\"width\":0.5},\"pattern\":{\"fillmode\":\"overlay\",\"size\":10,\"solidity\":0.2}},\"type\":\"bar\"}],\"barpolar\":[{\"marker\":{\"line\":{\"color\":\"#E5ECF6\",\"width\":0.5},\"pattern\":{\"fillmode\":\"overlay\",\"size\":10,\"solidity\":0.2}},\"type\":\"barpolar\"}],\"carpet\":[{\"aaxis\":{\"endlinecolor\":\"#2a3f5f\",\"gridcolor\":\"white\",\"linecolor\":\"white\",\"minorgridcolor\":\"white\",\"startlinecolor\":\"#2a3f5f\"},\"baxis\":{\"endlinecolor\":\"#2a3f5f\",\"gridcolor\":\"white\",\"linecolor\":\"white\",\"minorgridcolor\":\"white\",\"startlinecolor\":\"#2a3f5f\"},\"type\":\"carpet\"}],\"choropleth\":[{\"colorbar\":{\"outlinewidth\":0,\"ticks\":\"\"},\"type\":\"choropleth\"}],\"contour\":[{\"colorbar\":{\"outlinewidth\":0,\"ticks\":\"\"},\"colorscale\":[[0.0,\"#0d0887\"],[0.1111111111111111,\"#46039f\"],[0.2222222222222222,\"#7201a8\"],[0.3333333333333333,\"#9c179e\"],[0.4444444444444444,\"#bd3786\"],[0.5555555555555556,\"#d8576b\"],[0.6666666666666666,\"#ed7953\"],[0.7777777777777778,\"#fb9f3a\"],[0.8888888888888888,\"#fdca26\"],[1.0,\"#f0f921\"]],\"type\":\"contour\"}],\"contourcarpet\":[{\"colorbar\":{\"outlinewidth\":0,\"ticks\":\"\"},\"type\":\"contourcarpet\"}],\"heatmap\":[{\"colorbar\":{\"outlinewidth\":0,\"ticks\":\"\"},\"colorscale\":[[0.0,\"#0d0887\"],[0.1111111111111111,\"#46039f\"],[0.2222222222222222,\"#7201a8\"],[0.3333333333333333,\"#9c179e\"],[0.4444444444444444,\"#bd3786\"],[0.5555555555555556,\"#d8576b\"],[0.6666666666666666,\"#ed7953\"],[0.7777777777777778,\"#fb9f3a\"],[0.8888888888888888,\"#fdca26\"],[1.0,\"#f0f921\"]],\"type\":\"heatmap\"}],\"heatmapgl\":[{\"colorbar\":{\"outlinewidth\":0,\"ticks\":\"\"},\"colorscale\":[[0.0,\"#0d0887\"],[0.1111111111111111,\"#46039f\"],[0.2222222222222222,\"#7201a8\"],[0.3333333333333333,\"#9c179e\"],[0.4444444444444444,\"#bd3786\"],[0.5555555555555556,\"#d8576b\"],[0.6666666666666666,\"#ed7953\"],[0.7777777777777778,\"#fb9f3a\"],[0.8888888888888888,\"#fdca26\"],[1.0,\"#f0f921\"]],\"type\":\"heatmapgl\"}],\"histogram\":[{\"marker\":{\"pattern\":{\"fillmode\":\"overlay\",\"size\":10,\"solidity\":0.2}},\"type\":\"histogram\"}],\"histogram2d\":[{\"colorbar\":{\"outlinewidth\":0,\"ticks\":\"\"},\"colorscale\":[[0.0,\"#0d0887\"],[0.1111111111111111,\"#46039f\"],[0.2222222222222222,\"#7201a8\"],[0.3333333333333333,\"#9c179e\"],[0.4444444444444444,\"#bd3786\"],[0.5555555555555556,\"#d8576b\"],[0.6666666666666666,\"#ed7953\"],[0.7777777777777778,\"#fb9f3a\"],[0.8888888888888888,\"#fdca26\"],[1.0,\"#f0f921\"]],\"type\":\"histogram2d\"}],\"histogram2dcontour\":[{\"colorbar\":{\"outlinewidth\":0,\"ticks\":\"\"},\"colorscale\":[[0.0,\"#0d0887\"],[0.1111111111111111,\"#46039f\"],[0.2222222222222222,\"#7201a8\"],[0.3333333333333333,\"#9c179e\"],[0.4444444444444444,\"#bd3786\"],[0.5555555555555556,\"#d8576b\"],[0.6666666666666666,\"#ed7953\"],[0.7777777777777778,\"#fb9f3a\"],[0.8888888888888888,\"#fdca26\"],[1.0,\"#f0f921\"]],\"type\":\"histogram2dcontour\"}],\"mesh3d\":[{\"colorbar\":{\"outlinewidth\":0,\"ticks\":\"\"},\"type\":\"mesh3d\"}],\"parcoords\":[{\"line\":{\"colorbar\":{\"outlinewidth\":0,\"ticks\":\"\"}},\"type\":\"parcoords\"}],\"pie\":[{\"automargin\":true,\"type\":\"pie\"}],\"scatter\":[{\"marker\":{\"colorbar\":{\"outlinewidth\":0,\"ticks\":\"\"}},\"type\":\"scatter\"}],\"scatter3d\":[{\"line\":{\"colorbar\":{\"outlinewidth\":0,\"ticks\":\"\"}},\"marker\":{\"colorbar\":{\"outlinewidth\":0,\"ticks\":\"\"}},\"type\":\"scatter3d\"}],\"scattercarpet\":[{\"marker\":{\"colorbar\":{\"outlinewidth\":0,\"ticks\":\"\"}},\"type\":\"scattercarpet\"}],\"scattergeo\":[{\"marker\":{\"colorbar\":{\"outlinewidth\":0,\"ticks\":\"\"}},\"type\":\"scattergeo\"}],\"scattergl\":[{\"marker\":{\"colorbar\":{\"outlinewidth\":0,\"ticks\":\"\"}},\"type\":\"scattergl\"}],\"scattermapbox\":[{\"marker\":{\"colorbar\":{\"outlinewidth\":0,\"ticks\":\"\"}},\"type\":\"scattermapbox\"}],\"scatterpolar\":[{\"marker\":{\"colorbar\":{\"outlinewidth\":0,\"ticks\":\"\"}},\"type\":\"scatterpolar\"}],\"scatterpolargl\":[{\"marker\":{\"colorbar\":{\"outlinewidth\":0,\"ticks\":\"\"}},\"type\":\"scatterpolargl\"}],\"scatterternary\":[{\"marker\":{\"colorbar\":{\"outlinewidth\":0,\"ticks\":\"\"}},\"type\":\"scatterternary\"}],\"surface\":[{\"colorbar\":{\"outlinewidth\":0,\"ticks\":\"\"},\"colorscale\":[[0.0,\"#0d0887\"],[0.1111111111111111,\"#46039f\"],[0.2222222222222222,\"#7201a8\"],[0.3333333333333333,\"#9c179e\"],[0.4444444444444444,\"#bd3786\"],[0.5555555555555556,\"#d8576b\"],[0.6666666666666666,\"#ed7953\"],[0.7777777777777778,\"#fb9f3a\"],[0.8888888888888888,\"#fdca26\"],[1.0,\"#f0f921\"]],\"type\":\"surface\"}],\"table\":[{\"cells\":{\"fill\":{\"color\":\"#EBF0F8\"},\"line\":{\"color\":\"white\"}},\"header\":{\"fill\":{\"color\":\"#C8D4E3\"},\"line\":{\"color\":\"white\"}},\"type\":\"table\"}]},\"layout\":{\"annotationdefaults\":{\"arrowcolor\":\"#2a3f5f\",\"arrowhead\":0,\"arrowwidth\":1},\"autotypenumbers\":\"strict\",\"coloraxis\":{\"colorbar\":{\"outlinewidth\":0,\"ticks\":\"\"}},\"colorscale\":{\"diverging\":[[0,\"#8e0152\"],[0.1,\"#c51b7d\"],[0.2,\"#de77ae\"],[0.3,\"#f1b6da\"],[0.4,\"#fde0ef\"],[0.5,\"#f7f7f7\"],[0.6,\"#e6f5d0\"],[0.7,\"#b8e186\"],[0.8,\"#7fbc41\"],[0.9,\"#4d9221\"],[1,\"#276419\"]],\"sequential\":[[0.0,\"#0d0887\"],[0.1111111111111111,\"#46039f\"],[0.2222222222222222,\"#7201a8\"],[0.3333333333333333,\"#9c179e\"],[0.4444444444444444,\"#bd3786\"],[0.5555555555555556,\"#d8576b\"],[0.6666666666666666,\"#ed7953\"],[0.7777777777777778,\"#fb9f3a\"],[0.8888888888888888,\"#fdca26\"],[1.0,\"#f0f921\"]],\"sequentialminus\":[[0.0,\"#0d0887\"],[0.1111111111111111,\"#46039f\"],[0.2222222222222222,\"#7201a8\"],[0.3333333333333333,\"#9c179e\"],[0.4444444444444444,\"#bd3786\"],[0.5555555555555556,\"#d8576b\"],[0.6666666666666666,\"#ed7953\"],[0.7777777777777778,\"#fb9f3a\"],[0.8888888888888888,\"#fdca26\"],[1.0,\"#f0f921\"]]},\"colorway\":[\"#636efa\",\"#EF553B\",\"#00cc96\",\"#ab63fa\",\"#FFA15A\",\"#19d3f3\",\"#FF6692\",\"#B6E880\",\"#FF97FF\",\"#FECB52\"],\"font\":{\"color\":\"#2a3f5f\"},\"geo\":{\"bgcolor\":\"white\",\"lakecolor\":\"white\",\"landcolor\":\"#E5ECF6\",\"showlakes\":true,\"showland\":true,\"subunitcolor\":\"white\"},\"hoverlabel\":{\"align\":\"left\"},\"hovermode\":\"closest\",\"mapbox\":{\"style\":\"light\"},\"paper_bgcolor\":\"white\",\"plot_bgcolor\":\"#E5ECF6\",\"polar\":{\"angularaxis\":{\"gridcolor\":\"white\",\"linecolor\":\"white\",\"ticks\":\"\"},\"bgcolor\":\"#E5ECF6\",\"radialaxis\":{\"gridcolor\":\"white\",\"linecolor\":\"white\",\"ticks\":\"\"}},\"scene\":{\"xaxis\":{\"backgroundcolor\":\"#E5ECF6\",\"gridcolor\":\"white\",\"gridwidth\":2,\"linecolor\":\"white\",\"showbackground\":true,\"ticks\":\"\",\"zerolinecolor\":\"white\"},\"yaxis\":{\"backgroundcolor\":\"#E5ECF6\",\"gridcolor\":\"white\",\"gridwidth\":2,\"linecolor\":\"white\",\"showbackground\":true,\"ticks\":\"\",\"zerolinecolor\":\"white\"},\"zaxis\":{\"backgroundcolor\":\"#E5ECF6\",\"gridcolor\":\"white\",\"gridwidth\":2,\"linecolor\":\"white\",\"showbackground\":true,\"ticks\":\"\",\"zerolinecolor\":\"white\"}},\"shapedefaults\":{\"line\":{\"color\":\"#2a3f5f\"}},\"ternary\":{\"aaxis\":{\"gridcolor\":\"white\",\"linecolor\":\"white\",\"ticks\":\"\"},\"baxis\":{\"gridcolor\":\"white\",\"linecolor\":\"white\",\"ticks\":\"\"},\"bgcolor\":\"#E5ECF6\",\"caxis\":{\"gridcolor\":\"white\",\"linecolor\":\"white\",\"ticks\":\"\"}},\"title\":{\"x\":0.05},\"xaxis\":{\"automargin\":true,\"gridcolor\":\"white\",\"linecolor\":\"white\",\"ticks\":\"\",\"title\":{\"standoff\":15},\"zerolinecolor\":\"white\",\"zerolinewidth\":2},\"yaxis\":{\"automargin\":true,\"gridcolor\":\"white\",\"linecolor\":\"white\",\"ticks\":\"\",\"title\":{\"standoff\":15},\"zerolinecolor\":\"white\",\"zerolinewidth\":2}}},\"title\":{\"text\":\"Movements Merge2 Split\"},\"xaxis\":{\"anchor\":\"y\",\"domain\":[0.0,1.0],\"title\":{\"text\":\"Mean Year\"}},\"yaxis\":{\"anchor\":\"x\",\"domain\":[0.0,1.0],\"title\":{\"text\":\"Artist Ratio - Painting per Artist\"}}},                        {\"responsive\": true}                    ).then(function(){\n",
       "                            \n",
       "var gd = document.getElementById('e0690fb5-3113-4305-8aa0-345ad888e8fb');\n",
       "var x = new MutationObserver(function (mutations, observer) {{\n",
       "        var display = window.getComputedStyle(gd).display;\n",
       "        if (!display || display === 'none') {{\n",
       "            console.log([gd, 'removed!']);\n",
       "            Plotly.purge(gd);\n",
       "            observer.disconnect();\n",
       "        }}\n",
       "}});\n",
       "\n",
       "// Listen for the removal of the full notebook cells\n",
       "var notebookContainer = gd.closest('#notebook-container');\n",
       "if (notebookContainer) {{\n",
       "    x.observe(notebookContainer, {childList: true});\n",
       "}}\n",
       "\n",
       "// Listen for the clearing of the current output cell\n",
       "var outputEl = gd.closest('.output');\n",
       "if (outputEl) {{\n",
       "    x.observe(outputEl, {childList: true});\n",
       "}}\n",
       "\n",
       "                        })                };                });            </script>        </div>"
      ]
     },
     "metadata": {},
     "output_type": "display_data"
    }
   ],
   "source": [
    "fig2 =px.scatter(df_mov2,x='mean_year',y='artist_ratio',size='title',text='movement',\n",
    "               hover_name=\"movement\",color=\"title\",size_max=30,color_continuous_scale='jet')\n",
    "fig2.update_traces(textposition='top center')\n",
    "fig2.update_layout(title='Movements Merge2 Split',\n",
    "    xaxis={'title':'Mean Year'},\n",
    "    yaxis={'title':'Artist Ratio - Painting per Artist'})\n",
    "\n",
    "fig2.show()"
   ]
  },
  {
   "cell_type": "markdown",
   "id": "779db50c",
   "metadata": {},
   "source": [
    "**Merge3 :**\n",
    "\n",
    "Modèle complet, merge d'une partie des mouvements droppés précédements , auncun drop hormis duplicatas de Chan:\n",
    "\n",
    "    - Merge des mouvements à taille limitée (<500 oeuvres) selon la même méthodo que le Merge2\n",
    "    - Mouvements majeur (impressionisme / realisme / Romantisme) : pas de split par auteurs/écoles/pays\n"
   ]
  },
  {
   "cell_type": "code",
   "execution_count": 364,
   "id": "61dba462",
   "metadata": {
    "ExecuteTime": {
     "end_time": "2021-08-24T19:44:15.738182Z",
     "start_time": "2021-08-24T19:44:15.248198Z"
    },
    "scrolled": false
   },
   "outputs": [
    {
     "name": "stderr",
     "output_type": "stream",
     "text": [
      "/usr/local/Caskroom/miniforge/base/envs/lewagon/lib/python3.7/site-packages/ipykernel_launcher.py:5: FutureWarning:\n",
      "\n",
      "Dropping invalid columns in DataFrameGroupBy.quantile is deprecated. In a future version, a TypeError will be raised. Before calling .quantile, select only columns which should be valid for the function.\n",
      "\n",
      "/usr/local/Caskroom/miniforge/base/envs/lewagon/lib/python3.7/site-packages/ipykernel_launcher.py:6: FutureWarning:\n",
      "\n",
      "Dropping invalid columns in DataFrameGroupBy.quantile is deprecated. In a future version, a TypeError will be raised. Before calling .quantile, select only columns which should be valid for the function.\n",
      "\n"
     ]
    },
    {
     "data": {
      "text/html": [
       "<div>\n",
       "<style scoped>\n",
       "    .dataframe tbody tr th:only-of-type {\n",
       "        vertical-align: middle;\n",
       "    }\n",
       "\n",
       "    .dataframe tbody tr th {\n",
       "        vertical-align: top;\n",
       "    }\n",
       "\n",
       "    .dataframe thead th {\n",
       "        text-align: right;\n",
       "    }\n",
       "</style>\n",
       "<table border=\"1\" class=\"dataframe\">\n",
       "  <thead>\n",
       "    <tr style=\"text-align: right;\">\n",
       "      <th></th>\n",
       "      <th>movement</th>\n",
       "      <th>artist</th>\n",
       "      <th>title</th>\n",
       "      <th>image</th>\n",
       "      <th>genre</th>\n",
       "      <th>Q1_year</th>\n",
       "      <th>Q3_year</th>\n",
       "      <th>mean_year</th>\n",
       "      <th>duration</th>\n",
       "      <th>artist_ratio</th>\n",
       "    </tr>\n",
       "  </thead>\n",
       "  <tbody>\n",
       "    <tr>\n",
       "      <th>0</th>\n",
       "      <td>Abstract</td>\n",
       "      <td>144</td>\n",
       "      <td>2536</td>\n",
       "      <td>2873</td>\n",
       "      <td>10</td>\n",
       "      <td>1957</td>\n",
       "      <td>1982</td>\n",
       "      <td>1969</td>\n",
       "      <td>25</td>\n",
       "      <td>17.61</td>\n",
       "    </tr>\n",
       "    <tr>\n",
       "      <th>1</th>\n",
       "      <td>Art_Nouveau_Modern</td>\n",
       "      <td>80</td>\n",
       "      <td>4308</td>\n",
       "      <td>4334</td>\n",
       "      <td>9</td>\n",
       "      <td>1900</td>\n",
       "      <td>1916</td>\n",
       "      <td>1907</td>\n",
       "      <td>16</td>\n",
       "      <td>53.85</td>\n",
       "    </tr>\n",
       "    <tr>\n",
       "      <th>2</th>\n",
       "      <td>Baroque</td>\n",
       "      <td>71</td>\n",
       "      <td>4083</td>\n",
       "      <td>4241</td>\n",
       "      <td>10</td>\n",
       "      <td>1630</td>\n",
       "      <td>1659</td>\n",
       "      <td>1647</td>\n",
       "      <td>29</td>\n",
       "      <td>57.51</td>\n",
       "    </tr>\n",
       "    <tr>\n",
       "      <th>3</th>\n",
       "      <td>Color_Field_Painting</td>\n",
       "      <td>101</td>\n",
       "      <td>1510</td>\n",
       "      <td>1615</td>\n",
       "      <td>2</td>\n",
       "      <td>1963</td>\n",
       "      <td>1979</td>\n",
       "      <td>1971</td>\n",
       "      <td>16</td>\n",
       "      <td>14.95</td>\n",
       "    </tr>\n",
       "    <tr>\n",
       "      <th>4</th>\n",
       "      <td>Cubism</td>\n",
       "      <td>142</td>\n",
       "      <td>2483</td>\n",
       "      <td>2561</td>\n",
       "      <td>10</td>\n",
       "      <td>1913</td>\n",
       "      <td>1937</td>\n",
       "      <td>1927</td>\n",
       "      <td>24</td>\n",
       "      <td>17.49</td>\n",
       "    </tr>\n",
       "  </tbody>\n",
       "</table>\n",
       "</div>"
      ],
      "text/plain": [
       "               movement  artist  title  image  genre  Q1_year  Q3_year  \\\n",
       "0              Abstract     144   2536   2873     10     1957     1982   \n",
       "1    Art_Nouveau_Modern      80   4308   4334      9     1900     1916   \n",
       "2               Baroque      71   4083   4241     10     1630     1659   \n",
       "3  Color_Field_Painting     101   1510   1615      2     1963     1979   \n",
       "4                Cubism     142   2483   2561     10     1913     1937   \n",
       "\n",
       "   mean_year  duration  artist_ratio  \n",
       "0       1969        25         17.61  \n",
       "1       1907        16         53.85  \n",
       "2       1647        29         57.51  \n",
       "3       1971        16         14.95  \n",
       "4       1927        24         17.49  "
      ]
     },
     "execution_count": 364,
     "metadata": {},
     "output_type": "execute_result"
    }
   ],
   "source": [
    "merge_mov3={'Abstract_Expressionism': 'Abstract',\n",
    "                 'Action_painting': 'Abstract',\n",
    "                 'Analytical_Cubism': 'Cubism',\n",
    "                 'Art_Nouveau_Modern': 'Art_Nouveau_Modern',\n",
    "                 'Baroque': 'Baroque',\n",
    "                 'Color_Field_Painting': 'Color_Field_Painting',\n",
    "                 'Contemporary_Realism': 'New_Realism',\n",
    "                 'Cubism': 'Cubism',\n",
    "                 'Early_Renaissance': 'Renaissance',\n",
    "                 'Expressionism': 'Expressionism',\n",
    "                 'Fauvism': 'Fauvism',\n",
    "                 'High_Renaissance': 'Renaissance',\n",
    "                 'Impressionism': 'Impressionism',\n",
    "                 'Mannerism_Late_Renaissance': 'Mannerism_Late_Renaissance',\n",
    "                 'Minimalism': 'Minimalism',\n",
    "                 'Naive_Art_Primitivism': 'Naive_Art_Primitivism',\n",
    "                 'New_Realism': 'New_Realism',\n",
    "                 'Northern_Renaissance': 'Renaissance',\n",
    "                 'Pointillism': 'Pointillism',\n",
    "                 'Pop_Art': 'Pop_Art',\n",
    "                 'Post_Impressionism': 'Post_Impressionism',\n",
    "                 'Realism': 'Realism',\n",
    "                 'Rococo': 'Rococo',\n",
    "                 'Romanticism': 'Romanticism',\n",
    "                 'Symbolism': 'Symbolism',\n",
    "                 'Synthetic_Cubism': 'Cubism',\n",
    "                 'Ukiyo_e': 'Ukiyo_e'}\n",
    "df_mov3=df_grouping(df.replace(merge_mov3.keys(),merge_mov3.values()))\n",
    "df_mov3.head()"
   ]
  },
  {
   "cell_type": "code",
   "execution_count": 362,
   "id": "8d159115",
   "metadata": {
    "ExecuteTime": {
     "end_time": "2021-08-24T19:23:00.678883Z",
     "start_time": "2021-08-24T19:23:00.581769Z"
    }
   },
   "outputs": [
    {
     "data": {
      "application/vnd.plotly.v1+json": {
       "config": {
        "plotlyServerURL": "https://plot.ly"
       },
       "data": [
        {
         "hovertemplate": "<b>%{hovertext}</b><br><br>mean_year=%{x}<br>artist_ratio=%{y}<br>title=%{marker.color}<br>movement=%{text}<extra></extra>",
         "hovertext": [
          "Abstract",
          "Art_Nouveau_Modern",
          "Baroque",
          "Color_Field_Painting",
          "Cubism",
          "Expressionism",
          "Fauvism",
          "Impressionism",
          "Mannerism_Late_Renaissance",
          "Minimalism",
          "Naive_Art_Primitivism",
          "New_Realism",
          "Pointillism",
          "Pop_Art",
          "Post_Impressionism",
          "Realism",
          "Renaissance",
          "Rococo",
          "Romanticism",
          "Symbolism",
          "Ukiyo_e"
         ],
         "legendgroup": "",
         "marker": {
          "color": [
           2536,
           4308,
           4083,
           1510,
           2483,
           6389,
           911,
           12660,
           1215,
           1226,
           2358,
           783,
           513,
           1460,
           6276,
           10456,
           4911,
           2068,
           6939,
           4472,
           1084
          ],
          "coloraxis": "coloraxis",
          "size": [
           2536,
           4308,
           4083,
           1510,
           2483,
           6389,
           911,
           12660,
           1215,
           1226,
           2358,
           783,
           513,
           1460,
           6276,
           10456,
           4911,
           2068,
           6939,
           4472,
           1084
          ],
          "sizemode": "area",
          "sizeref": 14.066666666666666,
          "symbol": "circle"
         },
         "mode": "markers+text",
         "name": "",
         "orientation": "v",
         "showlegend": false,
         "text": [
          "Abstract",
          "Art_Nouveau_Modern",
          "Baroque",
          "Color_Field_Painting",
          "Cubism",
          "Expressionism",
          "Fauvism",
          "Impressionism",
          "Mannerism_Late_Renaissance",
          "Minimalism",
          "Naive_Art_Primitivism",
          "New_Realism",
          "Pointillism",
          "Pop_Art",
          "Post_Impressionism",
          "Realism",
          "Renaissance",
          "Rococo",
          "Romanticism",
          "Symbolism",
          "Ukiyo_e"
         ],
         "textposition": "top center",
         "type": "scatter",
         "x": [
          1969,
          1907,
          1647,
          1971,
          1927,
          1947,
          1930,
          1897,
          1558,
          1986,
          1946,
          1969,
          1898,
          2002,
          1910,
          1888,
          1494,
          1764,
          1850,
          1914,
          1839
         ],
         "xaxis": "x",
         "y": [
          17.61,
          53.85,
          57.51,
          14.95,
          17.49,
          26.96,
          12.31,
          55.04,
          63.95,
          11.05,
          32.75,
          37.29,
          15.09,
          18.72,
          34.3,
          56.52,
          77.95,
          68.93,
          66.09,
          48.61,
          72.27
         ],
         "yaxis": "y"
        }
       ],
       "layout": {
        "coloraxis": {
         "colorbar": {
          "title": {
           "text": "title"
          }
         },
         "colorscale": [
          [
           0,
           "rgb(0,0,131)"
          ],
          [
           0.2,
           "rgb(0,60,170)"
          ],
          [
           0.4,
           "rgb(5,255,255)"
          ],
          [
           0.6,
           "rgb(255,255,0)"
          ],
          [
           0.8,
           "rgb(250,0,0)"
          ],
          [
           1,
           "rgb(128,0,0)"
          ]
         ]
        },
        "legend": {
         "itemsizing": "constant",
         "tracegroupgap": 0
        },
        "margin": {
         "t": 60
        },
        "template": {
         "data": {
          "bar": [
           {
            "error_x": {
             "color": "#2a3f5f"
            },
            "error_y": {
             "color": "#2a3f5f"
            },
            "marker": {
             "line": {
              "color": "#E5ECF6",
              "width": 0.5
             },
             "pattern": {
              "fillmode": "overlay",
              "size": 10,
              "solidity": 0.2
             }
            },
            "type": "bar"
           }
          ],
          "barpolar": [
           {
            "marker": {
             "line": {
              "color": "#E5ECF6",
              "width": 0.5
             },
             "pattern": {
              "fillmode": "overlay",
              "size": 10,
              "solidity": 0.2
             }
            },
            "type": "barpolar"
           }
          ],
          "carpet": [
           {
            "aaxis": {
             "endlinecolor": "#2a3f5f",
             "gridcolor": "white",
             "linecolor": "white",
             "minorgridcolor": "white",
             "startlinecolor": "#2a3f5f"
            },
            "baxis": {
             "endlinecolor": "#2a3f5f",
             "gridcolor": "white",
             "linecolor": "white",
             "minorgridcolor": "white",
             "startlinecolor": "#2a3f5f"
            },
            "type": "carpet"
           }
          ],
          "choropleth": [
           {
            "colorbar": {
             "outlinewidth": 0,
             "ticks": ""
            },
            "type": "choropleth"
           }
          ],
          "contour": [
           {
            "colorbar": {
             "outlinewidth": 0,
             "ticks": ""
            },
            "colorscale": [
             [
              0,
              "#0d0887"
             ],
             [
              0.1111111111111111,
              "#46039f"
             ],
             [
              0.2222222222222222,
              "#7201a8"
             ],
             [
              0.3333333333333333,
              "#9c179e"
             ],
             [
              0.4444444444444444,
              "#bd3786"
             ],
             [
              0.5555555555555556,
              "#d8576b"
             ],
             [
              0.6666666666666666,
              "#ed7953"
             ],
             [
              0.7777777777777778,
              "#fb9f3a"
             ],
             [
              0.8888888888888888,
              "#fdca26"
             ],
             [
              1,
              "#f0f921"
             ]
            ],
            "type": "contour"
           }
          ],
          "contourcarpet": [
           {
            "colorbar": {
             "outlinewidth": 0,
             "ticks": ""
            },
            "type": "contourcarpet"
           }
          ],
          "heatmap": [
           {
            "colorbar": {
             "outlinewidth": 0,
             "ticks": ""
            },
            "colorscale": [
             [
              0,
              "#0d0887"
             ],
             [
              0.1111111111111111,
              "#46039f"
             ],
             [
              0.2222222222222222,
              "#7201a8"
             ],
             [
              0.3333333333333333,
              "#9c179e"
             ],
             [
              0.4444444444444444,
              "#bd3786"
             ],
             [
              0.5555555555555556,
              "#d8576b"
             ],
             [
              0.6666666666666666,
              "#ed7953"
             ],
             [
              0.7777777777777778,
              "#fb9f3a"
             ],
             [
              0.8888888888888888,
              "#fdca26"
             ],
             [
              1,
              "#f0f921"
             ]
            ],
            "type": "heatmap"
           }
          ],
          "heatmapgl": [
           {
            "colorbar": {
             "outlinewidth": 0,
             "ticks": ""
            },
            "colorscale": [
             [
              0,
              "#0d0887"
             ],
             [
              0.1111111111111111,
              "#46039f"
             ],
             [
              0.2222222222222222,
              "#7201a8"
             ],
             [
              0.3333333333333333,
              "#9c179e"
             ],
             [
              0.4444444444444444,
              "#bd3786"
             ],
             [
              0.5555555555555556,
              "#d8576b"
             ],
             [
              0.6666666666666666,
              "#ed7953"
             ],
             [
              0.7777777777777778,
              "#fb9f3a"
             ],
             [
              0.8888888888888888,
              "#fdca26"
             ],
             [
              1,
              "#f0f921"
             ]
            ],
            "type": "heatmapgl"
           }
          ],
          "histogram": [
           {
            "marker": {
             "pattern": {
              "fillmode": "overlay",
              "size": 10,
              "solidity": 0.2
             }
            },
            "type": "histogram"
           }
          ],
          "histogram2d": [
           {
            "colorbar": {
             "outlinewidth": 0,
             "ticks": ""
            },
            "colorscale": [
             [
              0,
              "#0d0887"
             ],
             [
              0.1111111111111111,
              "#46039f"
             ],
             [
              0.2222222222222222,
              "#7201a8"
             ],
             [
              0.3333333333333333,
              "#9c179e"
             ],
             [
              0.4444444444444444,
              "#bd3786"
             ],
             [
              0.5555555555555556,
              "#d8576b"
             ],
             [
              0.6666666666666666,
              "#ed7953"
             ],
             [
              0.7777777777777778,
              "#fb9f3a"
             ],
             [
              0.8888888888888888,
              "#fdca26"
             ],
             [
              1,
              "#f0f921"
             ]
            ],
            "type": "histogram2d"
           }
          ],
          "histogram2dcontour": [
           {
            "colorbar": {
             "outlinewidth": 0,
             "ticks": ""
            },
            "colorscale": [
             [
              0,
              "#0d0887"
             ],
             [
              0.1111111111111111,
              "#46039f"
             ],
             [
              0.2222222222222222,
              "#7201a8"
             ],
             [
              0.3333333333333333,
              "#9c179e"
             ],
             [
              0.4444444444444444,
              "#bd3786"
             ],
             [
              0.5555555555555556,
              "#d8576b"
             ],
             [
              0.6666666666666666,
              "#ed7953"
             ],
             [
              0.7777777777777778,
              "#fb9f3a"
             ],
             [
              0.8888888888888888,
              "#fdca26"
             ],
             [
              1,
              "#f0f921"
             ]
            ],
            "type": "histogram2dcontour"
           }
          ],
          "mesh3d": [
           {
            "colorbar": {
             "outlinewidth": 0,
             "ticks": ""
            },
            "type": "mesh3d"
           }
          ],
          "parcoords": [
           {
            "line": {
             "colorbar": {
              "outlinewidth": 0,
              "ticks": ""
             }
            },
            "type": "parcoords"
           }
          ],
          "pie": [
           {
            "automargin": true,
            "type": "pie"
           }
          ],
          "scatter": [
           {
            "marker": {
             "colorbar": {
              "outlinewidth": 0,
              "ticks": ""
             }
            },
            "type": "scatter"
           }
          ],
          "scatter3d": [
           {
            "line": {
             "colorbar": {
              "outlinewidth": 0,
              "ticks": ""
             }
            },
            "marker": {
             "colorbar": {
              "outlinewidth": 0,
              "ticks": ""
             }
            },
            "type": "scatter3d"
           }
          ],
          "scattercarpet": [
           {
            "marker": {
             "colorbar": {
              "outlinewidth": 0,
              "ticks": ""
             }
            },
            "type": "scattercarpet"
           }
          ],
          "scattergeo": [
           {
            "marker": {
             "colorbar": {
              "outlinewidth": 0,
              "ticks": ""
             }
            },
            "type": "scattergeo"
           }
          ],
          "scattergl": [
           {
            "marker": {
             "colorbar": {
              "outlinewidth": 0,
              "ticks": ""
             }
            },
            "type": "scattergl"
           }
          ],
          "scattermapbox": [
           {
            "marker": {
             "colorbar": {
              "outlinewidth": 0,
              "ticks": ""
             }
            },
            "type": "scattermapbox"
           }
          ],
          "scatterpolar": [
           {
            "marker": {
             "colorbar": {
              "outlinewidth": 0,
              "ticks": ""
             }
            },
            "type": "scatterpolar"
           }
          ],
          "scatterpolargl": [
           {
            "marker": {
             "colorbar": {
              "outlinewidth": 0,
              "ticks": ""
             }
            },
            "type": "scatterpolargl"
           }
          ],
          "scatterternary": [
           {
            "marker": {
             "colorbar": {
              "outlinewidth": 0,
              "ticks": ""
             }
            },
            "type": "scatterternary"
           }
          ],
          "surface": [
           {
            "colorbar": {
             "outlinewidth": 0,
             "ticks": ""
            },
            "colorscale": [
             [
              0,
              "#0d0887"
             ],
             [
              0.1111111111111111,
              "#46039f"
             ],
             [
              0.2222222222222222,
              "#7201a8"
             ],
             [
              0.3333333333333333,
              "#9c179e"
             ],
             [
              0.4444444444444444,
              "#bd3786"
             ],
             [
              0.5555555555555556,
              "#d8576b"
             ],
             [
              0.6666666666666666,
              "#ed7953"
             ],
             [
              0.7777777777777778,
              "#fb9f3a"
             ],
             [
              0.8888888888888888,
              "#fdca26"
             ],
             [
              1,
              "#f0f921"
             ]
            ],
            "type": "surface"
           }
          ],
          "table": [
           {
            "cells": {
             "fill": {
              "color": "#EBF0F8"
             },
             "line": {
              "color": "white"
             }
            },
            "header": {
             "fill": {
              "color": "#C8D4E3"
             },
             "line": {
              "color": "white"
             }
            },
            "type": "table"
           }
          ]
         },
         "layout": {
          "annotationdefaults": {
           "arrowcolor": "#2a3f5f",
           "arrowhead": 0,
           "arrowwidth": 1
          },
          "autotypenumbers": "strict",
          "coloraxis": {
           "colorbar": {
            "outlinewidth": 0,
            "ticks": ""
           }
          },
          "colorscale": {
           "diverging": [
            [
             0,
             "#8e0152"
            ],
            [
             0.1,
             "#c51b7d"
            ],
            [
             0.2,
             "#de77ae"
            ],
            [
             0.3,
             "#f1b6da"
            ],
            [
             0.4,
             "#fde0ef"
            ],
            [
             0.5,
             "#f7f7f7"
            ],
            [
             0.6,
             "#e6f5d0"
            ],
            [
             0.7,
             "#b8e186"
            ],
            [
             0.8,
             "#7fbc41"
            ],
            [
             0.9,
             "#4d9221"
            ],
            [
             1,
             "#276419"
            ]
           ],
           "sequential": [
            [
             0,
             "#0d0887"
            ],
            [
             0.1111111111111111,
             "#46039f"
            ],
            [
             0.2222222222222222,
             "#7201a8"
            ],
            [
             0.3333333333333333,
             "#9c179e"
            ],
            [
             0.4444444444444444,
             "#bd3786"
            ],
            [
             0.5555555555555556,
             "#d8576b"
            ],
            [
             0.6666666666666666,
             "#ed7953"
            ],
            [
             0.7777777777777778,
             "#fb9f3a"
            ],
            [
             0.8888888888888888,
             "#fdca26"
            ],
            [
             1,
             "#f0f921"
            ]
           ],
           "sequentialminus": [
            [
             0,
             "#0d0887"
            ],
            [
             0.1111111111111111,
             "#46039f"
            ],
            [
             0.2222222222222222,
             "#7201a8"
            ],
            [
             0.3333333333333333,
             "#9c179e"
            ],
            [
             0.4444444444444444,
             "#bd3786"
            ],
            [
             0.5555555555555556,
             "#d8576b"
            ],
            [
             0.6666666666666666,
             "#ed7953"
            ],
            [
             0.7777777777777778,
             "#fb9f3a"
            ],
            [
             0.8888888888888888,
             "#fdca26"
            ],
            [
             1,
             "#f0f921"
            ]
           ]
          },
          "colorway": [
           "#636efa",
           "#EF553B",
           "#00cc96",
           "#ab63fa",
           "#FFA15A",
           "#19d3f3",
           "#FF6692",
           "#B6E880",
           "#FF97FF",
           "#FECB52"
          ],
          "font": {
           "color": "#2a3f5f"
          },
          "geo": {
           "bgcolor": "white",
           "lakecolor": "white",
           "landcolor": "#E5ECF6",
           "showlakes": true,
           "showland": true,
           "subunitcolor": "white"
          },
          "hoverlabel": {
           "align": "left"
          },
          "hovermode": "closest",
          "mapbox": {
           "style": "light"
          },
          "paper_bgcolor": "white",
          "plot_bgcolor": "#E5ECF6",
          "polar": {
           "angularaxis": {
            "gridcolor": "white",
            "linecolor": "white",
            "ticks": ""
           },
           "bgcolor": "#E5ECF6",
           "radialaxis": {
            "gridcolor": "white",
            "linecolor": "white",
            "ticks": ""
           }
          },
          "scene": {
           "xaxis": {
            "backgroundcolor": "#E5ECF6",
            "gridcolor": "white",
            "gridwidth": 2,
            "linecolor": "white",
            "showbackground": true,
            "ticks": "",
            "zerolinecolor": "white"
           },
           "yaxis": {
            "backgroundcolor": "#E5ECF6",
            "gridcolor": "white",
            "gridwidth": 2,
            "linecolor": "white",
            "showbackground": true,
            "ticks": "",
            "zerolinecolor": "white"
           },
           "zaxis": {
            "backgroundcolor": "#E5ECF6",
            "gridcolor": "white",
            "gridwidth": 2,
            "linecolor": "white",
            "showbackground": true,
            "ticks": "",
            "zerolinecolor": "white"
           }
          },
          "shapedefaults": {
           "line": {
            "color": "#2a3f5f"
           }
          },
          "ternary": {
           "aaxis": {
            "gridcolor": "white",
            "linecolor": "white",
            "ticks": ""
           },
           "baxis": {
            "gridcolor": "white",
            "linecolor": "white",
            "ticks": ""
           },
           "bgcolor": "#E5ECF6",
           "caxis": {
            "gridcolor": "white",
            "linecolor": "white",
            "ticks": ""
           }
          },
          "title": {
           "x": 0.05
          },
          "xaxis": {
           "automargin": true,
           "gridcolor": "white",
           "linecolor": "white",
           "ticks": "",
           "title": {
            "standoff": 15
           },
           "zerolinecolor": "white",
           "zerolinewidth": 2
          },
          "yaxis": {
           "automargin": true,
           "gridcolor": "white",
           "linecolor": "white",
           "ticks": "",
           "title": {
            "standoff": 15
           },
           "zerolinecolor": "white",
           "zerolinewidth": 2
          }
         }
        },
        "title": {
         "text": "Movements Merge3 Split"
        },
        "xaxis": {
         "anchor": "y",
         "domain": [
          0,
          1
         ],
         "title": {
          "text": "Mean Year"
         }
        },
        "yaxis": {
         "anchor": "x",
         "domain": [
          0,
          1
         ],
         "title": {
          "text": "Artist Ratio - Painting per Artist"
         }
        }
       }
      },
      "text/html": [
       "<div>                            <div id=\"72757782-faaf-47a2-8b0d-f8d170726135\" class=\"plotly-graph-div\" style=\"height:525px; width:100%;\"></div>            <script type=\"text/javascript\">                require([\"plotly\"], function(Plotly) {                    window.PLOTLYENV=window.PLOTLYENV || {};                                    if (document.getElementById(\"72757782-faaf-47a2-8b0d-f8d170726135\")) {                    Plotly.newPlot(                        \"72757782-faaf-47a2-8b0d-f8d170726135\",                        [{\"hovertemplate\":\"<b>%{hovertext}</b><br><br>mean_year=%{x}<br>artist_ratio=%{y}<br>title=%{marker.color}<br>movement=%{text}<extra></extra>\",\"hovertext\":[\"Abstract\",\"Art_Nouveau_Modern\",\"Baroque\",\"Color_Field_Painting\",\"Cubism\",\"Expressionism\",\"Fauvism\",\"Impressionism\",\"Mannerism_Late_Renaissance\",\"Minimalism\",\"Naive_Art_Primitivism\",\"New_Realism\",\"Pointillism\",\"Pop_Art\",\"Post_Impressionism\",\"Realism\",\"Renaissance\",\"Rococo\",\"Romanticism\",\"Symbolism\",\"Ukiyo_e\"],\"legendgroup\":\"\",\"marker\":{\"color\":[2536,4308,4083,1510,2483,6389,911,12660,1215,1226,2358,783,513,1460,6276,10456,4911,2068,6939,4472,1084],\"coloraxis\":\"coloraxis\",\"size\":[2536,4308,4083,1510,2483,6389,911,12660,1215,1226,2358,783,513,1460,6276,10456,4911,2068,6939,4472,1084],\"sizemode\":\"area\",\"sizeref\":14.066666666666666,\"symbol\":\"circle\"},\"mode\":\"markers+text\",\"name\":\"\",\"orientation\":\"v\",\"showlegend\":false,\"text\":[\"Abstract\",\"Art_Nouveau_Modern\",\"Baroque\",\"Color_Field_Painting\",\"Cubism\",\"Expressionism\",\"Fauvism\",\"Impressionism\",\"Mannerism_Late_Renaissance\",\"Minimalism\",\"Naive_Art_Primitivism\",\"New_Realism\",\"Pointillism\",\"Pop_Art\",\"Post_Impressionism\",\"Realism\",\"Renaissance\",\"Rococo\",\"Romanticism\",\"Symbolism\",\"Ukiyo_e\"],\"textposition\":\"top center\",\"type\":\"scatter\",\"x\":[1969,1907,1647,1971,1927,1947,1930,1897,1558,1986,1946,1969,1898,2002,1910,1888,1494,1764,1850,1914,1839],\"xaxis\":\"x\",\"y\":[17.61,53.85,57.51,14.95,17.49,26.96,12.31,55.04,63.95,11.05,32.75,37.29,15.09,18.72,34.3,56.52,77.95,68.93,66.09,48.61,72.27],\"yaxis\":\"y\"}],                        {\"coloraxis\":{\"colorbar\":{\"title\":{\"text\":\"title\"}},\"colorscale\":[[0.0,\"rgb(0,0,131)\"],[0.2,\"rgb(0,60,170)\"],[0.4,\"rgb(5,255,255)\"],[0.6,\"rgb(255,255,0)\"],[0.8,\"rgb(250,0,0)\"],[1.0,\"rgb(128,0,0)\"]]},\"legend\":{\"itemsizing\":\"constant\",\"tracegroupgap\":0},\"margin\":{\"t\":60},\"template\":{\"data\":{\"bar\":[{\"error_x\":{\"color\":\"#2a3f5f\"},\"error_y\":{\"color\":\"#2a3f5f\"},\"marker\":{\"line\":{\"color\":\"#E5ECF6\",\"width\":0.5},\"pattern\":{\"fillmode\":\"overlay\",\"size\":10,\"solidity\":0.2}},\"type\":\"bar\"}],\"barpolar\":[{\"marker\":{\"line\":{\"color\":\"#E5ECF6\",\"width\":0.5},\"pattern\":{\"fillmode\":\"overlay\",\"size\":10,\"solidity\":0.2}},\"type\":\"barpolar\"}],\"carpet\":[{\"aaxis\":{\"endlinecolor\":\"#2a3f5f\",\"gridcolor\":\"white\",\"linecolor\":\"white\",\"minorgridcolor\":\"white\",\"startlinecolor\":\"#2a3f5f\"},\"baxis\":{\"endlinecolor\":\"#2a3f5f\",\"gridcolor\":\"white\",\"linecolor\":\"white\",\"minorgridcolor\":\"white\",\"startlinecolor\":\"#2a3f5f\"},\"type\":\"carpet\"}],\"choropleth\":[{\"colorbar\":{\"outlinewidth\":0,\"ticks\":\"\"},\"type\":\"choropleth\"}],\"contour\":[{\"colorbar\":{\"outlinewidth\":0,\"ticks\":\"\"},\"colorscale\":[[0.0,\"#0d0887\"],[0.1111111111111111,\"#46039f\"],[0.2222222222222222,\"#7201a8\"],[0.3333333333333333,\"#9c179e\"],[0.4444444444444444,\"#bd3786\"],[0.5555555555555556,\"#d8576b\"],[0.6666666666666666,\"#ed7953\"],[0.7777777777777778,\"#fb9f3a\"],[0.8888888888888888,\"#fdca26\"],[1.0,\"#f0f921\"]],\"type\":\"contour\"}],\"contourcarpet\":[{\"colorbar\":{\"outlinewidth\":0,\"ticks\":\"\"},\"type\":\"contourcarpet\"}],\"heatmap\":[{\"colorbar\":{\"outlinewidth\":0,\"ticks\":\"\"},\"colorscale\":[[0.0,\"#0d0887\"],[0.1111111111111111,\"#46039f\"],[0.2222222222222222,\"#7201a8\"],[0.3333333333333333,\"#9c179e\"],[0.4444444444444444,\"#bd3786\"],[0.5555555555555556,\"#d8576b\"],[0.6666666666666666,\"#ed7953\"],[0.7777777777777778,\"#fb9f3a\"],[0.8888888888888888,\"#fdca26\"],[1.0,\"#f0f921\"]],\"type\":\"heatmap\"}],\"heatmapgl\":[{\"colorbar\":{\"outlinewidth\":0,\"ticks\":\"\"},\"colorscale\":[[0.0,\"#0d0887\"],[0.1111111111111111,\"#46039f\"],[0.2222222222222222,\"#7201a8\"],[0.3333333333333333,\"#9c179e\"],[0.4444444444444444,\"#bd3786\"],[0.5555555555555556,\"#d8576b\"],[0.6666666666666666,\"#ed7953\"],[0.7777777777777778,\"#fb9f3a\"],[0.8888888888888888,\"#fdca26\"],[1.0,\"#f0f921\"]],\"type\":\"heatmapgl\"}],\"histogram\":[{\"marker\":{\"pattern\":{\"fillmode\":\"overlay\",\"size\":10,\"solidity\":0.2}},\"type\":\"histogram\"}],\"histogram2d\":[{\"colorbar\":{\"outlinewidth\":0,\"ticks\":\"\"},\"colorscale\":[[0.0,\"#0d0887\"],[0.1111111111111111,\"#46039f\"],[0.2222222222222222,\"#7201a8\"],[0.3333333333333333,\"#9c179e\"],[0.4444444444444444,\"#bd3786\"],[0.5555555555555556,\"#d8576b\"],[0.6666666666666666,\"#ed7953\"],[0.7777777777777778,\"#fb9f3a\"],[0.8888888888888888,\"#fdca26\"],[1.0,\"#f0f921\"]],\"type\":\"histogram2d\"}],\"histogram2dcontour\":[{\"colorbar\":{\"outlinewidth\":0,\"ticks\":\"\"},\"colorscale\":[[0.0,\"#0d0887\"],[0.1111111111111111,\"#46039f\"],[0.2222222222222222,\"#7201a8\"],[0.3333333333333333,\"#9c179e\"],[0.4444444444444444,\"#bd3786\"],[0.5555555555555556,\"#d8576b\"],[0.6666666666666666,\"#ed7953\"],[0.7777777777777778,\"#fb9f3a\"],[0.8888888888888888,\"#fdca26\"],[1.0,\"#f0f921\"]],\"type\":\"histogram2dcontour\"}],\"mesh3d\":[{\"colorbar\":{\"outlinewidth\":0,\"ticks\":\"\"},\"type\":\"mesh3d\"}],\"parcoords\":[{\"line\":{\"colorbar\":{\"outlinewidth\":0,\"ticks\":\"\"}},\"type\":\"parcoords\"}],\"pie\":[{\"automargin\":true,\"type\":\"pie\"}],\"scatter\":[{\"marker\":{\"colorbar\":{\"outlinewidth\":0,\"ticks\":\"\"}},\"type\":\"scatter\"}],\"scatter3d\":[{\"line\":{\"colorbar\":{\"outlinewidth\":0,\"ticks\":\"\"}},\"marker\":{\"colorbar\":{\"outlinewidth\":0,\"ticks\":\"\"}},\"type\":\"scatter3d\"}],\"scattercarpet\":[{\"marker\":{\"colorbar\":{\"outlinewidth\":0,\"ticks\":\"\"}},\"type\":\"scattercarpet\"}],\"scattergeo\":[{\"marker\":{\"colorbar\":{\"outlinewidth\":0,\"ticks\":\"\"}},\"type\":\"scattergeo\"}],\"scattergl\":[{\"marker\":{\"colorbar\":{\"outlinewidth\":0,\"ticks\":\"\"}},\"type\":\"scattergl\"}],\"scattermapbox\":[{\"marker\":{\"colorbar\":{\"outlinewidth\":0,\"ticks\":\"\"}},\"type\":\"scattermapbox\"}],\"scatterpolar\":[{\"marker\":{\"colorbar\":{\"outlinewidth\":0,\"ticks\":\"\"}},\"type\":\"scatterpolar\"}],\"scatterpolargl\":[{\"marker\":{\"colorbar\":{\"outlinewidth\":0,\"ticks\":\"\"}},\"type\":\"scatterpolargl\"}],\"scatterternary\":[{\"marker\":{\"colorbar\":{\"outlinewidth\":0,\"ticks\":\"\"}},\"type\":\"scatterternary\"}],\"surface\":[{\"colorbar\":{\"outlinewidth\":0,\"ticks\":\"\"},\"colorscale\":[[0.0,\"#0d0887\"],[0.1111111111111111,\"#46039f\"],[0.2222222222222222,\"#7201a8\"],[0.3333333333333333,\"#9c179e\"],[0.4444444444444444,\"#bd3786\"],[0.5555555555555556,\"#d8576b\"],[0.6666666666666666,\"#ed7953\"],[0.7777777777777778,\"#fb9f3a\"],[0.8888888888888888,\"#fdca26\"],[1.0,\"#f0f921\"]],\"type\":\"surface\"}],\"table\":[{\"cells\":{\"fill\":{\"color\":\"#EBF0F8\"},\"line\":{\"color\":\"white\"}},\"header\":{\"fill\":{\"color\":\"#C8D4E3\"},\"line\":{\"color\":\"white\"}},\"type\":\"table\"}]},\"layout\":{\"annotationdefaults\":{\"arrowcolor\":\"#2a3f5f\",\"arrowhead\":0,\"arrowwidth\":1},\"autotypenumbers\":\"strict\",\"coloraxis\":{\"colorbar\":{\"outlinewidth\":0,\"ticks\":\"\"}},\"colorscale\":{\"diverging\":[[0,\"#8e0152\"],[0.1,\"#c51b7d\"],[0.2,\"#de77ae\"],[0.3,\"#f1b6da\"],[0.4,\"#fde0ef\"],[0.5,\"#f7f7f7\"],[0.6,\"#e6f5d0\"],[0.7,\"#b8e186\"],[0.8,\"#7fbc41\"],[0.9,\"#4d9221\"],[1,\"#276419\"]],\"sequential\":[[0.0,\"#0d0887\"],[0.1111111111111111,\"#46039f\"],[0.2222222222222222,\"#7201a8\"],[0.3333333333333333,\"#9c179e\"],[0.4444444444444444,\"#bd3786\"],[0.5555555555555556,\"#d8576b\"],[0.6666666666666666,\"#ed7953\"],[0.7777777777777778,\"#fb9f3a\"],[0.8888888888888888,\"#fdca26\"],[1.0,\"#f0f921\"]],\"sequentialminus\":[[0.0,\"#0d0887\"],[0.1111111111111111,\"#46039f\"],[0.2222222222222222,\"#7201a8\"],[0.3333333333333333,\"#9c179e\"],[0.4444444444444444,\"#bd3786\"],[0.5555555555555556,\"#d8576b\"],[0.6666666666666666,\"#ed7953\"],[0.7777777777777778,\"#fb9f3a\"],[0.8888888888888888,\"#fdca26\"],[1.0,\"#f0f921\"]]},\"colorway\":[\"#636efa\",\"#EF553B\",\"#00cc96\",\"#ab63fa\",\"#FFA15A\",\"#19d3f3\",\"#FF6692\",\"#B6E880\",\"#FF97FF\",\"#FECB52\"],\"font\":{\"color\":\"#2a3f5f\"},\"geo\":{\"bgcolor\":\"white\",\"lakecolor\":\"white\",\"landcolor\":\"#E5ECF6\",\"showlakes\":true,\"showland\":true,\"subunitcolor\":\"white\"},\"hoverlabel\":{\"align\":\"left\"},\"hovermode\":\"closest\",\"mapbox\":{\"style\":\"light\"},\"paper_bgcolor\":\"white\",\"plot_bgcolor\":\"#E5ECF6\",\"polar\":{\"angularaxis\":{\"gridcolor\":\"white\",\"linecolor\":\"white\",\"ticks\":\"\"},\"bgcolor\":\"#E5ECF6\",\"radialaxis\":{\"gridcolor\":\"white\",\"linecolor\":\"white\",\"ticks\":\"\"}},\"scene\":{\"xaxis\":{\"backgroundcolor\":\"#E5ECF6\",\"gridcolor\":\"white\",\"gridwidth\":2,\"linecolor\":\"white\",\"showbackground\":true,\"ticks\":\"\",\"zerolinecolor\":\"white\"},\"yaxis\":{\"backgroundcolor\":\"#E5ECF6\",\"gridcolor\":\"white\",\"gridwidth\":2,\"linecolor\":\"white\",\"showbackground\":true,\"ticks\":\"\",\"zerolinecolor\":\"white\"},\"zaxis\":{\"backgroundcolor\":\"#E5ECF6\",\"gridcolor\":\"white\",\"gridwidth\":2,\"linecolor\":\"white\",\"showbackground\":true,\"ticks\":\"\",\"zerolinecolor\":\"white\"}},\"shapedefaults\":{\"line\":{\"color\":\"#2a3f5f\"}},\"ternary\":{\"aaxis\":{\"gridcolor\":\"white\",\"linecolor\":\"white\",\"ticks\":\"\"},\"baxis\":{\"gridcolor\":\"white\",\"linecolor\":\"white\",\"ticks\":\"\"},\"bgcolor\":\"#E5ECF6\",\"caxis\":{\"gridcolor\":\"white\",\"linecolor\":\"white\",\"ticks\":\"\"}},\"title\":{\"x\":0.05},\"xaxis\":{\"automargin\":true,\"gridcolor\":\"white\",\"linecolor\":\"white\",\"ticks\":\"\",\"title\":{\"standoff\":15},\"zerolinecolor\":\"white\",\"zerolinewidth\":2},\"yaxis\":{\"automargin\":true,\"gridcolor\":\"white\",\"linecolor\":\"white\",\"ticks\":\"\",\"title\":{\"standoff\":15},\"zerolinecolor\":\"white\",\"zerolinewidth\":2}}},\"title\":{\"text\":\"Movements Merge3 Split\"},\"xaxis\":{\"anchor\":\"y\",\"domain\":[0.0,1.0],\"title\":{\"text\":\"Mean Year\"}},\"yaxis\":{\"anchor\":\"x\",\"domain\":[0.0,1.0],\"title\":{\"text\":\"Artist Ratio - Painting per Artist\"}}},                        {\"responsive\": true}                    ).then(function(){\n",
       "                            \n",
       "var gd = document.getElementById('72757782-faaf-47a2-8b0d-f8d170726135');\n",
       "var x = new MutationObserver(function (mutations, observer) {{\n",
       "        var display = window.getComputedStyle(gd).display;\n",
       "        if (!display || display === 'none') {{\n",
       "            console.log([gd, 'removed!']);\n",
       "            Plotly.purge(gd);\n",
       "            observer.disconnect();\n",
       "        }}\n",
       "}});\n",
       "\n",
       "// Listen for the removal of the full notebook cells\n",
       "var notebookContainer = gd.closest('#notebook-container');\n",
       "if (notebookContainer) {{\n",
       "    x.observe(notebookContainer, {childList: true});\n",
       "}}\n",
       "\n",
       "// Listen for the clearing of the current output cell\n",
       "var outputEl = gd.closest('.output');\n",
       "if (outputEl) {{\n",
       "    x.observe(outputEl, {childList: true});\n",
       "}}\n",
       "\n",
       "                        })                };                });            </script>        </div>"
      ]
     },
     "metadata": {},
     "output_type": "display_data"
    }
   ],
   "source": [
    "fig3 =px.scatter(df_mov3,x='mean_year',y='artist_ratio',size='title',text='movement',\n",
    "               hover_name=\"movement\",color=\"title\",size_max=30,color_continuous_scale='jet')\n",
    "fig3.update_traces(textposition='top center')\n",
    "fig3.update_layout(title='Movements Merge3 Split',\n",
    "    xaxis={'title':'Mean Year'},\n",
    "    yaxis={'title':'Artist Ratio - Painting per Artist'})\n",
    "\n",
    "fig3.show()"
   ]
  },
  {
   "cell_type": "markdown",
   "id": "7ce2dc49",
   "metadata": {
    "heading_collapsed": true
   },
   "source": [
    "## By Artist"
   ]
  },
  {
   "cell_type": "markdown",
   "id": "c42e6580",
   "metadata": {
    "hidden": true
   },
   "source": [
    "- check artist vs movement (identification by artist ?)\n",
    "- does an artist have several movements ?\n",
    "- check Impressionism split by artists"
   ]
  },
  {
   "cell_type": "code",
   "execution_count": 69,
   "id": "248bcf2f",
   "metadata": {
    "ExecuteTime": {
     "end_time": "2021-08-24T10:22:52.760616Z",
     "start_time": "2021-08-24T10:22:52.592431Z"
    },
    "hidden": true
   },
   "outputs": [
    {
     "data": {
      "text/html": [
       "<div>\n",
       "<style scoped>\n",
       "    .dataframe tbody tr th:only-of-type {\n",
       "        vertical-align: middle;\n",
       "    }\n",
       "\n",
       "    .dataframe tbody tr th {\n",
       "        vertical-align: top;\n",
       "    }\n",
       "\n",
       "    .dataframe thead th {\n",
       "        text-align: right;\n",
       "    }\n",
       "</style>\n",
       "<table border=\"1\" class=\"dataframe\">\n",
       "  <thead>\n",
       "    <tr style=\"text-align: right;\">\n",
       "      <th></th>\n",
       "      <th>path</th>\n",
       "      <th>movement</th>\n",
       "      <th>title</th>\n",
       "      <th>image</th>\n",
       "      <th>genre</th>\n",
       "      <th>cs-split-genre</th>\n",
       "      <th>cs-split-style</th>\n",
       "      <th>cs-split-artist</th>\n",
       "    </tr>\n",
       "    <tr>\n",
       "      <th>artist</th>\n",
       "      <th></th>\n",
       "      <th></th>\n",
       "      <th></th>\n",
       "      <th></th>\n",
       "      <th></th>\n",
       "      <th></th>\n",
       "      <th></th>\n",
       "      <th></th>\n",
       "    </tr>\n",
       "  </thead>\n",
       "  <tbody>\n",
       "    <tr>\n",
       "      <th>a.y.-jackson</th>\n",
       "      <td>34</td>\n",
       "      <td>2</td>\n",
       "      <td>30</td>\n",
       "      <td>30</td>\n",
       "      <td>1</td>\n",
       "      <td>2</td>\n",
       "      <td>2</td>\n",
       "      <td>0</td>\n",
       "    </tr>\n",
       "    <tr>\n",
       "      <th>aaron-siskind</th>\n",
       "      <td>23</td>\n",
       "      <td>1</td>\n",
       "      <td>23</td>\n",
       "      <td>23</td>\n",
       "      <td>0</td>\n",
       "      <td>0</td>\n",
       "      <td>2</td>\n",
       "      <td>0</td>\n",
       "    </tr>\n",
       "    <tr>\n",
       "      <th>abdullah-suriosubroto</th>\n",
       "      <td>18</td>\n",
       "      <td>1</td>\n",
       "      <td>18</td>\n",
       "      <td>18</td>\n",
       "      <td>1</td>\n",
       "      <td>2</td>\n",
       "      <td>2</td>\n",
       "      <td>0</td>\n",
       "    </tr>\n",
       "    <tr>\n",
       "      <th>abidin-dino</th>\n",
       "      <td>13</td>\n",
       "      <td>2</td>\n",
       "      <td>13</td>\n",
       "      <td>13</td>\n",
       "      <td>4</td>\n",
       "      <td>1</td>\n",
       "      <td>2</td>\n",
       "      <td>0</td>\n",
       "    </tr>\n",
       "    <tr>\n",
       "      <th>abraham-manievich</th>\n",
       "      <td>47</td>\n",
       "      <td>4</td>\n",
       "      <td>42</td>\n",
       "      <td>42</td>\n",
       "      <td>5</td>\n",
       "      <td>2</td>\n",
       "      <td>2</td>\n",
       "      <td>0</td>\n",
       "    </tr>\n",
       "  </tbody>\n",
       "</table>\n",
       "</div>"
      ],
      "text/plain": [
       "                       path  movement  title  image  genre  cs-split-genre  \\\n",
       "artist                                                                       \n",
       "a.y.-jackson             34         2     30     30      1               2   \n",
       "aaron-siskind            23         1     23     23      0               0   \n",
       "abdullah-suriosubroto    18         1     18     18      1               2   \n",
       "abidin-dino              13         2     13     13      4               1   \n",
       "abraham-manievich        47         4     42     42      5               2   \n",
       "\n",
       "                       cs-split-style  cs-split-artist  \n",
       "artist                                                  \n",
       "a.y.-jackson                        2                0  \n",
       "aaron-siskind                       2                0  \n",
       "abdullah-suriosubroto               2                0  \n",
       "abidin-dino                         2                0  \n",
       "abraham-manievich                   2                0  "
      ]
     },
     "execution_count": 69,
     "metadata": {},
     "output_type": "execute_result"
    }
   ],
   "source": [
    "df_artist=data_merge.groupby(by='artist').nunique()\n",
    "df_artist.head()\n"
   ]
  },
  {
   "cell_type": "code",
   "execution_count": 29,
   "id": "27c97c3c",
   "metadata": {
    "ExecuteTime": {
     "end_time": "2021-08-24T08:35:27.421083Z",
     "start_time": "2021-08-24T08:35:27.375950Z"
    },
    "hidden": true
   },
   "outputs": [],
   "source": [
    "df_impr=data_merge[data_merge.movement.isin(['Impressionism'])]"
   ]
  },
  {
   "cell_type": "code",
   "execution_count": 31,
   "id": "3f35e8b7",
   "metadata": {
    "ExecuteTime": {
     "end_time": "2021-08-24T08:35:40.549293Z",
     "start_time": "2021-08-24T08:35:40.403207Z"
    },
    "hidden": true
   },
   "outputs": [
    {
     "data": {
      "text/html": [
       "<div>\n",
       "<style scoped>\n",
       "    .dataframe tbody tr th:only-of-type {\n",
       "        vertical-align: middle;\n",
       "    }\n",
       "\n",
       "    .dataframe tbody tr th {\n",
       "        vertical-align: top;\n",
       "    }\n",
       "\n",
       "    .dataframe thead th {\n",
       "        text-align: right;\n",
       "    }\n",
       "</style>\n",
       "<table border=\"1\" class=\"dataframe\">\n",
       "  <thead>\n",
       "    <tr style=\"text-align: right;\">\n",
       "      <th></th>\n",
       "      <th>path</th>\n",
       "      <th>movement</th>\n",
       "      <th>artist</th>\n",
       "      <th>title</th>\n",
       "      <th>image</th>\n",
       "      <th>genre</th>\n",
       "      <th>cs-split-genre</th>\n",
       "      <th>cs-split-style</th>\n",
       "      <th>cs-split-artist</th>\n",
       "    </tr>\n",
       "  </thead>\n",
       "  <tbody>\n",
       "    <tr>\n",
       "      <th>count</th>\n",
       "      <td>24039</td>\n",
       "      <td>24039</td>\n",
       "      <td>24039</td>\n",
       "      <td>24039</td>\n",
       "      <td>24039</td>\n",
       "      <td>20275</td>\n",
       "      <td>20275</td>\n",
       "      <td>24039</td>\n",
       "      <td>8956</td>\n",
       "    </tr>\n",
       "    <tr>\n",
       "      <th>unique</th>\n",
       "      <td>24002</td>\n",
       "      <td>1</td>\n",
       "      <td>375</td>\n",
       "      <td>23051</td>\n",
       "      <td>24002</td>\n",
       "      <td>10</td>\n",
       "      <td>2</td>\n",
       "      <td>2</td>\n",
       "      <td>2</td>\n",
       "    </tr>\n",
       "    <tr>\n",
       "      <th>top</th>\n",
       "      <td>Impressionism/jacek-malczewski_enslavement.jpg</td>\n",
       "      <td>Impressionism</td>\n",
       "      <td>pierre-auguste-renoir</td>\n",
       "      <td>self-portrait.jpg</td>\n",
       "      <td>jacek-malczewski_enslavement.jpg</td>\n",
       "      <td>landscape</td>\n",
       "      <td>train</td>\n",
       "      <td>train</td>\n",
       "      <td>train</td>\n",
       "    </tr>\n",
       "    <tr>\n",
       "      <th>freq</th>\n",
       "      <td>2</td>\n",
       "      <td>24039</td>\n",
       "      <td>1376</td>\n",
       "      <td>37</td>\n",
       "      <td>2</td>\n",
       "      <td>7150</td>\n",
       "      <td>14184</td>\n",
       "      <td>16828</td>\n",
       "      <td>6272</td>\n",
       "    </tr>\n",
       "  </tbody>\n",
       "</table>\n",
       "</div>"
      ],
      "text/plain": [
       "                                                  path       movement  \\\n",
       "count                                            24039          24039   \n",
       "unique                                           24002              1   \n",
       "top     Impressionism/jacek-malczewski_enslavement.jpg  Impressionism   \n",
       "freq                                                 2          24039   \n",
       "\n",
       "                       artist              title  \\\n",
       "count                   24039              24039   \n",
       "unique                    375              23051   \n",
       "top     pierre-auguste-renoir  self-portrait.jpg   \n",
       "freq                     1376                 37   \n",
       "\n",
       "                                   image      genre cs-split-genre  \\\n",
       "count                              24039      20275          20275   \n",
       "unique                             24002         10              2   \n",
       "top     jacek-malczewski_enslavement.jpg  landscape          train   \n",
       "freq                                   2       7150          14184   \n",
       "\n",
       "       cs-split-style cs-split-artist  \n",
       "count           24039            8956  \n",
       "unique              2               2  \n",
       "top             train           train  \n",
       "freq            16828            6272  "
      ]
     },
     "execution_count": 31,
     "metadata": {},
     "output_type": "execute_result"
    }
   ],
   "source": [
    "df_impr.describe()"
   ]
  },
  {
   "cell_type": "code",
   "execution_count": null,
   "id": "d4a868a1",
   "metadata": {
    "hidden": true
   },
   "outputs": [],
   "source": []
  }
 ],
 "metadata": {
  "kernelspec": {
   "display_name": "Python 3 (ipykernel)",
   "language": "python",
   "name": "python3"
  },
  "language_info": {
   "codemirror_mode": {
    "name": "ipython",
    "version": 3
   },
   "file_extension": ".py",
   "mimetype": "text/x-python",
   "name": "python",
   "nbconvert_exporter": "python",
   "pygments_lexer": "ipython3",
   "version": "3.7.11"
  },
  "toc": {
   "base_numbering": 1,
   "nav_menu": {},
   "number_sections": true,
   "sideBar": true,
   "skip_h1_title": false,
   "title_cell": "Table of Contents",
   "title_sidebar": "Contents",
   "toc_cell": false,
   "toc_position": {},
   "toc_section_display": true,
   "toc_window_display": true
  },
  "varInspector": {
   "cols": {
    "lenName": 16,
    "lenType": 16,
    "lenVar": 40
   },
   "kernels_config": {
    "python": {
     "delete_cmd_postfix": "",
     "delete_cmd_prefix": "del ",
     "library": "var_list.py",
     "varRefreshCmd": "print(var_dic_list())"
    },
    "r": {
     "delete_cmd_postfix": ") ",
     "delete_cmd_prefix": "rm(",
     "library": "var_list.r",
     "varRefreshCmd": "cat(var_dic_list()) "
    }
   },
   "types_to_exclude": [
    "module",
    "function",
    "builtin_function_or_method",
    "instance",
    "_Feature"
   ],
   "window_display": false
  }
 },
 "nbformat": 4,
 "nbformat_minor": 5
}
