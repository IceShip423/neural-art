{
 "cells": [
  {
   "cell_type": "markdown",
   "id": "f564d306",
   "metadata": {},
   "source": [
    "Intro: Trying to understand the structure of a 3x3 convolution kernel by looking at all of the possible 3x3 spatial slices is somewhat like trying to guess what an full image looks like from being shown all the 3x3 chunks of it in random order."
   ]
  },
  {
   "cell_type": "code",
   "execution_count": null,
   "id": "214daa8f",
   "metadata": {},
   "outputs": [],
   "source": [
    "#load the data\n",
    "from keras.datasets import cifar10 as dset\n",
    "\n",
    "(x_train, y_train), (x_test, y_test) = dset.load_data()\n",
    "\n",
    "#normalize to lie in -1 to 1\n",
    "x_train = (x_train-127.5)/128\n",
    "x_test = (x_test-127.5)/128\n",
    "\n",
    "y_train = y_train.squeeze()\n",
    "y_test = y_test.squeeze()\n",
    "\n",
    "n_categories = len(np.unique(y_train))\n",
    "\n",
    "y_train_onehot = keras.utils.to_categorical(y_train, n_categories)\n",
    "y_test_onehot = keras.utils.to_categorical(y_test, n_categories)\n",
    "\n",
    "from keras.layers import Conv2D, MaxPooling2D, Dropout, Dense\n",
    "\n",
    "def make_net():\n",
    "    input_img = keras.layers.Input(x_train.shape[1:])\n",
    "    \n",
    "    x = input_img\n",
    "    x = keras.layers.GaussianNoise(0.5/128.0)(x)\n",
    "    \n",
    "    x = Conv2D(32, (3, 3), activation=\"relu\", padding=\"same\")(x)\n",
    "    x = Conv2D(64, (3, 3), activation=\"relu\", padding=\"same\")(x)\n",
    "    \n",
    "    x = MaxPooling2D((2, 2))(x)\n",
    "    x = Dropout(0.3)(x)\n",
    "    \n",
    "    x = Conv2D(128, (3, 3), activation=\"relu\", padding=\"same\")(x)\n",
    "\n",
    "    x = MaxPooling2D((2, 2))(x)\n",
    "    x = Dropout(0.3)(x)\n",
    "    \n",
    "    x = Conv2D(256, (3, 3), activation=\"relu\", padding=\"same\")(x)\n",
    "    \n",
    "    x = keras.layers.GlobalMaxPooling2D()(x)\n",
    "    \n",
    "    x = Dense(256, activation=\"relu\")(x)\n",
    "    x = Dropout(0.3)(x)\n",
    "    probs = Dense(10, activation=\"softmax\")(x)\n",
    "\n",
    "    model = keras.models.Model(input_img, probs)\n",
    "    \n",
    "    return model\n",
    "\n",
    "model = make_net()\n",
    "model.compile(loss=\"categorical_crossentropy\", optimizer=\"adadelta\", metrics=[\"accuracy\"])"
   ]
  }
 ],
 "metadata": {
  "kernelspec": {
   "display_name": "Python 3 (ipykernel)",
   "language": "python",
   "name": "python3"
  },
  "language_info": {
   "codemirror_mode": {
    "name": "ipython",
    "version": 3
   },
   "file_extension": ".py",
   "mimetype": "text/x-python",
   "name": "python",
   "nbconvert_exporter": "python",
   "pygments_lexer": "ipython3",
   "version": "3.8.6"
  },
  "toc": {
   "base_numbering": 1,
   "nav_menu": {},
   "number_sections": true,
   "sideBar": true,
   "skip_h1_title": false,
   "title_cell": "Table of Contents",
   "title_sidebar": "Contents",
   "toc_cell": false,
   "toc_position": {},
   "toc_section_display": true,
   "toc_window_display": false
  }
 },
 "nbformat": 4,
 "nbformat_minor": 5
}
