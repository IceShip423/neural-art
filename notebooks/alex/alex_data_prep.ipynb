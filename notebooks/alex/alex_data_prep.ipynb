{
 "cells": [
  {
   "cell_type": "markdown",
   "id": "1de8a528",
   "metadata": {},
   "source": [
    "# Import"
   ]
  },
  {
   "cell_type": "code",
   "execution_count": 1,
   "id": "bac68fee-f859-4d79-a020-ecd6c6cfc4dd",
   "metadata": {
    "ExecuteTime": {
     "end_time": "2021-08-25T08:13:12.292315Z",
     "start_time": "2021-08-25T08:13:12.277616Z"
    }
   },
   "outputs": [],
   "source": [
    "%load_ext autoreload\n",
    "%autoreload 2"
   ]
  },
  {
   "cell_type": "code",
   "execution_count": 2,
   "id": "1ada70f8",
   "metadata": {
    "ExecuteTime": {
     "end_time": "2021-08-24T10:52:59.063086Z",
     "start_time": "2021-08-24T10:52:58.931532Z"
    }
   },
   "outputs": [],
   "source": [
    "! cd .."
   ]
  },
  {
   "cell_type": "code",
   "execution_count": 3,
   "id": "2a9ee74d",
   "metadata": {
    "ExecuteTime": {
     "end_time": "2021-08-24T10:52:59.082084Z",
     "start_time": "2021-08-24T10:52:59.067211Z"
    }
   },
   "outputs": [
    {
     "name": "stdout",
     "output_type": "stream",
     "text": [
      "/Users/axlav/code/Aximande/Neural-Art\n"
     ]
    }
   ],
   "source": [
    "cd .."
   ]
  },
  {
   "cell_type": "code",
   "execution_count": 4,
   "id": "420745bd",
   "metadata": {
    "ExecuteTime": {
     "end_time": "2021-08-24T10:53:00.222353Z",
     "start_time": "2021-08-24T10:52:59.084198Z"
    }
   },
   "outputs": [
    {
     "name": "stdout",
     "output_type": "stream",
     "text": [
      "Requirement already satisfied: autopep8 in /Users/axlav/.pyenv/versions/3.8.6/envs/neuralart_3.8.6/lib/python3.8/site-packages (1.5.7)\n",
      "Requirement already satisfied: toml in /Users/axlav/.pyenv/versions/3.8.6/envs/neuralart_3.8.6/lib/python3.8/site-packages (from autopep8) (0.10.2)\n",
      "Requirement already satisfied: pycodestyle>=2.7.0 in /Users/axlav/.pyenv/versions/3.8.6/envs/neuralart_3.8.6/lib/python3.8/site-packages (from autopep8) (2.7.0)\n",
      "Note: you may need to restart the kernel to use updated packages.\n"
     ]
    }
   ],
   "source": [
    "pip install autopep8"
   ]
  },
  {
   "cell_type": "code",
   "execution_count": 5,
   "id": "d9fe73ab",
   "metadata": {
    "ExecuteTime": {
     "end_time": "2021-08-24T10:53:03.449296Z",
     "start_time": "2021-08-24T10:53:00.224852Z"
    },
    "scrolled": true
   },
   "outputs": [
    {
     "name": "stdout",
     "output_type": "stream",
     "text": [
      "Obtaining file:///Users/axlav/code/Aximande/Neural-Art\n",
      "Requirement already satisfied: pip in /Users/axlav/.pyenv/versions/3.8.6/envs/neuralart_3.8.6/lib/python3.8/site-packages (from neural-art==1.0) (21.2.4)\n",
      "Requirement already satisfied: numpy in /Users/axlav/.pyenv/versions/3.8.6/envs/neuralart_3.8.6/lib/python3.8/site-packages (from neural-art==1.0) (1.19.5)\n",
      "Requirement already satisfied: pandas in /Users/axlav/.pyenv/versions/3.8.6/envs/neuralart_3.8.6/lib/python3.8/site-packages (from neural-art==1.0) (1.3.2)\n",
      "Requirement already satisfied: seaborn in /Users/axlav/.pyenv/versions/3.8.6/envs/neuralart_3.8.6/lib/python3.8/site-packages (from neural-art==1.0) (0.11.2)\n",
      "Requirement already satisfied: tensorflow in /Users/axlav/.pyenv/versions/3.8.6/envs/neuralart_3.8.6/lib/python3.8/site-packages (from neural-art==1.0) (2.6.0)\n",
      "Requirement already satisfied: gcsfs in /Users/axlav/.pyenv/versions/3.8.6/envs/neuralart_3.8.6/lib/python3.8/site-packages (from neural-art==1.0) (2021.7.0)\n",
      "Requirement already satisfied: google-cloud-storage in /Users/axlav/.pyenv/versions/3.8.6/envs/neuralart_3.8.6/lib/python3.8/site-packages (from neural-art==1.0) (1.42.0)\n",
      "Requirement already satisfied: mlflow in /Users/axlav/.pyenv/versions/3.8.6/envs/neuralart_3.8.6/lib/python3.8/site-packages (from neural-art==1.0) (1.19.0)\n",
      "Requirement already satisfied: s3fs in /Users/axlav/.pyenv/versions/3.8.6/envs/neuralart_3.8.6/lib/python3.8/site-packages (from neural-art==1.0) (2021.8.0)\n",
      "Requirement already satisfied: joblib in /Users/axlav/.pyenv/versions/3.8.6/envs/neuralart_3.8.6/lib/python3.8/site-packages (from neural-art==1.0) (1.0.1)\n",
      "Requirement already satisfied: memoized-property in /Users/axlav/.pyenv/versions/3.8.6/envs/neuralart_3.8.6/lib/python3.8/site-packages (from neural-art==1.0) (1.0.3)\n",
      "Requirement already satisfied: requests in /Users/axlav/.pyenv/versions/3.8.6/envs/neuralart_3.8.6/lib/python3.8/site-packages (from gcsfs->neural-art==1.0) (2.26.0)\n",
      "Requirement already satisfied: google-auth-oauthlib in /Users/axlav/.pyenv/versions/3.8.6/envs/neuralart_3.8.6/lib/python3.8/site-packages (from gcsfs->neural-art==1.0) (0.4.5)\n",
      "Requirement already satisfied: fsspec==2021.07.0 in /Users/axlav/.pyenv/versions/3.8.6/envs/neuralart_3.8.6/lib/python3.8/site-packages (from gcsfs->neural-art==1.0) (2021.7.0)\n",
      "Requirement already satisfied: google-auth>=1.2 in /Users/axlav/.pyenv/versions/3.8.6/envs/neuralart_3.8.6/lib/python3.8/site-packages (from gcsfs->neural-art==1.0) (1.35.0)\n",
      "Requirement already satisfied: aiohttp in /Users/axlav/.pyenv/versions/3.8.6/envs/neuralart_3.8.6/lib/python3.8/site-packages (from gcsfs->neural-art==1.0) (3.7.4.post0)\n",
      "Requirement already satisfied: decorator in /Users/axlav/.pyenv/versions/3.8.6/envs/neuralart_3.8.6/lib/python3.8/site-packages (from gcsfs->neural-art==1.0) (5.0.9)\n",
      "Requirement already satisfied: cachetools<5.0,>=2.0.0 in /Users/axlav/.pyenv/versions/3.8.6/envs/neuralart_3.8.6/lib/python3.8/site-packages (from google-auth>=1.2->gcsfs->neural-art==1.0) (4.2.2)\n",
      "Requirement already satisfied: pyasn1-modules>=0.2.1 in /Users/axlav/.pyenv/versions/3.8.6/envs/neuralart_3.8.6/lib/python3.8/site-packages (from google-auth>=1.2->gcsfs->neural-art==1.0) (0.2.8)\n",
      "Requirement already satisfied: rsa<5,>=3.1.4 in /Users/axlav/.pyenv/versions/3.8.6/envs/neuralart_3.8.6/lib/python3.8/site-packages (from google-auth>=1.2->gcsfs->neural-art==1.0) (4.7.2)\n",
      "Requirement already satisfied: six>=1.9.0 in /Users/axlav/.pyenv/versions/3.8.6/envs/neuralart_3.8.6/lib/python3.8/site-packages (from google-auth>=1.2->gcsfs->neural-art==1.0) (1.15.0)\n",
      "Requirement already satisfied: setuptools>=40.3.0 in /Users/axlav/.pyenv/versions/3.8.6/envs/neuralart_3.8.6/lib/python3.8/site-packages (from google-auth>=1.2->gcsfs->neural-art==1.0) (49.2.1)\n",
      "Requirement already satisfied: pyasn1<0.5.0,>=0.4.6 in /Users/axlav/.pyenv/versions/3.8.6/envs/neuralart_3.8.6/lib/python3.8/site-packages (from pyasn1-modules>=0.2.1->google-auth>=1.2->gcsfs->neural-art==1.0) (0.4.8)\n",
      "Requirement already satisfied: multidict<7.0,>=4.5 in /Users/axlav/.pyenv/versions/3.8.6/envs/neuralart_3.8.6/lib/python3.8/site-packages (from aiohttp->gcsfs->neural-art==1.0) (5.1.0)\n",
      "Requirement already satisfied: async-timeout<4.0,>=3.0 in /Users/axlav/.pyenv/versions/3.8.6/envs/neuralart_3.8.6/lib/python3.8/site-packages (from aiohttp->gcsfs->neural-art==1.0) (3.0.1)\n",
      "Requirement already satisfied: yarl<2.0,>=1.0 in /Users/axlav/.pyenv/versions/3.8.6/envs/neuralart_3.8.6/lib/python3.8/site-packages (from aiohttp->gcsfs->neural-art==1.0) (1.6.3)\n",
      "Requirement already satisfied: typing-extensions>=3.6.5 in /Users/axlav/.pyenv/versions/3.8.6/envs/neuralart_3.8.6/lib/python3.8/site-packages (from aiohttp->gcsfs->neural-art==1.0) (3.7.4.3)\n",
      "Requirement already satisfied: attrs>=17.3.0 in /Users/axlav/.pyenv/versions/3.8.6/envs/neuralart_3.8.6/lib/python3.8/site-packages (from aiohttp->gcsfs->neural-art==1.0) (21.2.0)\n",
      "Requirement already satisfied: chardet<5.0,>=2.0 in /Users/axlav/.pyenv/versions/3.8.6/envs/neuralart_3.8.6/lib/python3.8/site-packages (from aiohttp->gcsfs->neural-art==1.0) (4.0.0)\n",
      "Requirement already satisfied: idna>=2.0 in /Users/axlav/.pyenv/versions/3.8.6/envs/neuralart_3.8.6/lib/python3.8/site-packages (from yarl<2.0,>=1.0->aiohttp->gcsfs->neural-art==1.0) (3.2)\n",
      "Requirement already satisfied: requests-oauthlib>=0.7.0 in /Users/axlav/.pyenv/versions/3.8.6/envs/neuralart_3.8.6/lib/python3.8/site-packages (from google-auth-oauthlib->gcsfs->neural-art==1.0) (1.3.0)\n",
      "Requirement already satisfied: oauthlib>=3.0.0 in /Users/axlav/.pyenv/versions/3.8.6/envs/neuralart_3.8.6/lib/python3.8/site-packages (from requests-oauthlib>=0.7.0->google-auth-oauthlib->gcsfs->neural-art==1.0) (3.1.1)\n",
      "Requirement already satisfied: charset-normalizer~=2.0.0 in /Users/axlav/.pyenv/versions/3.8.6/envs/neuralart_3.8.6/lib/python3.8/site-packages (from requests->gcsfs->neural-art==1.0) (2.0.4)\n",
      "Requirement already satisfied: certifi>=2017.4.17 in /Users/axlav/.pyenv/versions/3.8.6/envs/neuralart_3.8.6/lib/python3.8/site-packages (from requests->gcsfs->neural-art==1.0) (2021.5.30)\n",
      "Requirement already satisfied: urllib3<1.27,>=1.21.1 in /Users/axlav/.pyenv/versions/3.8.6/envs/neuralart_3.8.6/lib/python3.8/site-packages (from requests->gcsfs->neural-art==1.0) (1.26.6)\n",
      "Requirement already satisfied: google-cloud-core<3.0dev,>=1.6.0 in /Users/axlav/.pyenv/versions/3.8.6/envs/neuralart_3.8.6/lib/python3.8/site-packages (from google-cloud-storage->neural-art==1.0) (2.0.0)\n",
      "Requirement already satisfied: google-resumable-media<3.0dev,>=1.3.0 in /Users/axlav/.pyenv/versions/3.8.6/envs/neuralart_3.8.6/lib/python3.8/site-packages (from google-cloud-storage->neural-art==1.0) (2.0.0)\n",
      "Requirement already satisfied: google-api-core<3.0dev,>=1.29.0 in /Users/axlav/.pyenv/versions/3.8.6/envs/neuralart_3.8.6/lib/python3.8/site-packages (from google-cloud-storage->neural-art==1.0) (2.0.0)\n",
      "Requirement already satisfied: protobuf>=3.12.0 in /Users/axlav/.pyenv/versions/3.8.6/envs/neuralart_3.8.6/lib/python3.8/site-packages (from google-api-core<3.0dev,>=1.29.0->google-cloud-storage->neural-art==1.0) (3.17.3)\n",
      "Requirement already satisfied: googleapis-common-protos<2.0dev,>=1.6.0 in /Users/axlav/.pyenv/versions/3.8.6/envs/neuralart_3.8.6/lib/python3.8/site-packages (from google-api-core<3.0dev,>=1.29.0->google-cloud-storage->neural-art==1.0) (1.53.0)\n",
      "Requirement already satisfied: google-crc32c<2.0dev,>=1.0 in /Users/axlav/.pyenv/versions/3.8.6/envs/neuralart_3.8.6/lib/python3.8/site-packages (from google-resumable-media<3.0dev,>=1.3.0->google-cloud-storage->neural-art==1.0) (1.1.2)\n",
      "Requirement already satisfied: cffi>=1.0.0 in /Users/axlav/.pyenv/versions/3.8.6/envs/neuralart_3.8.6/lib/python3.8/site-packages (from google-crc32c<2.0dev,>=1.0->google-resumable-media<3.0dev,>=1.3.0->google-cloud-storage->neural-art==1.0) (1.14.6)\n",
      "Requirement already satisfied: pycparser in /Users/axlav/.pyenv/versions/3.8.6/envs/neuralart_3.8.6/lib/python3.8/site-packages (from cffi>=1.0.0->google-crc32c<2.0dev,>=1.0->google-resumable-media<3.0dev,>=1.3.0->google-cloud-storage->neural-art==1.0) (2.20)\n",
      "Requirement already satisfied: alembic<=1.4.1 in /Users/axlav/.pyenv/versions/3.8.6/envs/neuralart_3.8.6/lib/python3.8/site-packages (from mlflow->neural-art==1.0) (1.4.1)\n",
      "Requirement already satisfied: pyyaml>=5.1 in /Users/axlav/.pyenv/versions/3.8.6/envs/neuralart_3.8.6/lib/python3.8/site-packages (from mlflow->neural-art==1.0) (5.4.1)\n",
      "Requirement already satisfied: click>=7.0 in /Users/axlav/.pyenv/versions/3.8.6/envs/neuralart_3.8.6/lib/python3.8/site-packages (from mlflow->neural-art==1.0) (8.0.1)\n",
      "Requirement already satisfied: packaging in /Users/axlav/.pyenv/versions/3.8.6/envs/neuralart_3.8.6/lib/python3.8/site-packages (from mlflow->neural-art==1.0) (21.0)\n",
      "Requirement already satisfied: sqlparse>=0.3.1 in /Users/axlav/.pyenv/versions/3.8.6/envs/neuralart_3.8.6/lib/python3.8/site-packages (from mlflow->neural-art==1.0) (0.4.1)\n",
      "Requirement already satisfied: gunicorn in /Users/axlav/.pyenv/versions/3.8.6/envs/neuralart_3.8.6/lib/python3.8/site-packages (from mlflow->neural-art==1.0) (20.1.0)\n",
      "Requirement already satisfied: querystring-parser in /Users/axlav/.pyenv/versions/3.8.6/envs/neuralart_3.8.6/lib/python3.8/site-packages (from mlflow->neural-art==1.0) (1.2.4)\n",
      "Requirement already satisfied: docker>=4.0.0 in /Users/axlav/.pyenv/versions/3.8.6/envs/neuralart_3.8.6/lib/python3.8/site-packages (from mlflow->neural-art==1.0) (5.0.0)\n",
      "Requirement already satisfied: entrypoints in /Users/axlav/.pyenv/versions/3.8.6/envs/neuralart_3.8.6/lib/python3.8/site-packages (from mlflow->neural-art==1.0) (0.3)\n",
      "Requirement already satisfied: cloudpickle in /Users/axlav/.pyenv/versions/3.8.6/envs/neuralart_3.8.6/lib/python3.8/site-packages (from mlflow->neural-art==1.0) (1.6.0)\n",
      "Requirement already satisfied: databricks-cli>=0.8.7 in /Users/axlav/.pyenv/versions/3.8.6/envs/neuralart_3.8.6/lib/python3.8/site-packages (from mlflow->neural-art==1.0) (0.15.0)\n",
      "Requirement already satisfied: pytz in /Users/axlav/.pyenv/versions/3.8.6/envs/neuralart_3.8.6/lib/python3.8/site-packages (from mlflow->neural-art==1.0) (2021.1)\n",
      "Requirement already satisfied: Flask in /Users/axlav/.pyenv/versions/3.8.6/envs/neuralart_3.8.6/lib/python3.8/site-packages (from mlflow->neural-art==1.0) (2.0.1)\n",
      "Requirement already satisfied: gitpython>=2.1.0 in /Users/axlav/.pyenv/versions/3.8.6/envs/neuralart_3.8.6/lib/python3.8/site-packages (from mlflow->neural-art==1.0) (3.1.18)\n",
      "Requirement already satisfied: prometheus-flask-exporter in /Users/axlav/.pyenv/versions/3.8.6/envs/neuralart_3.8.6/lib/python3.8/site-packages (from mlflow->neural-art==1.0) (0.18.2)\n",
      "Requirement already satisfied: sqlalchemy in /Users/axlav/.pyenv/versions/3.8.6/envs/neuralart_3.8.6/lib/python3.8/site-packages (from mlflow->neural-art==1.0) (1.4.23)\n",
      "Requirement already satisfied: python-editor>=0.3 in /Users/axlav/.pyenv/versions/3.8.6/envs/neuralart_3.8.6/lib/python3.8/site-packages (from alembic<=1.4.1->mlflow->neural-art==1.0) (1.0.4)\n"
     ]
    },
    {
     "name": "stdout",
     "output_type": "stream",
     "text": [
      "Requirement already satisfied: python-dateutil in /Users/axlav/.pyenv/versions/3.8.6/envs/neuralart_3.8.6/lib/python3.8/site-packages (from alembic<=1.4.1->mlflow->neural-art==1.0) (2.8.2)\n",
      "Requirement already satisfied: Mako in /Users/axlav/.pyenv/versions/3.8.6/envs/neuralart_3.8.6/lib/python3.8/site-packages (from alembic<=1.4.1->mlflow->neural-art==1.0) (1.1.5)\n",
      "Requirement already satisfied: tabulate>=0.7.7 in /Users/axlav/.pyenv/versions/3.8.6/envs/neuralart_3.8.6/lib/python3.8/site-packages (from databricks-cli>=0.8.7->mlflow->neural-art==1.0) (0.8.9)\n",
      "Requirement already satisfied: websocket-client>=0.32.0 in /Users/axlav/.pyenv/versions/3.8.6/envs/neuralart_3.8.6/lib/python3.8/site-packages (from docker>=4.0.0->mlflow->neural-art==1.0) (1.2.1)\n",
      "Requirement already satisfied: gitdb<5,>=4.0.1 in /Users/axlav/.pyenv/versions/3.8.6/envs/neuralart_3.8.6/lib/python3.8/site-packages (from gitpython>=2.1.0->mlflow->neural-art==1.0) (4.0.7)\n",
      "Requirement already satisfied: smmap<5,>=3.0.1 in /Users/axlav/.pyenv/versions/3.8.6/envs/neuralart_3.8.6/lib/python3.8/site-packages (from gitdb<5,>=4.0.1->gitpython>=2.1.0->mlflow->neural-art==1.0) (4.0.0)\n",
      "Requirement already satisfied: greenlet!=0.4.17 in /Users/axlav/.pyenv/versions/3.8.6/envs/neuralart_3.8.6/lib/python3.8/site-packages (from sqlalchemy->mlflow->neural-art==1.0) (1.1.1)\n",
      "Requirement already satisfied: itsdangerous>=2.0 in /Users/axlav/.pyenv/versions/3.8.6/envs/neuralart_3.8.6/lib/python3.8/site-packages (from Flask->mlflow->neural-art==1.0) (2.0.1)\n",
      "Requirement already satisfied: Werkzeug>=2.0 in /Users/axlav/.pyenv/versions/3.8.6/envs/neuralart_3.8.6/lib/python3.8/site-packages (from Flask->mlflow->neural-art==1.0) (2.0.1)\n",
      "Requirement already satisfied: Jinja2>=3.0 in /Users/axlav/.pyenv/versions/3.8.6/envs/neuralart_3.8.6/lib/python3.8/site-packages (from Flask->mlflow->neural-art==1.0) (3.0.1)\n",
      "Requirement already satisfied: MarkupSafe>=2.0 in /Users/axlav/.pyenv/versions/3.8.6/envs/neuralart_3.8.6/lib/python3.8/site-packages (from Jinja2>=3.0->Flask->mlflow->neural-art==1.0) (2.0.1)\n",
      "Requirement already satisfied: pyparsing>=2.0.2 in /Users/axlav/.pyenv/versions/3.8.6/envs/neuralart_3.8.6/lib/python3.8/site-packages (from packaging->mlflow->neural-art==1.0) (2.4.7)\n",
      "Requirement already satisfied: prometheus-client in /Users/axlav/.pyenv/versions/3.8.6/envs/neuralart_3.8.6/lib/python3.8/site-packages (from prometheus-flask-exporter->mlflow->neural-art==1.0) (0.11.0)\n",
      "Requirement already satisfied: aiobotocore~=1.4.0 in /Users/axlav/.pyenv/versions/3.8.6/envs/neuralart_3.8.6/lib/python3.8/site-packages (from s3fs->neural-art==1.0) (1.4.0)\n",
      "Requirement already satisfied: botocore<1.20.107,>=1.20.106 in /Users/axlav/.pyenv/versions/3.8.6/envs/neuralart_3.8.6/lib/python3.8/site-packages (from aiobotocore~=1.4.0->s3fs->neural-art==1.0) (1.20.106)\n",
      "Requirement already satisfied: wrapt>=1.10.10 in /Users/axlav/.pyenv/versions/3.8.6/envs/neuralart_3.8.6/lib/python3.8/site-packages (from aiobotocore~=1.4.0->s3fs->neural-art==1.0) (1.12.1)\n",
      "Requirement already satisfied: aioitertools>=0.5.1 in /Users/axlav/.pyenv/versions/3.8.6/envs/neuralart_3.8.6/lib/python3.8/site-packages (from aiobotocore~=1.4.0->s3fs->neural-art==1.0) (0.8.0)\n",
      "Requirement already satisfied: jmespath<1.0.0,>=0.7.1 in /Users/axlav/.pyenv/versions/3.8.6/envs/neuralart_3.8.6/lib/python3.8/site-packages (from botocore<1.20.107,>=1.20.106->aiobotocore~=1.4.0->s3fs->neural-art==1.0) (0.10.0)\n",
      "Requirement already satisfied: matplotlib>=2.2 in /Users/axlav/.pyenv/versions/3.8.6/envs/neuralart_3.8.6/lib/python3.8/site-packages (from seaborn->neural-art==1.0) (3.4.3)\n",
      "Requirement already satisfied: scipy>=1.0 in /Users/axlav/.pyenv/versions/3.8.6/envs/neuralart_3.8.6/lib/python3.8/site-packages (from seaborn->neural-art==1.0) (1.7.1)\n",
      "Requirement already satisfied: cycler>=0.10 in /Users/axlav/.pyenv/versions/3.8.6/envs/neuralart_3.8.6/lib/python3.8/site-packages (from matplotlib>=2.2->seaborn->neural-art==1.0) (0.10.0)\n",
      "Requirement already satisfied: kiwisolver>=1.0.1 in /Users/axlav/.pyenv/versions/3.8.6/envs/neuralart_3.8.6/lib/python3.8/site-packages (from matplotlib>=2.2->seaborn->neural-art==1.0) (1.3.1)\n",
      "Requirement already satisfied: pillow>=6.2.0 in /Users/axlav/.pyenv/versions/3.8.6/envs/neuralart_3.8.6/lib/python3.8/site-packages (from matplotlib>=2.2->seaborn->neural-art==1.0) (8.3.1)\n",
      "Requirement already satisfied: clang~=5.0 in /Users/axlav/.pyenv/versions/3.8.6/envs/neuralart_3.8.6/lib/python3.8/site-packages (from tensorflow->neural-art==1.0) (5.0)\n",
      "Requirement already satisfied: flatbuffers~=1.12.0 in /Users/axlav/.pyenv/versions/3.8.6/envs/neuralart_3.8.6/lib/python3.8/site-packages (from tensorflow->neural-art==1.0) (1.12)\n",
      "Requirement already satisfied: opt-einsum~=3.3.0 in /Users/axlav/.pyenv/versions/3.8.6/envs/neuralart_3.8.6/lib/python3.8/site-packages (from tensorflow->neural-art==1.0) (3.3.0)\n",
      "Requirement already satisfied: grpcio<2.0,>=1.37.0 in /Users/axlav/.pyenv/versions/3.8.6/envs/neuralart_3.8.6/lib/python3.8/site-packages (from tensorflow->neural-art==1.0) (1.39.0)\n",
      "Requirement already satisfied: keras~=2.6 in /Users/axlav/.pyenv/versions/3.8.6/envs/neuralart_3.8.6/lib/python3.8/site-packages (from tensorflow->neural-art==1.0) (2.6.0)\n",
      "Requirement already satisfied: tensorflow-estimator~=2.6 in /Users/axlav/.pyenv/versions/3.8.6/envs/neuralart_3.8.6/lib/python3.8/site-packages (from tensorflow->neural-art==1.0) (2.6.0)\n",
      "Requirement already satisfied: astunparse~=1.6.3 in /Users/axlav/.pyenv/versions/3.8.6/envs/neuralart_3.8.6/lib/python3.8/site-packages (from tensorflow->neural-art==1.0) (1.6.3)\n",
      "Requirement already satisfied: absl-py~=0.10 in /Users/axlav/.pyenv/versions/3.8.6/envs/neuralart_3.8.6/lib/python3.8/site-packages (from tensorflow->neural-art==1.0) (0.13.0)\n",
      "Requirement already satisfied: wheel~=0.35 in /Users/axlav/.pyenv/versions/3.8.6/envs/neuralart_3.8.6/lib/python3.8/site-packages (from tensorflow->neural-art==1.0) (0.37.0)\n",
      "Requirement already satisfied: termcolor~=1.1.0 in /Users/axlav/.pyenv/versions/3.8.6/envs/neuralart_3.8.6/lib/python3.8/site-packages (from tensorflow->neural-art==1.0) (1.1.0)\n",
      "Requirement already satisfied: h5py~=3.1.0 in /Users/axlav/.pyenv/versions/3.8.6/envs/neuralart_3.8.6/lib/python3.8/site-packages (from tensorflow->neural-art==1.0) (3.1.0)\n",
      "Requirement already satisfied: gast==0.4.0 in /Users/axlav/.pyenv/versions/3.8.6/envs/neuralart_3.8.6/lib/python3.8/site-packages (from tensorflow->neural-art==1.0) (0.4.0)\n",
      "Requirement already satisfied: tensorboard~=2.6 in /Users/axlav/.pyenv/versions/3.8.6/envs/neuralart_3.8.6/lib/python3.8/site-packages (from tensorflow->neural-art==1.0) (2.6.0)\n",
      "Requirement already satisfied: keras-preprocessing~=1.1.2 in /Users/axlav/.pyenv/versions/3.8.6/envs/neuralart_3.8.6/lib/python3.8/site-packages (from tensorflow->neural-art==1.0) (1.1.2)\n",
      "Requirement already satisfied: google-pasta~=0.2 in /Users/axlav/.pyenv/versions/3.8.6/envs/neuralart_3.8.6/lib/python3.8/site-packages (from tensorflow->neural-art==1.0) (0.2.0)\n",
      "Requirement already satisfied: markdown>=2.6.8 in /Users/axlav/.pyenv/versions/3.8.6/envs/neuralart_3.8.6/lib/python3.8/site-packages (from tensorboard~=2.6->tensorflow->neural-art==1.0) (3.3.4)\n",
      "Requirement already satisfied: tensorboard-plugin-wit>=1.6.0 in /Users/axlav/.pyenv/versions/3.8.6/envs/neuralart_3.8.6/lib/python3.8/site-packages (from tensorboard~=2.6->tensorflow->neural-art==1.0) (1.8.0)\n",
      "Requirement already satisfied: tensorboard-data-server<0.7.0,>=0.6.0 in /Users/axlav/.pyenv/versions/3.8.6/envs/neuralart_3.8.6/lib/python3.8/site-packages (from tensorboard~=2.6->tensorflow->neural-art==1.0) (0.6.1)\n",
      "Installing collected packages: neural-art\n",
      "  Attempting uninstall: neural-art\n",
      "    Found existing installation: neural-art 1.0\n",
      "    Uninstalling neural-art-1.0:\n",
      "      Successfully uninstalled neural-art-1.0\n",
      "  Running setup.py develop for neural-art\n",
      "Successfully installed neural-art-1.0\n",
      "Note: you may need to restart the kernel to use updated packages.\n"
     ]
    }
   ],
   "source": [
    "pip install -e ."
   ]
  },
  {
   "cell_type": "code",
   "execution_count": 6,
   "id": "88a62bfe",
   "metadata": {
    "ExecuteTime": {
     "end_time": "2021-08-24T10:53:04.752445Z",
     "start_time": "2021-08-24T10:53:03.451066Z"
    }
   },
   "outputs": [
    {
     "name": "stdout",
     "output_type": "stream",
     "text": [
      "Requirement already satisfied: pip in /Users/axlav/.pyenv/versions/3.8.6/envs/neuralart_3.8.6/lib/python3.8/site-packages (21.2.4)\r\n"
     ]
    }
   ],
   "source": [
    "!pip install --upgrade pip"
   ]
  },
  {
   "cell_type": "code",
   "execution_count": 2,
   "id": "0c2feac0",
   "metadata": {
    "ExecuteTime": {
     "end_time": "2021-08-25T08:13:19.371239Z",
     "start_time": "2021-08-25T08:13:18.121898Z"
    }
   },
   "outputs": [
    {
     "name": "stderr",
     "output_type": "stream",
     "text": [
      "/Users/axlav/.pyenv/versions/3.8.6/envs/neuralart_3.8.6/lib/python3.8/site-packages/pandas/compat/__init__.py:124: UserWarning: Could not import the lzma module. Your installed Python is incomplete. Attempting to use lzma compression will result in a RuntimeError.\n",
      "  warnings.warn(msg)\n"
     ]
    }
   ],
   "source": [
    "import pandas as pd\n",
    "import numpy as np\n",
    "import seaborn as sns\n",
    "sns.set_theme(style=\"darkgrid\")\n",
    "import matplotlib.pyplot as plt\n",
    "import os\n",
    "from shutil import copyfile"
   ]
  },
  {
   "cell_type": "code",
   "execution_count": 3,
   "id": "8e11ad43-bc6a-425a-a2e3-0d36cc773bda",
   "metadata": {
    "ExecuteTime": {
     "end_time": "2021-08-25T08:13:20.698098Z",
     "start_time": "2021-08-25T08:13:20.674922Z"
    }
   },
   "outputs": [],
   "source": [
    "from neuralart.data import *"
   ]
  },
  {
   "cell_type": "markdown",
   "id": "44e5a94d",
   "metadata": {},
   "source": [
    "# Get Data"
   ]
  },
  {
   "cell_type": "code",
   "execution_count": 11,
   "id": "842242c6",
   "metadata": {
    "ExecuteTime": {
     "end_time": "2021-08-24T10:54:13.184841Z",
     "start_time": "2021-08-24T10:54:13.039794Z"
    },
    "scrolled": true
   },
   "outputs": [
    {
     "name": "stdout",
     "output_type": "stream",
     "text": [
      "/Users/axlav/code/Aximande/Neural-Art\r\n"
     ]
    }
   ],
   "source": [
    "!pwd"
   ]
  },
  {
   "cell_type": "code",
   "execution_count": 12,
   "id": "68b9ea6d",
   "metadata": {
    "ExecuteTime": {
     "end_time": "2021-08-24T10:55:26.594848Z",
     "start_time": "2021-08-24T10:55:26.570211Z"
    }
   },
   "outputs": [
    {
     "name": "stdout",
     "output_type": "stream",
     "text": [
      "/Users/axlav/code/Aximande/Neural-Art/notebooks\n"
     ]
    }
   ],
   "source": [
    "cd notebooks/"
   ]
  },
  {
   "cell_type": "code",
   "execution_count": 9,
   "id": "82b66923",
   "metadata": {
    "ExecuteTime": {
     "end_time": "2021-08-25T08:17:41.299167Z",
     "start_time": "2021-08-25T08:17:41.275543Z"
    },
    "scrolled": true
   },
   "outputs": [
    {
     "data": {
      "text/plain": [
       "['pablo_model_baseline.ipynb',\n",
       " '.keep',\n",
       " 'alex_data_prep.ipynb',\n",
       " 'gregoire_data_preparation.ipynb',\n",
       " '.ipynb_checkpoints']"
      ]
     },
     "execution_count": 9,
     "metadata": {},
     "output_type": "execute_result"
    }
   ],
   "source": [
    "main_path = '/Users/axlav/code/Aximande/Neural-Art/notebooks'\n",
    "os.listdir(main_path)\n"
   ]
  },
  {
   "cell_type": "code",
   "execution_count": 4,
   "id": "d0081d1c",
   "metadata": {
    "ExecuteTime": {
     "end_time": "2021-08-25T08:14:05.563172Z",
     "start_time": "2021-08-25T08:14:05.544472Z"
    }
   },
   "outputs": [],
   "source": [
    "csv_path = \"../raw_data/wikiart\"\n",
    "image_path= \"../raw_data/wikiart/wikiart\"\n",
    "sample_path = \"../raw_data/wikiart\""
   ]
  },
  {
   "cell_type": "code",
   "execution_count": 5,
   "id": "642dc50c",
   "metadata": {
    "ExecuteTime": {
     "end_time": "2021-08-25T08:14:22.532070Z",
     "start_time": "2021-08-25T08:14:07.621593Z"
    }
   },
   "outputs": [],
   "source": [
    "data = get_data(csv_path, image_path, create_csv=True)"
   ]
  },
  {
   "cell_type": "code",
   "execution_count": 6,
   "id": "20d09207",
   "metadata": {
    "ExecuteTime": {
     "end_time": "2021-08-25T08:14:25.295223Z",
     "start_time": "2021-08-25T08:14:25.265246Z"
    }
   },
   "outputs": [
    {
     "name": "stdout",
     "output_type": "stream",
     "text": [
      "(81446, 9)\n"
     ]
    },
    {
     "data": {
      "text/html": [
       "<div>\n",
       "<style scoped>\n",
       "    .dataframe tbody tr th:only-of-type {\n",
       "        vertical-align: middle;\n",
       "    }\n",
       "\n",
       "    .dataframe tbody tr th {\n",
       "        vertical-align: top;\n",
       "    }\n",
       "\n",
       "    .dataframe thead th {\n",
       "        text-align: right;\n",
       "    }\n",
       "</style>\n",
       "<table border=\"1\" class=\"dataframe\">\n",
       "  <thead>\n",
       "    <tr style=\"text-align: right;\">\n",
       "      <th></th>\n",
       "      <th>path</th>\n",
       "      <th>movement</th>\n",
       "      <th>artist</th>\n",
       "      <th>title</th>\n",
       "      <th>image</th>\n",
       "      <th>genre</th>\n",
       "      <th>cs-split-genre</th>\n",
       "      <th>cs-split-style</th>\n",
       "      <th>cs-split-artist</th>\n",
       "    </tr>\n",
       "  </thead>\n",
       "  <tbody>\n",
       "    <tr>\n",
       "      <th>0</th>\n",
       "      <td>Early_Renaissance/filippo-lippi_two-saints.jpg</td>\n",
       "      <td>Early_Renaissance</td>\n",
       "      <td>filippo-lippi</td>\n",
       "      <td>two-saints.jpg</td>\n",
       "      <td>filippo-lippi_two-saints.jpg</td>\n",
       "      <td>religious_painting</td>\n",
       "      <td>val</td>\n",
       "      <td>val</td>\n",
       "      <td>NaN</td>\n",
       "    </tr>\n",
       "  </tbody>\n",
       "</table>\n",
       "</div>"
      ],
      "text/plain": [
       "                                             path           movement  \\\n",
       "0  Early_Renaissance/filippo-lippi_two-saints.jpg  Early_Renaissance   \n",
       "\n",
       "          artist           title                         image  \\\n",
       "0  filippo-lippi  two-saints.jpg  filippo-lippi_two-saints.jpg   \n",
       "\n",
       "                genre cs-split-genre cs-split-style cs-split-artist  \n",
       "0  religious_painting            val            val             NaN  "
      ]
     },
     "execution_count": 6,
     "metadata": {},
     "output_type": "execute_result"
    }
   ],
   "source": [
    "print(data.shape)\n",
    "data.head(1)"
   ]
  },
  {
   "cell_type": "code",
   "execution_count": 20,
   "id": "502eff25",
   "metadata": {
    "ExecuteTime": {
     "end_time": "2021-08-24T10:56:41.924885Z",
     "start_time": "2021-08-24T10:56:26.157125Z"
    }
   },
   "outputs": [],
   "source": [
    "merge = {\"Abstract_Expressionism\": \"Abstract\", \n",
    "         \"Action_painting\": \"Abstract\", \n",
    "         \"Color_Field_Painting\": \"Abstract\",\n",
    "         \"Synthetic_Cubism\": \"Cubism\", \n",
    "         \"Analytical_Cubism\": \"Cubism\",\n",
    "         \"Rococo\": \"Baroque\",\n",
    "         \"Early_Renaissance\": \"Renaissance\",\n",
    "         \"High_Renaissance\": \"Renaissance\",\n",
    "         \"Mannerism_Late_Renaissance\": \"Renaissance\",\n",
    "         \"Northern_Renaissance\": \"Renaissance\",\n",
    "         \"Post_Impressionism\": \"Impressionism\",\n",
    "         \"Symbolism\": \"Impressionism\"\n",
    "        }\n",
    "\n",
    "data_merge = get_data(csv_path, image_path, create_csv=True, merge=merge)"
   ]
  },
  {
   "cell_type": "markdown",
   "id": "c60a9c35",
   "metadata": {},
   "source": [
    "# Data Visualization"
   ]
  },
  {
   "cell_type": "code",
   "execution_count": null,
   "id": "ad13813c",
   "metadata": {
    "ExecuteTime": {
     "end_time": "2021-08-24T10:53:05.816333Z",
     "start_time": "2021-08-24T10:53:05.816295Z"
    }
   },
   "outputs": [],
   "source": [
    "col = ['cs-split-artist','cs-split-genre','cs-split-style','path']\n",
    "\n",
    "fig, ax = plt.subplots(1,1,figsize=(15,10))\n",
    "sns.barplot(y=data[col].count().index, \n",
    "            x=data[col].count().values,\n",
    "            order=data[col].count().sort_values(ascending=False).index,\n",
    "            ax=ax);\n",
    "\n",
    "for i, v in enumerate(data[col].count().sort_values(ascending=False).values):\n",
    "    ax.text(v, i , str(v), color='blue', fontweight='bold')\n",
    "    \n",
    "ax.set_yticklabels(['total','cs-movement (style)','cs-genre','cs-artist']);\n",
    "ax.set_title(\"Number of images per target\");\n",
    "ax.set_xlabel(\"Count\");\n",
    "ax.set_ylabel(\"Target\");"
   ]
  },
  {
   "cell_type": "code",
   "execution_count": null,
   "id": "63f5a6f6",
   "metadata": {
    "ExecuteTime": {
     "end_time": "2021-08-24T10:53:05.817309Z",
     "start_time": "2021-08-24T10:53:05.817298Z"
    }
   },
   "outputs": [],
   "source": [
    "col = ['artist','genre','movement']\n",
    "\n",
    "fig, ax = plt.subplots(1,1,figsize=(15,10))\n",
    "sns.barplot(y=data[col].nunique().index, \n",
    "            x=data[col].nunique().values,\n",
    "            order=data[col].nunique().sort_values(ascending=False).index,\n",
    "            ax=ax);\n",
    "\n",
    "for i, v in enumerate(data[col].nunique().sort_values(ascending=False).values):\n",
    "    ax.text(v, i , str(v), color='blue', fontweight='bold')\n",
    "    \n",
    "ax.set_title(\"Number of classes per target (all images)\");\n",
    "ax.set_xlabel(\"Count\");\n",
    "ax.set_ylabel(\"Target\");"
   ]
  },
  {
   "cell_type": "code",
   "execution_count": null,
   "id": "e6e8af76",
   "metadata": {
    "ExecuteTime": {
     "end_time": "2021-08-24T10:53:05.818298Z",
     "start_time": "2021-08-24T10:53:05.818287Z"
    }
   },
   "outputs": [],
   "source": [
    "fig, ax = plt.subplots(1,1,figsize=(15,10));\n",
    "sns.countplot(data=data, y=\"movement\", \n",
    "              order = data['movement'].value_counts().index,\n",
    "              ax=ax);\n",
    "\n",
    "for i, v in enumerate(data[\"movement\"].value_counts().values):\n",
    "    ax.text(v, i , str(v), color='blue', fontweight='bold')\n",
    "    \n",
    "ax.set_title(\"Number of images per movement (style)\");\n",
    "ax.set_ylabel(\"Movement (style)\");"
   ]
  },
  {
   "cell_type": "code",
   "execution_count": null,
   "id": "5ff5761a",
   "metadata": {
    "ExecuteTime": {
     "end_time": "2021-08-24T10:53:05.819361Z",
     "start_time": "2021-08-24T10:53:05.819349Z"
    }
   },
   "outputs": [],
   "source": [
    "fig, ax = plt.subplots(1,1,figsize=(15,10));\n",
    "sns.countplot(data=data_merge, y=\"movement\", \n",
    "              order = data_merge['movement'].value_counts().index,\n",
    "              ax=ax);\n",
    "\n",
    "for i, v in enumerate(data_merge[\"movement\"].value_counts().values):\n",
    "    ax.text(v, i , str(v), color='blue', fontweight='bold')\n",
    "    \n",
    "ax.set_title(\"Number of images per merged movement\");\n",
    "ax.set_ylabel(\"Movement (style)\");"
   ]
  },
  {
   "cell_type": "code",
   "execution_count": null,
   "id": "cf57b917",
   "metadata": {
    "ExecuteTime": {
     "end_time": "2021-08-24T10:53:05.820744Z",
     "start_time": "2021-08-24T10:53:05.820710Z"
    }
   },
   "outputs": [],
   "source": [
    "fig, ax = plt.subplots(1,1,figsize=(15,10));\n",
    "sns.countplot(data=data, y=\"genre\", \n",
    "              order = data['genre'].value_counts().index,\n",
    "              ax=ax);\n",
    "\n",
    "for i, v in enumerate(data[\"genre\"].value_counts().values):\n",
    "    ax.text(v, i , str(v), color='blue', fontweight='bold')\n",
    "    \n",
    "ax.set_title(\"Number of images per genre\");"
   ]
  },
  {
   "cell_type": "code",
   "execution_count": null,
   "id": "ed175839",
   "metadata": {
    "ExecuteTime": {
     "end_time": "2021-08-24T10:53:05.821954Z",
     "start_time": "2021-08-24T10:53:05.821939Z"
    }
   },
   "outputs": [],
   "source": [
    "fig, ax = plt.subplots(1,1,figsize=(15,10));\n",
    "sns.barplot(y=data.groupby(\"movement\").artist.nunique().index, \n",
    "            x=data.groupby(\"movement\").artist.nunique().values,\n",
    "            order=data.groupby(\"movement\").artist.nunique().sort_values(ascending=False).index,\n",
    "            ax=ax);\n",
    "\n",
    "for i, v in enumerate(data.groupby(\"movement\").artist.nunique().sort_values(ascending=False).values):\n",
    "    ax.text(v, i , str(v), color='blue', fontweight='bold')\n",
    "    \n",
    "ax.set_title(\"Number of artists per movement\");\n",
    "ax.set_xlabel(\"Count\");"
   ]
  },
  {
   "cell_type": "code",
   "execution_count": null,
   "id": "a0723070",
   "metadata": {
    "ExecuteTime": {
     "end_time": "2021-08-24T10:53:05.823161Z",
     "start_time": "2021-08-24T10:53:05.823146Z"
    }
   },
   "outputs": [],
   "source": [
    "data2 = data[data[\"cs-split-genre\"].notnull()]\n",
    "\n",
    "fig, ax = plt.subplots(1,1,figsize=(15,10));\n",
    "sns.countplot(data=data2, y=\"movement\", \n",
    "              order = data2['movement'].value_counts().index,\n",
    "              ax=ax);\n",
    "\n",
    "for i, v in enumerate(data2[\"movement\"].value_counts().values):\n",
    "    ax.text(v, i , str(v), color='blue', fontweight='bold')\n",
    "    \n",
    "ax.set_title(\"Number of images with genre per movement (style)\");\n",
    "ax.set_ylabel(\"Movement (style)\");"
   ]
  },
  {
   "cell_type": "code",
   "execution_count": null,
   "id": "0fac5421",
   "metadata": {
    "ExecuteTime": {
     "end_time": "2021-08-24T10:53:05.824141Z",
     "start_time": "2021-08-24T10:53:05.824129Z"
    }
   },
   "outputs": [],
   "source": [
    "data[data[\"cs-split-genre\"].notnull()][data[\"movement\"]==\"Abstract_Expressionism\"].head(100)"
   ]
  },
  {
   "cell_type": "code",
   "execution_count": null,
   "id": "deadebe2",
   "metadata": {
    "ExecuteTime": {
     "end_time": "2021-08-24T10:53:05.825138Z",
     "start_time": "2021-08-24T10:53:05.825125Z"
    }
   },
   "outputs": [],
   "source": [
    "def show_samples(df,sample_size=10):\n",
    "    root_path='../raw_data/wikiart/wikiart/'\n",
    "    artist=df['artist']\n",
    "    movement=df['movement']\n",
    "    title=df['title']\n",
    "    folder_path=list(df['path'].sample(n=sample_size))\n",
    "    complete_path=[root_path + i for i in folder_path]\n",
    "    fig = plt.figure(constrained_layout=True,figsize=(10,5*sample_size))\n",
    "    for i in list(range(0,sample_size)):\n",
    "        plt.subplot(sample_size,1,i+1)\n",
    "        image=plt.imread(complete_path[i])\n",
    "        label=f'{movement[i]} - {title[i]} by {artist[i]}'\n",
    "        plt.text(x=10,y=-2,s=label)\n",
    "        plt.imshow(image)"
   ]
  }
 ],
 "metadata": {
  "kernelspec": {
   "display_name": "Python 3 (ipykernel)",
   "language": "python",
   "name": "python3"
  },
  "language_info": {
   "codemirror_mode": {
    "name": "ipython",
    "version": 3
   },
   "file_extension": ".py",
   "mimetype": "text/x-python",
   "name": "python",
   "nbconvert_exporter": "python",
   "pygments_lexer": "ipython3",
   "version": "3.8.6"
  },
  "toc": {
   "base_numbering": 1,
   "nav_menu": {},
   "number_sections": true,
   "sideBar": true,
   "skip_h1_title": false,
   "title_cell": "Table of Contents",
   "title_sidebar": "Contents",
   "toc_cell": false,
   "toc_position": {},
   "toc_section_display": true,
   "toc_window_display": true
  },
  "varInspector": {
   "cols": {
    "lenName": 16,
    "lenType": 16,
    "lenVar": 40
   },
   "kernels_config": {
    "python": {
     "delete_cmd_postfix": "",
     "delete_cmd_prefix": "del ",
     "library": "var_list.py",
     "varRefreshCmd": "print(var_dic_list())"
    },
    "r": {
     "delete_cmd_postfix": ") ",
     "delete_cmd_prefix": "rm(",
     "library": "var_list.r",
     "varRefreshCmd": "cat(var_dic_list()) "
    }
   },
   "types_to_exclude": [
    "module",
    "function",
    "builtin_function_or_method",
    "instance",
    "_Feature"
   ],
   "window_display": false
  }
 },
 "nbformat": 4,
 "nbformat_minor": 5
}
