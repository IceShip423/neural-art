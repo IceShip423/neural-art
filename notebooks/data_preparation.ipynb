{
 "cells": [
  {
   "cell_type": "markdown",
   "id": "1de8a528",
   "metadata": {},
   "source": [
    "# Import"
   ]
  },
  {
   "cell_type": "code",
   "execution_count": 1,
   "id": "0c2feac0",
   "metadata": {
    "ExecuteTime": {
     "end_time": "2021-08-20T13:14:19.481950Z",
     "start_time": "2021-08-20T13:14:17.361445Z"
    }
   },
   "outputs": [],
   "source": [
    "import pandas as pd\n",
    "import numpy as np\n",
    "import seaborn as sns\n",
    "import matplotlib.pyplot as plt\n",
    "\n",
    "import os "
   ]
  },
  {
   "cell_type": "markdown",
   "id": "432a1b77",
   "metadata": {},
   "source": [
    "# cschan dataset"
   ]
  },
  {
   "cell_type": "code",
   "execution_count": 3,
   "id": "6fa94a76",
   "metadata": {
    "ExecuteTime": {
     "end_time": "2021-08-20T13:14:45.687433Z",
     "start_time": "2021-08-20T13:14:45.682073Z"
    }
   },
   "outputs": [],
   "source": [
    "csv_path = \"../raw_data/wikiart/\""
   ]
  },
  {
   "cell_type": "code",
   "execution_count": 4,
   "id": "1fdb7587",
   "metadata": {
    "ExecuteTime": {
     "end_time": "2021-08-19T08:41:26.940678Z",
     "start_time": "2021-08-19T08:41:26.678396Z"
    }
   },
   "outputs": [],
   "source": [
    "style_train = pd.read_csv(csv_path + \"style_train.csv\", header=None)\n",
    "style_val = pd.read_csv(csv_path + \"style_val.csv\", header=None)\n",
    "style = pd.concat([style_train, style_val], ignore_index=True)\n",
    "style.columns = [\"path\", \"style_id\"]\n",
    "\n",
    "genre_train = pd.read_csv(csv_path + \"genre_train.csv\", header=None)\n",
    "genre_val = pd.read_csv(csv_path + \"genre_val.csv\", header=None)\n",
    "genre = pd.concat([genre_train, genre_val], ignore_index=True)\n",
    "genre.columns = [\"path\", \"genre_id\"]\n",
    "\n",
    "artist_train = pd.read_csv(csv_path + \"artist_train.csv\", header=None)\n",
    "artist_val = pd.read_csv(csv_path + \"artist_val.csv\", header=None)\n",
    "artist = pd.concat([artist_train, artist_val], ignore_index=True)\n",
    "artist.columns = [\"path\", \"artist_id\"]"
   ]
  },
  {
   "cell_type": "code",
   "execution_count": 5,
   "id": "03833b0d-5d3a-446a-893f-2088424569aa",
   "metadata": {
    "ExecuteTime": {
     "end_time": "2021-08-19T08:41:30.462234Z",
     "start_time": "2021-08-19T08:41:30.168839Z"
    }
   },
   "outputs": [
    {
     "data": {
      "image/png": "[encoded data removed]",
      "text/plain": [
       "<Figure size 1080x720 with 1 Axes>"
      ]
     },
     "metadata": {
      "needs_background": "light"
     },
     "output_type": "display_data"
    }
   ],
   "source": [
    "fig, ax = plt.subplots(1, 1, figsize=(15, 10))\n",
    "sns.barplot(x=[\"chan-style-task\", \"chan-genre-task\", \"chan-artist-task\"], y=[style.shape[0], genre.shape[0], artist.shape[0]], ax=ax)\n",
    "\n",
    "ax.set_title(\"Cschan dataset\")\n",
    "for i, j in enumerate([style.shape[0], genre.shape[0], artist.shape[0]]):\n",
    "    ax.text(i, j, j, color='black', ha=\"center\", fontsize=12)"
   ]
  },
  {
   "cell_type": "code",
   "execution_count": 6,
   "id": "dee6bdc7",
   "metadata": {
    "ExecuteTime": {
     "end_time": "2021-08-19T08:42:15.842119Z",
     "start_time": "2021-08-19T08:42:15.386991Z"
    }
   },
   "outputs": [],
   "source": [
    "genre[\"style-from-path\"] = genre[\"path\"].apply(lambda x: x.split('/')[0])\n",
    "genre[\"artist-from-path\"] = genre[\"path\"].apply(lambda x: x.split('/')[1].split('_')[0])\n",
    "genre[\"title-from-path\"] = genre[\"path\"].apply(lambda x: x.split('/')[1].split('_')[1])\n",
    "\n",
    "artist[\"style-from-path\"] = artist[\"path\"].apply(lambda x: x.split('/')[0])\n",
    "artist[\"artist-from-path\"] = artist[\"path\"].apply(lambda x: x.split('/')[1].split('_')[0])\n",
    "artist[\"title-from-path\"] = artist[\"path\"].apply(lambda x: x.split('/')[1].split('_')[1])\n",
    "\n",
    "style[\"style-from-path\"] = style[\"path\"].apply(lambda x: x.split('/')[0])\n",
    "style[\"artist-from-path\"] = style[\"path\"].apply(lambda x: x.split('/')[1].split('_')[0])\n",
    "style[\"title-from-path\"] = style[\"path\"].apply(lambda x: x.split('/')[1].split('_')[1])"
   ]
  },
  {
   "cell_type": "code",
   "execution_count": 7,
   "id": "0090e7a3-76b0-4db6-92a8-67115ec55d07",
   "metadata": {
    "ExecuteTime": {
     "end_time": "2021-08-19T08:42:17.716422Z",
     "start_time": "2021-08-19T08:42:17.688438Z"
    }
   },
   "outputs": [
    {
     "data": {
      "text/html": [
       "<div>\n",
       "<style scoped>\n",
       "    .dataframe tbody tr th:only-of-type {\n",
       "        vertical-align: middle;\n",
       "    }\n",
       "\n",
       "    .dataframe tbody tr th {\n",
       "        vertical-align: top;\n",
       "    }\n",
       "\n",
       "    .dataframe thead th {\n",
       "        text-align: right;\n",
       "    }\n",
       "</style>\n",
       "<table border=\"1\" class=\"dataframe\">\n",
       "  <thead>\n",
       "    <tr style=\"text-align: right;\">\n",
       "      <th></th>\n",
       "      <th>path</th>\n",
       "      <th>artist_id</th>\n",
       "      <th>style-from-path</th>\n",
       "      <th>artist-from-path</th>\n",
       "      <th>title-from-path</th>\n",
       "    </tr>\n",
       "  </thead>\n",
       "  <tbody>\n",
       "    <tr>\n",
       "      <th>0</th>\n",
       "      <td>Realism/vincent-van-gogh_pine-trees-in-the-fen...</td>\n",
       "      <td>22</td>\n",
       "      <td>Realism</td>\n",
       "      <td>vincent-van-gogh</td>\n",
       "      <td>pine-trees-in-the-fen-1884.jpg</td>\n",
       "    </tr>\n",
       "    <tr>\n",
       "      <th>1</th>\n",
       "      <td>Baroque/rembrandt_the-angel-appearing-to-the-s...</td>\n",
       "      <td>20</td>\n",
       "      <td>Baroque</td>\n",
       "      <td>rembrandt</td>\n",
       "      <td>the-angel-appearing-to-the-shepherds-1634.jpg</td>\n",
       "    </tr>\n",
       "    <tr>\n",
       "      <th>2</th>\n",
       "      <td>Post_Impressionism/paul-cezanne_portrait-of-th...</td>\n",
       "      <td>16</td>\n",
       "      <td>Post_Impressionism</td>\n",
       "      <td>paul-cezanne</td>\n",
       "      <td>portrait-of-the-artist-s-son.jpg</td>\n",
       "    </tr>\n",
       "    <tr>\n",
       "      <th>3</th>\n",
       "      <td>Impressionism/pierre-auguste-renoir_young-girl...</td>\n",
       "      <td>17</td>\n",
       "      <td>Impressionism</td>\n",
       "      <td>pierre-auguste-renoir</td>\n",
       "      <td>young-girl-seated-in-a-meadow-1916.jpg</td>\n",
       "    </tr>\n",
       "    <tr>\n",
       "      <th>4</th>\n",
       "      <td>Romanticism/ivan-aivazovsky_morning-1851.jpg</td>\n",
       "      <td>9</td>\n",
       "      <td>Romanticism</td>\n",
       "      <td>ivan-aivazovsky</td>\n",
       "      <td>morning-1851.jpg</td>\n",
       "    </tr>\n",
       "    <tr>\n",
       "      <th>...</th>\n",
       "      <td>...</td>\n",
       "      <td>...</td>\n",
       "      <td>...</td>\n",
       "      <td>...</td>\n",
       "      <td>...</td>\n",
       "    </tr>\n",
       "    <tr>\n",
       "      <th>19047</th>\n",
       "      <td>Cubism/pablo-picasso_two-naked-figures.jpg</td>\n",
       "      <td>15</td>\n",
       "      <td>Cubism</td>\n",
       "      <td>pablo-picasso</td>\n",
       "      <td>two-naked-figures.jpg</td>\n",
       "    </tr>\n",
       "    <tr>\n",
       "      <th>19048</th>\n",
       "      <td>Symbolism/pablo-picasso_the-tragedy-1903.jpg</td>\n",
       "      <td>15</td>\n",
       "      <td>Symbolism</td>\n",
       "      <td>pablo-picasso</td>\n",
       "      <td>the-tragedy-1903.jpg</td>\n",
       "    </tr>\n",
       "    <tr>\n",
       "      <th>19049</th>\n",
       "      <td>Expressionism/pablo-picasso_drunk-woman-is-tir...</td>\n",
       "      <td>15</td>\n",
       "      <td>Expressionism</td>\n",
       "      <td>pablo-picasso</td>\n",
       "      <td>drunk-woman-is-tired-1902.jpg</td>\n",
       "    </tr>\n",
       "    <tr>\n",
       "      <th>19050</th>\n",
       "      <td>Expressionism/pablo-picasso_untitled-1958-1.jpg</td>\n",
       "      <td>15</td>\n",
       "      <td>Expressionism</td>\n",
       "      <td>pablo-picasso</td>\n",
       "      <td>untitled-1958-1.jpg</td>\n",
       "    </tr>\n",
       "    <tr>\n",
       "      <th>19051</th>\n",
       "      <td>Cubism/pablo-picasso_crane-and-pitcher-1945.jpg</td>\n",
       "      <td>15</td>\n",
       "      <td>Cubism</td>\n",
       "      <td>pablo-picasso</td>\n",
       "      <td>crane-and-pitcher-1945.jpg</td>\n",
       "    </tr>\n",
       "  </tbody>\n",
       "</table>\n",
       "<p>19052 rows × 5 columns</p>\n",
       "</div>"
      ],
      "text/plain": [
       "                                                    path  artist_id  \\\n",
       "0      Realism/vincent-van-gogh_pine-trees-in-the-fen...         22   \n",
       "1      Baroque/rembrandt_the-angel-appearing-to-the-s...         20   \n",
       "2      Post_Impressionism/paul-cezanne_portrait-of-th...         16   \n",
       "3      Impressionism/pierre-auguste-renoir_young-girl...         17   \n",
       "4           Romanticism/ivan-aivazovsky_morning-1851.jpg          9   \n",
       "...                                                  ...        ...   \n",
       "19047         Cubism/pablo-picasso_two-naked-figures.jpg         15   \n",
       "19048       Symbolism/pablo-picasso_the-tragedy-1903.jpg         15   \n",
       "19049  Expressionism/pablo-picasso_drunk-woman-is-tir...         15   \n",
       "19050    Expressionism/pablo-picasso_untitled-1958-1.jpg         15   \n",
       "19051    Cubism/pablo-picasso_crane-and-pitcher-1945.jpg         15   \n",
       "\n",
       "          style-from-path       artist-from-path  \\\n",
       "0                 Realism       vincent-van-gogh   \n",
       "1                 Baroque              rembrandt   \n",
       "2      Post_Impressionism           paul-cezanne   \n",
       "3           Impressionism  pierre-auguste-renoir   \n",
       "4             Romanticism        ivan-aivazovsky   \n",
       "...                   ...                    ...   \n",
       "19047              Cubism          pablo-picasso   \n",
       "19048           Symbolism          pablo-picasso   \n",
       "19049       Expressionism          pablo-picasso   \n",
       "19050       Expressionism          pablo-picasso   \n",
       "19051              Cubism          pablo-picasso   \n",
       "\n",
       "                                     title-from-path  \n",
       "0                     pine-trees-in-the-fen-1884.jpg  \n",
       "1      the-angel-appearing-to-the-shepherds-1634.jpg  \n",
       "2                   portrait-of-the-artist-s-son.jpg  \n",
       "3             young-girl-seated-in-a-meadow-1916.jpg  \n",
       "4                                   morning-1851.jpg  \n",
       "...                                              ...  \n",
       "19047                          two-naked-figures.jpg  \n",
       "19048                           the-tragedy-1903.jpg  \n",
       "19049                  drunk-woman-is-tired-1902.jpg  \n",
       "19050                            untitled-1958-1.jpg  \n",
       "19051                     crane-and-pitcher-1945.jpg  \n",
       "\n",
       "[19052 rows x 5 columns]"
      ]
     },
     "execution_count": 7,
     "metadata": {},
     "output_type": "execute_result"
    }
   ],
   "source": [
    "artist"
   ]
  },
  {
   "cell_type": "code",
   "execution_count": 8,
   "id": "e7983f45-c343-4be1-a937-d5f2b1996bff",
   "metadata": {
    "ExecuteTime": {
     "end_time": "2021-08-19T08:42:38.241800Z",
     "start_time": "2021-08-19T08:42:38.208279Z"
    }
   },
   "outputs": [
    {
     "data": {
      "text/html": [
       "<div>\n",
       "<style scoped>\n",
       "    .dataframe tbody tr th:only-of-type {\n",
       "        vertical-align: middle;\n",
       "    }\n",
       "\n",
       "    .dataframe tbody tr th {\n",
       "        vertical-align: top;\n",
       "    }\n",
       "\n",
       "    .dataframe thead th {\n",
       "        text-align: right;\n",
       "    }\n",
       "</style>\n",
       "<table border=\"1\" class=\"dataframe\">\n",
       "  <thead>\n",
       "    <tr style=\"text-align: right;\">\n",
       "      <th></th>\n",
       "      <th>path</th>\n",
       "      <th>genre_id</th>\n",
       "      <th>style-from-path</th>\n",
       "      <th>artist-from-path</th>\n",
       "      <th>title-from-path</th>\n",
       "    </tr>\n",
       "  </thead>\n",
       "  <tbody>\n",
       "    <tr>\n",
       "      <th>0</th>\n",
       "      <td>Northern_Renaissance/hieronymus-bosch_st-jacqu...</td>\n",
       "      <td>7</td>\n",
       "      <td>Northern_Renaissance</td>\n",
       "      <td>hieronymus-bosch</td>\n",
       "      <td>st-jacques-and-the-magician-hermogenes.jpg</td>\n",
       "    </tr>\n",
       "    <tr>\n",
       "      <th>1</th>\n",
       "      <td>Post_Impressionism/vincent-van-gogh_ears-of-wh...</td>\n",
       "      <td>4</td>\n",
       "      <td>Post_Impressionism</td>\n",
       "      <td>vincent-van-gogh</td>\n",
       "      <td>ears-of-wheat-1890(1).jpg</td>\n",
       "    </tr>\n",
       "    <tr>\n",
       "      <th>2</th>\n",
       "      <td>Symbolism/theodor-severin-kittelsen_kvitebj-rn...</td>\n",
       "      <td>3</td>\n",
       "      <td>Symbolism</td>\n",
       "      <td>theodor-severin-kittelsen</td>\n",
       "      <td>kvitebj-rn-kong-valemon-1912-2.jpg</td>\n",
       "    </tr>\n",
       "    <tr>\n",
       "      <th>3</th>\n",
       "      <td>Expressionism/martiros-saryan_mother-of-the-ar...</td>\n",
       "      <td>6</td>\n",
       "      <td>Expressionism</td>\n",
       "      <td>martiros-saryan</td>\n",
       "      <td>mother-of-the-artist-1904.jpg</td>\n",
       "    </tr>\n",
       "    <tr>\n",
       "      <th>4</th>\n",
       "      <td>Early_Renaissance/leonardo-da-vinci_study-for-...</td>\n",
       "      <td>8</td>\n",
       "      <td>Early_Renaissance</td>\n",
       "      <td>leonardo-da-vinci</td>\n",
       "      <td>study-for-the-madonna-with-the-fruit-bowl.jpg</td>\n",
       "    </tr>\n",
       "    <tr>\n",
       "      <th>...</th>\n",
       "      <td>...</td>\n",
       "      <td>...</td>\n",
       "      <td>...</td>\n",
       "      <td>...</td>\n",
       "      <td>...</td>\n",
       "    </tr>\n",
       "    <tr>\n",
       "      <th>64990</th>\n",
       "      <td>Minimalism/rodolfo-arico_untitled-1965-1.jpg</td>\n",
       "      <td>0</td>\n",
       "      <td>Minimalism</td>\n",
       "      <td>rodolfo-arico</td>\n",
       "      <td>untitled-1965-1.jpg</td>\n",
       "    </tr>\n",
       "    <tr>\n",
       "      <th>64991</th>\n",
       "      <td>Abstract_Expressionism/perle-fine_sunblinded-1...</td>\n",
       "      <td>0</td>\n",
       "      <td>Abstract_Expressionism</td>\n",
       "      <td>perle-fine</td>\n",
       "      <td>sunblinded-1946.jpg</td>\n",
       "    </tr>\n",
       "    <tr>\n",
       "      <th>64992</th>\n",
       "      <td>Abstract_Expressionism/john-hoyland_trickster-...</td>\n",
       "      <td>0</td>\n",
       "      <td>Abstract_Expressionism</td>\n",
       "      <td>john-hoyland</td>\n",
       "      <td>trickster-1979.jpg</td>\n",
       "    </tr>\n",
       "    <tr>\n",
       "      <th>64993</th>\n",
       "      <td>Abstract_Expressionism/richard-pousette-dart_b...</td>\n",
       "      <td>0</td>\n",
       "      <td>Abstract_Expressionism</td>\n",
       "      <td>richard-pousette-dart</td>\n",
       "      <td>by-the-sea.jpg</td>\n",
       "    </tr>\n",
       "    <tr>\n",
       "      <th>64994</th>\n",
       "      <td>Minimalism/enrico-castellani_no-827-1963.jpg</td>\n",
       "      <td>0</td>\n",
       "      <td>Minimalism</td>\n",
       "      <td>enrico-castellani</td>\n",
       "      <td>no-827-1963.jpg</td>\n",
       "    </tr>\n",
       "  </tbody>\n",
       "</table>\n",
       "<p>64995 rows × 5 columns</p>\n",
       "</div>"
      ],
      "text/plain": [
       "                                                    path  genre_id  \\\n",
       "0      Northern_Renaissance/hieronymus-bosch_st-jacqu...         7   \n",
       "1      Post_Impressionism/vincent-van-gogh_ears-of-wh...         4   \n",
       "2      Symbolism/theodor-severin-kittelsen_kvitebj-rn...         3   \n",
       "3      Expressionism/martiros-saryan_mother-of-the-ar...         6   \n",
       "4      Early_Renaissance/leonardo-da-vinci_study-for-...         8   \n",
       "...                                                  ...       ...   \n",
       "64990       Minimalism/rodolfo-arico_untitled-1965-1.jpg         0   \n",
       "64991  Abstract_Expressionism/perle-fine_sunblinded-1...         0   \n",
       "64992  Abstract_Expressionism/john-hoyland_trickster-...         0   \n",
       "64993  Abstract_Expressionism/richard-pousette-dart_b...         0   \n",
       "64994       Minimalism/enrico-castellani_no-827-1963.jpg         0   \n",
       "\n",
       "              style-from-path           artist-from-path  \\\n",
       "0        Northern_Renaissance           hieronymus-bosch   \n",
       "1          Post_Impressionism           vincent-van-gogh   \n",
       "2                   Symbolism  theodor-severin-kittelsen   \n",
       "3               Expressionism            martiros-saryan   \n",
       "4           Early_Renaissance          leonardo-da-vinci   \n",
       "...                       ...                        ...   \n",
       "64990              Minimalism              rodolfo-arico   \n",
       "64991  Abstract_Expressionism                 perle-fine   \n",
       "64992  Abstract_Expressionism               john-hoyland   \n",
       "64993  Abstract_Expressionism      richard-pousette-dart   \n",
       "64994              Minimalism          enrico-castellani   \n",
       "\n",
       "                                     title-from-path  \n",
       "0         st-jacques-and-the-magician-hermogenes.jpg  \n",
       "1                          ears-of-wheat-1890(1).jpg  \n",
       "2                 kvitebj-rn-kong-valemon-1912-2.jpg  \n",
       "3                      mother-of-the-artist-1904.jpg  \n",
       "4      study-for-the-madonna-with-the-fruit-bowl.jpg  \n",
       "...                                              ...  \n",
       "64990                            untitled-1965-1.jpg  \n",
       "64991                            sunblinded-1946.jpg  \n",
       "64992                             trickster-1979.jpg  \n",
       "64993                                 by-the-sea.jpg  \n",
       "64994                                no-827-1963.jpg  \n",
       "\n",
       "[64995 rows x 5 columns]"
      ]
     },
     "execution_count": 8,
     "metadata": {},
     "output_type": "execute_result"
    }
   ],
   "source": [
    "genre"
   ]
  },
  {
   "cell_type": "code",
   "execution_count": 7,
   "id": "79691cb2",
   "metadata": {
    "ExecuteTime": {
     "end_time": "2021-08-20T13:17:33.650346Z",
     "start_time": "2021-08-20T13:17:33.642720Z"
    }
   },
   "outputs": [
    {
     "data": {
      "text/plain": [
       "['Early_Renaissance',\n",
       " 'Analytical_Cubism',\n",
       " 'Mannerism_Late_Renaissance',\n",
       " 'Expressionism',\n",
       " 'Contemporary_Realism',\n",
       " 'Fauvism',\n",
       " 'Northern_Renaissance',\n",
       " 'Rococo',\n",
       " 'Ukiyo_e',\n",
       " 'Pop_Art',\n",
       " 'High_Renaissance',\n",
       " 'Minimalism',\n",
       " 'Art_Nouveau_Modern',\n",
       " 'Action_painting',\n",
       " 'Color_Field_Painting',\n",
       " 'Symbolism',\n",
       " 'Realism',\n",
       " 'Romanticism',\n",
       " 'Cubism',\n",
       " 'Impressionism',\n",
       " 'New_Realism',\n",
       " 'Baroque',\n",
       " 'Post_Impressionism',\n",
       " 'Abstract_Expressionism',\n",
       " 'Pointillism',\n",
       " 'Synthetic_Cubism',\n",
       " 'Naive_Art_Primitivism']"
      ]
     },
     "execution_count": 7,
     "metadata": {},
     "output_type": "execute_result"
    }
   ],
   "source": [
    "genre = [i for i in os.listdir(csv_path + 'wikiart') if i != '.DS_Store']\n"
   ]
  },
  {
   "cell_type": "code",
   "execution_count": null,
   "id": "b599afc4",
   "metadata": {},
   "outputs": [],
   "source": []
  }
 ],
 "metadata": {
  "kernelspec": {
   "display_name": "Python 3 (ipykernel)",
   "language": "python",
   "name": "python3"
  },
  "language_info": {
   "codemirror_mode": {
    "name": "ipython",
    "version": 3
   },
   "file_extension": ".py",
   "mimetype": "text/x-python",
   "name": "python",
   "nbconvert_exporter": "python",
   "pygments_lexer": "ipython3",
   "version": "3.8.6"
  },
  "toc": {
   "base_numbering": 1,
   "nav_menu": {},
   "number_sections": true,
   "sideBar": true,
   "skip_h1_title": false,
   "title_cell": "Table of Contents",
   "title_sidebar": "Contents",
   "toc_cell": false,
   "toc_position": {},
   "toc_section_display": true,
   "toc_window_display": false
  },
  "varInspector": {
   "cols": {
    "lenName": 16,
    "lenType": 16,
    "lenVar": 40
   },
   "kernels_config": {
    "python": {
     "delete_cmd_postfix": "",
     "delete_cmd_prefix": "del ",
     "library": "var_list.py",
     "varRefreshCmd": "print(var_dic_list())"
    },
    "r": {
     "delete_cmd_postfix": ") ",
     "delete_cmd_prefix": "rm(",
     "library": "var_list.r",
     "varRefreshCmd": "cat(var_dic_list()) "
    }
   },
   "types_to_exclude": [
    "module",
    "function",
    "builtin_function_or_method",
    "instance",
    "_Feature"
   ],
   "window_display": false
  }
 },
 "nbformat": 4,
 "nbformat_minor": 5
}
