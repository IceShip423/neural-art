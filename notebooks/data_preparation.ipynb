{
 "cells": [
  {
   "cell_type": "markdown",
   "id": "1de8a528",
   "metadata": {},
   "source": [
    "# Import"
   ]
  },
  {
   "cell_type": "code",
   "execution_count": 1,
   "id": "bac68fee-f859-4d79-a020-ecd6c6cfc4dd",
   "metadata": {
    "ExecuteTime": {
     "end_time": "2021-09-02T09:10:44.529131Z",
     "start_time": "2021-09-02T09:10:44.509761Z"
    }
   },
   "outputs": [],
   "source": [
    "%load_ext autoreload\n",
    "%autoreload 2"
   ]
  },
  {
   "cell_type": "code",
   "execution_count": 2,
   "id": "0c2feac0",
   "metadata": {
    "ExecuteTime": {
     "end_time": "2021-09-02T09:36:20.820460Z",
     "start_time": "2021-09-02T09:36:20.796364Z"
    }
   },
   "outputs": [],
   "source": [
    "import pandas as pd\n",
    "import numpy as np\n",
    "#import seaborn as sns\n",
    "import seaborn as sns\n",
    "sns.set_theme(style=\"dark\")\n",
    "import matplotlib.pyplot as plt\n",
    "import os\n",
    "from shutil import copyfile\n",
    "#import splitfolders\n",
    "from sklearn.model_selection import train_test_split"
   ]
  },
  {
   "cell_type": "code",
   "execution_count": 3,
   "id": "8e11ad43-bc6a-425a-a2e3-0d36cc773bda",
   "metadata": {},
   "outputs": [],
   "source": [
    "from neuralart.data import *"
   ]
  },
  {
   "cell_type": "markdown",
   "id": "44e5a94d",
   "metadata": {
    "heading_collapsed": true
   },
   "source": [
    "# Download Chan data"
   ]
  },
  {
   "cell_type": "markdown",
   "id": "f37ab18a-d2c4-4e6c-980d-bf2c644db020",
   "metadata": {},
   "source": [
    "# Get Chan data"
   ]
  },
  {
   "cell_type": "code",
   "execution_count": 4,
   "id": "d0081d1c",
   "metadata": {
    "ExecuteTime": {
     "end_time": "2021-08-23T20:51:13.348788Z",
     "start_time": "2021-08-23T20:51:13.343181Z"
    }
   },
   "outputs": [],
   "source": [
    "chan_csv_folder_path = \"../raw_data/wikiart/csv_chan\"\n",
    "chan_image_folder_path= \"../raw_data/wikiart/dataset_chan\"\n",
    "csv_output_path= \"../raw_data/wikiart/test\""
   ]
  },
  {
   "cell_type": "code",
   "execution_count": 5,
   "id": "642dc50c",
   "metadata": {
    "ExecuteTime": {
     "end_time": "2021-08-23T20:51:26.827074Z",
     "start_time": "2021-08-23T20:51:13.824048Z"
    }
   },
   "outputs": [
    {
     "data": {
      "text/plain": [
       "(78748, 10)"
      ]
     },
     "execution_count": 5,
     "metadata": {},
     "output_type": "execute_result"
    }
   ],
   "source": [
    "chan_data = get_chan_data(chan_csv_folder_path, chan_image_folder_path, csv_output_path=csv_output_path)\n",
    "chan_data.shape"
   ]
  },
  {
   "cell_type": "code",
   "execution_count": 6,
   "id": "f10cc4f1-dc5d-44f9-bed5-d37d47af0177",
   "metadata": {
    "tags": []
   },
   "outputs": [
    {
     "data": {
      "text/html": [
       "<div>\n",
       "<style scoped>\n",
       "    .dataframe tbody tr th:only-of-type {\n",
       "        vertical-align: middle;\n",
       "    }\n",
       "\n",
       "    .dataframe tbody tr th {\n",
       "        vertical-align: top;\n",
       "    }\n",
       "\n",
       "    .dataframe thead th {\n",
       "        text-align: right;\n",
       "    }\n",
       "</style>\n",
       "<table border=\"1\" class=\"dataframe\">\n",
       "  <thead>\n",
       "    <tr style=\"text-align: right;\">\n",
       "      <th></th>\n",
       "      <th>image_name</th>\n",
       "      <th>style</th>\n",
       "      <th>genre</th>\n",
       "      <th>artist</th>\n",
       "      <th>title</th>\n",
       "      <th>chan_image_path</th>\n",
       "      <th>chan_image_name</th>\n",
       "      <th>chan_split_style</th>\n",
       "      <th>chan_split_genre</th>\n",
       "      <th>chan_split_artist</th>\n",
       "    </tr>\n",
       "  </thead>\n",
       "  <tbody>\n",
       "    <tr>\n",
       "      <th>0</th>\n",
       "      <td>pointillism_henri-edmond-cross_chaine-des-maur...</td>\n",
       "      <td>pointillism</td>\n",
       "      <td>landscape</td>\n",
       "      <td>henri-edmond-cross</td>\n",
       "      <td>chaine-des-maures-1907.jpg</td>\n",
       "      <td>Pointillism/henri-edmond-cross_chaine-des-maur...</td>\n",
       "      <td>henri-edmond-cross_chaine-des-maures-1907.jpg</td>\n",
       "      <td>train</td>\n",
       "      <td>train</td>\n",
       "      <td>NaN</td>\n",
       "    </tr>\n",
       "    <tr>\n",
       "      <th>1</th>\n",
       "      <td>pointillism_theo-van-rysselberghe_fountain-at-...</td>\n",
       "      <td>pointillism</td>\n",
       "      <td>cityscape</td>\n",
       "      <td>theo-van-rysselberghe</td>\n",
       "      <td>fountain-at-san-souci-1903.jpg</td>\n",
       "      <td>Pointillism/theo-van-rysselberghe_fountain-at-...</td>\n",
       "      <td>theo-van-rysselberghe_fountain-at-san-souci-19...</td>\n",
       "      <td>train</td>\n",
       "      <td>train</td>\n",
       "      <td>NaN</td>\n",
       "    </tr>\n",
       "    <tr>\n",
       "      <th>2</th>\n",
       "      <td>pointillism_georges-seurat_the-away-samson-in-...</td>\n",
       "      <td>pointillism</td>\n",
       "      <td>landscape</td>\n",
       "      <td>georges-seurat</td>\n",
       "      <td>the-away-samson-in-grandcamp-1885.jpg</td>\n",
       "      <td>Pointillism/georges-seurat_the-away-samson-in-...</td>\n",
       "      <td>georges-seurat_the-away-samson-in-grandcamp-18...</td>\n",
       "      <td>train</td>\n",
       "      <td>train</td>\n",
       "      <td>NaN</td>\n",
       "    </tr>\n",
       "    <tr>\n",
       "      <th>3</th>\n",
       "      <td>pointillism_theo-van-rysselberghe_portrait-of-...</td>\n",
       "      <td>pointillism</td>\n",
       "      <td>portrait</td>\n",
       "      <td>theo-van-rysselberghe</td>\n",
       "      <td>portrait-of-madame-charles-maus-1890.jpg</td>\n",
       "      <td>Pointillism/theo-van-rysselberghe_portrait-of-...</td>\n",
       "      <td>theo-van-rysselberghe_portrait-of-madame-charl...</td>\n",
       "      <td>train</td>\n",
       "      <td>train</td>\n",
       "      <td>NaN</td>\n",
       "    </tr>\n",
       "    <tr>\n",
       "      <th>4</th>\n",
       "      <td>pointillism_jan-toorop_broek-in-waterland-1889...</td>\n",
       "      <td>pointillism</td>\n",
       "      <td>landscape</td>\n",
       "      <td>jan-toorop</td>\n",
       "      <td>broek-in-waterland-1889.jpg</td>\n",
       "      <td>Pointillism/jan-toorop_broek-in-waterland-1889...</td>\n",
       "      <td>jan-toorop_broek-in-waterland-1889.jpg</td>\n",
       "      <td>train</td>\n",
       "      <td>train</td>\n",
       "      <td>NaN</td>\n",
       "    </tr>\n",
       "    <tr>\n",
       "      <th>...</th>\n",
       "      <td>...</td>\n",
       "      <td>...</td>\n",
       "      <td>...</td>\n",
       "      <td>...</td>\n",
       "      <td>...</td>\n",
       "      <td>...</td>\n",
       "      <td>...</td>\n",
       "      <td>...</td>\n",
       "      <td>...</td>\n",
       "      <td>...</td>\n",
       "    </tr>\n",
       "    <tr>\n",
       "      <th>81441</th>\n",
       "      <td>art-nouveau-modern_boris-kustodiev_mercahnt-s-...</td>\n",
       "      <td>art_nouveau_modern</td>\n",
       "      <td>genre_painting</td>\n",
       "      <td>boris-kustodiev</td>\n",
       "      <td>mercahnt-s-wife-with-purchases-1920.jpg</td>\n",
       "      <td>Art_Nouveau_Modern/boris-kustodiev_mercahnt-s-...</td>\n",
       "      <td>boris-kustodiev_mercahnt-s-wife-with-purchases...</td>\n",
       "      <td>val</td>\n",
       "      <td>val</td>\n",
       "      <td>val</td>\n",
       "    </tr>\n",
       "    <tr>\n",
       "      <th>81442</th>\n",
       "      <td>art-nouveau-modern_zinaida-serebriakova_self-p...</td>\n",
       "      <td>art_nouveau_modern</td>\n",
       "      <td>NaN</td>\n",
       "      <td>zinaida-serebriakova</td>\n",
       "      <td>self-portrait-1907.jpg</td>\n",
       "      <td>Art_Nouveau_Modern/zinaida-serebriakova_self-p...</td>\n",
       "      <td>zinaida-serebriakova_self-portrait-1907.jpg</td>\n",
       "      <td>val</td>\n",
       "      <td>NaN</td>\n",
       "      <td>NaN</td>\n",
       "    </tr>\n",
       "    <tr>\n",
       "      <th>81443</th>\n",
       "      <td>art-nouveau-modern_nicholas-roerich_pskov-chur...</td>\n",
       "      <td>art_nouveau_modern</td>\n",
       "      <td>cityscape</td>\n",
       "      <td>nicholas-roerich</td>\n",
       "      <td>pskov-churchyard-1904-1.jpg</td>\n",
       "      <td>Art_Nouveau_Modern/nicholas-roerich_pskov-chur...</td>\n",
       "      <td>nicholas-roerich_pskov-churchyard-1904-1.jpg</td>\n",
       "      <td>train</td>\n",
       "      <td>train</td>\n",
       "      <td>train</td>\n",
       "    </tr>\n",
       "    <tr>\n",
       "      <th>81444</th>\n",
       "      <td>art-nouveau-modern_koloman-moser_poster-for-fe...</td>\n",
       "      <td>art_nouveau_modern</td>\n",
       "      <td>NaN</td>\n",
       "      <td>koloman-moser</td>\n",
       "      <td>poster-for-felix-salzens-jung-wiener-theatre-w...</td>\n",
       "      <td>Art_Nouveau_Modern/koloman-moser_poster-for-fe...</td>\n",
       "      <td>koloman-moser_poster-for-felix-salzens-jung-wi...</td>\n",
       "      <td>train</td>\n",
       "      <td>NaN</td>\n",
       "      <td>NaN</td>\n",
       "    </tr>\n",
       "    <tr>\n",
       "      <th>81445</th>\n",
       "      <td>art-nouveau-modern_aubrey-beardsley_how-morgan...</td>\n",
       "      <td>art_nouveau_modern</td>\n",
       "      <td>illustration</td>\n",
       "      <td>aubrey-beardsley</td>\n",
       "      <td>how-morgan-le-fay-gave-a-shield-to-sir-tristra...</td>\n",
       "      <td>Art_Nouveau_Modern/aubrey-beardsley_how-morgan...</td>\n",
       "      <td>aubrey-beardsley_how-morgan-le-fay-gave-a-shie...</td>\n",
       "      <td>val</td>\n",
       "      <td>val</td>\n",
       "      <td>NaN</td>\n",
       "    </tr>\n",
       "  </tbody>\n",
       "</table>\n",
       "<p>78748 rows × 10 columns</p>\n",
       "</div>"
      ],
      "text/plain": [
       "                                              image_name               style  \\\n",
       "0      pointillism_henri-edmond-cross_chaine-des-maur...         pointillism   \n",
       "1      pointillism_theo-van-rysselberghe_fountain-at-...         pointillism   \n",
       "2      pointillism_georges-seurat_the-away-samson-in-...         pointillism   \n",
       "3      pointillism_theo-van-rysselberghe_portrait-of-...         pointillism   \n",
       "4      pointillism_jan-toorop_broek-in-waterland-1889...         pointillism   \n",
       "...                                                  ...                 ...   \n",
       "81441  art-nouveau-modern_boris-kustodiev_mercahnt-s-...  art_nouveau_modern   \n",
       "81442  art-nouveau-modern_zinaida-serebriakova_self-p...  art_nouveau_modern   \n",
       "81443  art-nouveau-modern_nicholas-roerich_pskov-chur...  art_nouveau_modern   \n",
       "81444  art-nouveau-modern_koloman-moser_poster-for-fe...  art_nouveau_modern   \n",
       "81445  art-nouveau-modern_aubrey-beardsley_how-morgan...  art_nouveau_modern   \n",
       "\n",
       "                genre                 artist  \\\n",
       "0           landscape     henri-edmond-cross   \n",
       "1           cityscape  theo-van-rysselberghe   \n",
       "2           landscape         georges-seurat   \n",
       "3            portrait  theo-van-rysselberghe   \n",
       "4           landscape             jan-toorop   \n",
       "...               ...                    ...   \n",
       "81441  genre_painting        boris-kustodiev   \n",
       "81442             NaN   zinaida-serebriakova   \n",
       "81443       cityscape       nicholas-roerich   \n",
       "81444             NaN          koloman-moser   \n",
       "81445    illustration       aubrey-beardsley   \n",
       "\n",
       "                                                   title  \\\n",
       "0                             chaine-des-maures-1907.jpg   \n",
       "1                         fountain-at-san-souci-1903.jpg   \n",
       "2                  the-away-samson-in-grandcamp-1885.jpg   \n",
       "3               portrait-of-madame-charles-maus-1890.jpg   \n",
       "4                            broek-in-waterland-1889.jpg   \n",
       "...                                                  ...   \n",
       "81441            mercahnt-s-wife-with-purchases-1920.jpg   \n",
       "81442                             self-portrait-1907.jpg   \n",
       "81443                        pskov-churchyard-1904-1.jpg   \n",
       "81444  poster-for-felix-salzens-jung-wiener-theatre-w...   \n",
       "81445  how-morgan-le-fay-gave-a-shield-to-sir-tristra...   \n",
       "\n",
       "                                         chan_image_path  \\\n",
       "0      Pointillism/henri-edmond-cross_chaine-des-maur...   \n",
       "1      Pointillism/theo-van-rysselberghe_fountain-at-...   \n",
       "2      Pointillism/georges-seurat_the-away-samson-in-...   \n",
       "3      Pointillism/theo-van-rysselberghe_portrait-of-...   \n",
       "4      Pointillism/jan-toorop_broek-in-waterland-1889...   \n",
       "...                                                  ...   \n",
       "81441  Art_Nouveau_Modern/boris-kustodiev_mercahnt-s-...   \n",
       "81442  Art_Nouveau_Modern/zinaida-serebriakova_self-p...   \n",
       "81443  Art_Nouveau_Modern/nicholas-roerich_pskov-chur...   \n",
       "81444  Art_Nouveau_Modern/koloman-moser_poster-for-fe...   \n",
       "81445  Art_Nouveau_Modern/aubrey-beardsley_how-morgan...   \n",
       "\n",
       "                                         chan_image_name chan_split_style  \\\n",
       "0          henri-edmond-cross_chaine-des-maures-1907.jpg            train   \n",
       "1      theo-van-rysselberghe_fountain-at-san-souci-19...            train   \n",
       "2      georges-seurat_the-away-samson-in-grandcamp-18...            train   \n",
       "3      theo-van-rysselberghe_portrait-of-madame-charl...            train   \n",
       "4                 jan-toorop_broek-in-waterland-1889.jpg            train   \n",
       "...                                                  ...              ...   \n",
       "81441  boris-kustodiev_mercahnt-s-wife-with-purchases...              val   \n",
       "81442        zinaida-serebriakova_self-portrait-1907.jpg              val   \n",
       "81443       nicholas-roerich_pskov-churchyard-1904-1.jpg            train   \n",
       "81444  koloman-moser_poster-for-felix-salzens-jung-wi...            train   \n",
       "81445  aubrey-beardsley_how-morgan-le-fay-gave-a-shie...              val   \n",
       "\n",
       "      chan_split_genre chan_split_artist  \n",
       "0                train               NaN  \n",
       "1                train               NaN  \n",
       "2                train               NaN  \n",
       "3                train               NaN  \n",
       "4                train               NaN  \n",
       "...                ...               ...  \n",
       "81441              val               val  \n",
       "81442              NaN               NaN  \n",
       "81443            train             train  \n",
       "81444              NaN               NaN  \n",
       "81445              val               NaN  \n",
       "\n",
       "[78748 rows x 10 columns]"
      ]
     },
     "execution_count": 6,
     "metadata": {},
     "output_type": "execute_result"
    }
   ],
   "source": [
    "chan_data"
   ]
  },
  {
   "cell_type": "code",
   "execution_count": 7,
   "id": "c829496e-3476-4c34-9629-2647b6c3094e",
   "metadata": {},
   "outputs": [],
   "source": [
    "merge_mov_1={'name': 'style_m1',\n",
    "            'merging':{'abstract_expressionism': 'abstract', 'action_painting': 'abstract', 'analytical_cubism': 'cubism', \n",
    "                       'art_nouveau_modern': None, 'baroque': None, 'color_field_painting': 'color_field_painting', \n",
    "                       'contemporary_realism': None, 'cubism': 'cubism', 'early_renaissance': 'renaissance', 'expressionism': 'expressionism',\n",
    "                       'fauvism': None, 'high_renaissance': 'renaissance', 'impressionism': 'impressionism',\n",
    "                       'mannerism_late_renaissance': None, 'minimalism': None, 'naive_art_primitivism': None,\n",
    "                       'new_realism': None, 'northern_renaissance': 'renaissance', 'pointillism': None, 'pop_art': None,\n",
    "                       'post_impressionism': None, 'realism': 'realism', 'rococo': None, 'romanticism': 'romanticism',\n",
    "                       'symbolism': None, 'synthetic_cubism': 'cubism', 'ukiyo_e': None}}\n",
    "\n",
    "csv_output_path =  \"../raw_data/wikiart/test\"\n",
    "image_folder_output_path = \"../raw_data/wikiart/test\"\n",
    "\n",
    "train_ratio=0.8\n",
    "val_ratio=0.2\n",
    "test_ratio=0.1"
   ]
  },
  {
   "cell_type": "code",
   "execution_count": 8,
   "id": "20fb12c9-3280-49f1-8128-6cbed88378e8",
   "metadata": {},
   "outputs": [
    {
     "name": "stderr",
     "output_type": "stream",
     "text": [
      "/home/gregoirelafay/.pyenv/versions/3.8.6/envs/neuralart/lib/python3.8/site-packages/pandas/core/frame.py:3640: SettingWithCopyWarning: \n",
      "A value is trying to be set on a copy of a slice from a DataFrame.\n",
      "Try using .loc[row_indexer,col_indexer] = value instead\n",
      "\n",
      "See the caveats in the documentation: https://pandas.pydata.org/pandas-docs/stable/user_guide/indexing.html#returning-a-view-versus-a-copy\n",
      "  self[col] = value\n"
     ]
    },
    {
     "name": "stdout",
     "output_type": "stream",
     "text": [
      "Done: 800 image(s) copied, 3 image(s) in the folder\n"
     ]
    }
   ],
   "source": [
    "data=create_dataset(chan_data, target=\"style\", merge=merge_mov_1, n=100, strategy='drop', keep_genre=False, random_state=123, flat=False, \n",
    "                      chan_image_folder_path=chan_image_folder_path, csv_output_path=csv_output_path, image_folder_output_path=image_folder_output_path,\n",
    "                      val_ratio=val_ratio,test_ratio=test_ratio)"
   ]
  },
  {
   "cell_type": "code",
   "execution_count": null,
   "id": "cd143be7-74bc-42db-b224-8db1d126d43d",
   "metadata": {},
   "outputs": [],
   "source": [
    "path = '/home/User/Documents/file.txt'\n",
    "os.path.dirname(path)"
   ]
  },
  {
   "cell_type": "code",
   "execution_count": null,
   "id": "6777c0d0-7b80-4a95-b484-b20ab50c1e8f",
   "metadata": {},
   "outputs": [],
   "source": [
    "data_sample = get_dataset(data, target=\"movement\", class_=merge_mov_1,random_state=123, keep_genre=True, output_path=output_path)\n"
   ]
  },
  {
   "cell_type": "markdown",
   "id": "b557896a-e1e5-40a1-9e63-e81e2aea8348",
   "metadata": {},
   "source": [
    "# Create data directory"
   ]
  },
  {
   "cell_type": "code",
   "execution_count": null,
   "id": "1b614375-8550-4ac0-9b6d-94d63a3e1ca7",
   "metadata": {},
   "outputs": [],
   "source": [
    "create_dataset_directory(data_sample, chan_image_path, output_path, 'wikiart-movement-genre_True-class_8-merge_mov-1', flat=False)\n"
   ]
  },
  {
   "cell_type": "code",
   "execution_count": null,
   "id": "c7d5d64d-4781-4ccd-bb8e-63c2685dd30a",
   "metadata": {},
   "outputs": [],
   "source": [
    "input_dir = os.path.join(output_path,\"wikiart-movement-genre_True-class_8-merge_mov-1\")\n",
    "output_dir = os.path.join(output_path,\"train_val_test_True_all\")\n",
    "csv_path = os.path.join(output_path,\"wikiart-movement-genre_True-class_8-merge_mov-1.csv\")"
   ]
  },
  {
   "cell_type": "code",
   "execution_count": null,
   "id": "d4474c6b-9cf4-4823-b9d6-9fc9dd157471",
   "metadata": {},
   "outputs": [],
   "source": [
    "get_train_val_test_directory(output_dir, input_dir=input_dir,\n",
    "                                 csv_path=csv_path,\n",
    "                                 save_csv=True,\n",
    "                                 train_ratio=0.8,\n",
    "                                 val_ratio=0.1,\n",
    "                                 test_ratio=0.1,\n",
    "                                 seed=1337)"
   ]
  },
  {
   "cell_type": "markdown",
   "id": "c60a9c35",
   "metadata": {
    "tags": []
   },
   "source": [
    "# Data Visualization"
   ]
  },
  {
   "cell_type": "code",
   "execution_count": null,
   "id": "77ea88dc-6c0c-4bdb-85ee-c6b9ce3657a3",
   "metadata": {
    "ExecuteTime": {
     "end_time": "2021-09-02T09:17:48.456789Z",
     "start_time": "2021-09-02T09:17:48.344626Z"
    }
   },
   "outputs": [],
   "source": [
    "data = pd.read_csv(\"wikiart-movement-genre_True-class_8-merge_mov-1_split.csv\")"
   ]
  },
  {
   "cell_type": "code",
   "execution_count": null,
   "id": "68e68fc9-76b8-43db-94e9-8decfdccde15",
   "metadata": {
    "ExecuteTime": {
     "end_time": "2021-09-02T09:17:52.944144Z",
     "start_time": "2021-09-02T09:17:52.654271Z"
    }
   },
   "outputs": [],
   "source": [
    "col = ['artist','genre','movement']\n",
    "\n",
    "fig, ax = plt.subplots(1,1,figsize=(15,10))\n",
    "sns.barplot(y=data[col].nunique().index, \n",
    "            x=data[col].nunique().values,\n",
    "            order=data[col].nunique().sort_values(ascending=False).index,\n",
    "            ax=ax);\n",
    "\n",
    "for i, v in enumerate(data[col].nunique().sort_values(ascending=False).values):\n",
    "    ax.text(v, i , str(v), color='blue', fontweight='bold')\n",
    "    \n",
    "ax.set_title(\"Number of classes per target\");\n",
    "ax.set_xlabel(\"Count\");\n",
    "ax.set_ylabel(\"Target\");"
   ]
  },
  {
   "cell_type": "code",
   "execution_count": null,
   "id": "55d0c248-c120-4ff9-82e2-1e0c9e15ff1d",
   "metadata": {
    "ExecuteTime": {
     "end_time": "2021-09-02T10:08:45.936111Z",
     "start_time": "2021-09-02T10:08:45.417009Z"
    },
    "cell_style": "center"
   },
   "outputs": [],
   "source": [
    "import matplotlib.pyplot as plt\n",
    "import seaborn as sns\n",
    "\n",
    "fig, ax = plt.subplots(1,1,figsize=(15,15));\n",
    "sns.countplot(data=data, y=\"movement\", \n",
    "              order = data['movement'].value_counts().index,\n",
    "              ax=ax);\n",
    "sns.despine()\n",
    "\n",
    "for i, v in enumerate(data[\"movement\"].value_counts().values):\n",
    "    ax.text(v, i , str(v), color='blue', fontweight='bold',fontsize='25',horizontalalignment='right')\n",
    "    \n",
    "ax.set_title(\"Number of images per movement\",color=\"#FF4500\",size=30);\n",
    "ax.set_ylabel(\"Movement (Art Style)\");\n",
    "ax.spines[\"bottom\"].set_color(\"#FF4500\")\n",
    "ax.spines[\"left\"].set_color(\"#FF4500\")\n",
    "ax.tick_params(axis='y', colors='#FF4500',labelsize=26)\n",
    "ax.set_ylabel(\"Art Style\",\n",
    "                  loc='center',\n",
    "                  rotation='vertical',\n",
    "                  color=\"#FF4500\",size=20)\n",
    "fig.patch.set_alpha(0)\n",
    "ax.patch.set_alpha(0)\n",
    "\n",
    "fig.savefig('class_split_2.png',bbox_inches='tight')"
   ]
  },
  {
   "cell_type": "code",
   "execution_count": null,
   "id": "6ca74381-a206-4ae6-b43e-95e526385710",
   "metadata": {
    "cell_style": "center"
   },
   "outputs": [],
   "source": [
    "fig, ax = plt.subplots(1,1,figsize=(15,10));\n",
    "sns.countplot(data=data, y=\"genre\", \n",
    "              order = data['genre'].value_counts().index,\n",
    "              ax=ax);\n",
    "\n",
    "for i, v in enumerate(data[\"genre\"].value_counts().values):\n",
    "    ax.text(v, i , str(v), color='blue', fontweight='bold')\n",
    "    \n",
    "ax.set_title(\"Number of images per genre\");"
   ]
  },
  {
   "cell_type": "code",
   "execution_count": null,
   "id": "a9ac981c-a81e-4992-8deb-18fd854ebbb9",
   "metadata": {},
   "outputs": [],
   "source": [
    "fig, ax = plt.subplots(1,1,figsize=(15,10));\n",
    "sns.barplot(y=data.groupby(\"movement\").artist.nunique().index, \n",
    "            x=data.groupby(\"movement\").artist.nunique().values,\n",
    "            order=data.groupby(\"movement\").artist.nunique().sort_values(ascending=False).index,\n",
    "            ax=ax);\n",
    "\n",
    "for i, v in enumerate(data.groupby(\"movement\").artist.nunique().sort_values(ascending=False).values):\n",
    "    ax.text(v, i , str(v), color='blue', fontweight='bold')\n",
    "    \n",
    "ax.set_title(\"Number of artists per movement\");\n",
    "ax.set_xlabel(\"Count\");"
   ]
  }
 ],
 "metadata": {
  "kernelspec": {
   "display_name": "Python 3 (ipykernel)",
   "language": "python",
   "name": "python3"
  },
  "language_info": {
   "codemirror_mode": {
    "name": "ipython",
    "version": 3
   },
   "file_extension": ".py",
   "mimetype": "text/x-python",
   "name": "python",
   "nbconvert_exporter": "python",
   "pygments_lexer": "ipython3",
   "version": "3.8.6"
  },
  "toc": {
   "base_numbering": 1,
   "nav_menu": {},
   "number_sections": true,
   "sideBar": true,
   "skip_h1_title": false,
   "title_cell": "Table of Contents",
   "title_sidebar": "Contents",
   "toc_cell": false,
   "toc_position": {},
   "toc_section_display": true,
   "toc_window_display": true
  },
  "varInspector": {
   "cols": {
    "lenName": 16,
    "lenType": 16,
    "lenVar": 40
   },
   "kernels_config": {
    "python": {
     "delete_cmd_postfix": "",
     "delete_cmd_prefix": "del ",
     "library": "var_list.py",
     "varRefreshCmd": "print(var_dic_list())"
    },
    "r": {
     "delete_cmd_postfix": ") ",
     "delete_cmd_prefix": "rm(",
     "library": "var_list.r",
     "varRefreshCmd": "cat(var_dic_list()) "
    }
   },
   "types_to_exclude": [
    "module",
    "function",
    "builtin_function_or_method",
    "instance",
    "_Feature"
   ],
   "window_display": false
  }
 },
 "nbformat": 4,
 "nbformat_minor": 5
}
