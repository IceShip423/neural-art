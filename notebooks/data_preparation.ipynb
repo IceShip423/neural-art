{
 "cells": [
  {
   "cell_type": "markdown",
   "id": "1de8a528",
   "metadata": {},
   "source": [
    "# Import"
   ]
  },
  {
   "cell_type": "code",
   "execution_count": 1,
   "id": "bac68fee-f859-4d79-a020-ecd6c6cfc4dd",
   "metadata": {
    "ExecuteTime": {
     "end_time": "2021-09-02T09:10:44.529131Z",
     "start_time": "2021-09-02T09:10:44.509761Z"
    }
   },
   "outputs": [],
   "source": [
    "%load_ext autoreload\n",
    "%autoreload 2"
   ]
  },
  {
   "cell_type": "code",
   "execution_count": 2,
   "id": "0c2feac0",
   "metadata": {
    "ExecuteTime": {
     "end_time": "2021-09-02T09:36:20.820460Z",
     "start_time": "2021-09-02T09:36:20.796364Z"
    }
   },
   "outputs": [],
   "source": [
    "import pandas as pd\n",
    "import numpy as np\n",
    "import seaborn as sns\n",
    "sns.set_theme(style=\"dark\")\n",
    "import matplotlib.pyplot as plt\n",
    "import os\n",
    "\n",
    "from neuralart.data import *"
   ]
  },
  {
   "cell_type": "markdown",
   "id": "44e5a94d",
   "metadata": {
    "heading_collapsed": true
   },
   "source": [
    "# Download Wikiart Data from Chan repository"
   ]
  },
  {
   "cell_type": "markdown",
   "id": "c77a8b5e-5a2c-4aa5-804a-62640fdac60d",
   "metadata": {
    "tags": []
   },
   "source": [
    "```bash\n",
    "wget http://web.fsktm.um.edu.my/~cschan/source/ICIP2017/wikiart.zip\n",
    "````\n",
    "\n"
   ]
  },
  {
   "cell_type": "markdown",
   "id": "2d004d98-4b9f-4a02-8bf0-6f44ecc6e744",
   "metadata": {},
   "source": [
    "```bash\n",
    "wget http://web.fsktm.um.edu.my/~cschan/source/ICIP2017/wikiart_csv.zip\n",
    "```"
   ]
  },
  {
   "cell_type": "markdown",
   "id": "f37ab18a-d2c4-4e6c-980d-bf2c644db020",
   "metadata": {},
   "source": [
    "# Parse Chan data"
   ]
  },
  {
   "cell_type": "code",
   "execution_count": 4,
   "id": "642dc50c",
   "metadata": {
    "ExecuteTime": {
     "end_time": "2021-08-23T20:51:26.827074Z",
     "start_time": "2021-08-23T20:51:13.824048Z"
    }
   },
   "outputs": [
    {
     "ename": "FileNotFoundError",
     "evalue": "[Errno 2] No such file or directory: '../raw_data/wikiart/test/wikiart-target_style-class_27.csv'",
     "output_type": "error",
     "traceback": [
      "\u001b[0;31m---------------------------------------------------------------------------\u001b[0m",
      "\u001b[0;31mFileNotFoundError\u001b[0m                         Traceback (most recent call last)",
      "\u001b[0;32m/var/folders/tw/prx4ncw52tgg975t9s36p5r80000gp/T/ipykernel_11348/4291019558.py\u001b[0m in \u001b[0;36m<module>\u001b[0;34m\u001b[0m\n\u001b[1;32m      3\u001b[0m \u001b[0mcsv_output_path\u001b[0m\u001b[0;34m=\u001b[0m \u001b[0;34m\"../raw_data/wikiart/test\"\u001b[0m\u001b[0;34m\u001b[0m\u001b[0;34m\u001b[0m\u001b[0m\n\u001b[1;32m      4\u001b[0m \u001b[0;34m\u001b[0m\u001b[0m\n\u001b[0;32m----> 5\u001b[0;31m chan_data = get_chan_data(chan_csv_folder_path, \n\u001b[0m\u001b[1;32m      6\u001b[0m                           \u001b[0mchan_image_folder_path\u001b[0m\u001b[0;34m,\u001b[0m\u001b[0;34m\u001b[0m\u001b[0;34m\u001b[0m\u001b[0m\n\u001b[1;32m      7\u001b[0m                           csv_output_path=csv_output_path)\n",
      "\u001b[0;32m~/code/gregoirelafay/projects/neural-art/neuralart/data.py\u001b[0m in \u001b[0;36mget_chan_data\u001b[0;34m(chan_csv_folder_path, chan_image_folder_path, rm_csv_duplicate, rm_image_duplicate, csv_output_path)\u001b[0m\n\u001b[1;32m    257\u001b[0m     \u001b[0;32mif\u001b[0m \u001b[0mcsv_output_path\u001b[0m\u001b[0;34m:\u001b[0m\u001b[0;34m\u001b[0m\u001b[0;34m\u001b[0m\u001b[0m\n\u001b[1;32m    258\u001b[0m         \u001b[0mfile_name\u001b[0m \u001b[0;34m=\u001b[0m \u001b[0;34mf\"wikiart-target_style-class_{data['style'].nunique()}.csv\"\u001b[0m\u001b[0;34m\u001b[0m\u001b[0;34m\u001b[0m\u001b[0m\n\u001b[0;32m--> 259\u001b[0;31m         \u001b[0msave_csv\u001b[0m\u001b[0;34m(\u001b[0m\u001b[0mdata\u001b[0m\u001b[0;34m,\u001b[0m \u001b[0mcsv_output_path\u001b[0m\u001b[0;34m,\u001b[0m \u001b[0mfile_name\u001b[0m\u001b[0;34m)\u001b[0m\u001b[0;34m\u001b[0m\u001b[0;34m\u001b[0m\u001b[0m\n\u001b[0m\u001b[1;32m    260\u001b[0m \u001b[0;34m\u001b[0m\u001b[0m\n\u001b[1;32m    261\u001b[0m     \u001b[0;32mreturn\u001b[0m \u001b[0mdata\u001b[0m\u001b[0;34m\u001b[0m\u001b[0;34m\u001b[0m\u001b[0m\n",
      "\u001b[0;32m~/code/gregoirelafay/projects/neural-art/neuralart/data.py\u001b[0m in \u001b[0;36msave_csv\u001b[0;34m(data, csv_output_path, file_name)\u001b[0m\n\u001b[1;32m    295\u001b[0m \u001b[0;34m\u001b[0m\u001b[0m\n\u001b[1;32m    296\u001b[0m \u001b[0;32mdef\u001b[0m \u001b[0msave_csv\u001b[0m\u001b[0;34m(\u001b[0m\u001b[0mdata\u001b[0m\u001b[0;34m,\u001b[0m \u001b[0mcsv_output_path\u001b[0m\u001b[0;34m,\u001b[0m \u001b[0mfile_name\u001b[0m\u001b[0;34m)\u001b[0m\u001b[0;34m:\u001b[0m\u001b[0;34m\u001b[0m\u001b[0;34m\u001b[0m\u001b[0m\n\u001b[0;32m--> 297\u001b[0;31m     \u001b[0mdata\u001b[0m\u001b[0;34m.\u001b[0m\u001b[0mto_csv\u001b[0m\u001b[0;34m(\u001b[0m\u001b[0mos\u001b[0m\u001b[0;34m.\u001b[0m\u001b[0mpath\u001b[0m\u001b[0;34m.\u001b[0m\u001b[0mjoin\u001b[0m\u001b[0;34m(\u001b[0m\u001b[0mcsv_output_path\u001b[0m\u001b[0;34m,\u001b[0m\u001b[0mfile_name\u001b[0m\u001b[0;34m)\u001b[0m\u001b[0;34m,\u001b[0m \u001b[0mindex\u001b[0m\u001b[0;34m=\u001b[0m\u001b[0;32mFalse\u001b[0m\u001b[0;34m)\u001b[0m\u001b[0;34m\u001b[0m\u001b[0;34m\u001b[0m\u001b[0m\n\u001b[0m",
      "\u001b[0;32m~/.pyenv/versions/3.8.6/envs/neuralart/lib/python3.8/site-packages/pandas/core/generic.py\u001b[0m in \u001b[0;36mto_csv\u001b[0;34m(self, path_or_buf, sep, na_rep, float_format, columns, header, index, index_label, mode, encoding, compression, quoting, quotechar, line_terminator, chunksize, date_format, doublequote, escapechar, decimal, errors, storage_options)\u001b[0m\n\u001b[1;32m   3464\u001b[0m         )\n\u001b[1;32m   3465\u001b[0m \u001b[0;34m\u001b[0m\u001b[0m\n\u001b[0;32m-> 3466\u001b[0;31m         return DataFrameRenderer(formatter).to_csv(\n\u001b[0m\u001b[1;32m   3467\u001b[0m             \u001b[0mpath_or_buf\u001b[0m\u001b[0;34m,\u001b[0m\u001b[0;34m\u001b[0m\u001b[0;34m\u001b[0m\u001b[0m\n\u001b[1;32m   3468\u001b[0m             \u001b[0mline_terminator\u001b[0m\u001b[0;34m=\u001b[0m\u001b[0mline_terminator\u001b[0m\u001b[0;34m,\u001b[0m\u001b[0;34m\u001b[0m\u001b[0;34m\u001b[0m\u001b[0m\n",
      "\u001b[0;32m~/.pyenv/versions/3.8.6/envs/neuralart/lib/python3.8/site-packages/pandas/io/formats/format.py\u001b[0m in \u001b[0;36mto_csv\u001b[0;34m(self, path_or_buf, encoding, sep, columns, index_label, mode, compression, quoting, quotechar, line_terminator, chunksize, date_format, doublequote, escapechar, errors, storage_options)\u001b[0m\n\u001b[1;32m   1103\u001b[0m             \u001b[0mformatter\u001b[0m\u001b[0;34m=\u001b[0m\u001b[0mself\u001b[0m\u001b[0;34m.\u001b[0m\u001b[0mfmt\u001b[0m\u001b[0;34m,\u001b[0m\u001b[0;34m\u001b[0m\u001b[0;34m\u001b[0m\u001b[0m\n\u001b[1;32m   1104\u001b[0m         )\n\u001b[0;32m-> 1105\u001b[0;31m         \u001b[0mcsv_formatter\u001b[0m\u001b[0;34m.\u001b[0m\u001b[0msave\u001b[0m\u001b[0;34m(\u001b[0m\u001b[0;34m)\u001b[0m\u001b[0;34m\u001b[0m\u001b[0;34m\u001b[0m\u001b[0m\n\u001b[0m\u001b[1;32m   1106\u001b[0m \u001b[0;34m\u001b[0m\u001b[0m\n\u001b[1;32m   1107\u001b[0m         \u001b[0;32mif\u001b[0m \u001b[0mcreated_buffer\u001b[0m\u001b[0;34m:\u001b[0m\u001b[0;34m\u001b[0m\u001b[0;34m\u001b[0m\u001b[0m\n",
      "\u001b[0;32m~/.pyenv/versions/3.8.6/envs/neuralart/lib/python3.8/site-packages/pandas/io/formats/csvs.py\u001b[0m in \u001b[0;36msave\u001b[0;34m(self)\u001b[0m\n\u001b[1;32m    235\u001b[0m         \"\"\"\n\u001b[1;32m    236\u001b[0m         \u001b[0;31m# apply compression and byte/text conversion\u001b[0m\u001b[0;34m\u001b[0m\u001b[0;34m\u001b[0m\u001b[0;34m\u001b[0m\u001b[0m\n\u001b[0;32m--> 237\u001b[0;31m         with get_handle(\n\u001b[0m\u001b[1;32m    238\u001b[0m             \u001b[0mself\u001b[0m\u001b[0;34m.\u001b[0m\u001b[0mfilepath_or_buffer\u001b[0m\u001b[0;34m,\u001b[0m\u001b[0;34m\u001b[0m\u001b[0;34m\u001b[0m\u001b[0m\n\u001b[1;32m    239\u001b[0m             \u001b[0mself\u001b[0m\u001b[0;34m.\u001b[0m\u001b[0mmode\u001b[0m\u001b[0;34m,\u001b[0m\u001b[0;34m\u001b[0m\u001b[0;34m\u001b[0m\u001b[0m\n",
      "\u001b[0;32m~/.pyenv/versions/3.8.6/envs/neuralart/lib/python3.8/site-packages/pandas/io/common.py\u001b[0m in \u001b[0;36mget_handle\u001b[0;34m(path_or_buf, mode, encoding, compression, memory_map, is_text, errors, storage_options)\u001b[0m\n\u001b[1;32m    699\u001b[0m         \u001b[0;32mif\u001b[0m \u001b[0mioargs\u001b[0m\u001b[0;34m.\u001b[0m\u001b[0mencoding\u001b[0m \u001b[0;32mand\u001b[0m \u001b[0;34m\"b\"\u001b[0m \u001b[0;32mnot\u001b[0m \u001b[0;32min\u001b[0m \u001b[0mioargs\u001b[0m\u001b[0;34m.\u001b[0m\u001b[0mmode\u001b[0m\u001b[0;34m:\u001b[0m\u001b[0;34m\u001b[0m\u001b[0;34m\u001b[0m\u001b[0m\n\u001b[1;32m    700\u001b[0m             \u001b[0;31m# Encoding\u001b[0m\u001b[0;34m\u001b[0m\u001b[0;34m\u001b[0m\u001b[0;34m\u001b[0m\u001b[0m\n\u001b[0;32m--> 701\u001b[0;31m             handle = open(\n\u001b[0m\u001b[1;32m    702\u001b[0m                 \u001b[0mhandle\u001b[0m\u001b[0;34m,\u001b[0m\u001b[0;34m\u001b[0m\u001b[0;34m\u001b[0m\u001b[0m\n\u001b[1;32m    703\u001b[0m                 \u001b[0mioargs\u001b[0m\u001b[0;34m.\u001b[0m\u001b[0mmode\u001b[0m\u001b[0;34m,\u001b[0m\u001b[0;34m\u001b[0m\u001b[0;34m\u001b[0m\u001b[0m\n",
      "\u001b[0;31mFileNotFoundError\u001b[0m: [Errno 2] No such file or directory: '../raw_data/wikiart/test/wikiart-target_style-class_27.csv'"
     ]
    }
   ],
   "source": [
    "chan_csv_folder_path = \"../raw_data/wikiart/csv_chan\"\n",
    "chan_image_folder_path= \"../raw_data/wikiart/dataset_chan\"\n",
    "csv_output_path= \"../raw_data/wikiart/test\"\n",
    "\n",
    "chan_data = get_chan_data(chan_csv_folder_path, \n",
    "                          chan_image_folder_path, \n",
    "                          csv_output_path=csv_output_path)\n",
    "chan_data.shape"
   ]
  },
  {
   "cell_type": "code",
   "execution_count": null,
   "id": "c829496e-3476-4c34-9629-2647b6c3094e",
   "metadata": {},
   "outputs": [],
   "source": [
    "merge={'name': 'style_m1',\n",
    "       'merging':{'abstract_expressionism': 'abstract', 'action_painting': 'abstract', \n",
    "                  'analytical_cubism': 'cubism', 'art_nouveau_modern': None, 'baroque': None, \n",
    "                  'color_field_painting': 'color_field_painting', 'contemporary_realism': None, \n",
    "                  'cubism': 'cubism', 'early_renaissance': 'renaissance', \n",
    "                  'expressionism': 'expressionism', 'fauvism': None, 'high_renaissance': 'renaissance', \n",
    "                  'impressionism': 'impressionism', 'mannerism_late_renaissance': None, \n",
    "                  'minimalism': None, 'naive_art_primitivism': None, 'new_realism': None, \n",
    "                  'northern_renaissance': 'renaissance', 'pointillism': None, 'pop_art': None,\n",
    "                  'post_impressionism': None, 'realism': 'realism', 'rococo': None, \n",
    "                  'romanticism': 'romanticism', 'symbolism': None, 'synthetic_cubism': 'cubism', \n",
    "                  'ukiyo_e': None}}\n",
    "\n",
    "csv_output_path =  \"../raw_data/wikiart/test\"\n",
    "image_folder_output_path = \"../raw_data/wikiart/test\"\n",
    "\n",
    "train_ratio=0.8, val_ratio=0.2, test_ratio=0.1"
   ]
  },
  {
   "cell_type": "markdown",
   "id": "171567c0-805a-4759-940f-e329b7b11639",
   "metadata": {},
   "source": [
    "# Create dataset"
   ]
  },
  {
   "cell_type": "code",
   "execution_count": null,
   "id": "20fb12c9-3280-49f1-8128-6cbed88378e8",
   "metadata": {},
   "outputs": [],
   "source": [
    "data=create_dataset(chan_data, target=\"style\", \n",
    "                    merge=merge, n=100, strategy='max', keep_genre=False, random_state=123, \n",
    "                    flat=False, chan_image_folder_path=chan_image_folder_path, \n",
    "                    csv_output_path=csv_output_path, image_folder_output_path=image_folder_output_path,\n",
    "                    val_ratio=val_ratio,test_ratio=test_ratio)"
   ]
  },
  {
   "cell_type": "markdown",
   "id": "c60a9c35",
   "metadata": {
    "tags": []
   },
   "source": [
    "# Data Visualization"
   ]
  },
  {
   "cell_type": "code",
   "execution_count": null,
   "id": "77ea88dc-6c0c-4bdb-85ee-c6b9ce3657a3",
   "metadata": {
    "ExecuteTime": {
     "end_time": "2021-09-02T09:17:48.456789Z",
     "start_time": "2021-09-02T09:17:48.344626Z"
    }
   },
   "outputs": [],
   "source": [
    "data = pd.read_csv(\"wikiart-movement-genre_True-class_8-merge_mov-1_split.csv\")"
   ]
  },
  {
   "cell_type": "code",
   "execution_count": null,
   "id": "68e68fc9-76b8-43db-94e9-8decfdccde15",
   "metadata": {
    "ExecuteTime": {
     "end_time": "2021-09-02T09:17:52.944144Z",
     "start_time": "2021-09-02T09:17:52.654271Z"
    }
   },
   "outputs": [],
   "source": [
    "col = ['artist','genre','movement']\n",
    "\n",
    "fig, ax = plt.subplots(1,1,figsize=(15,10))\n",
    "sns.barplot(y=data[col].nunique().index, \n",
    "            x=data[col].nunique().values,\n",
    "            order=data[col].nunique().sort_values(ascending=False).index,\n",
    "            ax=ax);\n",
    "\n",
    "for i, v in enumerate(data[col].nunique().sort_values(ascending=False).values):\n",
    "    ax.text(v, i , str(v), color='blue', fontweight='bold')\n",
    "    \n",
    "ax.set_title(\"Number of classes per target\");\n",
    "ax.set_xlabel(\"Count\");\n",
    "ax.set_ylabel(\"Target\");"
   ]
  },
  {
   "cell_type": "code",
   "execution_count": null,
   "id": "55d0c248-c120-4ff9-82e2-1e0c9e15ff1d",
   "metadata": {
    "ExecuteTime": {
     "end_time": "2021-09-02T10:08:45.936111Z",
     "start_time": "2021-09-02T10:08:45.417009Z"
    },
    "cell_style": "center"
   },
   "outputs": [],
   "source": [
    "import matplotlib.pyplot as plt\n",
    "import seaborn as sns\n",
    "\n",
    "fig, ax = plt.subplots(1,1,figsize=(15,15));\n",
    "sns.countplot(data=data, y=\"movement\", \n",
    "              order = data['movement'].value_counts().index,\n",
    "              ax=ax);\n",
    "sns.despine()\n",
    "\n",
    "for i, v in enumerate(data[\"movement\"].value_counts().values):\n",
    "    ax.text(v, i , str(v), color='blue', fontweight='bold',fontsize='25',horizontalalignment='right')\n",
    "    \n",
    "ax.set_title(\"Number of images per movement\",color=\"#FF4500\",size=30);\n",
    "ax.set_ylabel(\"Movement (Art Style)\");\n",
    "ax.spines[\"bottom\"].set_color(\"#FF4500\")\n",
    "ax.spines[\"left\"].set_color(\"#FF4500\")\n",
    "ax.tick_params(axis='y', colors='#FF4500',labelsize=26)\n",
    "ax.set_ylabel(\"Art Style\",\n",
    "                  loc='center',\n",
    "                  rotation='vertical',\n",
    "                  color=\"#FF4500\",size=20)\n",
    "fig.patch.set_alpha(0)\n",
    "ax.patch.set_alpha(0)\n",
    "\n",
    "fig.savefig('class_split_2.png',bbox_inches='tight')"
   ]
  },
  {
   "cell_type": "code",
   "execution_count": null,
   "id": "6ca74381-a206-4ae6-b43e-95e526385710",
   "metadata": {
    "cell_style": "center"
   },
   "outputs": [],
   "source": [
    "fig, ax = plt.subplots(1,1,figsize=(15,10));\n",
    "sns.countplot(data=data, y=\"genre\", \n",
    "              order = data['genre'].value_counts().index,\n",
    "              ax=ax);\n",
    "\n",
    "for i, v in enumerate(data[\"genre\"].value_counts().values):\n",
    "    ax.text(v, i , str(v), color='blue', fontweight='bold')\n",
    "    \n",
    "ax.set_title(\"Number of images per genre\");"
   ]
  },
  {
   "cell_type": "code",
   "execution_count": null,
   "id": "a9ac981c-a81e-4992-8deb-18fd854ebbb9",
   "metadata": {},
   "outputs": [],
   "source": [
    "fig, ax = plt.subplots(1,1,figsize=(15,10));\n",
    "sns.barplot(y=data.groupby(\"movement\").artist.nunique().index, \n",
    "            x=data.groupby(\"movement\").artist.nunique().values,\n",
    "            order=data.groupby(\"movement\").artist.nunique().sort_values(ascending=False).index,\n",
    "            ax=ax);\n",
    "\n",
    "for i, v in enumerate(data.groupby(\"movement\").artist.nunique().sort_values(ascending=False).values):\n",
    "    ax.text(v, i , str(v), color='blue', fontweight='bold')\n",
    "    \n",
    "ax.set_title(\"Number of artists per movement\");\n",
    "ax.set_xlabel(\"Count\");"
   ]
  }
 ],
 "metadata": {
  "kernelspec": {
   "display_name": "Python 3 (ipykernel)",
   "language": "python",
   "name": "python3"
  },
  "language_info": {
   "codemirror_mode": {
    "name": "ipython",
    "version": 3
   },
   "file_extension": ".py",
   "mimetype": "text/x-python",
   "name": "python",
   "nbconvert_exporter": "python",
   "pygments_lexer": "ipython3",
   "version": "3.8.6"
  },
  "toc": {
   "base_numbering": 1,
   "nav_menu": {},
   "number_sections": true,
   "sideBar": true,
   "skip_h1_title": false,
   "title_cell": "Table of Contents",
   "title_sidebar": "Contents",
   "toc_cell": false,
   "toc_position": {},
   "toc_section_display": true,
   "toc_window_display": true
  },
  "varInspector": {
   "cols": {
    "lenName": 16,
    "lenType": 16,
    "lenVar": 40
   },
   "kernels_config": {
    "python": {
     "delete_cmd_postfix": "",
     "delete_cmd_prefix": "del ",
     "library": "var_list.py",
     "varRefreshCmd": "print(var_dic_list())"
    },
    "r": {
     "delete_cmd_postfix": ") ",
     "delete_cmd_prefix": "rm(",
     "library": "var_list.r",
     "varRefreshCmd": "cat(var_dic_list()) "
    }
   },
   "types_to_exclude": [
    "module",
    "function",
    "builtin_function_or_method",
    "instance",
    "_Feature"
   ],
   "window_display": false
  }
 },
 "nbformat": 4,
 "nbformat_minor": 5
}
