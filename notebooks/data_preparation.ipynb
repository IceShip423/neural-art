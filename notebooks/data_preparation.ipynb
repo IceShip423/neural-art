{
 "cells": [
  {
   "cell_type": "markdown",
   "id": "1de8a528",
   "metadata": {},
   "source": [
    "# Import"
   ]
  },
  {
   "cell_type": "code",
   "execution_count": 1,
   "id": "bac68fee-f859-4d79-a020-ecd6c6cfc4dd",
   "metadata": {
    "ExecuteTime": {
     "end_time": "2021-09-02T09:10:44.529131Z",
     "start_time": "2021-09-02T09:10:44.509761Z"
    }
   },
   "outputs": [],
   "source": [
    "%load_ext autoreload\n",
    "%autoreload 2"
   ]
  },
  {
   "cell_type": "code",
   "execution_count": 2,
   "id": "0c2feac0",
   "metadata": {
    "ExecuteTime": {
     "end_time": "2021-09-02T09:36:20.820460Z",
     "start_time": "2021-09-02T09:36:20.796364Z"
    }
   },
   "outputs": [],
   "source": [
    "import os\n",
    "import pandas as pd\n",
    "\n",
    "from neuralart.data import get_chan_data, create_dataset"
   ]
  },
  {
   "cell_type": "markdown",
   "id": "44e5a94d",
   "metadata": {
    "heading_collapsed": true
   },
   "source": [
    "# Download Wikiart Data from Chan repository"
   ]
  },
  {
   "cell_type": "markdown",
   "id": "c77a8b5e-5a2c-4aa5-804a-62640fdac60d",
   "metadata": {
    "tags": []
   },
   "source": [
    "```bash\n",
    "wget http://web.fsktm.um.edu.my/~cschan/source/ICIP2017/wikiart.zip\n",
    "````\n",
    "\n"
   ]
  },
  {
   "cell_type": "markdown",
   "id": "2d004d98-4b9f-4a02-8bf0-6f44ecc6e744",
   "metadata": {},
   "source": [
    "```bash\n",
    "wget http://web.fsktm.um.edu.my/~cschan/source/ICIP2017/wikiart_csv.zip\n",
    "```"
   ]
  },
  {
   "cell_type": "markdown",
   "id": "f37ab18a-d2c4-4e6c-980d-bf2c644db020",
   "metadata": {},
   "source": [
    "# Parse Chan's dataset"
   ]
  },
  {
   "cell_type": "code",
   "execution_count": 3,
   "id": "642dc50c",
   "metadata": {
    "ExecuteTime": {
     "end_time": "2021-08-23T20:51:26.827074Z",
     "start_time": "2021-08-23T20:51:13.824048Z"
    }
   },
   "outputs": [
    {
     "data": {
      "text/plain": [
       "(78748, 10)"
      ]
     },
     "execution_count": 3,
     "metadata": {},
     "output_type": "execute_result"
    }
   ],
   "source": [
    "# Path to the folder containing Chan's csv files (ie. wikiart_csv)\n",
    "chan_csv_folder_path = \"../raw_data/wikiart/csv_chan\"\n",
    "# Path to the folder containing Chan's images from wikiart (ie. wikiart)\n",
    "chan_image_folder_path = \"../raw_data/wikiart/dataset_chan\"\n",
    "# Path to save a new csv file containing all the information about Chan's dataset\n",
    "csv_output_path = \"../raw_data/wikiart/new_dataset\"\n",
    "\n",
    "chan_data = get_chan_data(chan_csv_folder_path, \n",
    "                          chan_image_folder_path, \n",
    "                          csv_output_path=csv_output_path)\n",
    "chan_data.shape"
   ]
  },
  {
   "cell_type": "markdown",
   "id": "35ab8360-354d-49cf-98f1-9570a9ab7d60",
   "metadata": {},
   "source": [
    "# Create a New Dataset"
   ]
  },
  {
   "cell_type": "code",
   "execution_count": 4,
   "id": "c829496e-3476-4c34-9629-2647b6c3094e",
   "metadata": {},
   "outputs": [
    {
     "name": "stdout",
     "output_type": "stream",
     "text": [
      "Done: 800 image(s) copied\n"
     ]
    }
   ],
   "source": [
    "# Dictionary used to merge or drop some classes\n",
    "merge={'name': 'style_m1',\n",
    "       'merging':{'abstract_expressionism': 'abstract', 'action_painting': 'abstract', \n",
    "                  'analytical_cubism': 'cubism', 'art_nouveau_modern': None, 'baroque': None, \n",
    "                  'color_field_painting': 'color_field_painting', 'contemporary_realism': None, \n",
    "                  'cubism': 'cubism', 'early_renaissance': 'renaissance', \n",
    "                  'expressionism': 'expressionism', 'fauvism': None, 'high_renaissance': 'renaissance', \n",
    "                  'impressionism': 'impressionism', 'mannerism_late_renaissance': None, \n",
    "                  'minimalism': None, 'naive_art_primitivism': None, 'new_realism': None, \n",
    "                  'northern_renaissance': 'renaissance', 'pointillism': None, 'pop_art': None,\n",
    "                  'post_impressionism': None, 'realism': 'realism', 'rococo': None, \n",
    "                  'romanticism': 'romanticism', 'symbolism': None, 'synthetic_cubism': 'cubism', \n",
    "                  'ukiyo_e': None}}\n",
    "\n",
    "# Path to save a new csv file containing all the information about the new dataset\n",
    "csv_file_name =  \"../raw_data/wikiart/test/wikiart-target_style-class_27.csv\"\n",
    "# Path to the folder containing Chan's images from wikiart (ie. wikiart)\n",
    "chan_image_folder_path = \"../raw_data/wikiart/dataset_chan\"\n",
    "# Path to create a new directory containing all the wikiart images used in the new dataset\n",
    "image_folder_output_path = \"../raw_data/wikiart/new_dataset\"\n",
    "\n",
    "# Train, Val, and test ratio to split the new dataset\n",
    "val_ratio=0.1\n",
    "test_ratio=0.1\n",
    "\n",
    "# Sampling wikiart dataset using n images per class\n",
    "n=100\n",
    "strategy=\"max\"\n",
    "\n",
    "data=create_dataset(csv_file_name, \n",
    "                    merge=merge, \n",
    "                    n=n, \n",
    "                    strategy=strategy, \n",
    "                    random_state=123,\n",
    "                    chan_image_folder_path=chan_image_folder_path, \n",
    "                    csv_output_path=csv_output_path, \n",
    "                    image_folder_output_path=image_folder_output_path,\n",
    "                    val_ratio=val_ratio,\n",
    "                    test_ratio=test_ratio)"
   ]
  }
 ],
 "metadata": {
  "kernelspec": {
   "display_name": "Python 3 (ipykernel)",
   "language": "python",
   "name": "python3"
  },
  "language_info": {
   "codemirror_mode": {
    "name": "ipython",
    "version": 3
   },
   "file_extension": ".py",
   "mimetype": "text/x-python",
   "name": "python",
   "nbconvert_exporter": "python",
   "pygments_lexer": "ipython3",
   "version": "3.8.6"
  },
  "toc": {
   "base_numbering": 1,
   "nav_menu": {},
   "number_sections": true,
   "sideBar": true,
   "skip_h1_title": false,
   "title_cell": "Table of Contents",
   "title_sidebar": "Contents",
   "toc_cell": false,
   "toc_position": {},
   "toc_section_display": true,
   "toc_window_display": true
  },
  "varInspector": {
   "cols": {
    "lenName": 16,
    "lenType": 16,
    "lenVar": 40
   },
   "kernels_config": {
    "python": {
     "delete_cmd_postfix": "",
     "delete_cmd_prefix": "del ",
     "library": "var_list.py",
     "varRefreshCmd": "print(var_dic_list())"
    },
    "r": {
     "delete_cmd_postfix": ") ",
     "delete_cmd_prefix": "rm(",
     "library": "var_list.r",
     "varRefreshCmd": "cat(var_dic_list()) "
    }
   },
   "types_to_exclude": [
    "module",
    "function",
    "builtin_function_or_method",
    "instance",
    "_Feature"
   ],
   "window_display": false
  }
 },
 "nbformat": 4,
 "nbformat_minor": 5
}
