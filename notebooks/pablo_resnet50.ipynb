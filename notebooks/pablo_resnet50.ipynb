{
 "cells": [
  {
   "cell_type": "markdown",
   "id": "b895b287",
   "metadata": {},
   "source": [
    "# Image classification with 'image_dataset_from_directory' method"
   ]
  },
  {
   "cell_type": "markdown",
   "id": "e1d0fb06",
   "metadata": {},
   "source": [
    "# Creating train/val/test datasets using split-folders package"
   ]
  },
  {
   "cell_type": "markdown",
   "id": "4fafae55",
   "metadata": {},
   "source": [
    "The split-folders package allow us to create 3 folders of train/val/test images\n",
    "\n",
    "The input folder should have the following format (Gregoire's function output):\n",
    "\n",
    "input/\n",
    "\n",
    "    class1/\n",
    "        img1.jpg\n",
    "        img2.jpg\n",
    "        ...\n",
    "    class2/\n",
    "        imgWhatever.jpg\n",
    "        ...\n",
    "    ...\n",
    "    \n",
    "    \n",
    "And we get this\n",
    "\n",
    "output/\n",
    "\n",
    "    train/\n",
    "        class1/\n",
    "            img1.jpg\n",
    "            ...\n",
    "        class2/\n",
    "            imga.jpg\n",
    "            ...\n",
    "            \n",
    "    val/\n",
    "    \n",
    "        class1/\n",
    "        \n",
    "            img2.jpg\n",
    "            ...\n",
    "        class2/\n",
    "            imgb.jpg\n",
    "            ...\n",
    "    test/\n",
    "        class1/\n",
    "            img3.jpg\n",
    "            ...\n",
    "        class2/\n",
    "            imgc.jpg\n",
    "            ..."
   ]
  },
  {
   "cell_type": "code",
   "execution_count": 52,
   "id": "2856f7d6",
   "metadata": {},
   "outputs": [],
   "source": [
    "TRAIN_RATIO = 0.8\n",
    "VAL_RATIO = 0.1\n",
    "TEST_RATIO = 0.1\n",
    "\n",
    "assert TRAIN_RATIO + VAL_RATIO + TEST_RATIO == 1\n",
    "assert TRAIN_RATIO != 0\n",
    "assert VAL_RATIO != 0\n",
    "assert TEST_RATIO != 0"
   ]
  },
  {
   "cell_type": "code",
   "execution_count": 53,
   "id": "b471182b",
   "metadata": {},
   "outputs": [
    {
     "name": "stderr",
     "output_type": "stream",
     "text": [
      "Copying files: 11520 files [00:03, 2947.15 files/s]\n"
     ]
    }
   ],
   "source": [
    "import splitfolders\n",
    "!rm -rf \"/home/jupyter/wikiart/train_val_test_True_1440\"\n",
    "splitfolders.ratio(\"/home/jupyter/wikiart/wikiart-movement-genre_True-class_8-merge_mov-1-n_1440_max\", \n",
    "                   output=\"/home/jupyter/wikiart/train_val_test_True_1440\",\n",
    "                   seed=1337, ratio=(TRAIN_RATIO, VAL_RATIO, TEST_RATIO), \n",
    "                   group_prefix=None);"
   ]
  },
  {
   "cell_type": "markdown",
   "id": "457b5f8b",
   "metadata": {},
   "source": [
    "# Deep learning workflow"
   ]
  },
  {
   "cell_type": "markdown",
   "id": "d55c23dd",
   "metadata": {},
   "source": [
    "## Imports"
   ]
  },
  {
   "cell_type": "code",
   "execution_count": 54,
   "id": "dcaf234e",
   "metadata": {},
   "outputs": [],
   "source": [
    "import matplotlib.pyplot as plt\n",
    "import numpy as np\n",
    "import os\n",
    "import datetime\n",
    "import PIL\n",
    "import tensorflow as tf\n",
    "\n",
    "from tensorflow import keras\n",
    "from tensorflow.keras import layers, models, applications\n",
    "\n",
    "# Note : we are using TensorFlow Core v2.5.0, in TensorFlow Core v2.6.0 all the data augmentaation layers are part of tf.keras.layers\n",
    "from tensorflow.keras.layers.experimental.preprocessing import RandomFlip, RandomRotation, RandomZoom\n",
    "from tensorflow.keras import Input, Model\n",
    "from tensorflow.keras.callbacks import EarlyStopping, ReduceLROnPlateau, TensorBoard, ModelCheckpoint\n",
    "from tensorflow.keras.models import Sequential\n",
    "from tensorflow.keras.optimizers import Adamax"
   ]
  },
  {
   "cell_type": "markdown",
   "id": "35348535",
   "metadata": {},
   "source": [
    "## Global variables"
   ]
  },
  {
   "cell_type": "code",
   "execution_count": 86,
   "id": "6a16e2f4",
   "metadata": {},
   "outputs": [],
   "source": [
    "USERNAME = 'pablo'\n",
    "MODEL = 'ResNet50'\n",
    "\n",
    "MAIN_PATH = '/home/jupyter/' \n",
    "DATASETS_FOLDER = 'wikiart/train_val_test_True_1440/'\n",
    "\n",
    "TRAIN_DIR = MAIN_PATH + DATASETS_FOLDER + 'train'\n",
    "VAL_DIR = MAIN_PATH + DATASETS_FOLDER + 'val'\n",
    "TEST_DIR = MAIN_PATH + DATASETS_FOLDER + 'test'"
   ]
  },
  {
   "cell_type": "code",
   "execution_count": 87,
   "id": "7133503a",
   "metadata": {},
   "outputs": [],
   "source": [
    "BATCH_SIZE = 128\n",
    "EPOCHS = 1000\n",
    "IMG_HEIGHT = 224\n",
    "IMG_WIDTH = 224\n",
    "NUM_CLASSES = 8"
   ]
  },
  {
   "cell_type": "markdown",
   "id": "a4b2c268",
   "metadata": {},
   "source": [
    "## Datasets setup"
   ]
  },
  {
   "cell_type": "markdown",
   "id": "7aab7cce",
   "metadata": {},
   "source": [
    "### Train dataset"
   ]
  },
  {
   "cell_type": "code",
   "execution_count": 57,
   "id": "6ac353ae",
   "metadata": {},
   "outputs": [
    {
     "name": "stdout",
     "output_type": "stream",
     "text": [
      "Found 9216 files belonging to 8 classes.\n"
     ]
    }
   ],
   "source": [
    "train_ds = tf.keras.preprocessing.image_dataset_from_directory(\n",
    "    directory=TRAIN_DIR,\n",
    "    labels='inferred',\n",
    "    image_size=(IMG_HEIGHT, IMG_WIDTH),\n",
    "    batch_size=BATCH_SIZE,\n",
    "    label_mode='categorical',\n",
    "    shuffle=True)\n",
    "\n",
    "assert len(train_ds.class_names) == NUM_CLASSES"
   ]
  },
  {
   "cell_type": "markdown",
   "id": "75abb94b",
   "metadata": {},
   "source": [
    "### Validation dataset"
   ]
  },
  {
   "cell_type": "code",
   "execution_count": 58,
   "id": "cd64fc7c",
   "metadata": {},
   "outputs": [
    {
     "name": "stdout",
     "output_type": "stream",
     "text": [
      "Found 1152 files belonging to 8 classes.\n"
     ]
    }
   ],
   "source": [
    "val_ds = tf.keras.preprocessing.image_dataset_from_directory(\n",
    "    directory=VAL_DIR,\n",
    "    labels='inferred',\n",
    "    image_size=(IMG_HEIGHT, IMG_WIDTH),\n",
    "    label_mode='categorical',\n",
    "    batch_size=BATCH_SIZE)\n",
    "\n",
    "assert len(val_ds.class_names) == NUM_CLASSES"
   ]
  },
  {
   "cell_type": "markdown",
   "id": "76074771",
   "metadata": {},
   "source": [
    "### Test dataset"
   ]
  },
  {
   "cell_type": "code",
   "execution_count": 59,
   "id": "3d47f1b8",
   "metadata": {},
   "outputs": [
    {
     "name": "stdout",
     "output_type": "stream",
     "text": [
      "Found 1152 files belonging to 8 classes.\n"
     ]
    }
   ],
   "source": [
    "test_ds = tf.keras.preprocessing.image_dataset_from_directory(\n",
    "    directory=TEST_DIR,\n",
    "    labels='inferred',\n",
    "    image_size=(IMG_HEIGHT, IMG_WIDTH),\n",
    "    label_mode='categorical',\n",
    "    batch_size=BATCH_SIZE)\n",
    "\n",
    "assert len(test_ds.class_names) == NUM_CLASSES"
   ]
  },
  {
   "cell_type": "code",
   "execution_count": 60,
   "id": "5c473e33",
   "metadata": {},
   "outputs": [
    {
     "data": {
      "text/plain": [
       "11520"
      ]
     },
     "execution_count": 60,
     "metadata": {},
     "output_type": "execute_result"
    }
   ],
   "source": [
    "total_images_count = (int(len(list(train_ds)))+int(len(list(val_ds)))+int(len(list(test_ds))))*BATCH_SIZE\n",
    "# total_images_count = 33011 + 4123 + 4134\n",
    "total_images_count"
   ]
  },
  {
   "cell_type": "markdown",
   "id": "5da2a138",
   "metadata": {},
   "source": [
    "## Dataset optimization for performance"
   ]
  },
  {
   "cell_type": "code",
   "execution_count": 88,
   "id": "9faeee50",
   "metadata": {},
   "outputs": [],
   "source": [
    "AUTOTUNE = tf.data.AUTOTUNE\n",
    "\n",
    "train_ds = train_ds.cache().shuffle(int(total_images_count/10)).prefetch(buffer_size=AUTOTUNE)\n",
    "val_ds = val_ds.cache().prefetch(buffer_size=AUTOTUNE)\n",
    "test_ds = test_ds.cache().prefetch(buffer_size=AUTOTUNE)"
   ]
  },
  {
   "cell_type": "markdown",
   "id": "942ba37a",
   "metadata": {},
   "source": [
    "## Model : transfer learning with ResNet50"
   ]
  },
  {
   "cell_type": "markdown",
   "id": "4d6e423a",
   "metadata": {},
   "source": [
    "### ResNet50 layers"
   ]
  },
  {
   "cell_type": "code",
   "execution_count": 89,
   "id": "98e9f13f",
   "metadata": {},
   "outputs": [],
   "source": [
    "layer_model = applications.ResNet50(\n",
    "    include_top=False, \n",
    "    weights='imagenet', \n",
    "    input_shape=(IMG_HEIGHT, IMG_WIDTH, 3), \n",
    "    classes=NUM_CLASSES)"
   ]
  },
  {
   "cell_type": "code",
   "execution_count": 90,
   "id": "02d374df",
   "metadata": {},
   "outputs": [
    {
     "data": {
      "text/plain": [
       "[<tensorflow.python.keras.layers.convolutional.Conv2D at 0x7f552caf9610>,\n",
       " <tensorflow.python.keras.layers.normalization_v2.BatchNormalization at 0x7f552cb7fb10>,\n",
       " <tensorflow.python.keras.layers.merge.Add at 0x7f552cab4890>,\n",
       " <tensorflow.python.keras.layers.core.Activation at 0x7f552c9caa90>]"
      ]
     },
     "execution_count": 90,
     "metadata": {},
     "output_type": "execute_result"
    }
   ],
   "source": [
    "layer_model.layers[-4:]"
   ]
  },
  {
   "cell_type": "code",
   "execution_count": 91,
   "id": "b9470e55",
   "metadata": {},
   "outputs": [
    {
     "data": {
      "text/plain": [
       "<tensorflow.python.keras.layers.normalization_v2.BatchNormalization at 0x7f552cb7fb10>"
      ]
     },
     "execution_count": 91,
     "metadata": {},
     "output_type": "execute_result"
    }
   ],
   "source": [
    "layer_model.layers[-3]"
   ]
  },
  {
   "cell_type": "code",
   "execution_count": 92,
   "id": "0690c7b3",
   "metadata": {},
   "outputs": [],
   "source": [
    "layer_model.trainable = False"
   ]
  },
  {
   "cell_type": "code",
   "execution_count": 93,
   "id": "248ad402",
   "metadata": {},
   "outputs": [],
   "source": [
    "for layer in layer_model.layers[-4:]:\n",
    "    layer.trainable = True"
   ]
  },
  {
   "cell_type": "code",
   "execution_count": 94,
   "id": "91093401",
   "metadata": {},
   "outputs": [],
   "source": [
    "layer_model.layers[-3].trainable = False"
   ]
  },
  {
   "cell_type": "code",
   "execution_count": 95,
   "id": "99981940",
   "metadata": {},
   "outputs": [
    {
     "data": {
      "text/plain": [
       "3"
      ]
     },
     "execution_count": 95,
     "metadata": {},
     "output_type": "execute_result"
    }
   ],
   "source": [
    "trainable_layer_count = 0\n",
    "\n",
    "for i in range(len(layer_model.layers)):\n",
    "    if layer_model.layers[i].trainable:\n",
    "        trainable_layer_count += 1\n",
    "        \n",
    "trainable_layer_count"
   ]
  },
  {
   "cell_type": "markdown",
   "id": "6534ef7e",
   "metadata": {},
   "source": [
    "### Data augmentation layers"
   ]
  },
  {
   "cell_type": "code",
   "execution_count": 96,
   "id": "61b7beab",
   "metadata": {},
   "outputs": [],
   "source": [
    "data_augmentation_layers = models.Sequential([\n",
    "    RandomFlip(\"horizontal\", input_shape=(224, 224,3)),\n",
    "    RandomRotation(0.3),\n",
    "    RandomZoom(0.3)])"
   ]
  },
  {
   "cell_type": "markdown",
   "id": "3cfe20f4",
   "metadata": {},
   "source": [
    "### Model setup"
   ]
  },
  {
   "cell_type": "code",
   "execution_count": 97,
   "id": "d3366fb9",
   "metadata": {},
   "outputs": [],
   "source": [
    "tf.keras.backend.clear_session() # Clear the layers name (in case you run multiple time the cell)\n",
    "\n",
    "inputs = Input(shape=(224, 224, 3))\n",
    "\n",
    "x = data_augmentation_layers(inputs) # Are not applied to validation and test dataset (made inactive, tensorflow handle it)\n",
    "x = applications.resnet50.preprocess_input(x) # Does the rescaling\n",
    "x = layer_model(x) \n",
    "x = layers.GlobalAveragePooling2D()(x)\n",
    "x = layers.Dropout(0.5)(x) \n",
    "\n",
    "outputs = layers.Dense(NUM_CLASSES, activation='softmax', name='classification_layer')(x)\n",
    "\n",
    "model = Model(inputs, outputs)"
   ]
  },
  {
   "cell_type": "markdown",
   "id": "3bff3693",
   "metadata": {},
   "source": [
    "### Callbacks"
   ]
  },
  {
   "cell_type": "markdown",
   "id": "4c10952c",
   "metadata": {},
   "source": [
    "#### EarlyStopping"
   ]
  },
  {
   "cell_type": "code",
   "execution_count": 98,
   "id": "fbbe913a",
   "metadata": {},
   "outputs": [],
   "source": [
    "es = EarlyStopping(monitor='val_loss', patience=20, mode='min', restore_best_weights=True)"
   ]
  },
  {
   "cell_type": "markdown",
   "id": "8f8d50b3",
   "metadata": {},
   "source": [
    "#### ReduceLROnPlateau"
   ]
  },
  {
   "cell_type": "code",
   "execution_count": 99,
   "id": "14ed9d93",
   "metadata": {},
   "outputs": [],
   "source": [
    "rlrp = ReduceLROnPlateau(monitor='val_accuracy', factor=0.6, patience=5, min_lr=1e-8)"
   ]
  },
  {
   "cell_type": "markdown",
   "id": "b1e9a1e3",
   "metadata": {},
   "source": [
    "#### ModelCheckpoint"
   ]
  },
  {
   "cell_type": "code",
   "execution_count": 100,
   "id": "2cb45a69",
   "metadata": {},
   "outputs": [],
   "source": [
    "checkpoint_dir = f\"{MAIN_PATH}logs/{USERNAME}/{MODEL}/\" + datetime.datetime.now().strftime(\"%Y%m%d-%H%M%S\") + f\"-unfreeze_{trainable_layer_count}\"\n",
    "mcp = ModelCheckpoint(\n",
    "    filepath=checkpoint_dir,\n",
    "    save_weights_only=True,\n",
    "    monitor='val_accuracy',\n",
    "    mode='max',\n",
    "    save_freq=10,\n",
    "    save_best_only=True)"
   ]
  },
  {
   "cell_type": "code",
   "execution_count": 101,
   "id": "9bf3de33",
   "metadata": {},
   "outputs": [
    {
     "name": "stdout",
     "output_type": "stream",
     "text": [
      "The tensorboard extension is already loaded. To reload it, use:\n",
      "  %reload_ext tensorboard\n"
     ]
    }
   ],
   "source": [
    "%load_ext tensorboard\n",
    "# !rm -rf ./logs/ResNet50\n",
    "recorded_time = datetime.datetime.now().strftime(\"%Y%m%d-%H%M%S\") \n",
    "log_dir = f\"{MAIN_PATH}logs/{USERNAME}/{MODEL}/\" + \\\n",
    "    recorded_time + \\\n",
    "    f\"-images_{total_images_count}\" + \\\n",
    "    f\"-unfreeze_{trainable_layer_count}\" + \\\n",
    "    f\"-batch_{BATCH_SIZE}\"\n",
    "tsboard = TensorBoard(log_dir=log_dir) # voir https public"
   ]
  },
  {
   "cell_type": "markdown",
   "id": "168a25eb",
   "metadata": {},
   "source": [
    "### Model compilation"
   ]
  },
  {
   "cell_type": "code",
   "execution_count": 102,
   "id": "d815424e",
   "metadata": {},
   "outputs": [],
   "source": [
    "model.compile(optimizer=Adamax(learning_rate=0.01), \n",
    "                    loss='categorical_crossentropy',\n",
    "                    metrics=['accuracy'])"
   ]
  },
  {
   "cell_type": "markdown",
   "id": "faec6712",
   "metadata": {},
   "source": [
    "### Model fitting"
   ]
  },
  {
   "cell_type": "code",
   "execution_count": 103,
   "id": "dff54dd0",
   "metadata": {},
   "outputs": [
    {
     "name": "stdout",
     "output_type": "stream",
     "text": [
      "Epoch 1/1000\n",
      "288/288 [==============================] - 58s 123ms/step - loss: 1.8789 - accuracy: 0.4827 - val_loss: 1.1797 - val_accuracy: 0.5920\n",
      "Epoch 2/1000\n",
      "288/288 [==============================] - 33s 116ms/step - loss: 1.5182 - accuracy: 0.5569 - val_loss: 1.2496 - val_accuracy: 0.5885\n",
      "Epoch 3/1000\n",
      "288/288 [==============================] - 33s 116ms/step - loss: 1.5039 - accuracy: 0.5640 - val_loss: 1.2723 - val_accuracy: 0.6120\n",
      "Epoch 4/1000\n",
      "288/288 [==============================] - 33s 116ms/step - loss: 1.4618 - accuracy: 0.5752 - val_loss: 1.1622 - val_accuracy: 0.6172\n",
      "Epoch 5/1000\n",
      "288/288 [==============================] - 33s 116ms/step - loss: 1.4594 - accuracy: 0.5749 - val_loss: 1.2789 - val_accuracy: 0.5885\n",
      "Epoch 6/1000\n",
      "288/288 [==============================] - 33s 116ms/step - loss: 1.4564 - accuracy: 0.5742 - val_loss: 1.2359 - val_accuracy: 0.6198\n",
      "Epoch 7/1000\n",
      "288/288 [==============================] - 33s 116ms/step - loss: 1.4861 - accuracy: 0.5742 - val_loss: 1.2889 - val_accuracy: 0.6007\n",
      "Epoch 8/1000\n",
      "288/288 [==============================] - 33s 116ms/step - loss: 1.4478 - accuracy: 0.5794 - val_loss: 1.2116 - val_accuracy: 0.6016\n",
      "Epoch 9/1000\n",
      "288/288 [==============================] - 33s 116ms/step - loss: 1.4585 - accuracy: 0.5840 - val_loss: 1.1954 - val_accuracy: 0.6267\n",
      "Epoch 10/1000\n",
      "288/288 [==============================] - 33s 116ms/step - loss: 1.4728 - accuracy: 0.5832 - val_loss: 1.3215 - val_accuracy: 0.6016\n",
      "Epoch 11/1000\n",
      "288/288 [==============================] - 33s 116ms/step - loss: 1.4668 - accuracy: 0.5829 - val_loss: 1.2144 - val_accuracy: 0.6163\n",
      "Epoch 12/1000\n",
      "288/288 [==============================] - 33s 116ms/step - loss: 1.4491 - accuracy: 0.5875 - val_loss: 1.2277 - val_accuracy: 0.6102\n",
      "Epoch 13/1000\n",
      "288/288 [==============================] - 33s 116ms/step - loss: 1.4400 - accuracy: 0.5863 - val_loss: 1.1188 - val_accuracy: 0.6493\n",
      "Epoch 14/1000\n",
      "288/288 [==============================] - 33s 116ms/step - loss: 1.4233 - accuracy: 0.5944 - val_loss: 1.2378 - val_accuracy: 0.6241\n",
      "Epoch 15/1000\n",
      "288/288 [==============================] - 33s 116ms/step - loss: 1.4857 - accuracy: 0.5870 - val_loss: 1.1618 - val_accuracy: 0.6311\n",
      "Epoch 16/1000\n",
      "288/288 [==============================] - 33s 116ms/step - loss: 1.4564 - accuracy: 0.5879 - val_loss: 1.2950 - val_accuracy: 0.6328\n",
      "Epoch 17/1000\n",
      "288/288 [==============================] - 33s 116ms/step - loss: 1.4435 - accuracy: 0.5801 - val_loss: 1.1786 - val_accuracy: 0.6328\n",
      "Epoch 18/1000\n",
      "288/288 [==============================] - 33s 116ms/step - loss: 1.4914 - accuracy: 0.5881 - val_loss: 1.1406 - val_accuracy: 0.6415\n",
      "Epoch 19/1000\n",
      "288/288 [==============================] - 33s 116ms/step - loss: 1.3557 - accuracy: 0.6020 - val_loss: 1.1135 - val_accuracy: 0.6432\n",
      "Epoch 20/1000\n",
      "288/288 [==============================] - 33s 116ms/step - loss: 1.2876 - accuracy: 0.6088 - val_loss: 1.0557 - val_accuracy: 0.6458\n",
      "Epoch 21/1000\n",
      "288/288 [==============================] - 34s 117ms/step - loss: 1.2633 - accuracy: 0.6090 - val_loss: 1.1161 - val_accuracy: 0.6398\n",
      "Epoch 22/1000\n",
      "288/288 [==============================] - 33s 116ms/step - loss: 1.2710 - accuracy: 0.6019 - val_loss: 1.0166 - val_accuracy: 0.6649\n",
      "Epoch 23/1000\n",
      "288/288 [==============================] - 33s 116ms/step - loss: 1.2405 - accuracy: 0.6076 - val_loss: 1.0096 - val_accuracy: 0.6545\n",
      "Epoch 24/1000\n",
      "288/288 [==============================] - 33s 116ms/step - loss: 1.2229 - accuracy: 0.6068 - val_loss: 1.0539 - val_accuracy: 0.6406\n",
      "Epoch 25/1000\n",
      "288/288 [==============================] - 33s 116ms/step - loss: 1.2007 - accuracy: 0.6121 - val_loss: 1.0002 - val_accuracy: 0.6632\n",
      "Epoch 26/1000\n",
      "288/288 [==============================] - 33s 116ms/step - loss: 1.2200 - accuracy: 0.6050 - val_loss: 1.0490 - val_accuracy: 0.6545\n",
      "Epoch 27/1000\n",
      "288/288 [==============================] - 33s 116ms/step - loss: 1.2259 - accuracy: 0.6051 - val_loss: 1.1035 - val_accuracy: 0.6441\n",
      "Epoch 28/1000\n",
      "288/288 [==============================] - 33s 116ms/step - loss: 1.1322 - accuracy: 0.6197 - val_loss: 0.9876 - val_accuracy: 0.6493\n",
      "Epoch 29/1000\n",
      "288/288 [==============================] - 33s 116ms/step - loss: 1.1086 - accuracy: 0.6245 - val_loss: 0.9833 - val_accuracy: 0.6589\n",
      "Epoch 30/1000\n",
      "288/288 [==============================] - 33s 116ms/step - loss: 1.1000 - accuracy: 0.6226 - val_loss: 0.9520 - val_accuracy: 0.6623\n",
      "Epoch 31/1000\n",
      "288/288 [==============================] - 33s 116ms/step - loss: 1.0690 - accuracy: 0.6315 - val_loss: 0.9746 - val_accuracy: 0.6432\n",
      "Epoch 32/1000\n",
      "288/288 [==============================] - 33s 116ms/step - loss: 1.0801 - accuracy: 0.6268 - val_loss: 0.9687 - val_accuracy: 0.6372\n",
      "Epoch 33/1000\n",
      "288/288 [==============================] - 33s 116ms/step - loss: 1.0432 - accuracy: 0.6331 - val_loss: 0.9630 - val_accuracy: 0.6484\n",
      "Epoch 34/1000\n",
      "288/288 [==============================] - 33s 116ms/step - loss: 1.0219 - accuracy: 0.6321 - val_loss: 0.9301 - val_accuracy: 0.6571\n",
      "Epoch 35/1000\n",
      "288/288 [==============================] - 33s 116ms/step - loss: 1.0128 - accuracy: 0.6337 - val_loss: 0.9809 - val_accuracy: 0.6398\n",
      "Epoch 36/1000\n",
      "288/288 [==============================] - 33s 116ms/step - loss: 1.0055 - accuracy: 0.6382 - val_loss: 0.9233 - val_accuracy: 0.6597\n",
      "Epoch 37/1000\n",
      "288/288 [==============================] - 33s 116ms/step - loss: 0.9999 - accuracy: 0.6454 - val_loss: 0.9030 - val_accuracy: 0.6649\n",
      "Epoch 38/1000\n",
      "288/288 [==============================] - 33s 116ms/step - loss: 0.9752 - accuracy: 0.6456 - val_loss: 0.9244 - val_accuracy: 0.6623\n",
      "Epoch 39/1000\n",
      "288/288 [==============================] - 33s 116ms/step - loss: 0.9669 - accuracy: 0.6479 - val_loss: 0.8925 - val_accuracy: 0.6667\n",
      "Epoch 40/1000\n",
      "288/288 [==============================] - 33s 116ms/step - loss: 0.9503 - accuracy: 0.6481 - val_loss: 0.8948 - val_accuracy: 0.6641\n",
      "Epoch 41/1000\n",
      "288/288 [==============================] - 33s 116ms/step - loss: 0.9526 - accuracy: 0.6462 - val_loss: 0.9168 - val_accuracy: 0.6623\n",
      "Epoch 42/1000\n",
      "288/288 [==============================] - 33s 116ms/step - loss: 0.9639 - accuracy: 0.6475 - val_loss: 0.9090 - val_accuracy: 0.6589\n",
      "Epoch 43/1000\n",
      "288/288 [==============================] - 33s 116ms/step - loss: 0.9410 - accuracy: 0.6558 - val_loss: 0.9041 - val_accuracy: 0.6667\n",
      "Epoch 44/1000\n",
      "288/288 [==============================] - 33s 116ms/step - loss: 0.9584 - accuracy: 0.6455 - val_loss: 0.8937 - val_accuracy: 0.6667\n",
      "Epoch 45/1000\n",
      "288/288 [==============================] - 33s 116ms/step - loss: 0.9377 - accuracy: 0.6556 - val_loss: 0.8916 - val_accuracy: 0.6615\n",
      "Epoch 46/1000\n",
      "288/288 [==============================] - 33s 116ms/step - loss: 0.9323 - accuracy: 0.6560 - val_loss: 0.8867 - val_accuracy: 0.6658\n",
      "Epoch 47/1000\n",
      "288/288 [==============================] - 33s 116ms/step - loss: 0.9412 - accuracy: 0.6498 - val_loss: 0.8875 - val_accuracy: 0.6606\n",
      "Epoch 48/1000\n",
      "288/288 [==============================] - 33s 116ms/step - loss: 0.9328 - accuracy: 0.6496 - val_loss: 0.8848 - val_accuracy: 0.6580\n",
      "Epoch 49/1000\n",
      "288/288 [==============================] - 33s 116ms/step - loss: 0.9280 - accuracy: 0.6556 - val_loss: 0.8854 - val_accuracy: 0.6649\n",
      "Epoch 50/1000\n",
      "288/288 [==============================] - 33s 116ms/step - loss: 0.8948 - accuracy: 0.6696 - val_loss: 0.8980 - val_accuracy: 0.6571\n",
      "Epoch 51/1000\n",
      "288/288 [==============================] - 33s 116ms/step - loss: 0.9124 - accuracy: 0.6642 - val_loss: 0.8949 - val_accuracy: 0.6615\n",
      "Epoch 52/1000\n",
      "288/288 [==============================] - 33s 116ms/step - loss: 0.9115 - accuracy: 0.6644 - val_loss: 0.8720 - val_accuracy: 0.6693\n",
      "Epoch 53/1000\n",
      "288/288 [==============================] - 33s 116ms/step - loss: 0.9030 - accuracy: 0.6608 - val_loss: 0.8880 - val_accuracy: 0.6649\n",
      "Epoch 54/1000\n",
      "288/288 [==============================] - 33s 116ms/step - loss: 0.9199 - accuracy: 0.6605 - val_loss: 0.8783 - val_accuracy: 0.6589\n",
      "Epoch 55/1000\n",
      "288/288 [==============================] - 33s 116ms/step - loss: 0.9139 - accuracy: 0.6659 - val_loss: 0.8776 - val_accuracy: 0.6649\n",
      "Epoch 56/1000\n",
      "288/288 [==============================] - 33s 116ms/step - loss: 0.9030 - accuracy: 0.6587 - val_loss: 0.8645 - val_accuracy: 0.6641\n",
      "Epoch 57/1000\n",
      "288/288 [==============================] - 33s 116ms/step - loss: 0.8954 - accuracy: 0.6654 - val_loss: 0.8785 - val_accuracy: 0.6710\n",
      "Epoch 58/1000\n",
      "288/288 [==============================] - 33s 116ms/step - loss: 0.9093 - accuracy: 0.6651 - val_loss: 0.8689 - val_accuracy: 0.6675\n",
      "Epoch 59/1000\n",
      "288/288 [==============================] - 33s 116ms/step - loss: 0.8949 - accuracy: 0.6679 - val_loss: 0.8862 - val_accuracy: 0.6589\n",
      "Epoch 60/1000\n",
      "288/288 [==============================] - 33s 116ms/step - loss: 0.9016 - accuracy: 0.6612 - val_loss: 0.8812 - val_accuracy: 0.6632\n",
      "Epoch 61/1000\n",
      "288/288 [==============================] - 33s 116ms/step - loss: 0.9019 - accuracy: 0.6683 - val_loss: 0.8763 - val_accuracy: 0.6632\n",
      "Epoch 62/1000\n",
      "288/288 [==============================] - 33s 116ms/step - loss: 0.9062 - accuracy: 0.6649 - val_loss: 0.8780 - val_accuracy: 0.6736\n",
      "Epoch 63/1000\n",
      "288/288 [==============================] - 33s 116ms/step - loss: 0.8972 - accuracy: 0.6642 - val_loss: 0.8785 - val_accuracy: 0.6615\n",
      "Epoch 64/1000\n",
      "288/288 [==============================] - 33s 116ms/step - loss: 0.8899 - accuracy: 0.6729 - val_loss: 0.8727 - val_accuracy: 0.6684\n",
      "Epoch 65/1000\n",
      "288/288 [==============================] - 33s 116ms/step - loss: 0.9000 - accuracy: 0.6648 - val_loss: 0.8700 - val_accuracy: 0.6701\n",
      "Epoch 66/1000\n",
      "288/288 [==============================] - 33s 116ms/step - loss: 0.9093 - accuracy: 0.6593 - val_loss: 0.8716 - val_accuracy: 0.6701\n",
      "Epoch 67/1000\n",
      "288/288 [==============================] - 33s 116ms/step - loss: 0.9041 - accuracy: 0.6625 - val_loss: 0.8738 - val_accuracy: 0.6658\n",
      "Epoch 68/1000\n",
      "288/288 [==============================] - 33s 116ms/step - loss: 0.8821 - accuracy: 0.6694 - val_loss: 0.8706 - val_accuracy: 0.6667\n",
      "Epoch 69/1000\n",
      "288/288 [==============================] - 33s 115ms/step - loss: 0.8904 - accuracy: 0.6659 - val_loss: 0.8720 - val_accuracy: 0.6675\n",
      "Epoch 70/1000\n",
      "288/288 [==============================] - 33s 116ms/step - loss: 0.9047 - accuracy: 0.6593 - val_loss: 0.8719 - val_accuracy: 0.6701\n",
      "Epoch 71/1000\n",
      "288/288 [==============================] - 33s 116ms/step - loss: 0.8815 - accuracy: 0.6731 - val_loss: 0.8754 - val_accuracy: 0.6667\n",
      "Epoch 72/1000\n",
      "288/288 [==============================] - 33s 116ms/step - loss: 0.8772 - accuracy: 0.6713 - val_loss: 0.8768 - val_accuracy: 0.6649\n",
      "Epoch 73/1000\n",
      "288/288 [==============================] - 33s 116ms/step - loss: 0.9016 - accuracy: 0.6657 - val_loss: 0.8688 - val_accuracy: 0.6736\n",
      "Epoch 74/1000\n",
      "288/288 [==============================] - 33s 116ms/step - loss: 0.8993 - accuracy: 0.6630 - val_loss: 0.8754 - val_accuracy: 0.6719\n",
      "Epoch 75/1000\n",
      "288/288 [==============================] - 33s 116ms/step - loss: 0.8809 - accuracy: 0.6686 - val_loss: 0.8681 - val_accuracy: 0.6753\n",
      "Epoch 76/1000\n",
      "288/288 [==============================] - 33s 116ms/step - loss: 0.8822 - accuracy: 0.6762 - val_loss: 0.8693 - val_accuracy: 0.6667\n"
     ]
    },
    {
     "name": "stderr",
     "output_type": "stream",
     "text": [
      "/opt/conda/lib/python3.7/site-packages/tensorflow/python/keras/utils/generic_utils.py:497: CustomMaskWarning: Custom mask layers require a config and must override get_config. When loading, the custom mask layer must be passed to the custom_objects argument.\n",
      "  category=CustomMaskWarning)\n"
     ]
    },
    {
     "name": "stdout",
     "output_type": "stream",
     "text": [
      "INFO:tensorflow:Assets written to: /home/jupyter/models/pablo/ResNet50/20210830-103448-images_11520-unfreeze_3-batch_128/assets\n"
     ]
    }
   ],
   "source": [
    "history = model.fit(\n",
    "    train_ds, \n",
    "    epochs=EPOCHS, \n",
    "    validation_data=val_ds, \n",
    "    callbacks=[es, rlrp, tsboard], \n",
    "    use_multiprocessing=True)\n",
    "\n",
    "model.save(f\"{MAIN_PATH}models/{USERNAME}/{MODEL}/\" + \\\n",
    "    recorded_time + \\\n",
    "    f\"-images_{total_images_count}\" + \\\n",
    "    f\"-unfreeze_{trainable_layer_count}\" + \\\n",
    "    f\"-batch_{BATCH_SIZE}\")"
   ]
  },
  {
   "cell_type": "code",
   "execution_count": 109,
   "id": "b1a7ba3b",
   "metadata": {},
   "outputs": [
    {
     "data": {
      "image/png": "[encoded data removed]",
      "text/plain": [
       "<Figure size 1152x360 with 2 Axes>"
      ]
     },
     "metadata": {
      "needs_background": "light"
     },
     "output_type": "display_data"
    }
   ],
   "source": [
    "acc = history.history['accuracy']\n",
    "val_acc = history.history['val_accuracy']\n",
    "\n",
    "loss = history.history['loss']\n",
    "val_loss = history.history['val_loss']\n",
    "\n",
    "epochs_range = history.epoch\n",
    "\n",
    "fig = plt.figure(figsize=(16, 5))\n",
    "plt.subplot(1, 2, 1)\n",
    "plt.plot(epochs_range, acc, label='Training Accuracy')\n",
    "plt.plot(epochs_range, val_acc, label='Validation Accuracy')\n",
    "plt.legend(loc='lower right')\n",
    "plt.title('Training and Validation Accuracy')\n",
    "\n",
    "plt.subplot(1, 2, 2)\n",
    "plt.plot(epochs_range, loss, label='Training Loss')\n",
    "plt.plot(epochs_range, val_loss, label='Validation Loss')\n",
    "plt.legend(loc='upper right')\n",
    "plt.title('Training and Validation Loss')\n",
    "plt.show()\n",
    "fig.savefig(f\"/home/jupyter/figures/{USERNAME}/{MODEL}/{recorded_time}-images_{total_images_count}-unfreeze_{trainable_layer_count}-batch_{BATCH_SIZE}\", dpi=300)"
   ]
  },
  {
   "cell_type": "code",
   "execution_count": 105,
   "id": "f182aa5c",
   "metadata": {},
   "outputs": [
    {
     "ename": "NameError",
     "evalue": "name 'model_resnet50' is not defined",
     "output_type": "error",
     "traceback": [
      "\u001b[0;31m---------------------------------------------------------------------------\u001b[0m",
      "\u001b[0;31mNameError\u001b[0m                                 Traceback (most recent call last)",
      "\u001b[0;32m<ipython-input-105-35030f56b550>\u001b[0m in \u001b[0;36m<module>\u001b[0;34m\u001b[0m\n\u001b[0;32m----> 1\u001b[0;31m \u001b[0mmodel_resnet50\u001b[0m\u001b[0;34m.\u001b[0m\u001b[0mevaluate\u001b[0m\u001b[0;34m(\u001b[0m\u001b[0mtest_ds\u001b[0m\u001b[0;34m,\u001b[0m \u001b[0mcallbacks\u001b[0m\u001b[0;34m=\u001b[0m\u001b[0mtsboard\u001b[0m\u001b[0;34m)\u001b[0m\u001b[0;34m\u001b[0m\u001b[0;34m\u001b[0m\u001b[0m\n\u001b[0m",
      "\u001b[0;31mNameError\u001b[0m: name 'model_resnet50' is not defined"
     ]
    }
   ],
   "source": [
    "model_resnet50.evaluate(test_ds, callbacks=tsboard)"
   ]
  }
 ],
 "metadata": {
  "environment": {
   "name": "tf2-gpu.2-5.m76",
   "type": "gcloud",
   "uri": "gcr.io/deeplearning-platform-release/tf2-gpu.2-5:m76"
  },
  "kernelspec": {
   "display_name": "Python 3",
   "language": "python",
   "name": "python3"
  },
  "language_info": {
   "codemirror_mode": {
    "name": "ipython",
    "version": 3
   },
   "file_extension": ".py",
   "mimetype": "text/x-python",
   "name": "python",
   "nbconvert_exporter": "python",
   "pygments_lexer": "ipython3",
   "version": "3.7.10"
  }
 },
 "nbformat": 4,
 "nbformat_minor": 5
}
