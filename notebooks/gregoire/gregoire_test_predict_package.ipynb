{
 "cells": [
  {
   "cell_type": "code",
   "execution_count": 1,
   "id": "e2047238-c721-4a45-84f2-5f8f469a4e2d",
   "metadata": {},
   "outputs": [],
   "source": [
    "%load_ext autoreload\n",
    "%autoreload 2"
   ]
  },
  {
   "cell_type": "code",
   "execution_count": 2,
   "id": "501fce46-bca4-46ec-892d-e17c4ba1ddb5",
   "metadata": {},
   "outputs": [],
   "source": [
    "from PIL import Image\n",
    "import requests\n",
    "import io\n",
    "\n",
    "import matplotlib.pyplot as plt\n",
    "import tensorflow as tf"
   ]
  },
  {
   "cell_type": "code",
   "execution_count": 3,
   "id": "f19706db-fd00-4495-a995-e22c5569c44c",
   "metadata": {},
   "outputs": [],
   "source": [
    "from neuralart.predict import *"
   ]
  },
  {
   "cell_type": "code",
   "execution_count": 5,
   "id": "60d29503-843f-48f7-987f-6484f6a2af89",
   "metadata": {},
   "outputs": [],
   "source": [
    "# image_test = '../raw_data/wikiart/dataset/abstract-expressionism_aaron-siskind_acolman-1-1955.jpg'\n",
    "image_test = \"../a.png\"\n",
    "model_path = \"../models/model-test-webapp\""
   ]
  },
  {
   "cell_type": "code",
   "execution_count": 6,
   "id": "923fd199-54d2-4fb2-9538-5d50dc2b7609",
   "metadata": {},
   "outputs": [
    {
     "data": {
      "text/plain": [
       "bytes"
      ]
     },
     "execution_count": 6,
     "metadata": {},
     "output_type": "execute_result"
    }
   ],
   "source": [
    "# Get image in bytes\n",
    "image = Image.open(image_test)\n",
    "img_byte_arr = io.BytesIO()\n",
    "image.save(img_byte_arr,format='PNG')\n",
    "img_byte_arr = img_byte_arr.getvalue()\n",
    "type(img_byte_arr)"
   ]
  },
  {
   "cell_type": "code",
   "execution_count": 7,
   "id": "d3593e1c-0809-468e-ae58-a1b5805c3647",
   "metadata": {},
   "outputs": [
    {
     "name": "stderr",
     "output_type": "stream",
     "text": [
      "2021-08-30 18:07:48.391824: I tensorflow/core/platform/cpu_feature_guard.cc:142] This TensorFlow binary is optimized with oneAPI Deep Neural Network Library (oneDNN) to use the following CPU instructions in performance-critical operations:  AVX2 FMA\n",
      "To enable them in other operations, rebuild TensorFlow with the appropriate compiler flags.\n",
      "2021-08-30 18:07:51.403989: I tensorflow/compiler/mlir/mlir_graph_optimization_pass.cc:185] None of the MLIR Optimization Passes are enabled (registered 2)\n"
     ]
    },
    {
     "data": {
      "text/plain": [
       "array([[8.74659181e-01, 1.21278726e-01, 2.21130740e-05, 2.12717871e-03,\n",
       "        5.85063186e-04, 9.85553837e-04, 5.30525494e-06, 3.36866389e-04]],\n",
       "      dtype=float32)"
      ]
     },
     "execution_count": 7,
     "metadata": {},
     "output_type": "execute_result"
    }
   ],
   "source": [
    "predictor = Predict(img_byte_arr)\n",
    "predictor.decode_image(224,224)\n",
    "predictor.load_model(model_path)\n",
    "predictor.get_prediction()"
   ]
  },
  {
   "cell_type": "code",
   "execution_count": null,
   "id": "7886f717-a44e-4477-9390-afd7c29cce2f",
   "metadata": {},
   "outputs": [],
   "source": []
  },
  {
   "cell_type": "code",
   "execution_count": null,
   "id": "6654fdec-ae75-4bf2-a19c-46266409438b",
   "metadata": {},
   "outputs": [],
   "source": [
    "# img = tf.io.decode_image(tf.constant(img_byte_arr), channels=3)\n",
    "# tf.image.resize(img, [224, 224])\n",
    "# image_arr = np.asarray(image).astype('float32')[:,:,:3]"
   ]
  },
  {
   "cell_type": "code",
   "execution_count": null,
   "id": "0aaa03b4-a4ae-47a6-bc2a-28c92c668a39",
   "metadata": {},
   "outputs": [],
   "source": []
  }
 ],
 "metadata": {
  "kernelspec": {
   "display_name": "Python 3 (ipykernel)",
   "language": "python",
   "name": "python3"
  },
  "language_info": {
   "codemirror_mode": {
    "name": "ipython",
    "version": 3
   },
   "file_extension": ".py",
   "mimetype": "text/x-python",
   "name": "python",
   "nbconvert_exporter": "python",
   "pygments_lexer": "ipython3",
   "version": "3.8.6"
  }
 },
 "nbformat": 4,
 "nbformat_minor": 5
}
