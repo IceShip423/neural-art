{
 "cells": [
  {
   "cell_type": "code",
   "execution_count": 1,
   "id": "861b1f1e-3262-499d-afa2-edce9472b159",
   "metadata": {},
   "outputs": [],
   "source": [
    "%load_ext autoreload\n",
    "%autoreload 2"
   ]
  },
  {
   "cell_type": "code",
   "execution_count": 2,
   "id": "776c626c-565a-4d28-a9ab-789b9e9bfad1",
   "metadata": {},
   "outputs": [],
   "source": [
    "from neuralart.trainer import Trainer"
   ]
  },
  {
   "cell_type": "code",
   "execution_count": 6,
   "id": "c087837b-b45d-4822-ad83-a8a68ea32f8e",
   "metadata": {},
   "outputs": [],
   "source": [
    "image_folder_path = \"../../raw_data/wikiart/train_val_test_True_200/\"\n",
    "\n",
    "# image_folder_path = \"../raw_data/wikiart/wikiart-movement-genre_True-class_8-merge_mov-1-n_200_max/\"\n",
    "# csv_filename_path = \"../raw_data/wikiart/wikiart-movement-genre_True-class_8-merge_mov-1-n_200_max_split.csv\"\n",
    "\n",
    "batch_size = 32\n",
    "img_height = 224\n",
    "img_width = 224"
   ]
  },
  {
   "cell_type": "code",
   "execution_count": 7,
   "id": "1b9af5c3-f9b3-4120-8384-fe91c8630b1a",
   "metadata": {},
   "outputs": [],
   "source": [
    "trainer = Trainer(experiment_name=\"test_trainer\")"
   ]
  },
  {
   "cell_type": "code",
   "execution_count": 8,
   "id": "d8d512a7-6bab-44fb-9218-8aecf0ece37f",
   "metadata": {},
   "outputs": [
    {
     "name": "stdout",
     "output_type": "stream",
     "text": [
      "Found 1280 files belonging to 8 classes.\n",
      "Found 160 files belonging to 8 classes.\n",
      "Found 160 files belonging to 8 classes.\n"
     ]
    },
    {
     "name": "stderr",
     "output_type": "stream",
     "text": [
      "2021-08-31 14:53:03.735096: I tensorflow/core/platform/cpu_feature_guard.cc:142] This TensorFlow binary is optimized with oneAPI Deep Neural Network Library (oneDNN) to use the following CPU instructions in performance-critical operations:  AVX2 FMA\n",
      "To enable them in other operations, rebuild TensorFlow with the appropriate compiler flags.\n",
      "2021-08-31 14:53:03.905561: I tensorflow/compiler/mlir/mlir_graph_optimization_pass.cc:185] None of the MLIR Optimization Passes are enabled (registered 2)\n"
     ]
    }
   ],
   "source": [
    "trainer.create_dataset_from_directory(image_folder_path, batch_size, img_height, img_width)\n",
    "# trainer.create_dataset_from_csv(csv_filename_path, image_folder_path, batch_size, img_height, img_width)"
   ]
  },
  {
   "cell_type": "code",
   "execution_count": null,
   "id": "044b89ae-9e81-42df-a2c1-1829d59e9c15",
   "metadata": {},
   "outputs": [],
   "source": [
    "trainer.plot_val_batch()"
   ]
  },
  {
   "cell_type": "code",
   "execution_count": null,
   "id": "9e5c7e5b-6db2-4826-9f67-fd7e37bfca60",
   "metadata": {},
   "outputs": [],
   "source": [
    "trainer.build_model(\"VGG16\")"
   ]
  },
  {
   "cell_type": "code",
   "execution_count": null,
   "id": "7b60c282-54f2-4e22-83af-4128b1e3e23f",
   "metadata": {},
   "outputs": [],
   "source": [
    "trainer.run(epochs=5)"
   ]
  },
  {
   "cell_type": "code",
   "execution_count": null,
   "id": "2c460dab-19d4-4e5d-9fad-c8c8883faea5",
   "metadata": {},
   "outputs": [],
   "source": [
    "trainer.plot_history()"
   ]
  },
  {
   "cell_type": "code",
   "execution_count": null,
   "id": "1b6ca9b7-1579-4cd4-9ca1-b7c4a1a149fb",
   "metadata": {},
   "outputs": [],
   "source": [
    "trainer.plot_confusion_matrix()"
   ]
  },
  {
   "cell_type": "code",
   "execution_count": null,
   "id": "94ea8ca9-44a3-475b-86b7-9a76d4e9ca2e",
   "metadata": {},
   "outputs": [],
   "source": [
    "trainer.evaluate()"
   ]
  },
  {
   "cell_type": "code",
   "execution_count": null,
   "id": "68afcb00-728a-4d4a-9642-41f608bd56d4",
   "metadata": {},
   "outputs": [],
   "source": [
    "trainer.save_model()"
   ]
  },
  {
   "cell_type": "code",
   "execution_count": null,
   "id": "b25d2140-6787-4604-b99e-30f8a4189df9",
   "metadata": {},
   "outputs": [],
   "source": [
    "image_path = \"../raw_data/wikiart/train_val_test_True_200/test/abstract/abstract-expressionism_conrad-marca-relli_untitled-1978-1.jpg\"\n",
    "trainer.plot_val_batch(make_prediction=True)"
   ]
  },
  {
   "cell_type": "code",
   "execution_count": null,
   "id": "2e31b930-1887-479d-9c36-e41fc885d8ea",
   "metadata": {},
   "outputs": [],
   "source": []
  }
 ],
 "metadata": {
  "kernelspec": {
   "display_name": "Python 3 (ipykernel)",
   "language": "python",
   "name": "python3"
  },
  "language_info": {
   "codemirror_mode": {
    "name": "ipython",
    "version": 3
   },
   "file_extension": ".py",
   "mimetype": "text/x-python",
   "name": "python",
   "nbconvert_exporter": "python",
   "pygments_lexer": "ipython3",
   "version": "3.8.6"
  }
 },
 "nbformat": 4,
 "nbformat_minor": 5
}
