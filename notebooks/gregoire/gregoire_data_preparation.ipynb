{
 "cells": [
  {
   "cell_type": "markdown",
   "id": "1de8a528",
   "metadata": {},
   "source": [
    "# Import"
   ]
  },
  {
   "cell_type": "code",
   "execution_count": 1,
   "id": "bac68fee-f859-4d79-a020-ecd6c6cfc4dd",
   "metadata": {},
   "outputs": [],
   "source": [
    "%load_ext autoreload\n",
    "%autoreload 2"
   ]
  },
  {
   "cell_type": "code",
   "execution_count": 2,
   "id": "0c2feac0",
   "metadata": {
    "ExecuteTime": {
     "end_time": "2021-08-23T20:51:11.167635Z",
     "start_time": "2021-08-23T20:51:10.527710Z"
    }
   },
   "outputs": [],
   "source": [
    "import pandas as pd\n",
    "import numpy as np\n",
    "import seaborn as sns\n",
    "sns.set_theme(style=\"darkgrid\")\n",
    "import matplotlib.pyplot as plt\n",
    "import os\n",
    "from shutil import copyfile\n",
    "import splitfolders"
   ]
  },
  {
   "cell_type": "code",
   "execution_count": 3,
   "id": "8e11ad43-bc6a-425a-a2e3-0d36cc773bda",
   "metadata": {},
   "outputs": [],
   "source": [
    "from neuralart.data import *"
   ]
  },
  {
   "cell_type": "markdown",
   "id": "44e5a94d",
   "metadata": {},
   "source": [
    "# Get Data"
   ]
  },
  {
   "cell_type": "code",
   "execution_count": 4,
   "id": "d0081d1c",
   "metadata": {
    "ExecuteTime": {
     "end_time": "2021-08-23T20:51:13.348788Z",
     "start_time": "2021-08-23T20:51:13.343181Z"
    }
   },
   "outputs": [],
   "source": [
    "chan_csv_path = \"../raw_data/wikiart/csv_chan\"\n",
    "chan_image_path= \"../raw_data/wikiart/dataset_chan\"\n",
    "output_path = \"../raw_data/wikiart\"\n",
    "dataset_dir_name = 'dataset'"
   ]
  },
  {
   "cell_type": "code",
   "execution_count": 5,
   "id": "642dc50c",
   "metadata": {
    "ExecuteTime": {
     "end_time": "2021-08-23T20:51:26.827074Z",
     "start_time": "2021-08-23T20:51:13.824048Z"
    }
   },
   "outputs": [
    {
     "data": {
      "text/plain": [
       "(81446, 10)"
      ]
     },
     "execution_count": 5,
     "metadata": {},
     "output_type": "execute_result"
    }
   ],
   "source": [
    "data_full = get_data(chan_csv_path, chan_image_path, rm_image_duplicate=False)\n",
    "# save_csv(data_full, output_path, 'data_full.csv')\n",
    "data_full.shape"
   ]
  },
  {
   "cell_type": "code",
   "execution_count": 6,
   "id": "f10cc4f1-dc5d-44f9-bed5-d37d47af0177",
   "metadata": {
    "tags": []
   },
   "outputs": [
    {
     "data": {
      "text/plain": [
       "(78748, 10)"
      ]
     },
     "execution_count": 6,
     "metadata": {},
     "output_type": "execute_result"
    }
   ],
   "source": [
    "data = get_data(chan_csv_path, chan_image_path, rm_image_duplicate=True)\n",
    "# save_csv(data, output_path, 'data.csv')\n",
    "data.shape"
   ]
  },
  {
   "cell_type": "code",
   "execution_count": null,
   "id": "29541a1d-c4ea-48bb-bd4a-5a6d4fa94af9",
   "metadata": {},
   "outputs": [],
   "source": [
    "merge_mov_1={'name': 'merge_mov-1',\n",
    "            'merging':{'abstract_expressionism': 'abstract',\n",
    "                 'action_painting': 'abstract',\n",
    "                 'analytical_cubism': 'cubism',\n",
    "                 'art_nouveau_modern': None,\n",
    "                 'baroque': None,\n",
    "                 'color_field_painting': 'color_field_painting',\n",
    "                 'contemporary_realism': None,\n",
    "                 'cubism': 'cubism',\n",
    "                 'early_renaissance': 'renaissance',\n",
    "                 'expressionism': 'expressionism',\n",
    "                 'fauvism': None,\n",
    "                 'high_renaissance': 'renaissance',\n",
    "                 'impressionism': 'impressionism',\n",
    "                 'mannerism_late_renaissance': None,\n",
    "                 'minimalism': None,\n",
    "                 'naive_art_primitivism': None,\n",
    "                 'new_realism': None,\n",
    "                 'northern_renaissance': 'renaissance',\n",
    "                 'pointillism': None,\n",
    "                 'pop_art': None,\n",
    "                 'post_impressionism': None,\n",
    "                 'realism': 'realism',\n",
    "                 'rococo': None,\n",
    "                 'romanticism': 'romanticism',\n",
    "                 'symbolism': None,\n",
    "                 'synthetic_cubism': 'cubism',\n",
    "                 'ukiyo_e': None}}"
   ]
  },
  {
   "cell_type": "code",
   "execution_count": null,
   "id": "6777c0d0-7b80-4a95-b484-b20ab50c1e8f",
   "metadata": {},
   "outputs": [],
   "source": [
    "data_sample = get_dataset(data, target=\"movement\", class_=merge_mov_1,random_state=123, keep_genre=True, output_path=output_path)\n"
   ]
  },
  {
   "cell_type": "code",
   "execution_count": null,
   "id": "1b614375-8550-4ac0-9b6d-94d63a3e1ca7",
   "metadata": {},
   "outputs": [],
   "source": [
    "create_dataset_directory(data_sample, chan_image_path, output_path, 'wikiart-movement-genre_True-class_8-merge_mov-1', flat=False)\n"
   ]
  },
  {
   "cell_type": "code",
   "execution_count": null,
   "id": "c7d5d64d-4781-4ccd-bb8e-63c2685dd30a",
   "metadata": {},
   "outputs": [],
   "source": [
    "input_dir = os.path.join(output_path,\"wikiart-movement-genre_True-class_8-merge_mov-1\")\n",
    "output_dir = os.path.join(output_path,\"train_val_test_True_all\")\n",
    "csv_path = os.path.join(output_path,\"wikiart-movement-genre_True-class_8-merge_mov-1.csv\")"
   ]
  },
  {
   "cell_type": "code",
   "execution_count": null,
   "id": "d4474c6b-9cf4-4823-b9d6-9fc9dd157471",
   "metadata": {},
   "outputs": [],
   "source": [
    "get_train_val_test_directory(output_dir, input_dir=input_dir,\n",
    "                                 csv_path=csv_path,\n",
    "                                 save_csv=True,\n",
    "                                 train_ratio=0.8,\n",
    "                                 val_ratio=0.1,\n",
    "                                 test_ratio=0.1,\n",
    "                                 seed=1337)"
   ]
  },
  {
   "cell_type": "markdown",
   "id": "c60a9c35",
   "metadata": {
    "tags": []
   },
   "source": [
    "# Data Visualization"
   ]
  },
  {
   "cell_type": "code",
   "execution_count": null,
   "id": "ad13813c",
   "metadata": {
    "ExecuteTime": {
     "end_time": "2021-08-23T20:52:13.469762Z",
     "start_time": "2021-08-23T20:52:13.152925Z"
    }
   },
   "outputs": [],
   "source": [
    "col = ['cs_split_artist','cs_split_genre','cs_split_style','cs_path']\n",
    "\n",
    "fig, ax = plt.subplots(2,1,figsize=(12,10))\n",
    "sns.barplot(y=data[col].count().index, \n",
    "            x=data[col].count().values,\n",
    "            order=data[col].count().sort_values(ascending=False).index,\n",
    "            ax=ax[0]);\n",
    "\n",
    "for i, v in enumerate(data[col].count().sort_values(ascending=False).values):\n",
    "    ax[0].text(v, i , str(v), color='blue', fontweight='bold')\n",
    "    \n",
    "ax[0].set_yticklabels(['total','cs-movement (style)','cs-genre','cs-artist']);\n",
    "ax[0].set_title(\"Number of images per target\");\n",
    "ax[0].set_xlabel(\"Count\");\n",
    "ax[0].set_ylabel(\"Target\");\n",
    "\n",
    "sns.barplot(y=data_full[col].count().index, \n",
    "            x=data_full[col].count().values,\n",
    "            order=data[col].count().sort_values(ascending=False).index,\n",
    "            ax=ax[1]);\n",
    "\n",
    "for i, v in enumerate(data_full[col].count().sort_values(ascending=False).values):\n",
    "    ax[1].text(v, i , str(v), color='blue', fontweight='bold')\n",
    "    \n",
    "ax[1].set_yticklabels(['total','cs-movement (style)','cs-genre','cs-artist']);\n",
    "ax[1].set_title(\"Number of images per target (Full)\");\n",
    "ax[1].set_xlabel(\"Count\");\n",
    "ax[1].set_ylabel(\"Target\");"
   ]
  },
  {
   "cell_type": "code",
   "execution_count": null,
   "id": "63f5a6f6",
   "metadata": {
    "ExecuteTime": {
     "end_time": "2021-08-23T20:52:14.874108Z",
     "start_time": "2021-08-23T20:52:14.624049Z"
    }
   },
   "outputs": [],
   "source": [
    "col = ['artist','genre','movement']\n",
    "\n",
    "fig, ax = plt.subplots(2,1,figsize=(15,10))\n",
    "sns.barplot(y=data[col].nunique().index, \n",
    "            x=data[col].nunique().values,\n",
    "            order=data[col].nunique().sort_values(ascending=False).index,\n",
    "            ax=ax[0]);\n",
    "\n",
    "for i, v in enumerate(data[col].nunique().sort_values(ascending=False).values):\n",
    "    ax[0].text(v, i , str(v), color='blue', fontweight='bold')\n",
    "    \n",
    "ax[0].set_title(\"Number of classes per target\");\n",
    "ax[0].set_xlabel(\"Count\");\n",
    "ax[0].set_ylabel(\"Target\");\n",
    "\n",
    "sns.barplot(y=data_full[col].nunique().index, \n",
    "            x=data_full[col].nunique().values,\n",
    "            order=data_full[col].nunique().sort_values(ascending=False).index,\n",
    "            ax=ax[1]);\n",
    "\n",
    "for i, v in enumerate(data_full[col].nunique().sort_values(ascending=False).values):\n",
    "    ax[1].text(v, i , str(v), color='blue', fontweight='bold')\n",
    "    \n",
    "ax[1].set_title(\"Number of classes per target (Full)\");\n",
    "ax[1].set_xlabel(\"Count\");\n",
    "ax[1].set_ylabel(\"Target\");"
   ]
  },
  {
   "cell_type": "code",
   "execution_count": null,
   "id": "e6e8af76",
   "metadata": {
    "ExecuteTime": {
     "end_time": "2021-08-23T20:52:16.299900Z",
     "start_time": "2021-08-23T20:52:15.840766Z"
    }
   },
   "outputs": [],
   "source": [
    "fig, ax = plt.subplots(2,1,figsize=(15,15));\n",
    "sns.countplot(data=data, y=\"movement\", \n",
    "              order = data['movement'].value_counts().index,\n",
    "              ax=ax[0]);\n",
    "\n",
    "for i, v in enumerate(data[\"movement\"].value_counts().values):\n",
    "    ax[0].text(v, i , str(v), color='blue', fontweight='bold')\n",
    "    \n",
    "ax[0].set_title(\"Number of images per movement\");\n",
    "ax[0].set_ylabel(\"Movement (style)\");\n",
    "\n",
    "sns.countplot(data=data_full, y=\"movement\", \n",
    "              order = data_full['movement'].value_counts().index,\n",
    "              ax=ax[1]);\n",
    "\n",
    "for i, v in enumerate(data_full[\"movement\"].value_counts().values):\n",
    "    ax[1].text(v, i , str(v), color='blue', fontweight='bold')\n",
    "    \n",
    "ax[1].set_title(\"Number of images per movement (Full)\");\n",
    "ax[1].set_ylabel(\"Movement (style)\");"
   ]
  },
  {
   "cell_type": "code",
   "execution_count": null,
   "id": "cf57b917",
   "metadata": {
    "ExecuteTime": {
     "end_time": "2021-08-23T20:55:09.478969Z",
     "start_time": "2021-08-23T20:55:09.194304Z"
    }
   },
   "outputs": [],
   "source": [
    "fig, ax = plt.subplots(2,1,figsize=(15,10));\n",
    "sns.countplot(data=data, y=\"genre\", \n",
    "              order = data['genre'].value_counts().index,\n",
    "              ax=ax[0]);\n",
    "\n",
    "for i, v in enumerate(data[\"genre\"].value_counts().values):\n",
    "    ax[0].text(v, i , str(v), color='blue', fontweight='bold')\n",
    "    \n",
    "ax[0].set_title(\"Number of images per genre\");\n",
    "\n",
    "sns.countplot(data=data_full, y=\"genre\", \n",
    "              order = data_full['genre'].value_counts().index,\n",
    "              ax=ax[1]);\n",
    "\n",
    "for i, v in enumerate(data_full[\"genre\"].value_counts().values):\n",
    "    ax[1].text(v, i , str(v), color='blue', fontweight='bold')\n",
    "    \n",
    "ax[1].set_title(\"Number of images per genre (Full)\");"
   ]
  },
  {
   "cell_type": "code",
   "execution_count": null,
   "id": "ed175839",
   "metadata": {
    "ExecuteTime": {
     "end_time": "2021-08-23T20:55:13.701229Z",
     "start_time": "2021-08-23T20:55:13.242098Z"
    }
   },
   "outputs": [],
   "source": [
    "fig, ax = plt.subplots(1,1,figsize=(15,10));\n",
    "sns.barplot(y=data.groupby(\"movement\").artist.nunique().index, \n",
    "            x=data.groupby(\"movement\").artist.nunique().values,\n",
    "            order=data.groupby(\"movement\").artist.nunique().sort_values(ascending=False).index,\n",
    "            ax=ax);\n",
    "\n",
    "for i, v in enumerate(data.groupby(\"movement\").artist.nunique().sort_values(ascending=False).values):\n",
    "    ax.text(v, i , str(v), color='blue', fontweight='bold')\n",
    "    \n",
    "ax.set_title(\"Number of artists per movement\");\n",
    "ax.set_xlabel(\"Count\");"
   ]
  },
  {
   "cell_type": "code",
   "execution_count": null,
   "id": "a0723070",
   "metadata": {
    "ExecuteTime": {
     "end_time": "2021-08-23T20:55:15.881606Z",
     "start_time": "2021-08-23T20:55:15.441046Z"
    }
   },
   "outputs": [],
   "source": [
    "data2 = data[data[\"cs_split_genre\"].notnull()]\n",
    "\n",
    "fig, ax = plt.subplots(1,1,figsize=(15,10));\n",
    "sns.countplot(data=data2, y=\"movement\", \n",
    "              order = data2['movement'].value_counts().index,\n",
    "              ax=ax);\n",
    "\n",
    "for i, v in enumerate(data2[\"movement\"].value_counts().values):\n",
    "    ax.text(v, i , str(v), color='blue', fontweight='bold')\n",
    "    \n",
    "ax.set_title(\"Number of images with genre per movement (style)\");\n",
    "ax.set_ylabel(\"Movement (style)\");"
   ]
  },
  {
   "cell_type": "code",
   "execution_count": null,
   "id": "99b0b1b9-5d5a-4188-95f5-a7f14f34cd6d",
   "metadata": {},
   "outputs": [],
   "source": []
  }
 ],
 "metadata": {
  "kernelspec": {
   "display_name": "Python 3 (ipykernel)",
   "language": "python",
   "name": "python3"
  },
  "language_info": {
   "codemirror_mode": {
    "name": "ipython",
    "version": 3
   },
   "file_extension": ".py",
   "mimetype": "text/x-python",
   "name": "python",
   "nbconvert_exporter": "python",
   "pygments_lexer": "ipython3",
   "version": "3.8.6"
  },
  "toc": {
   "base_numbering": 1,
   "nav_menu": {},
   "number_sections": true,
   "sideBar": true,
   "skip_h1_title": false,
   "title_cell": "Table of Contents",
   "title_sidebar": "Contents",
   "toc_cell": false,
   "toc_position": {},
   "toc_section_display": true,
   "toc_window_display": true
  },
  "varInspector": {
   "cols": {
    "lenName": 16,
    "lenType": 16,
    "lenVar": 40
   },
   "kernels_config": {
    "python": {
     "delete_cmd_postfix": "",
     "delete_cmd_prefix": "del ",
     "library": "var_list.py",
     "varRefreshCmd": "print(var_dic_list())"
    },
    "r": {
     "delete_cmd_postfix": ") ",
     "delete_cmd_prefix": "rm(",
     "library": "var_list.r",
     "varRefreshCmd": "cat(var_dic_list()) "
    }
   },
   "types_to_exclude": [
    "module",
    "function",
    "builtin_function_or_method",
    "instance",
    "_Feature"
   ],
   "window_display": false
  }
 },
 "nbformat": 4,
 "nbformat_minor": 5
}
