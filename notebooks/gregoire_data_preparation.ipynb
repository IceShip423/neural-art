{
 "cells": [
  {
   "cell_type": "markdown",
   "id": "1de8a528",
   "metadata": {},
   "source": [
    "# Import"
   ]
  },
  {
   "cell_type": "code",
   "execution_count": 1,
   "id": "bac68fee-f859-4d79-a020-ecd6c6cfc4dd",
   "metadata": {},
   "outputs": [],
   "source": [
    "%load_ext autoreload\n",
    "%autoreload 2"
   ]
  },
  {
   "cell_type": "code",
   "execution_count": 2,
   "id": "0c2feac0",
   "metadata": {
    "ExecuteTime": {
     "end_time": "2021-08-23T20:51:11.167635Z",
     "start_time": "2021-08-23T20:51:10.527710Z"
    }
   },
   "outputs": [],
   "source": [
    "import pandas as pd\n",
    "import numpy as np\n",
    "import seaborn as sns\n",
    "sns.set_theme(style=\"darkgrid\")\n",
    "import matplotlib.pyplot as plt\n",
    "import os\n",
    "from shutil import copyfile"
   ]
  },
  {
   "cell_type": "code",
   "execution_count": 3,
   "id": "8e11ad43-bc6a-425a-a2e3-0d36cc773bda",
   "metadata": {},
   "outputs": [],
   "source": [
    "from neuralart.data import *"
   ]
  },
  {
   "cell_type": "markdown",
   "id": "44e5a94d",
   "metadata": {},
   "source": [
    "# Get Data"
   ]
  },
  {
   "cell_type": "code",
   "execution_count": 4,
   "id": "d0081d1c",
   "metadata": {
    "ExecuteTime": {
     "end_time": "2021-08-23T20:51:13.348788Z",
     "start_time": "2021-08-23T20:51:13.343181Z"
    }
   },
   "outputs": [],
   "source": [
    "chan_csv_path = \"../raw_data/wikiart/csv_chan\"\n",
    "chan_image_path= \"../raw_data/wikiart/dataset_chan\"\n",
    "output_path = \"../raw_data/wikiart\"\n",
    "dataset_dir_name = 'dataset'"
   ]
  },
  {
   "cell_type": "code",
   "execution_count": 5,
   "id": "642dc50c",
   "metadata": {
    "ExecuteTime": {
     "end_time": "2021-08-23T20:51:26.827074Z",
     "start_time": "2021-08-23T20:51:13.824048Z"
    }
   },
   "outputs": [
    {
     "data": {
      "text/plain": [
       "(81446, 10)"
      ]
     },
     "execution_count": 5,
     "metadata": {},
     "output_type": "execute_result"
    }
   ],
   "source": [
    "data_full = get_data(chan_csv_path, chan_image_path, rm_image_duplicate=False)\n",
    "# save_csv(data_full, output_path, 'data_full.csv')\n",
    "data_full.shape"
   ]
  },
  {
   "cell_type": "code",
   "execution_count": 6,
   "id": "f10cc4f1-dc5d-44f9-bed5-d37d47af0177",
   "metadata": {
    "tags": []
   },
   "outputs": [
    {
     "data": {
      "text/plain": [
       "(78748, 10)"
      ]
     },
     "execution_count": 6,
     "metadata": {},
     "output_type": "execute_result"
    }
   ],
   "source": [
    "data = get_data(chan_csv_path, chan_image_path, rm_image_duplicate=True)\n",
    "# save_csv(data, output_path, 'data.csv')\n",
    "data.shape"
   ]
  },
  {
   "cell_type": "code",
   "execution_count": null,
   "id": "29541a1d-c4ea-48bb-bd4a-5a6d4fa94af9",
   "metadata": {},
   "outputs": [],
   "source": [
    "merge_mov1={'name': 'merge_mov1',\n",
    "            'merging':{'abstract_expressionism': None,\n",
    "                 'action_painting': None,\n",
    "                 'analytical_cubism': None,\n",
    "                 'art_nouveau_modern': 'art_nouveau_modern',\n",
    "                 'baroque': 'baroque',\n",
    "                 'color_field_painting': None,\n",
    "                 'contemporary_realism': None,\n",
    "                 'cubism': None,\n",
    "                 'early_renaissance': 'early_renaissance',\n",
    "                 'expressionism': 'expressionism',\n",
    "                 'fauvism': None,\n",
    "                 'high_renaissance': 'high_renaissance',\n",
    "                 'impressionism': 'impressionism',\n",
    "                 'mannerism_late_renaissance': 'mannerism_late_renaissance',\n",
    "                 'minimalism': None,\n",
    "                 'naive_art_primitivism': 'naive_art_primitivism',\n",
    "                 'new_realism': None,\n",
    "                 'northern_renaissance': 'northern_renaissance',\n",
    "                 'pointillism': None,\n",
    "                 'pop_art': None,\n",
    "                 'post_impressionism': 'post_impressionism',\n",
    "                 'realism': 'realism',\n",
    "                 'rococo': 'rococo',\n",
    "                 'romanticism': 'romanticism',\n",
    "                 'symbolism': 'symbolism',\n",
    "                 'synthetic_cubism': None,\n",
    "                 'ukiyo_e': 'ukiyo_e'}}"
   ]
  },
  {
   "cell_type": "code",
   "execution_count": 9,
   "id": "4e291436-cace-45f9-9308-b36b0581609a",
   "metadata": {},
   "outputs": [],
   "source": [
    "merge_test1={'name': 'merge_test1',\n",
    "            'merging':{'abstract_expressionism': None,\n",
    "                 'action_painting': None,\n",
    "                 'analytical_cubism': None,\n",
    "                 'art_nouveau_modern': None,\n",
    "                 'baroque': None,\n",
    "                 'color_field_painting': None,\n",
    "                 'contemporary_realism': None,\n",
    "                 'cubism': 'cubism',\n",
    "                 'early_renaissance': None,\n",
    "                 'expressionism': None,\n",
    "                 'fauvism': None,\n",
    "                 'high_renaissance': None,\n",
    "                 'impressionism': None,\n",
    "                 'mannerism_late_renaissance': 'mannerism_late_renaissance',\n",
    "                 'minimalism': None,\n",
    "                 'naive_art_primitivism': None,\n",
    "                 'new_realism': None,\n",
    "                 'northern_renaissance': None,\n",
    "                 'pointillism': None,\n",
    "                 'pop_art': None,\n",
    "                 'post_impressionism': None,\n",
    "                 'realism': None,\n",
    "                 'rococo': None,\n",
    "                 'romanticism': None,\n",
    "                 'symbolism': None,\n",
    "                 'synthetic_cubism': None,\n",
    "                 'ukiyo_e': 'ukiyo_e'}}"
   ]
  },
  {
   "cell_type": "code",
   "execution_count": null,
   "id": "4554dacc-64ef-4964-b37e-a9f79b99267d",
   "metadata": {},
   "outputs": [],
   "source": [
    "for n in [100,1000,None]:\n",
    "    for s in ['drop','max']:\n",
    "        for k in [False, True]:\n",
    "            for c in [merge_mov1, None]:\n",
    "                get_dataset(data, target=\"movement\", class_=c, n=n, strategy=s, \n",
    "                            random_state=123, output_path=output_path, keep_genre=k )\n"
   ]
  },
  {
   "cell_type": "code",
   "execution_count": 11,
   "id": "6777c0d0-7b80-4a95-b484-b20ab50c1e8f",
   "metadata": {},
   "outputs": [
    {
     "data": {
      "text/html": [
       "<div>\n",
       "<style scoped>\n",
       "    .dataframe tbody tr th:only-of-type {\n",
       "        vertical-align: middle;\n",
       "    }\n",
       "\n",
       "    .dataframe tbody tr th {\n",
       "        vertical-align: top;\n",
       "    }\n",
       "\n",
       "    .dataframe thead th {\n",
       "        text-align: right;\n",
       "    }\n",
       "</style>\n",
       "<table border=\"1\" class=\"dataframe\">\n",
       "  <thead>\n",
       "    <tr style=\"text-align: right;\">\n",
       "      <th></th>\n",
       "      <th>cs_path</th>\n",
       "      <th>movement</th>\n",
       "      <th>artist</th>\n",
       "      <th>title</th>\n",
       "      <th>cs_file_name</th>\n",
       "      <th>file_name</th>\n",
       "      <th>genre</th>\n",
       "      <th>cs_split_genre</th>\n",
       "      <th>cs_split_style</th>\n",
       "      <th>cs_split_artist</th>\n",
       "    </tr>\n",
       "  </thead>\n",
       "  <tbody>\n",
       "    <tr>\n",
       "      <th>49303</th>\n",
       "      <td>Cubism/olga-rozanova_still-life-with-peatcher-...</td>\n",
       "      <td>cubism</td>\n",
       "      <td>olga-rozanova</td>\n",
       "      <td>still-life-with-peatcher-and-apples.jpg</td>\n",
       "      <td>olga-rozanova_still-life-with-peatcher-and-app...</td>\n",
       "      <td>cubism_olga-rozanova_still-life-with-peatcher-...</td>\n",
       "      <td>still_life</td>\n",
       "      <td>train</td>\n",
       "      <td>train</td>\n",
       "      <td>NaN</td>\n",
       "    </tr>\n",
       "    <tr>\n",
       "      <th>50278</th>\n",
       "      <td>Cubism/jean-hugo_la-peinture-et-la-musique-192...</td>\n",
       "      <td>cubism</td>\n",
       "      <td>jean-hugo</td>\n",
       "      <td>la-peinture-et-la-musique-1928.jpg</td>\n",
       "      <td>jean-hugo_la-peinture-et-la-musique-1928.jpg</td>\n",
       "      <td>cubism_jean-hugo_la-peinture-et-la-musique-192...</td>\n",
       "      <td>still_life</td>\n",
       "      <td>train</td>\n",
       "      <td>train</td>\n",
       "      <td>NaN</td>\n",
       "    </tr>\n",
       "    <tr>\n",
       "      <th>49285</th>\n",
       "      <td>Cubism/juan-gris_the-miller-1918.jpg</td>\n",
       "      <td>cubism</td>\n",
       "      <td>juan-gris</td>\n",
       "      <td>the-miller-1918.jpg</td>\n",
       "      <td>juan-gris_the-miller-1918.jpg</td>\n",
       "      <td>cubism_juan-gris_the-miller-1918.jpg</td>\n",
       "      <td>portrait</td>\n",
       "      <td>train</td>\n",
       "      <td>train</td>\n",
       "      <td>NaN</td>\n",
       "    </tr>\n",
       "    <tr>\n",
       "      <th>50019</th>\n",
       "      <td>Cubism/corneliu-michailescu_still-life-with-fr...</td>\n",
       "      <td>cubism</td>\n",
       "      <td>corneliu-michailescu</td>\n",
       "      <td>still-life-with-fruit-bowl.jpg</td>\n",
       "      <td>corneliu-michailescu_still-life-with-fruit-bow...</td>\n",
       "      <td>cubism_corneliu-michailescu_still-life-with-fr...</td>\n",
       "      <td>still_life</td>\n",
       "      <td>val</td>\n",
       "      <td>val</td>\n",
       "      <td>NaN</td>\n",
       "    </tr>\n",
       "    <tr>\n",
       "      <th>49647</th>\n",
       "      <td>Cubism/rufino-tamayo_the-troubadour-1945.jpg</td>\n",
       "      <td>cubism</td>\n",
       "      <td>rufino-tamayo</td>\n",
       "      <td>the-troubadour-1945.jpg</td>\n",
       "      <td>rufino-tamayo_the-troubadour-1945.jpg</td>\n",
       "      <td>cubism_rufino-tamayo_the-troubadour-1945.jpg</td>\n",
       "      <td>portrait</td>\n",
       "      <td>train</td>\n",
       "      <td>train</td>\n",
       "      <td>NaN</td>\n",
       "    </tr>\n",
       "    <tr>\n",
       "      <th>...</th>\n",
       "      <td>...</td>\n",
       "      <td>...</td>\n",
       "      <td>...</td>\n",
       "      <td>...</td>\n",
       "      <td>...</td>\n",
       "      <td>...</td>\n",
       "      <td>...</td>\n",
       "      <td>...</td>\n",
       "      <td>...</td>\n",
       "      <td>...</td>\n",
       "    </tr>\n",
       "    <tr>\n",
       "      <th>15795</th>\n",
       "      <td>Ukiyo_e/ogata-gekko_print-from-series-women-s-...</td>\n",
       "      <td>ukiyo_e</td>\n",
       "      <td>ogata-gekko</td>\n",
       "      <td>print-from-series-women-s-customs-and-manners-...</td>\n",
       "      <td>ogata-gekko_print-from-series-women-s-customs-...</td>\n",
       "      <td>ukiyo-e_ogata-gekko_print-from-series-women-s-...</td>\n",
       "      <td>genre_painting</td>\n",
       "      <td>train</td>\n",
       "      <td>train</td>\n",
       "      <td>NaN</td>\n",
       "    </tr>\n",
       "    <tr>\n",
       "      <th>15714</th>\n",
       "      <td>Ukiyo_e/utagawa-kuniyoshi_the-young-benkei-hol...</td>\n",
       "      <td>ukiyo_e</td>\n",
       "      <td>utagawa-kuniyoshi</td>\n",
       "      <td>the-young-benkei-holding-a-pole.jpg</td>\n",
       "      <td>utagawa-kuniyoshi_the-young-benkei-holding-a-p...</td>\n",
       "      <td>ukiyo-e_utagawa-kuniyoshi_the-young-benkei-hol...</td>\n",
       "      <td>genre_painting</td>\n",
       "      <td>val</td>\n",
       "      <td>val</td>\n",
       "      <td>NaN</td>\n",
       "    </tr>\n",
       "    <tr>\n",
       "      <th>16501</th>\n",
       "      <td>Ukiyo_e/keisai-eisen_clearing-weather-at-awazu...</td>\n",
       "      <td>ukiyo_e</td>\n",
       "      <td>keisai-eisen</td>\n",
       "      <td>clearing-weather-at-awazu-awazu-seiran-tamagaw...</td>\n",
       "      <td>keisai-eisen_clearing-weather-at-awazu-awazu-s...</td>\n",
       "      <td>ukiyo-e_keisai-eisen_clearing-weather-at-awazu...</td>\n",
       "      <td>portrait</td>\n",
       "      <td>train</td>\n",
       "      <td>train</td>\n",
       "      <td>NaN</td>\n",
       "    </tr>\n",
       "    <tr>\n",
       "      <th>16362</th>\n",
       "      <td>Ukiyo_e/keisai-eisen_susaki-benten(1).jpg</td>\n",
       "      <td>ukiyo_e</td>\n",
       "      <td>keisai-eisen</td>\n",
       "      <td>susaki-benten(1).jpg</td>\n",
       "      <td>keisai-eisen_susaki-benten(1).jpg</td>\n",
       "      <td>ukiyo-e_keisai-eisen_susaki-benten(1).jpg</td>\n",
       "      <td>portrait</td>\n",
       "      <td>train</td>\n",
       "      <td>train</td>\n",
       "      <td>NaN</td>\n",
       "    </tr>\n",
       "    <tr>\n",
       "      <th>15912</th>\n",
       "      <td>Ukiyo_e/utagawa-kuniyoshi_showing-activity-on-...</td>\n",
       "      <td>ukiyo_e</td>\n",
       "      <td>utagawa-kuniyoshi</td>\n",
       "      <td>showing-activity-on-several-floors-at-the-same...</td>\n",
       "      <td>utagawa-kuniyoshi_showing-activity-on-several-...</td>\n",
       "      <td>ukiyo-e_utagawa-kuniyoshi_showing-activity-on-...</td>\n",
       "      <td>nude_painting</td>\n",
       "      <td>train</td>\n",
       "      <td>train</td>\n",
       "      <td>NaN</td>\n",
       "    </tr>\n",
       "  </tbody>\n",
       "</table>\n",
       "<p>300 rows × 10 columns</p>\n",
       "</div>"
      ],
      "text/plain": [
       "                                                 cs_path movement  \\\n",
       "49303  Cubism/olga-rozanova_still-life-with-peatcher-...   cubism   \n",
       "50278  Cubism/jean-hugo_la-peinture-et-la-musique-192...   cubism   \n",
       "49285               Cubism/juan-gris_the-miller-1918.jpg   cubism   \n",
       "50019  Cubism/corneliu-michailescu_still-life-with-fr...   cubism   \n",
       "49647       Cubism/rufino-tamayo_the-troubadour-1945.jpg   cubism   \n",
       "...                                                  ...      ...   \n",
       "15795  Ukiyo_e/ogata-gekko_print-from-series-women-s-...  ukiyo_e   \n",
       "15714  Ukiyo_e/utagawa-kuniyoshi_the-young-benkei-hol...  ukiyo_e   \n",
       "16501  Ukiyo_e/keisai-eisen_clearing-weather-at-awazu...  ukiyo_e   \n",
       "16362          Ukiyo_e/keisai-eisen_susaki-benten(1).jpg  ukiyo_e   \n",
       "15912  Ukiyo_e/utagawa-kuniyoshi_showing-activity-on-...  ukiyo_e   \n",
       "\n",
       "                     artist  \\\n",
       "49303         olga-rozanova   \n",
       "50278             jean-hugo   \n",
       "49285             juan-gris   \n",
       "50019  corneliu-michailescu   \n",
       "49647         rufino-tamayo   \n",
       "...                     ...   \n",
       "15795           ogata-gekko   \n",
       "15714     utagawa-kuniyoshi   \n",
       "16501          keisai-eisen   \n",
       "16362          keisai-eisen   \n",
       "15912     utagawa-kuniyoshi   \n",
       "\n",
       "                                                   title  \\\n",
       "49303            still-life-with-peatcher-and-apples.jpg   \n",
       "50278                 la-peinture-et-la-musique-1928.jpg   \n",
       "49285                                the-miller-1918.jpg   \n",
       "50019                     still-life-with-fruit-bowl.jpg   \n",
       "49647                            the-troubadour-1945.jpg   \n",
       "...                                                  ...   \n",
       "15795  print-from-series-women-s-customs-and-manners-...   \n",
       "15714                the-young-benkei-holding-a-pole.jpg   \n",
       "16501  clearing-weather-at-awazu-awazu-seiran-tamagaw...   \n",
       "16362                               susaki-benten(1).jpg   \n",
       "15912  showing-activity-on-several-floors-at-the-same...   \n",
       "\n",
       "                                            cs_file_name  \\\n",
       "49303  olga-rozanova_still-life-with-peatcher-and-app...   \n",
       "50278       jean-hugo_la-peinture-et-la-musique-1928.jpg   \n",
       "49285                      juan-gris_the-miller-1918.jpg   \n",
       "50019  corneliu-michailescu_still-life-with-fruit-bow...   \n",
       "49647              rufino-tamayo_the-troubadour-1945.jpg   \n",
       "...                                                  ...   \n",
       "15795  ogata-gekko_print-from-series-women-s-customs-...   \n",
       "15714  utagawa-kuniyoshi_the-young-benkei-holding-a-p...   \n",
       "16501  keisai-eisen_clearing-weather-at-awazu-awazu-s...   \n",
       "16362                  keisai-eisen_susaki-benten(1).jpg   \n",
       "15912  utagawa-kuniyoshi_showing-activity-on-several-...   \n",
       "\n",
       "                                               file_name           genre  \\\n",
       "49303  cubism_olga-rozanova_still-life-with-peatcher-...      still_life   \n",
       "50278  cubism_jean-hugo_la-peinture-et-la-musique-192...      still_life   \n",
       "49285               cubism_juan-gris_the-miller-1918.jpg        portrait   \n",
       "50019  cubism_corneliu-michailescu_still-life-with-fr...      still_life   \n",
       "49647       cubism_rufino-tamayo_the-troubadour-1945.jpg        portrait   \n",
       "...                                                  ...             ...   \n",
       "15795  ukiyo-e_ogata-gekko_print-from-series-women-s-...  genre_painting   \n",
       "15714  ukiyo-e_utagawa-kuniyoshi_the-young-benkei-hol...  genre_painting   \n",
       "16501  ukiyo-e_keisai-eisen_clearing-weather-at-awazu...        portrait   \n",
       "16362          ukiyo-e_keisai-eisen_susaki-benten(1).jpg        portrait   \n",
       "15912  ukiyo-e_utagawa-kuniyoshi_showing-activity-on-...   nude_painting   \n",
       "\n",
       "      cs_split_genre cs_split_style cs_split_artist  \n",
       "49303          train          train             NaN  \n",
       "50278          train          train             NaN  \n",
       "49285          train          train             NaN  \n",
       "50019            val            val             NaN  \n",
       "49647          train          train             NaN  \n",
       "...              ...            ...             ...  \n",
       "15795          train          train             NaN  \n",
       "15714            val            val             NaN  \n",
       "16501          train          train             NaN  \n",
       "16362          train          train             NaN  \n",
       "15912          train          train             NaN  \n",
       "\n",
       "[300 rows x 10 columns]"
      ]
     },
     "execution_count": 11,
     "metadata": {},
     "output_type": "execute_result"
    }
   ],
   "source": [
    "get_dataset(data, target=\"movement\", class_=merge_test1, n=100, strategy='max', random_state=123, keep_genre=True, output_path=output_path)"
   ]
  },
  {
   "cell_type": "code",
   "execution_count": 7,
   "id": "1b614375-8550-4ac0-9b6d-94d63a3e1ca7",
   "metadata": {},
   "outputs": [
    {
     "name": "stdout",
     "output_type": "stream",
     "text": [
      "2500 images copied\n",
      "5000 images copied\n",
      "7500 images copied\n",
      "10000 images copied\n",
      "12500 images copied\n",
      "15000 images copied\n",
      "17500 images copied\n",
      "20000 images copied\n",
      "22500 images copied\n",
      "25000 images copied\n",
      "27500 images copied\n",
      "30000 images copied\n",
      "32500 images copied\n",
      "35000 images copied\n",
      "37500 images copied\n",
      "40000 images copied\n",
      "42500 images copied\n",
      "45000 images copied\n",
      "47500 images copied\n",
      "50000 images copied\n",
      "52500 images copied\n",
      "55000 images copied\n",
      "57500 images copied\n",
      "60000 images copied\n",
      "62500 images copied\n",
      "65000 images copied\n",
      "67500 images copied\n",
      "70000 images copied\n",
      "72500 images copied\n",
      "75000 images copied\n",
      "77500 images copied\n",
      "80000 images copied\n",
      "Done: 81446 image(s) copied, 81446 image(s) in the folder\n"
     ]
    }
   ],
   "source": [
    "create_dataset_directory(data_full, chan_image_path, output_path, dataset_dir_name)"
   ]
  },
  {
   "cell_type": "markdown",
   "id": "c60a9c35",
   "metadata": {
    "tags": []
   },
   "source": [
    "# Data Visualization"
   ]
  },
  {
   "cell_type": "code",
   "execution_count": null,
   "id": "ad13813c",
   "metadata": {
    "ExecuteTime": {
     "end_time": "2021-08-23T20:52:13.469762Z",
     "start_time": "2021-08-23T20:52:13.152925Z"
    }
   },
   "outputs": [],
   "source": [
    "col = ['cs_split_artist','cs_split_genre','cs_split_style','cs_path']\n",
    "\n",
    "fig, ax = plt.subplots(2,1,figsize=(12,10))\n",
    "sns.barplot(y=data[col].count().index, \n",
    "            x=data[col].count().values,\n",
    "            order=data[col].count().sort_values(ascending=False).index,\n",
    "            ax=ax[0]);\n",
    "\n",
    "for i, v in enumerate(data[col].count().sort_values(ascending=False).values):\n",
    "    ax[0].text(v, i , str(v), color='blue', fontweight='bold')\n",
    "    \n",
    "ax[0].set_yticklabels(['total','cs-movement (style)','cs-genre','cs-artist']);\n",
    "ax[0].set_title(\"Number of images per target\");\n",
    "ax[0].set_xlabel(\"Count\");\n",
    "ax[0].set_ylabel(\"Target\");\n",
    "\n",
    "sns.barplot(y=data_full[col].count().index, \n",
    "            x=data_full[col].count().values,\n",
    "            order=data[col].count().sort_values(ascending=False).index,\n",
    "            ax=ax[1]);\n",
    "\n",
    "for i, v in enumerate(data_full[col].count().sort_values(ascending=False).values):\n",
    "    ax[1].text(v, i , str(v), color='blue', fontweight='bold')\n",
    "    \n",
    "ax[1].set_yticklabels(['total','cs-movement (style)','cs-genre','cs-artist']);\n",
    "ax[1].set_title(\"Number of images per target (Full)\");\n",
    "ax[1].set_xlabel(\"Count\");\n",
    "ax[1].set_ylabel(\"Target\");"
   ]
  },
  {
   "cell_type": "code",
   "execution_count": null,
   "id": "63f5a6f6",
   "metadata": {
    "ExecuteTime": {
     "end_time": "2021-08-23T20:52:14.874108Z",
     "start_time": "2021-08-23T20:52:14.624049Z"
    }
   },
   "outputs": [],
   "source": [
    "col = ['artist','genre','movement']\n",
    "\n",
    "fig, ax = plt.subplots(2,1,figsize=(15,10))\n",
    "sns.barplot(y=data[col].nunique().index, \n",
    "            x=data[col].nunique().values,\n",
    "            order=data[col].nunique().sort_values(ascending=False).index,\n",
    "            ax=ax[0]);\n",
    "\n",
    "for i, v in enumerate(data[col].nunique().sort_values(ascending=False).values):\n",
    "    ax[0].text(v, i , str(v), color='blue', fontweight='bold')\n",
    "    \n",
    "ax[0].set_title(\"Number of classes per target\");\n",
    "ax[0].set_xlabel(\"Count\");\n",
    "ax[0].set_ylabel(\"Target\");\n",
    "\n",
    "sns.barplot(y=data_full[col].nunique().index, \n",
    "            x=data_full[col].nunique().values,\n",
    "            order=data_full[col].nunique().sort_values(ascending=False).index,\n",
    "            ax=ax[1]);\n",
    "\n",
    "for i, v in enumerate(data_full[col].nunique().sort_values(ascending=False).values):\n",
    "    ax[1].text(v, i , str(v), color='blue', fontweight='bold')\n",
    "    \n",
    "ax[1].set_title(\"Number of classes per target (Full)\");\n",
    "ax[1].set_xlabel(\"Count\");\n",
    "ax[1].set_ylabel(\"Target\");"
   ]
  },
  {
   "cell_type": "code",
   "execution_count": null,
   "id": "e6e8af76",
   "metadata": {
    "ExecuteTime": {
     "end_time": "2021-08-23T20:52:16.299900Z",
     "start_time": "2021-08-23T20:52:15.840766Z"
    }
   },
   "outputs": [],
   "source": [
    "fig, ax = plt.subplots(2,1,figsize=(15,15));\n",
    "sns.countplot(data=data, y=\"movement\", \n",
    "              order = data['movement'].value_counts().index,\n",
    "              ax=ax[0]);\n",
    "\n",
    "for i, v in enumerate(data[\"movement\"].value_counts().values):\n",
    "    ax[0].text(v, i , str(v), color='blue', fontweight='bold')\n",
    "    \n",
    "ax[0].set_title(\"Number of images per movement\");\n",
    "ax[0].set_ylabel(\"Movement (style)\");\n",
    "\n",
    "sns.countplot(data=data_full, y=\"movement\", \n",
    "              order = data_full['movement'].value_counts().index,\n",
    "              ax=ax[1]);\n",
    "\n",
    "for i, v in enumerate(data_full[\"movement\"].value_counts().values):\n",
    "    ax[1].text(v, i , str(v), color='blue', fontweight='bold')\n",
    "    \n",
    "ax[1].set_title(\"Number of images per movement (Full)\");\n",
    "ax[1].set_ylabel(\"Movement (style)\");"
   ]
  },
  {
   "cell_type": "code",
   "execution_count": null,
   "id": "cf57b917",
   "metadata": {
    "ExecuteTime": {
     "end_time": "2021-08-23T20:55:09.478969Z",
     "start_time": "2021-08-23T20:55:09.194304Z"
    }
   },
   "outputs": [],
   "source": [
    "fig, ax = plt.subplots(2,1,figsize=(15,10));\n",
    "sns.countplot(data=data, y=\"genre\", \n",
    "              order = data['genre'].value_counts().index,\n",
    "              ax=ax[0]);\n",
    "\n",
    "for i, v in enumerate(data[\"genre\"].value_counts().values):\n",
    "    ax[0].text(v, i , str(v), color='blue', fontweight='bold')\n",
    "    \n",
    "ax[0].set_title(\"Number of images per genre\");\n",
    "\n",
    "sns.countplot(data=data_full, y=\"genre\", \n",
    "              order = data_full['genre'].value_counts().index,\n",
    "              ax=ax[1]);\n",
    "\n",
    "for i, v in enumerate(data_full[\"genre\"].value_counts().values):\n",
    "    ax[1].text(v, i , str(v), color='blue', fontweight='bold')\n",
    "    \n",
    "ax[1].set_title(\"Number of images per genre (Full)\");"
   ]
  },
  {
   "cell_type": "code",
   "execution_count": null,
   "id": "ed175839",
   "metadata": {
    "ExecuteTime": {
     "end_time": "2021-08-23T20:55:13.701229Z",
     "start_time": "2021-08-23T20:55:13.242098Z"
    }
   },
   "outputs": [],
   "source": [
    "fig, ax = plt.subplots(1,1,figsize=(15,10));\n",
    "sns.barplot(y=data.groupby(\"movement\").artist.nunique().index, \n",
    "            x=data.groupby(\"movement\").artist.nunique().values,\n",
    "            order=data.groupby(\"movement\").artist.nunique().sort_values(ascending=False).index,\n",
    "            ax=ax);\n",
    "\n",
    "for i, v in enumerate(data.groupby(\"movement\").artist.nunique().sort_values(ascending=False).values):\n",
    "    ax.text(v, i , str(v), color='blue', fontweight='bold')\n",
    "    \n",
    "ax.set_title(\"Number of artists per movement\");\n",
    "ax.set_xlabel(\"Count\");"
   ]
  },
  {
   "cell_type": "code",
   "execution_count": null,
   "id": "a0723070",
   "metadata": {
    "ExecuteTime": {
     "end_time": "2021-08-23T20:55:15.881606Z",
     "start_time": "2021-08-23T20:55:15.441046Z"
    }
   },
   "outputs": [],
   "source": [
    "data2 = data[data[\"cs_split_genre\"].notnull()]\n",
    "\n",
    "fig, ax = plt.subplots(1,1,figsize=(15,10));\n",
    "sns.countplot(data=data2, y=\"movement\", \n",
    "              order = data2['movement'].value_counts().index,\n",
    "              ax=ax);\n",
    "\n",
    "for i, v in enumerate(data2[\"movement\"].value_counts().values):\n",
    "    ax.text(v, i , str(v), color='blue', fontweight='bold')\n",
    "    \n",
    "ax.set_title(\"Number of images with genre per movement (style)\");\n",
    "ax.set_ylabel(\"Movement (style)\");"
   ]
  },
  {
   "cell_type": "code",
   "execution_count": null,
   "id": "99b0b1b9-5d5a-4188-95f5-a7f14f34cd6d",
   "metadata": {},
   "outputs": [],
   "source": []
  }
 ],
 "metadata": {
  "kernelspec": {
   "display_name": "Python 3 (ipykernel)",
   "language": "python",
   "name": "python3"
  },
  "language_info": {
   "codemirror_mode": {
    "name": "ipython",
    "version": 3
   },
   "file_extension": ".py",
   "mimetype": "text/x-python",
   "name": "python",
   "nbconvert_exporter": "python",
   "pygments_lexer": "ipython3",
   "version": "3.8.6"
  },
  "toc": {
   "base_numbering": 1,
   "nav_menu": {},
   "number_sections": true,
   "sideBar": true,
   "skip_h1_title": false,
   "title_cell": "Table of Contents",
   "title_sidebar": "Contents",
   "toc_cell": false,
   "toc_position": {},
   "toc_section_display": true,
   "toc_window_display": true
  },
  "varInspector": {
   "cols": {
    "lenName": 16,
    "lenType": 16,
    "lenVar": 40
   },
   "kernels_config": {
    "python": {
     "delete_cmd_postfix": "",
     "delete_cmd_prefix": "del ",
     "library": "var_list.py",
     "varRefreshCmd": "print(var_dic_list())"
    },
    "r": {
     "delete_cmd_postfix": ") ",
     "delete_cmd_prefix": "rm(",
     "library": "var_list.r",
     "varRefreshCmd": "cat(var_dic_list()) "
    }
   },
   "types_to_exclude": [
    "module",
    "function",
    "builtin_function_or_method",
    "instance",
    "_Feature"
   ],
   "window_display": false
  }
 },
 "nbformat": 4,
 "nbformat_minor": 5
}
