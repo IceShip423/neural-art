{
 "cells": [
  {
   "cell_type": "markdown",
   "id": "1de8a528",
   "metadata": {},
   "source": [
    "# Import"
   ]
  },
  {
   "cell_type": "code",
   "execution_count": 1,
   "id": "0c2feac0",
   "metadata": {
    "ExecuteTime": {
     "end_time": "2021-08-23T12:48:20.485117Z",
     "start_time": "2021-08-23T12:48:19.434489Z"
    }
   },
   "outputs": [],
   "source": [
    "import pandas as pd\n",
    "import numpy as np\n",
    "import seaborn as sns\n",
    "sns.set_theme(style=\"darkgrid\")\n",
    "import matplotlib.pyplot as plt\n",
    "import os\n",
    "from shutil import copyfile"
   ]
  },
  {
   "cell_type": "markdown",
   "id": "432a1b77",
   "metadata": {},
   "source": [
    "# Functions"
   ]
  },
  {
   "cell_type": "code",
   "execution_count": 32,
   "id": "4d171af1",
   "metadata": {
    "ExecuteTime": {
     "end_time": "2021-08-23T13:06:23.137262Z",
     "start_time": "2021-08-23T13:06:23.115002Z"
    }
   },
   "outputs": [],
   "source": [
    "def get_sample(data, input_path, output_path, target='movement', \n",
    "               n=1000, random_state=123, replace=False, create_directory=False):    \n",
    "    if target == 'genre':\n",
    "        data.dropna(axis=0, subset=[target], inplace=True)\n",
    "    \n",
    "    sample = data.groupby(by=target).sample(n=n, random_state=random_state, replace=replace)\n",
    "    \n",
    "    if create_directory:\n",
    "        for i, j in sample.iterrows():\n",
    "            old_path = os.path.join(input_path, j.path)\n",
    "            new_path = os.path.join(output_path, \n",
    "                                    f\"{os.path.basename(sample_path)}-{target}-{n}\",\n",
    "                                    eval(f\"j.{target}\"), j.title)\n",
    "            os.makedirs(os.path.dirname(new_path), exist_ok=True)\n",
    "            copyfile(old_path,new_path)\n",
    "        \n",
    "        sample[\"path\"] = sample[[target,\"image\"]].apply(lambda x: \"/\".join(x),axis=1)\n",
    "        \n",
    "    return sample\n",
    "\n",
    "def get_cs_class(csv_path, target):\n",
    "    return pd.read_csv(os.path.join(csv_path,target + \"_class.txt\"), header=None, delim_whitespace=True)\n",
    "    \n",
    "def get_cs_train_val(csv_path, target, class_=None):\n",
    "    \n",
    "    if not isinstance(class_, pd.DataFrame):\n",
    "        class_ = get_cs_class(csv_path, target)\n",
    "        \n",
    "    cs_train = pd.read_csv(os.path.join(csv_path, target + \"_train.csv\"), header=None)\n",
    "    cs_train[\"split\"] = \"train\"\n",
    "    \n",
    "    cs_val = pd.read_csv(os.path.join(csv_path, target + \"_val.csv\"), header=None)\n",
    "    cs_val[\"split\"] = \"val\"\n",
    "    \n",
    "    cs = pd.concat([cs_train, cs_val], ignore_index=True)\n",
    "    cs.columns = [\"path\", target + \"_id\", \"cs-split-\" + target]\n",
    "        \n",
    "    cs[target] = cs[target + \"_id\"].apply(lambda x: class_.loc[x][1])\n",
    "    cs[\"style-from-path\"] = cs[\"path\"].apply(lambda x: x.split('/')[0])\n",
    "    cs[\"artist-from-path\"] = cs[\"path\"].apply(lambda x: x.split('/')[1].split('_')[0])\n",
    "    cs[\"title-from-path\"] = cs[\"path\"].apply(lambda x: x.split('/')[1].split('_')[1])\n",
    "    \n",
    "    return cs\n",
    "\n",
    "def get_data(csv_path, image_path, rm_duplicate=True):\n",
    "    \n",
    "    cs_style = get_cs_train_val(csv_path, 'style')\n",
    "    cs_genre = get_cs_train_val(csv_path, 'genre')\n",
    "    cs_artist = get_cs_train_val(csv_path, 'artist')\n",
    "\n",
    "    # There is one duplicata inside genre_train.csv / genre_test.csv\n",
    "    # One image labelled with two genres\n",
    "    if rm_duplicate:\n",
    "        if not cs_genre[cs_genre[\"path\"].duplicated(keep='first')].empty:\n",
    "            cs_genre.drop(cs_genre[cs_genre[\"path\"].duplicated(keep='first')].index, \n",
    "                          inplace=True)\n",
    "             \n",
    "    movement_list = [i for i in os.listdir(image_path) \n",
    "                     if i != '.DS_Store']\n",
    "    \n",
    "    movement = []\n",
    "    image = []\n",
    "    artist = []\n",
    "    title = []\n",
    "    path = []\n",
    "    \n",
    "    for g in movement_list:\n",
    "        files = os.listdir(os.path.join(image_path,g))\n",
    "        movement.extend([g]*len(files))\n",
    "        image.extend(files)\n",
    "        artist.extend(list(map(lambda x: x.split('_')[0], files)))\n",
    "        title.extend(list(map(lambda x: x.split('_')[1], files)))\n",
    "        path.extend(list(map(lambda x: g + '/' + x, files)))\n",
    "    \n",
    "    data = pd.DataFrame({\"path\": path, \"movement\": movement, \"artist\": artist, \"title\": title, \"image\": image})\n",
    "    \n",
    "    data = data.merge(cs_genre[[\"path\", \"genre\", \"cs-split-genre\"]], on=\"path\",  how=\"outer\")\n",
    "    data = data.merge(cs_style[[\"path\", \"cs-split-style\"]], on=\"path\",  how=\"outer\")\n",
    "    data = data.merge(cs_artist[[\"path\", \"cs-split-artist\"]], on=\"path\",  how=\"outer\")\n",
    "\n",
    "    return data"
   ]
  },
  {
   "cell_type": "markdown",
   "id": "44e5a94d",
   "metadata": {},
   "source": [
    "# Get Data"
   ]
  },
  {
   "cell_type": "code",
   "execution_count": 3,
   "id": "d0081d1c",
   "metadata": {
    "ExecuteTime": {
     "end_time": "2021-08-23T12:48:22.577794Z",
     "start_time": "2021-08-23T12:48:22.573066Z"
    }
   },
   "outputs": [],
   "source": [
    "csv_path = \"../raw_data/wikiart\"\n",
    "image_path= \"../raw_data/wikiart/wikiart\"\n",
    "sample_path = \"../raw_data/wikiart\""
   ]
  },
  {
   "cell_type": "code",
   "execution_count": 4,
   "id": "642dc50c",
   "metadata": {
    "ExecuteTime": {
     "end_time": "2021-08-23T12:48:45.323513Z",
     "start_time": "2021-08-23T12:48:23.122184Z"
    }
   },
   "outputs": [],
   "source": [
    "data = get_data(csv_path, image_path)"
   ]
  },
  {
   "cell_type": "code",
   "execution_count": 5,
   "id": "26c30f73",
   "metadata": {
    "ExecuteTime": {
     "end_time": "2021-08-23T12:48:46.850685Z",
     "start_time": "2021-08-23T12:48:46.828852Z"
    }
   },
   "outputs": [
    {
     "data": {
      "text/html": [
       "<div>\n",
       "<style scoped>\n",
       "    .dataframe tbody tr th:only-of-type {\n",
       "        vertical-align: middle;\n",
       "    }\n",
       "\n",
       "    .dataframe tbody tr th {\n",
       "        vertical-align: top;\n",
       "    }\n",
       "\n",
       "    .dataframe thead th {\n",
       "        text-align: right;\n",
       "    }\n",
       "</style>\n",
       "<table border=\"1\" class=\"dataframe\">\n",
       "  <thead>\n",
       "    <tr style=\"text-align: right;\">\n",
       "      <th></th>\n",
       "      <th>path</th>\n",
       "      <th>movement</th>\n",
       "      <th>artist</th>\n",
       "      <th>title</th>\n",
       "      <th>image</th>\n",
       "      <th>genre</th>\n",
       "      <th>cs-split-genre</th>\n",
       "      <th>cs-split-style</th>\n",
       "      <th>cs-split-artist</th>\n",
       "    </tr>\n",
       "  </thead>\n",
       "  <tbody>\n",
       "    <tr>\n",
       "      <th>0</th>\n",
       "      <td>Early_Renaissance/filippo-lippi_two-saints.jpg</td>\n",
       "      <td>Early_Renaissance</td>\n",
       "      <td>filippo-lippi</td>\n",
       "      <td>two-saints.jpg</td>\n",
       "      <td>filippo-lippi_two-saints.jpg</td>\n",
       "      <td>religious_painting</td>\n",
       "      <td>val</td>\n",
       "      <td>val</td>\n",
       "      <td>NaN</td>\n",
       "    </tr>\n",
       "    <tr>\n",
       "      <th>1</th>\n",
       "      <td>Early_Renaissance/filippo-lippi_madonna-del-ce...</td>\n",
       "      <td>Early_Renaissance</td>\n",
       "      <td>filippo-lippi</td>\n",
       "      <td>madonna-del-ceppo.jpg</td>\n",
       "      <td>filippo-lippi_madonna-del-ceppo.jpg</td>\n",
       "      <td>religious_painting</td>\n",
       "      <td>train</td>\n",
       "      <td>train</td>\n",
       "      <td>NaN</td>\n",
       "    </tr>\n",
       "    <tr>\n",
       "      <th>2</th>\n",
       "      <td>Early_Renaissance/piero-della-francesca_annunc...</td>\n",
       "      <td>Early_Renaissance</td>\n",
       "      <td>piero-della-francesca</td>\n",
       "      <td>annunciation-1464(1).jpg</td>\n",
       "      <td>piero-della-francesca_annunciation-1464(1).jpg</td>\n",
       "      <td>religious_painting</td>\n",
       "      <td>train</td>\n",
       "      <td>train</td>\n",
       "      <td>NaN</td>\n",
       "    </tr>\n",
       "    <tr>\n",
       "      <th>3</th>\n",
       "      <td>Early_Renaissance/pietro-perugino_christ-in-th...</td>\n",
       "      <td>Early_Renaissance</td>\n",
       "      <td>pietro-perugino</td>\n",
       "      <td>christ-in-the-sarcophagus-1473.jpg</td>\n",
       "      <td>pietro-perugino_christ-in-the-sarcophagus-1473...</td>\n",
       "      <td>religious_painting</td>\n",
       "      <td>train</td>\n",
       "      <td>train</td>\n",
       "      <td>NaN</td>\n",
       "    </tr>\n",
       "    <tr>\n",
       "      <th>4</th>\n",
       "      <td>Early_Renaissance/antonello-da-messina_madonna...</td>\n",
       "      <td>Early_Renaissance</td>\n",
       "      <td>antonello-da-messina</td>\n",
       "      <td>madonna-and-child-salting-madonna.jpg</td>\n",
       "      <td>antonello-da-messina_madonna-and-child-salting...</td>\n",
       "      <td>religious_painting</td>\n",
       "      <td>val</td>\n",
       "      <td>val</td>\n",
       "      <td>NaN</td>\n",
       "    </tr>\n",
       "  </tbody>\n",
       "</table>\n",
       "</div>"
      ],
      "text/plain": [
       "                                                path           movement  \\\n",
       "0     Early_Renaissance/filippo-lippi_two-saints.jpg  Early_Renaissance   \n",
       "1  Early_Renaissance/filippo-lippi_madonna-del-ce...  Early_Renaissance   \n",
       "2  Early_Renaissance/piero-della-francesca_annunc...  Early_Renaissance   \n",
       "3  Early_Renaissance/pietro-perugino_christ-in-th...  Early_Renaissance   \n",
       "4  Early_Renaissance/antonello-da-messina_madonna...  Early_Renaissance   \n",
       "\n",
       "                  artist                                  title  \\\n",
       "0          filippo-lippi                         two-saints.jpg   \n",
       "1          filippo-lippi                  madonna-del-ceppo.jpg   \n",
       "2  piero-della-francesca               annunciation-1464(1).jpg   \n",
       "3        pietro-perugino     christ-in-the-sarcophagus-1473.jpg   \n",
       "4   antonello-da-messina  madonna-and-child-salting-madonna.jpg   \n",
       "\n",
       "                                               image               genre  \\\n",
       "0                       filippo-lippi_two-saints.jpg  religious_painting   \n",
       "1                filippo-lippi_madonna-del-ceppo.jpg  religious_painting   \n",
       "2     piero-della-francesca_annunciation-1464(1).jpg  religious_painting   \n",
       "3  pietro-perugino_christ-in-the-sarcophagus-1473...  religious_painting   \n",
       "4  antonello-da-messina_madonna-and-child-salting...  religious_painting   \n",
       "\n",
       "  cs-split-genre cs-split-style cs-split-artist  \n",
       "0            val            val             NaN  \n",
       "1          train          train             NaN  \n",
       "2          train          train             NaN  \n",
       "3          train          train             NaN  \n",
       "4            val            val             NaN  "
      ]
     },
     "execution_count": 5,
     "metadata": {},
     "output_type": "execute_result"
    }
   ],
   "source": [
    "data.head()"
   ]
  },
  {
   "cell_type": "code",
   "execution_count": 35,
   "id": "53fd98c8",
   "metadata": {
    "ExecuteTime": {
     "end_time": "2021-08-23T13:06:50.588683Z",
     "start_time": "2021-08-23T13:06:50.417590Z"
    }
   },
   "outputs": [],
   "source": [
    "sample = get_sample(data, image_path, sample_path, target='genre', n=5, random_state=123, \n",
    "                    replace=False, create_directory=True)    \n"
   ]
  },
  {
   "cell_type": "code",
   "execution_count": 36,
   "id": "91d2be8d",
   "metadata": {
    "ExecuteTime": {
     "end_time": "2021-08-23T13:06:51.869243Z",
     "start_time": "2021-08-23T13:06:51.852488Z"
    }
   },
   "outputs": [
    {
     "data": {
      "text/html": [
       "<div>\n",
       "<style scoped>\n",
       "    .dataframe tbody tr th:only-of-type {\n",
       "        vertical-align: middle;\n",
       "    }\n",
       "\n",
       "    .dataframe tbody tr th {\n",
       "        vertical-align: top;\n",
       "    }\n",
       "\n",
       "    .dataframe thead th {\n",
       "        text-align: right;\n",
       "    }\n",
       "</style>\n",
       "<table border=\"1\" class=\"dataframe\">\n",
       "  <thead>\n",
       "    <tr style=\"text-align: right;\">\n",
       "      <th></th>\n",
       "      <th>path</th>\n",
       "      <th>movement</th>\n",
       "      <th>artist</th>\n",
       "      <th>title</th>\n",
       "      <th>image</th>\n",
       "      <th>genre</th>\n",
       "      <th>cs-split-genre</th>\n",
       "      <th>cs-split-style</th>\n",
       "      <th>cs-split-artist</th>\n",
       "    </tr>\n",
       "  </thead>\n",
       "  <tbody>\n",
       "    <tr>\n",
       "      <th>77431</th>\n",
       "      <td>abstract_painting/gerhard-richter_red-blue-yel...</td>\n",
       "      <td>Abstract_Expressionism</td>\n",
       "      <td>gerhard-richter</td>\n",
       "      <td>red-blue-yellow.jpg</td>\n",
       "      <td>gerhard-richter_red-blue-yellow.jpg</td>\n",
       "      <td>abstract_painting</td>\n",
       "      <td>train</td>\n",
       "      <td>train</td>\n",
       "      <td>NaN</td>\n",
       "    </tr>\n",
       "    <tr>\n",
       "      <th>75656</th>\n",
       "      <td>abstract_painting/sam-francis_black-smudge.jpg</td>\n",
       "      <td>Abstract_Expressionism</td>\n",
       "      <td>sam-francis</td>\n",
       "      <td>black-smudge.jpg</td>\n",
       "      <td>sam-francis_black-smudge.jpg</td>\n",
       "      <td>abstract_painting</td>\n",
       "      <td>train</td>\n",
       "      <td>train</td>\n",
       "      <td>NaN</td>\n",
       "    </tr>\n",
       "    <tr>\n",
       "      <th>49856</th>\n",
       "      <td>abstract_painting/theo-van-doesburg_compositio...</td>\n",
       "      <td>Cubism</td>\n",
       "      <td>theo-van-doesburg</td>\n",
       "      <td>composition-i-still-life-1916.jpg</td>\n",
       "      <td>theo-van-doesburg_composition-i-still-life-191...</td>\n",
       "      <td>abstract_painting</td>\n",
       "      <td>val</td>\n",
       "      <td>val</td>\n",
       "      <td>NaN</td>\n",
       "    </tr>\n",
       "    <tr>\n",
       "      <th>20664</th>\n",
       "      <td>abstract_painting/sol-lewitt_arcs-from-four-co...</td>\n",
       "      <td>Minimalism</td>\n",
       "      <td>sol-lewitt</td>\n",
       "      <td>arcs-from-four-corners-1986.jpg</td>\n",
       "      <td>sol-lewitt_arcs-from-four-corners-1986.jpg</td>\n",
       "      <td>abstract_painting</td>\n",
       "      <td>train</td>\n",
       "      <td>val</td>\n",
       "      <td>NaN</td>\n",
       "    </tr>\n",
       "    <tr>\n",
       "      <th>20115</th>\n",
       "      <td>abstract_painting/angelo-de-sousa_86-3-15q-198...</td>\n",
       "      <td>Minimalism</td>\n",
       "      <td>angelo-de-sousa</td>\n",
       "      <td>86-3-15q-1986.jpg</td>\n",
       "      <td>angelo-de-sousa_86-3-15q-1986.jpg</td>\n",
       "      <td>abstract_painting</td>\n",
       "      <td>train</td>\n",
       "      <td>train</td>\n",
       "      <td>NaN</td>\n",
       "    </tr>\n",
       "  </tbody>\n",
       "</table>\n",
       "</div>"
      ],
      "text/plain": [
       "                                                    path  \\\n",
       "77431  abstract_painting/gerhard-richter_red-blue-yel...   \n",
       "75656     abstract_painting/sam-francis_black-smudge.jpg   \n",
       "49856  abstract_painting/theo-van-doesburg_compositio...   \n",
       "20664  abstract_painting/sol-lewitt_arcs-from-four-co...   \n",
       "20115  abstract_painting/angelo-de-sousa_86-3-15q-198...   \n",
       "\n",
       "                     movement             artist  \\\n",
       "77431  Abstract_Expressionism    gerhard-richter   \n",
       "75656  Abstract_Expressionism        sam-francis   \n",
       "49856                  Cubism  theo-van-doesburg   \n",
       "20664              Minimalism         sol-lewitt   \n",
       "20115              Minimalism    angelo-de-sousa   \n",
       "\n",
       "                                   title  \\\n",
       "77431                red-blue-yellow.jpg   \n",
       "75656                   black-smudge.jpg   \n",
       "49856  composition-i-still-life-1916.jpg   \n",
       "20664    arcs-from-four-corners-1986.jpg   \n",
       "20115                  86-3-15q-1986.jpg   \n",
       "\n",
       "                                                   image              genre  \\\n",
       "77431                gerhard-richter_red-blue-yellow.jpg  abstract_painting   \n",
       "75656                       sam-francis_black-smudge.jpg  abstract_painting   \n",
       "49856  theo-van-doesburg_composition-i-still-life-191...  abstract_painting   \n",
       "20664         sol-lewitt_arcs-from-four-corners-1986.jpg  abstract_painting   \n",
       "20115                  angelo-de-sousa_86-3-15q-1986.jpg  abstract_painting   \n",
       "\n",
       "      cs-split-genre cs-split-style cs-split-artist  \n",
       "77431          train          train             NaN  \n",
       "75656          train          train             NaN  \n",
       "49856            val            val             NaN  \n",
       "20664          train            val             NaN  \n",
       "20115          train          train             NaN  "
      ]
     },
     "execution_count": 36,
     "metadata": {},
     "output_type": "execute_result"
    }
   ],
   "source": [
    "sample.head()"
   ]
  },
  {
   "cell_type": "markdown",
   "id": "c60a9c35",
   "metadata": {},
   "source": [
    "# Data Visualization"
   ]
  },
  {
   "cell_type": "code",
   "execution_count": null,
   "id": "ad13813c",
   "metadata": {
    "ExecuteTime": {
     "end_time": "2021-08-23T10:44:34.569375Z",
     "start_time": "2021-08-23T10:44:34.107403Z"
    }
   },
   "outputs": [],
   "source": [
    "col = ['cs-split-artist','cs-split-genre','cs-split-style','path']\n",
    "\n",
    "fig, ax = plt.subplots(1,1,figsize=(15,10))\n",
    "sns.barplot(y=data[col].count().index, \n",
    "            x=data[col].count().values,\n",
    "            order=data[col].count().sort_values(ascending=False).index,\n",
    "            ax=ax);\n",
    "\n",
    "for i, v in enumerate(data[col].count().sort_values(ascending=False).values):\n",
    "    ax.text(v, i , str(v), color='blue', fontweight='bold')\n",
    "    \n",
    "ax.set_yticklabels(['total','cs-movement (style)','cs-genre','cs-artist']);\n",
    "ax.set_title(\"Number of images per target\");\n",
    "ax.set_xlabel(\"Count\");\n",
    "ax.set_ylabel(\"Target\");"
   ]
  },
  {
   "cell_type": "code",
   "execution_count": null,
   "id": "63f5a6f6",
   "metadata": {
    "ExecuteTime": {
     "end_time": "2021-08-23T10:44:36.273165Z",
     "start_time": "2021-08-23T10:44:35.929036Z"
    }
   },
   "outputs": [],
   "source": [
    "col = ['artist','genre','movement']\n",
    "\n",
    "fig, ax = plt.subplots(1,1,figsize=(15,10))\n",
    "sns.barplot(y=data[col].nunique().index, \n",
    "            x=data[col].nunique().values,\n",
    "            order=data[col].nunique().sort_values(ascending=False).index,\n",
    "            ax=ax);\n",
    "\n",
    "for i, v in enumerate(data[col].nunique().sort_values(ascending=False).values):\n",
    "    ax.text(v, i , str(v), color='blue', fontweight='bold')\n",
    "    \n",
    "ax.set_title(\"Number of classes per target (all images)\");\n",
    "ax.set_xlabel(\"Count\");\n",
    "ax.set_ylabel(\"Target\");"
   ]
  },
  {
   "cell_type": "code",
   "execution_count": null,
   "id": "e6e8af76",
   "metadata": {
    "ExecuteTime": {
     "end_time": "2021-08-23T10:44:37.886949Z",
     "start_time": "2021-08-23T10:44:37.205415Z"
    }
   },
   "outputs": [],
   "source": [
    "fig, ax = plt.subplots(1,1,figsize=(15,10));\n",
    "sns.countplot(data=data, y=\"movement\", \n",
    "              order = data['movement'].value_counts().index,\n",
    "              ax=ax);\n",
    "\n",
    "for i, v in enumerate(data[\"movement\"].value_counts().values):\n",
    "    ax.text(v, i , str(v), color='blue', fontweight='bold')\n",
    "    \n",
    "ax.set_title(\"Number of images per movement (style)\");\n",
    "ax.set_ylabel(\"Movement (style)\");"
   ]
  },
  {
   "cell_type": "code",
   "execution_count": null,
   "id": "cf57b917",
   "metadata": {
    "ExecuteTime": {
     "end_time": "2021-08-23T10:44:39.203658Z",
     "start_time": "2021-08-23T10:44:38.780090Z"
    }
   },
   "outputs": [],
   "source": [
    "fig, ax = plt.subplots(1,1,figsize=(15,10));\n",
    "sns.countplot(data=data, y=\"genre\", \n",
    "              order = data['genre'].value_counts().index,\n",
    "              ax=ax);\n",
    "\n",
    "for i, v in enumerate(data[\"genre\"].value_counts().values):\n",
    "    ax.text(v, i , str(v), color='blue', fontweight='bold')\n",
    "    \n",
    "ax.set_title(\"Number of images per genre\");"
   ]
  },
  {
   "cell_type": "code",
   "execution_count": null,
   "id": "ed175839",
   "metadata": {
    "ExecuteTime": {
     "end_time": "2021-08-23T10:44:40.762532Z",
     "start_time": "2021-08-23T10:44:40.036584Z"
    }
   },
   "outputs": [],
   "source": [
    "fig, ax = plt.subplots(1,1,figsize=(15,10));\n",
    "sns.barplot(y=data.groupby(\"movement\").artist.nunique().index, \n",
    "            x=data.groupby(\"movement\").artist.nunique().values,\n",
    "            order=data.groupby(\"movement\").artist.nunique().sort_values(ascending=False).index,\n",
    "            ax=ax);\n",
    "\n",
    "for i, v in enumerate(data.groupby(\"movement\").artist.nunique().sort_values(ascending=False).values):\n",
    "    ax.text(v, i , str(v), color='blue', fontweight='bold')\n",
    "    \n",
    "ax.set_title(\"Number of artists per movement\");\n",
    "ax.set_xlabel(\"Count\");"
   ]
  }
 ],
 "metadata": {
  "kernelspec": {
   "display_name": "Python 3 (ipykernel)",
   "language": "python",
   "name": "python3"
  },
  "language_info": {
   "codemirror_mode": {
    "name": "ipython",
    "version": 3
   },
   "file_extension": ".py",
   "mimetype": "text/x-python",
   "name": "python",
   "nbconvert_exporter": "python",
   "pygments_lexer": "ipython3",
   "version": "3.8.6"
  },
  "toc": {
   "base_numbering": 1,
   "nav_menu": {},
   "number_sections": true,
   "sideBar": true,
   "skip_h1_title": false,
   "title_cell": "Table of Contents",
   "title_sidebar": "Contents",
   "toc_cell": false,
   "toc_position": {},
   "toc_section_display": true,
   "toc_window_display": true
  },
  "varInspector": {
   "cols": {
    "lenName": 16,
    "lenType": 16,
    "lenVar": 40
   },
   "kernels_config": {
    "python": {
     "delete_cmd_postfix": "",
     "delete_cmd_prefix": "del ",
     "library": "var_list.py",
     "varRefreshCmd": "print(var_dic_list())"
    },
    "r": {
     "delete_cmd_postfix": ") ",
     "delete_cmd_prefix": "rm(",
     "library": "var_list.r",
     "varRefreshCmd": "cat(var_dic_list()) "
    }
   },
   "types_to_exclude": [
    "module",
    "function",
    "builtin_function_or_method",
    "instance",
    "_Feature"
   ],
   "window_display": false
  }
 },
 "nbformat": 4,
 "nbformat_minor": 5
}
