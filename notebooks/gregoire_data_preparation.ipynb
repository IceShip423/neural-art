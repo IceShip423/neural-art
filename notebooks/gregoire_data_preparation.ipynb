{
 "cells": [
  {
   "cell_type": "markdown",
   "id": "1de8a528",
   "metadata": {},
   "source": [
    "# Import"
   ]
  },
  {
   "cell_type": "code",
   "execution_count": 1,
   "id": "bac68fee-f859-4d79-a020-ecd6c6cfc4dd",
   "metadata": {},
   "outputs": [],
   "source": [
    "%load_ext autoreload\n",
    "%autoreload 2"
   ]
  },
  {
   "cell_type": "code",
   "execution_count": 2,
   "id": "0c2feac0",
   "metadata": {
    "ExecuteTime": {
     "end_time": "2021-08-23T20:51:11.167635Z",
     "start_time": "2021-08-23T20:51:10.527710Z"
    }
   },
   "outputs": [],
   "source": [
    "import pandas as pd\n",
    "import numpy as np\n",
    "import seaborn as sns\n",
    "sns.set_theme(style=\"darkgrid\")\n",
    "import matplotlib.pyplot as plt\n",
    "import os\n",
    "from shutil import copyfile"
   ]
  },
  {
   "cell_type": "code",
   "execution_count": 3,
   "id": "8e11ad43-bc6a-425a-a2e3-0d36cc773bda",
   "metadata": {},
   "outputs": [],
   "source": [
    "from neuralart.data import *"
   ]
  },
  {
   "cell_type": "markdown",
   "id": "44e5a94d",
   "metadata": {},
   "source": [
    "# Get Data"
   ]
  },
  {
   "cell_type": "code",
   "execution_count": 4,
   "id": "d0081d1c",
   "metadata": {
    "ExecuteTime": {
     "end_time": "2021-08-23T20:51:13.348788Z",
     "start_time": "2021-08-23T20:51:13.343181Z"
    }
   },
   "outputs": [],
   "source": [
    "csv_path = \"../raw_data/wikiart/csv-chan\"\n",
    "image_path= \"../raw_data/wikiart/wikiart\"\n",
    "output_path = \"../raw_data/wikiart\""
   ]
  },
  {
   "cell_type": "code",
   "execution_count": 5,
   "id": "642dc50c",
   "metadata": {
    "ExecuteTime": {
     "end_time": "2021-08-23T20:51:26.827074Z",
     "start_time": "2021-08-23T20:51:13.824048Z"
    }
   },
   "outputs": [],
   "source": [
    "data = get_data(csv_path, image_path)"
   ]
  },
  {
   "cell_type": "code",
   "execution_count": 9,
   "id": "29541a1d-c4ea-48bb-bd4a-5a6d4fa94af9",
   "metadata": {},
   "outputs": [],
   "source": [
    "merge_mov1={'name': 'merge_mov1',\n",
    "            'dico':{'Abstract_Expressionism': None,\n",
    "                 'Action_painting': None,\n",
    "                 'Analytical_Cubism': None,\n",
    "                 'Art_Nouveau_Modern': 'Art_Nouveau_Modern',\n",
    "                 'Baroque': 'Baroque',\n",
    "                 'Color_Field_Painting': None,\n",
    "                 'Contemporary_Realism': None,\n",
    "                 'Cubism': None,\n",
    "                 'Early_Renaissance': 'Early_Renaissance',\n",
    "                 'Expressionism': 'Expressionism',\n",
    "                 'Fauvism': None,\n",
    "                 'High_Renaissance': 'High_Renaissance',\n",
    "                 'Impressionism': 'Impressionism',\n",
    "                 'Mannerism_Late_Renaissance': 'Mannerism_Late_Renaissance',\n",
    "                 'Minimalism': None,\n",
    "                 'Naive_Art_Primitivism': 'Naive_Art_Primitivism',\n",
    "                 'New_Realism': None,\n",
    "                 'Northern_Renaissance': 'Northern_Renaissance',\n",
    "                 'Pointillism': None,\n",
    "                 'Pop_Art': None,\n",
    "                 'Post_Impressionism': 'Post_Impressionism',\n",
    "                 'Realism': 'Realism',\n",
    "                 'Rococo': 'Rococo',\n",
    "                 'Romanticism': 'Romanticism',\n",
    "                 'Symbolism': 'Symbolism',\n",
    "                 'Synthetic_Cubism': None,\n",
    "                 'Ukiyo_e': 'Ukiyo_e'}}"
   ]
  },
  {
   "cell_type": "code",
   "execution_count": 10,
   "id": "4554dacc-64ef-4964-b37e-a9f79b99267d",
   "metadata": {},
   "outputs": [],
   "source": [
    "for n in [100,1000,None]:\n",
    "    for s in ['drop','max']:\n",
    "        for k in [False, True]:\n",
    "            for c in [merge_mov1, None]:\n",
    "                get_dataset(data, target=\"movement\", class_=c, n=n, strategy=s, \n",
    "                            random_state=123, output_path=output_path, keep_genre=k )\n"
   ]
  },
  {
   "cell_type": "markdown",
   "id": "c60a9c35",
   "metadata": {},
   "source": [
    "# Data Visualization"
   ]
  },
  {
   "cell_type": "code",
   "execution_count": null,
   "id": "ad13813c",
   "metadata": {
    "ExecuteTime": {
     "end_time": "2021-08-23T20:52:13.469762Z",
     "start_time": "2021-08-23T20:52:13.152925Z"
    }
   },
   "outputs": [],
   "source": [
    "col = ['cs-split-artist','cs-split-genre','cs-split-style','path']\n",
    "\n",
    "fig, ax = plt.subplots(1,1,figsize=(15,10))\n",
    "sns.barplot(y=data[col].count().index, \n",
    "            x=data[col].count().values,\n",
    "            order=data[col].count().sort_values(ascending=False).index,\n",
    "            ax=ax);\n",
    "\n",
    "for i, v in enumerate(data[col].count().sort_values(ascending=False).values):\n",
    "    ax.text(v, i , str(v), color='blue', fontweight='bold')\n",
    "    \n",
    "ax.set_yticklabels(['total','cs-movement (style)','cs-genre','cs-artist']);\n",
    "ax.set_title(\"Number of images per target\");\n",
    "ax.set_xlabel(\"Count\");\n",
    "ax.set_ylabel(\"Target\");"
   ]
  },
  {
   "cell_type": "code",
   "execution_count": null,
   "id": "63f5a6f6",
   "metadata": {
    "ExecuteTime": {
     "end_time": "2021-08-23T20:52:14.874108Z",
     "start_time": "2021-08-23T20:52:14.624049Z"
    }
   },
   "outputs": [],
   "source": [
    "col = ['artist','genre','movement']\n",
    "\n",
    "fig, ax = plt.subplots(1,1,figsize=(15,10))\n",
    "sns.barplot(y=data[col].nunique().index, \n",
    "            x=data[col].nunique().values,\n",
    "            order=data[col].nunique().sort_values(ascending=False).index,\n",
    "            ax=ax);\n",
    "\n",
    "for i, v in enumerate(data[col].nunique().sort_values(ascending=False).values):\n",
    "    ax.text(v, i , str(v), color='blue', fontweight='bold')\n",
    "    \n",
    "ax.set_title(\"Number of classes per target (all images)\");\n",
    "ax.set_xlabel(\"Count\");\n",
    "ax.set_ylabel(\"Target\");"
   ]
  },
  {
   "cell_type": "code",
   "execution_count": null,
   "id": "e6e8af76",
   "metadata": {
    "ExecuteTime": {
     "end_time": "2021-08-23T20:52:16.299900Z",
     "start_time": "2021-08-23T20:52:15.840766Z"
    }
   },
   "outputs": [],
   "source": [
    "fig, ax = plt.subplots(1,1,figsize=(15,10));\n",
    "sns.countplot(data=data, y=\"movement\", \n",
    "              order = data['movement'].value_counts().index,\n",
    "              ax=ax);\n",
    "\n",
    "for i, v in enumerate(data[\"movement\"].value_counts().values):\n",
    "    ax.text(v, i , str(v), color='blue', fontweight='bold')\n",
    "    \n",
    "ax.set_title(\"Number of images per movement (style)\");\n",
    "ax.set_ylabel(\"Movement (style)\");"
   ]
  },
  {
   "cell_type": "code",
   "execution_count": null,
   "id": "5ff5761a",
   "metadata": {
    "ExecuteTime": {
     "end_time": "2021-08-23T20:52:56.154477Z",
     "start_time": "2021-08-23T20:52:55.850793Z"
    }
   },
   "outputs": [],
   "source": [
    "fig, ax = plt.subplots(1,1,figsize=(15,10));\n",
    "sns.countplot(data=dataset, y=\"movement\", \n",
    "              order = dataset['movement'].value_counts().index,\n",
    "              ax=ax);\n",
    "\n",
    "for i, v in enumerate(dataset[\"movement\"].value_counts().values):\n",
    "    ax.text(v, i , str(v), color='blue', fontweight='bold')\n",
    "    \n",
    "ax.set_title(\"Number of images per merged movement\");\n",
    "ax.set_ylabel(\"Movement (style)\");"
   ]
  },
  {
   "cell_type": "code",
   "execution_count": null,
   "id": "cf57b917",
   "metadata": {
    "ExecuteTime": {
     "end_time": "2021-08-23T20:55:09.478969Z",
     "start_time": "2021-08-23T20:55:09.194304Z"
    }
   },
   "outputs": [],
   "source": [
    "fig, ax = plt.subplots(1,1,figsize=(15,10));\n",
    "sns.countplot(data=data, y=\"genre\", \n",
    "              order = data['genre'].value_counts().index,\n",
    "              ax=ax);\n",
    "\n",
    "for i, v in enumerate(data[\"genre\"].value_counts().values):\n",
    "    ax.text(v, i , str(v), color='blue', fontweight='bold')\n",
    "    \n",
    "ax.set_title(\"Number of images per genre\");"
   ]
  },
  {
   "cell_type": "code",
   "execution_count": null,
   "id": "ed175839",
   "metadata": {
    "ExecuteTime": {
     "end_time": "2021-08-23T20:55:13.701229Z",
     "start_time": "2021-08-23T20:55:13.242098Z"
    }
   },
   "outputs": [],
   "source": [
    "fig, ax = plt.subplots(1,1,figsize=(15,10));\n",
    "sns.barplot(y=data.groupby(\"movement\").artist.nunique().index, \n",
    "            x=data.groupby(\"movement\").artist.nunique().values,\n",
    "            order=data.groupby(\"movement\").artist.nunique().sort_values(ascending=False).index,\n",
    "            ax=ax);\n",
    "\n",
    "for i, v in enumerate(data.groupby(\"movement\").artist.nunique().sort_values(ascending=False).values):\n",
    "    ax.text(v, i , str(v), color='blue', fontweight='bold')\n",
    "    \n",
    "ax.set_title(\"Number of artists per movement\");\n",
    "ax.set_xlabel(\"Count\");"
   ]
  },
  {
   "cell_type": "code",
   "execution_count": null,
   "id": "a0723070",
   "metadata": {
    "ExecuteTime": {
     "end_time": "2021-08-23T20:55:15.881606Z",
     "start_time": "2021-08-23T20:55:15.441046Z"
    }
   },
   "outputs": [],
   "source": [
    "data2 = data[data[\"cs-split-genre\"].notnull()]\n",
    "\n",
    "fig, ax = plt.subplots(1,1,figsize=(15,10));\n",
    "sns.countplot(data=data2, y=\"movement\", \n",
    "              order = data2['movement'].value_counts().index,\n",
    "              ax=ax);\n",
    "\n",
    "for i, v in enumerate(data2[\"movement\"].value_counts().values):\n",
    "    ax.text(v, i , str(v), color='blue', fontweight='bold')\n",
    "    \n",
    "ax.set_title(\"Number of images with genre per movement (style)\");\n",
    "ax.set_ylabel(\"Movement (style)\");"
   ]
  },
  {
   "cell_type": "code",
   "execution_count": null,
   "id": "0fac5421",
   "metadata": {
    "ExecuteTime": {
     "end_time": "2021-08-23T20:55:16.924665Z",
     "start_time": "2021-08-23T20:55:16.873556Z"
    }
   },
   "outputs": [],
   "source": [
    "data[data[\"cs-split-genre\"].notnull()][data[\"movement\"]==\"Abstract_Expressionism\"].head(100)"
   ]
  },
  {
   "cell_type": "code",
   "execution_count": null,
   "id": "deadebe2",
   "metadata": {},
   "outputs": [],
   "source": [
    "def show_samples(df,sample_size=10):\n",
    "    root_path='../raw_data/wikiart/wikiart/'\n",
    "    artist=df['artist']\n",
    "    movement=df['movement']\n",
    "    title=df['title']\n",
    "    folder_path=list(df['path'].sample(n=sample_size))\n",
    "    complete_path=[root_path + i for i in folder_path]\n",
    "    fig = plt.figure(constrained_layout=True,figsize=(10,5*sample_size))\n",
    "    for i in list(range(0,sample_size)):\n",
    "        plt.subplot(sample_size,1,i+1)\n",
    "        image=plt.imread(complete_path[i])\n",
    "        label=f'{movement[i]} - {title[i]} by {artist[i]}'\n",
    "        plt.text(x=10,y=-2,s=label)\n",
    "        plt.imshow(image)"
   ]
  }
 ],
 "metadata": {
  "kernelspec": {
   "display_name": "Python 3 (ipykernel)",
   "language": "python",
   "name": "python3"
  },
  "language_info": {
   "codemirror_mode": {
    "name": "ipython",
    "version": 3
   },
   "file_extension": ".py",
   "mimetype": "text/x-python",
   "name": "python",
   "nbconvert_exporter": "python",
   "pygments_lexer": "ipython3",
   "version": "3.8.6"
  },
  "toc": {
   "base_numbering": 1,
   "nav_menu": {},
   "number_sections": true,
   "sideBar": true,
   "skip_h1_title": false,
   "title_cell": "Table of Contents",
   "title_sidebar": "Contents",
   "toc_cell": false,
   "toc_position": {},
   "toc_section_display": true,
   "toc_window_display": true
  },
  "varInspector": {
   "cols": {
    "lenName": 16,
    "lenType": 16,
    "lenVar": 40
   },
   "kernels_config": {
    "python": {
     "delete_cmd_postfix": "",
     "delete_cmd_prefix": "del ",
     "library": "var_list.py",
     "varRefreshCmd": "print(var_dic_list())"
    },
    "r": {
     "delete_cmd_postfix": ") ",
     "delete_cmd_prefix": "rm(",
     "library": "var_list.r",
     "varRefreshCmd": "cat(var_dic_list()) "
    }
   },
   "types_to_exclude": [
    "module",
    "function",
    "builtin_function_or_method",
    "instance",
    "_Feature"
   ],
   "window_display": false
  }
 },
 "nbformat": 4,
 "nbformat_minor": 5
}
