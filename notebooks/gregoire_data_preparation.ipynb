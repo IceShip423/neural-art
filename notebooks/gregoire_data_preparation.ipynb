{
 "cells": [
  {
   "cell_type": "markdown",
   "id": "1de8a528",
   "metadata": {},
   "source": [
    "# Import"
   ]
  },
  {
   "cell_type": "code",
   "execution_count": 1,
   "id": "bac68fee-f859-4d79-a020-ecd6c6cfc4dd",
   "metadata": {},
   "outputs": [],
   "source": [
    "%load_ext autoreload\n",
    "%autoreload 2"
   ]
  },
  {
   "cell_type": "code",
   "execution_count": 2,
   "id": "0c2feac0",
   "metadata": {
    "ExecuteTime": {
     "end_time": "2021-08-23T20:51:11.167635Z",
     "start_time": "2021-08-23T20:51:10.527710Z"
    }
   },
   "outputs": [],
   "source": [
    "import pandas as pd\n",
    "import numpy as np\n",
    "import seaborn as sns\n",
    "sns.set_theme(style=\"darkgrid\")\n",
    "import matplotlib.pyplot as plt\n",
    "import os\n",
    "from shutil import copyfile"
   ]
  },
  {
   "cell_type": "code",
   "execution_count": 3,
   "id": "8e11ad43-bc6a-425a-a2e3-0d36cc773bda",
   "metadata": {},
   "outputs": [],
   "source": [
    "from neuralart.data import *"
   ]
  },
  {
   "cell_type": "markdown",
   "id": "432a1b77",
   "metadata": {},
   "source": [
    "# Functions"
   ]
  },
  {
   "cell_type": "code",
   "execution_count": null,
   "id": "4d171af1",
   "metadata": {
    "ExecuteTime": {
     "end_time": "2021-08-23T20:51:11.972349Z",
     "start_time": "2021-08-23T20:51:11.935906Z"
    }
   },
   "outputs": [],
   "source": [
    "def save_csv(data, csv_path, filename):\n",
    "    data.to_csv(os.path.join(csv_path,filename), index=False)\n",
    "\n",
    "def save_directory(data, target, input_path, output_path, n=None):\n",
    "    for i, j in data.iterrows():    \n",
    "        directory_name =  f\"{os.path.basename(output_path)}-{target}-class_{data[target].nunique()}\"\n",
    "        if n: directory_name =  f\"{directory_name}-n_{n}\"     \n",
    "        old_path = os.path.join(input_path, j.path)\n",
    "        new_path = os.path.join(output_path, directory_name, eval(f\"j.{target}\"), j.title)\n",
    "        os.makedirs(os.path.dirname(new_path), exist_ok=True)\n",
    "        copyfile(old_path,new_path)\n",
    "\n",
    "    data[\"path\"] = data[[target,\"image\"]].apply(lambda x: \"/\".join(x),axis=1)    \n",
    "\n",
    "def get_sample(data, input_path, output_path, target='movement', \n",
    "               n=50, random_state=123, replace=False, \n",
    "               create_directory=False, create_csv=False): \n",
    "    \n",
    "    datata_tmp = data.copy()\n",
    "    \n",
    "    if target == 'genre':\n",
    "        datata_tmp.dropna(axis=0, subset=[target], inplace=True)\n",
    "    \n",
    "    sample = datata_tmp.groupby(by=target).sample(n=n, random_state=random_state, \n",
    "                                                  replace=replace)\n",
    "    \n",
    "    if create_directory:\n",
    "        save_directory(sample, target, input_path, output_path,n=n)\n",
    "    \n",
    "    if create_csv:\n",
    "        save_csv(sample, output_path, f\"{os.path.basename(output_path)}-{target}-class_{sample[target].nunique()}-n_{n}.csv\")\n",
    "        \n",
    "    return sample\n",
    "\n",
    "def get_cs_class(csv_path, target):\n",
    "    return pd.read_csv(os.path.join(csv_path,target + \"_class.txt\"), header=None, delim_whitespace=True)\n",
    "    \n",
    "def get_cs_train_val(csv_path, target, class_=None):\n",
    "    \n",
    "    if not isinstance(class_, pd.DataFrame):\n",
    "        class_ = get_cs_class(csv_path, target)\n",
    "        \n",
    "    cs_train = pd.read_csv(os.path.join(csv_path, target + \"_train.csv\"), header=None)\n",
    "    cs_train[\"split\"] = \"train\"\n",
    "    \n",
    "    cs_val = pd.read_csv(os.path.join(csv_path, target + \"_val.csv\"), header=None)\n",
    "    cs_val[\"split\"] = \"val\"\n",
    "    \n",
    "    cs = pd.concat([cs_train, cs_val], ignore_index=True)\n",
    "    cs.columns = [\"path\", target + \"_id\", \"cs-split-\" + target]\n",
    "        \n",
    "    cs[target] = cs[target + \"_id\"].apply(lambda x: class_.loc[x][1])\n",
    "    cs[\"style-from-path\"] = cs[\"path\"].apply(lambda x: x.split('/')[0])\n",
    "    cs[\"artist-from-path\"] = cs[\"path\"].apply(lambda x: x.split('/')[1].split('_')[0])\n",
    "    cs[\"title-from-path\"] = cs[\"path\"].apply(lambda x: x.split('/')[1].split('_')[1])\n",
    "    \n",
    "    return cs\n",
    "\n",
    "def get_data(csv_path, image_path, rm_duplicate=True, merge=None, create_csv=False,\n",
    "             create_directory=False):\n",
    "    '''\n",
    "    Returns a complete dataframe containing all the information of all the files in \n",
    "    the wikiart dataset, as well as the genre labels and the train/val splits \n",
    "    of cs-chan\n",
    "\n",
    "        Parameters:\n",
    "            csv_path : string\n",
    "                Path to the csv files of cs-chan\n",
    "            image_path : string\n",
    "                Path to the images of the wikiart dataset\n",
    "            rm_duplicate : bool\n",
    "                Remove a duplicata in the csv files of cs-chan\n",
    "            merge : dict or None (default)\n",
    "                merge one or more movements according to the parameters of the \n",
    "                \"merge\" dictionary: {\"old_movement_name\": \"new_movement_name\",}.\n",
    "                If merge is None, no merger is carried out\n",
    "            create_csv : bool\n",
    "                If true, export the result of the get_data() function to a csv file\n",
    "            create_directory : bool\n",
    "                Create a new image directory with a new file architecture based on \n",
    "                the merge argument. If merge is \"None\", create_directory will be set to False\n",
    "\n",
    "        Returns:\n",
    "            data : pd.DataFrame\n",
    "                Dataframe containing all the information of all the images in the wikiart dataset, as well as the genre labels and the train/val splits of cs-chan\n",
    "    '''\n",
    "\n",
    "    cs_style = get_cs_train_val(csv_path, 'style')\n",
    "    cs_genre = get_cs_train_val(csv_path, 'genre')\n",
    "    cs_artist = get_cs_train_val(csv_path, 'artist')\n",
    "\n",
    "    # There is one duplicata inside genre_train.csv / genre_test.csv\n",
    "    # One image labelled with two genres\n",
    "    if rm_duplicate:\n",
    "        if not cs_genre[cs_genre[\"path\"].duplicated(keep='first')].empty:\n",
    "            cs_genre.drop(cs_genre[cs_genre[\"path\"].duplicated(keep='first')].index, \n",
    "                          inplace=True)\n",
    "             \n",
    "    movement_list = [i for i in os.listdir(image_path) \n",
    "                     if i != '.DS_Store']\n",
    "    \n",
    "    movement = []\n",
    "    image = []\n",
    "    artist = []\n",
    "    title = []\n",
    "    path = []\n",
    "    \n",
    "    for g in movement_list:\n",
    "        files = os.listdir(os.path.join(image_path,g))\n",
    "        movement.extend([g]*len(files))\n",
    "        image.extend(files)\n",
    "        artist.extend(list(map(lambda x: x.split('_')[0], files)))\n",
    "        title.extend(list(map(lambda x: x.split('_')[1], files)))\n",
    "        path.extend(list(map(lambda x: g + '/' + x, files)))\n",
    "    \n",
    "    data = pd.DataFrame({\"path\": path, \"movement\": movement, \"artist\": artist, \"title\": title, \"image\": image})\n",
    "    \n",
    "    data = data.merge(cs_genre[[\"path\", \"genre\", \"cs-split-genre\"]], on=\"path\",  how=\"outer\")\n",
    "    data = data.merge(cs_style[[\"path\", \"cs-split-style\"]], on=\"path\",  how=\"outer\")\n",
    "    data = data.merge(cs_artist[[\"path\", \"cs-split-artist\"]], on=\"path\",  how=\"outer\")\n",
    "\n",
    "    if merge:\n",
    "        data[\"movement\"] = data[\"movement\"].apply(lambda x: merge.get(x,x))\n",
    "        data[\"path\"] = data[[\"movement\",\"image\"]].apply(lambda x: \"/\".join(x),axis=1)\n",
    "    \n",
    "    if merge and create_directory:\n",
    "        print(\"create_directory: TO DO\")\n",
    "        \n",
    "    if create_csv:\n",
    "         save_csv(data, csv_path, f\"{os.path.basename(csv_path)}-movement-class_{data['movement'].nunique()}.csv\")\n",
    "    \n",
    "    return data"
   ]
  },
  {
   "cell_type": "markdown",
   "id": "44e5a94d",
   "metadata": {},
   "source": [
    "# Get Data"
   ]
  },
  {
   "cell_type": "code",
   "execution_count": 4,
   "id": "d0081d1c",
   "metadata": {
    "ExecuteTime": {
     "end_time": "2021-08-23T20:51:13.348788Z",
     "start_time": "2021-08-23T20:51:13.343181Z"
    }
   },
   "outputs": [],
   "source": [
    "csv_path = \"../raw_data/wikiart\"\n",
    "image_path= \"../raw_data/wikiart/wikiart\"\n",
    "sample_path = \"../raw_data/wikiart\""
   ]
  },
  {
   "cell_type": "code",
   "execution_count": 5,
   "id": "642dc50c",
   "metadata": {
    "ExecuteTime": {
     "end_time": "2021-08-23T20:51:26.827074Z",
     "start_time": "2021-08-23T20:51:13.824048Z"
    }
   },
   "outputs": [],
   "source": [
    "data = get_data(csv_path, image_path, create_csv=True)"
   ]
  },
  {
   "cell_type": "code",
   "execution_count": 6,
   "id": "20d09207",
   "metadata": {
    "ExecuteTime": {
     "end_time": "2021-08-23T20:51:27.006164Z",
     "start_time": "2021-08-23T20:51:26.994361Z"
    }
   },
   "outputs": [
    {
     "data": {
      "text/html": [
       "<div>\n",
       "<style scoped>\n",
       "    .dataframe tbody tr th:only-of-type {\n",
       "        vertical-align: middle;\n",
       "    }\n",
       "\n",
       "    .dataframe tbody tr th {\n",
       "        vertical-align: top;\n",
       "    }\n",
       "\n",
       "    .dataframe thead th {\n",
       "        text-align: right;\n",
       "    }\n",
       "</style>\n",
       "<table border=\"1\" class=\"dataframe\">\n",
       "  <thead>\n",
       "    <tr style=\"text-align: right;\">\n",
       "      <th></th>\n",
       "      <th>path</th>\n",
       "      <th>movement</th>\n",
       "      <th>artist</th>\n",
       "      <th>title</th>\n",
       "      <th>image</th>\n",
       "      <th>genre</th>\n",
       "      <th>cs-split-genre</th>\n",
       "      <th>cs-split-style</th>\n",
       "      <th>cs-split-artist</th>\n",
       "    </tr>\n",
       "  </thead>\n",
       "  <tbody>\n",
       "    <tr>\n",
       "      <th>0</th>\n",
       "      <td>Pointillism/henri-edmond-cross_chaine-des-maur...</td>\n",
       "      <td>Pointillism</td>\n",
       "      <td>henri-edmond-cross</td>\n",
       "      <td>chaine-des-maures-1907.jpg</td>\n",
       "      <td>henri-edmond-cross_chaine-des-maures-1907.jpg</td>\n",
       "      <td>landscape</td>\n",
       "      <td>train</td>\n",
       "      <td>train</td>\n",
       "      <td>NaN</td>\n",
       "    </tr>\n",
       "    <tr>\n",
       "      <th>1</th>\n",
       "      <td>Pointillism/theo-van-rysselberghe_fountain-at-...</td>\n",
       "      <td>Pointillism</td>\n",
       "      <td>theo-van-rysselberghe</td>\n",
       "      <td>fountain-at-san-souci-1903.jpg</td>\n",
       "      <td>theo-van-rysselberghe_fountain-at-san-souci-19...</td>\n",
       "      <td>cityscape</td>\n",
       "      <td>train</td>\n",
       "      <td>train</td>\n",
       "      <td>NaN</td>\n",
       "    </tr>\n",
       "    <tr>\n",
       "      <th>2</th>\n",
       "      <td>Pointillism/georges-seurat_the-away-samson-in-...</td>\n",
       "      <td>Pointillism</td>\n",
       "      <td>georges-seurat</td>\n",
       "      <td>the-away-samson-in-grandcamp-1885.jpg</td>\n",
       "      <td>georges-seurat_the-away-samson-in-grandcamp-18...</td>\n",
       "      <td>landscape</td>\n",
       "      <td>train</td>\n",
       "      <td>train</td>\n",
       "      <td>NaN</td>\n",
       "    </tr>\n",
       "    <tr>\n",
       "      <th>3</th>\n",
       "      <td>Pointillism/theo-van-rysselberghe_portrait-of-...</td>\n",
       "      <td>Pointillism</td>\n",
       "      <td>theo-van-rysselberghe</td>\n",
       "      <td>portrait-of-madame-charles-maus-1890.jpg</td>\n",
       "      <td>theo-van-rysselberghe_portrait-of-madame-charl...</td>\n",
       "      <td>portrait</td>\n",
       "      <td>train</td>\n",
       "      <td>train</td>\n",
       "      <td>NaN</td>\n",
       "    </tr>\n",
       "    <tr>\n",
       "      <th>4</th>\n",
       "      <td>Pointillism/jan-toorop_broek-in-waterland-1889...</td>\n",
       "      <td>Pointillism</td>\n",
       "      <td>jan-toorop</td>\n",
       "      <td>broek-in-waterland-1889.jpg</td>\n",
       "      <td>jan-toorop_broek-in-waterland-1889.jpg</td>\n",
       "      <td>landscape</td>\n",
       "      <td>train</td>\n",
       "      <td>train</td>\n",
       "      <td>NaN</td>\n",
       "    </tr>\n",
       "  </tbody>\n",
       "</table>\n",
       "</div>"
      ],
      "text/plain": [
       "                                                path     movement  \\\n",
       "0  Pointillism/henri-edmond-cross_chaine-des-maur...  Pointillism   \n",
       "1  Pointillism/theo-van-rysselberghe_fountain-at-...  Pointillism   \n",
       "2  Pointillism/georges-seurat_the-away-samson-in-...  Pointillism   \n",
       "3  Pointillism/theo-van-rysselberghe_portrait-of-...  Pointillism   \n",
       "4  Pointillism/jan-toorop_broek-in-waterland-1889...  Pointillism   \n",
       "\n",
       "                  artist                                     title  \\\n",
       "0     henri-edmond-cross                chaine-des-maures-1907.jpg   \n",
       "1  theo-van-rysselberghe            fountain-at-san-souci-1903.jpg   \n",
       "2         georges-seurat     the-away-samson-in-grandcamp-1885.jpg   \n",
       "3  theo-van-rysselberghe  portrait-of-madame-charles-maus-1890.jpg   \n",
       "4             jan-toorop               broek-in-waterland-1889.jpg   \n",
       "\n",
       "                                               image      genre  \\\n",
       "0      henri-edmond-cross_chaine-des-maures-1907.jpg  landscape   \n",
       "1  theo-van-rysselberghe_fountain-at-san-souci-19...  cityscape   \n",
       "2  georges-seurat_the-away-samson-in-grandcamp-18...  landscape   \n",
       "3  theo-van-rysselberghe_portrait-of-madame-charl...   portrait   \n",
       "4             jan-toorop_broek-in-waterland-1889.jpg  landscape   \n",
       "\n",
       "  cs-split-genre cs-split-style cs-split-artist  \n",
       "0          train          train             NaN  \n",
       "1          train          train             NaN  \n",
       "2          train          train             NaN  \n",
       "3          train          train             NaN  \n",
       "4          train          train             NaN  "
      ]
     },
     "execution_count": 6,
     "metadata": {},
     "output_type": "execute_result"
    }
   ],
   "source": [
    "data.head()"
   ]
  },
  {
   "cell_type": "code",
   "execution_count": null,
   "id": "bcfacb6f",
   "metadata": {
    "ExecuteTime": {
     "end_time": "2021-08-23T20:51:29.917188Z",
     "start_time": "2021-08-23T20:51:29.673533Z"
    }
   },
   "outputs": [],
   "source": [
    "sample = get_sample(data, image_path, sample_path, target='movement', n=6, random_state=123, \n",
    "                    replace=False, create_directory=True, create_csv=True)    \n"
   ]
  },
  {
   "cell_type": "code",
   "execution_count": null,
   "id": "3f897366",
   "metadata": {
    "ExecuteTime": {
     "end_time": "2021-08-23T20:51:31.860045Z",
     "start_time": "2021-08-23T20:51:31.840189Z"
    }
   },
   "outputs": [],
   "source": [
    "sample.head(1)"
   ]
  },
  {
   "cell_type": "code",
   "execution_count": null,
   "id": "502eff25",
   "metadata": {
    "ExecuteTime": {
     "end_time": "2021-08-23T20:51:46.816829Z",
     "start_time": "2021-08-23T20:51:33.481424Z"
    }
   },
   "outputs": [],
   "source": [
    "merge = {\"Abstract_Expressionism\": \"Abstract\", \n",
    "         \"Action_painting\": \"Abstract\", \n",
    "         \"Color_Field_Painting\": \"Abstract\",\n",
    "         \"Synthetic_Cubism\": \"Cubism\", \n",
    "         \"Analytical_Cubism\": \"Cubism\",\n",
    "         \"Rococo\": \"Baroque\",\n",
    "         \"Early_Renaissance\": \"Renaissance\",\n",
    "         \"High_Renaissance\": \"Renaissance\",\n",
    "         \"Mannerism_Late_Renaissance\": \"Renaissance\",\n",
    "         \"Northern_Renaissance\": \"Renaissance\",\n",
    "         \"Post_Impressionism\": \"Impressionism\",\n",
    "         \"Symbolism\": \"Impressionism\"\n",
    "        }\n",
    "\n",
    "data_merge = get_data(csv_path, image_path, create_csv=True, merge=merge)"
   ]
  },
  {
   "cell_type": "markdown",
   "id": "c60a9c35",
   "metadata": {},
   "source": [
    "# Data Visualization"
   ]
  },
  {
   "cell_type": "code",
   "execution_count": null,
   "id": "ad13813c",
   "metadata": {
    "ExecuteTime": {
     "end_time": "2021-08-23T20:52:13.469762Z",
     "start_time": "2021-08-23T20:52:13.152925Z"
    }
   },
   "outputs": [],
   "source": [
    "col = ['cs-split-artist','cs-split-genre','cs-split-style','path']\n",
    "\n",
    "fig, ax = plt.subplots(1,1,figsize=(15,10))\n",
    "sns.barplot(y=data[col].count().index, \n",
    "            x=data[col].count().values,\n",
    "            order=data[col].count().sort_values(ascending=False).index,\n",
    "            ax=ax);\n",
    "\n",
    "for i, v in enumerate(data[col].count().sort_values(ascending=False).values):\n",
    "    ax.text(v, i , str(v), color='blue', fontweight='bold')\n",
    "    \n",
    "ax.set_yticklabels(['total','cs-movement (style)','cs-genre','cs-artist']);\n",
    "ax.set_title(\"Number of images per target\");\n",
    "ax.set_xlabel(\"Count\");\n",
    "ax.set_ylabel(\"Target\");"
   ]
  },
  {
   "cell_type": "code",
   "execution_count": null,
   "id": "63f5a6f6",
   "metadata": {
    "ExecuteTime": {
     "end_time": "2021-08-23T20:52:14.874108Z",
     "start_time": "2021-08-23T20:52:14.624049Z"
    }
   },
   "outputs": [],
   "source": [
    "col = ['artist','genre','movement']\n",
    "\n",
    "fig, ax = plt.subplots(1,1,figsize=(15,10))\n",
    "sns.barplot(y=data[col].nunique().index, \n",
    "            x=data[col].nunique().values,\n",
    "            order=data[col].nunique().sort_values(ascending=False).index,\n",
    "            ax=ax);\n",
    "\n",
    "for i, v in enumerate(data[col].nunique().sort_values(ascending=False).values):\n",
    "    ax.text(v, i , str(v), color='blue', fontweight='bold')\n",
    "    \n",
    "ax.set_title(\"Number of classes per target (all images)\");\n",
    "ax.set_xlabel(\"Count\");\n",
    "ax.set_ylabel(\"Target\");"
   ]
  },
  {
   "cell_type": "code",
   "execution_count": null,
   "id": "e6e8af76",
   "metadata": {
    "ExecuteTime": {
     "end_time": "2021-08-23T20:52:16.299900Z",
     "start_time": "2021-08-23T20:52:15.840766Z"
    }
   },
   "outputs": [],
   "source": [
    "fig, ax = plt.subplots(1,1,figsize=(15,10));\n",
    "sns.countplot(data=data, y=\"movement\", \n",
    "              order = data['movement'].value_counts().index,\n",
    "              ax=ax);\n",
    "\n",
    "for i, v in enumerate(data[\"movement\"].value_counts().values):\n",
    "    ax.text(v, i , str(v), color='blue', fontweight='bold')\n",
    "    \n",
    "ax.set_title(\"Number of images per movement (style)\");\n",
    "ax.set_ylabel(\"Movement (style)\");"
   ]
  },
  {
   "cell_type": "code",
   "execution_count": null,
   "id": "5ff5761a",
   "metadata": {
    "ExecuteTime": {
     "end_time": "2021-08-23T20:52:56.154477Z",
     "start_time": "2021-08-23T20:52:55.850793Z"
    }
   },
   "outputs": [],
   "source": [
    "fig, ax = plt.subplots(1,1,figsize=(15,10));\n",
    "sns.countplot(data=data_merge, y=\"movement\", \n",
    "              order = data_merge['movement'].value_counts().index,\n",
    "              ax=ax);\n",
    "\n",
    "for i, v in enumerate(data_merge[\"movement\"].value_counts().values):\n",
    "    ax.text(v, i , str(v), color='blue', fontweight='bold')\n",
    "    \n",
    "ax.set_title(\"Number of images per merged movement\");\n",
    "ax.set_ylabel(\"Movement (style)\");"
   ]
  },
  {
   "cell_type": "code",
   "execution_count": null,
   "id": "cf57b917",
   "metadata": {
    "ExecuteTime": {
     "end_time": "2021-08-23T20:55:09.478969Z",
     "start_time": "2021-08-23T20:55:09.194304Z"
    }
   },
   "outputs": [],
   "source": [
    "fig, ax = plt.subplots(1,1,figsize=(15,10));\n",
    "sns.countplot(data=data, y=\"genre\", \n",
    "              order = data['genre'].value_counts().index,\n",
    "              ax=ax);\n",
    "\n",
    "for i, v in enumerate(data[\"genre\"].value_counts().values):\n",
    "    ax.text(v, i , str(v), color='blue', fontweight='bold')\n",
    "    \n",
    "ax.set_title(\"Number of images per genre\");"
   ]
  },
  {
   "cell_type": "code",
   "execution_count": null,
   "id": "ed175839",
   "metadata": {
    "ExecuteTime": {
     "end_time": "2021-08-23T20:55:13.701229Z",
     "start_time": "2021-08-23T20:55:13.242098Z"
    }
   },
   "outputs": [],
   "source": [
    "fig, ax = plt.subplots(1,1,figsize=(15,10));\n",
    "sns.barplot(y=data.groupby(\"movement\").artist.nunique().index, \n",
    "            x=data.groupby(\"movement\").artist.nunique().values,\n",
    "            order=data.groupby(\"movement\").artist.nunique().sort_values(ascending=False).index,\n",
    "            ax=ax);\n",
    "\n",
    "for i, v in enumerate(data.groupby(\"movement\").artist.nunique().sort_values(ascending=False).values):\n",
    "    ax.text(v, i , str(v), color='blue', fontweight='bold')\n",
    "    \n",
    "ax.set_title(\"Number of artists per movement\");\n",
    "ax.set_xlabel(\"Count\");"
   ]
  },
  {
   "cell_type": "code",
   "execution_count": null,
   "id": "a0723070",
   "metadata": {
    "ExecuteTime": {
     "end_time": "2021-08-23T20:55:15.881606Z",
     "start_time": "2021-08-23T20:55:15.441046Z"
    }
   },
   "outputs": [],
   "source": [
    "data2 = data[data[\"cs-split-genre\"].notnull()]\n",
    "\n",
    "fig, ax = plt.subplots(1,1,figsize=(15,10));\n",
    "sns.countplot(data=data2, y=\"movement\", \n",
    "              order = data2['movement'].value_counts().index,\n",
    "              ax=ax);\n",
    "\n",
    "for i, v in enumerate(data2[\"movement\"].value_counts().values):\n",
    "    ax.text(v, i , str(v), color='blue', fontweight='bold')\n",
    "    \n",
    "ax.set_title(\"Number of images with genre per movement (style)\");\n",
    "ax.set_ylabel(\"Movement (style)\");"
   ]
  },
  {
   "cell_type": "code",
   "execution_count": null,
   "id": "0fac5421",
   "metadata": {
    "ExecuteTime": {
     "end_time": "2021-08-23T20:55:16.924665Z",
     "start_time": "2021-08-23T20:55:16.873556Z"
    }
   },
   "outputs": [],
   "source": [
    "data[data[\"cs-split-genre\"].notnull()][data[\"movement\"]==\"Abstract_Expressionism\"].head(100)"
   ]
  },
  {
   "cell_type": "code",
   "execution_count": null,
   "id": "deadebe2",
   "metadata": {},
   "outputs": [],
   "source": [
    "def show_samples(df,sample_size=10):\n",
    "    root_path='../raw_data/wikiart/wikiart/'\n",
    "    artist=df['artist']\n",
    "    movement=df['movement']\n",
    "    title=df['title']\n",
    "    folder_path=list(df['path'].sample(n=sample_size))\n",
    "    complete_path=[root_path + i for i in folder_path]\n",
    "    fig = plt.figure(constrained_layout=True,figsize=(10,5*sample_size))\n",
    "    for i in list(range(0,sample_size)):\n",
    "        plt.subplot(sample_size,1,i+1)\n",
    "        image=plt.imread(complete_path[i])\n",
    "        label=f'{movement[i]} - {title[i]} by {artist[i]}'\n",
    "        plt.text(x=10,y=-2,s=label)\n",
    "        plt.imshow(image)"
   ]
  }
 ],
 "metadata": {
  "kernelspec": {
   "display_name": "Python 3 (ipykernel)",
   "language": "python",
   "name": "python3"
  },
  "language_info": {
   "codemirror_mode": {
    "name": "ipython",
    "version": 3
   },
   "file_extension": ".py",
   "mimetype": "text/x-python",
   "name": "python",
   "nbconvert_exporter": "python",
   "pygments_lexer": "ipython3",
   "version": "3.8.6"
  },
  "toc": {
   "base_numbering": 1,
   "nav_menu": {},
   "number_sections": true,
   "sideBar": true,
   "skip_h1_title": false,
   "title_cell": "Table of Contents",
   "title_sidebar": "Contents",
   "toc_cell": false,
   "toc_position": {},
   "toc_section_display": true,
   "toc_window_display": true
  },
  "varInspector": {
   "cols": {
    "lenName": 16,
    "lenType": 16,
    "lenVar": 40
   },
   "kernels_config": {
    "python": {
     "delete_cmd_postfix": "",
     "delete_cmd_prefix": "del ",
     "library": "var_list.py",
     "varRefreshCmd": "print(var_dic_list())"
    },
    "r": {
     "delete_cmd_postfix": ") ",
     "delete_cmd_prefix": "rm(",
     "library": "var_list.r",
     "varRefreshCmd": "cat(var_dic_list()) "
    }
   },
   "types_to_exclude": [
    "module",
    "function",
    "builtin_function_or_method",
    "instance",
    "_Feature"
   ],
   "window_display": false
  }
 },
 "nbformat": 4,
 "nbformat_minor": 5
}
