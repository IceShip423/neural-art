{
 "cells": [
  {
   "cell_type": "markdown",
   "id": "a66d2614",
   "metadata": {},
   "source": [
    "# Import"
   ]
  },
  {
   "cell_type": "code",
   "execution_count": 1,
   "id": "05dac03d",
   "metadata": {
    "ExecuteTime": {
     "end_time": "2021-08-26T16:30:50.455451Z",
     "start_time": "2021-08-26T16:30:50.444354Z"
    }
   },
   "outputs": [],
   "source": [
    "%load_ext autoreload\n",
    "%autoreload 2"
   ]
  },
  {
   "cell_type": "code",
   "execution_count": 2,
   "id": "aaab3d16",
   "metadata": {
    "ExecuteTime": {
     "end_time": "2021-08-26T16:30:57.487645Z",
     "start_time": "2021-08-26T16:30:50.456410Z"
    }
   },
   "outputs": [],
   "source": [
    "# sklearn\n",
    "from sklearn.model_selection import train_test_split\n",
    "import numpy as np\n",
    "\n",
    "# tensorflow and keras\n",
    "import tensorflow as tf\n",
    "from tensorflow.keras.preprocessing.image import ImageDataGenerator\n",
    "from tensorflow.keras.layers import Dense, MaxPooling2D, Dropout, Input, Conv2D, Flatten, Activation\n",
    "from tensorflow.keras.models import Model\n",
    "from tensorflow.keras.metrics import Accuracy, CategoricalAccuracy\n",
    "from tensorflow.keras.losses import CategoricalCrossentropy\n",
    "from tensorflow.keras.callbacks import EarlyStopping, ReduceLROnPlateau, TensorBoard\n",
    "from tensorflow.keras.utils import to_categorical\n",
    "import datetime\n",
    "import pandas as pd"
   ]
  },
  {
   "cell_type": "code",
   "execution_count": 3,
   "id": "f93d8833",
   "metadata": {
    "ExecuteTime": {
     "end_time": "2021-08-26T16:30:57.538873Z",
     "start_time": "2021-08-26T16:30:57.489739Z"
    }
   },
   "outputs": [],
   "source": [
    "from neuralart.data import *"
   ]
  },
  {
   "cell_type": "code",
   "execution_count": 4,
   "id": "c99ba67d",
   "metadata": {
    "ExecuteTime": {
     "end_time": "2021-08-26T16:30:57.907730Z",
     "start_time": "2021-08-26T16:30:57.541372Z"
    }
   },
   "outputs": [
    {
     "ename": "NameError",
     "evalue": "name 'df' is not defined",
     "output_type": "error",
     "traceback": [
      "\u001b[0;31m---------------------------------------------------------------------------\u001b[0m",
      "\u001b[0;31mNameError\u001b[0m                                 Traceback (most recent call last)",
      "\u001b[0;32m/var/folders/fj/p95wd_qn4vq1ll96h80g0__80000gn/T/ipykernel_27419/2165677382.py\u001b[0m in \u001b[0;36m<module>\u001b[0;34m\u001b[0m\n\u001b[1;32m     29\u001b[0m                  'ukiyo_e': None}\n\u001b[1;32m     30\u001b[0m \u001b[0;34m\u001b[0m\u001b[0m\n\u001b[0;32m---> 31\u001b[0;31m \u001b[0mdf_mov1\u001b[0m\u001b[0;34m=\u001b[0m\u001b[0mdf\u001b[0m\u001b[0;34m.\u001b[0m\u001b[0mreplace\u001b[0m\u001b[0;34m(\u001b[0m\u001b[0mmerge_mov_1\u001b[0m\u001b[0;34m.\u001b[0m\u001b[0mkeys\u001b[0m\u001b[0;34m(\u001b[0m\u001b[0;34m)\u001b[0m\u001b[0;34m,\u001b[0m\u001b[0mmerge_mov_1\u001b[0m\u001b[0;34m.\u001b[0m\u001b[0mvalues\u001b[0m\u001b[0;34m(\u001b[0m\u001b[0;34m)\u001b[0m\u001b[0;34m)\u001b[0m\u001b[0;34m\u001b[0m\u001b[0;34m\u001b[0m\u001b[0m\n\u001b[0m\u001b[1;32m     32\u001b[0m \u001b[0mdf_mov1\u001b[0m\u001b[0;34m=\u001b[0m\u001b[0mdf_mov1\u001b[0m\u001b[0;34m[\u001b[0m\u001b[0mdf_mov1\u001b[0m\u001b[0;34m[\u001b[0m\u001b[0;34m'movement'\u001b[0m\u001b[0;34m]\u001b[0m\u001b[0;34m.\u001b[0m\u001b[0mnotnull\u001b[0m\u001b[0;34m(\u001b[0m\u001b[0;34m)\u001b[0m\u001b[0;34m]\u001b[0m\u001b[0;34m\u001b[0m\u001b[0;34m\u001b[0m\u001b[0m\n\u001b[1;32m     33\u001b[0m \u001b[0mdf_mov1\u001b[0m\u001b[0;34m.\u001b[0m\u001b[0mshape\u001b[0m\u001b[0;34m\u001b[0m\u001b[0;34m\u001b[0m\u001b[0m\n",
      "\u001b[0;31mNameError\u001b[0m: name 'df' is not defined"
     ]
    }
   ],
   "source": [
    "# Movement selection\n",
    "\n",
    "merge_mov_1={'abstract_expressionism': 'abstract',\n",
    "                 'action_painting': 'abstract',\n",
    "                 'analytical_cubism': 'cubism',\n",
    "                 'art_nouveau_modern': None,\n",
    "                 'baroque': None,\n",
    "                 'color_field_painting': 'color_field_painting',\n",
    "                 'contemporary_realism': None,\n",
    "                 'cubism': 'cubism',\n",
    "                 'early_renaissance': 'renaissance',\n",
    "                 'expressionism': 'expressionism',\n",
    "                 'fauvism': None,\n",
    "                 'high_renaissance': 'renaissance',\n",
    "                 'impressionism': 'impressionism',\n",
    "                 'mannerism_late_renaissance': None,\n",
    "                 'minimalism': None,\n",
    "                 'naive_art_primitivism': None,\n",
    "                 'new_realism': None,\n",
    "                 'northern_renaissance': 'renaissance',\n",
    "                 'pointillism': None,\n",
    "                 'pop_art': None,\n",
    "                 'post_impressionism': None,\n",
    "                 'realism': 'realism',\n",
    "                 'rococo': None,\n",
    "                 'romanticism': 'romanticism',\n",
    "                 'symbolism': None,\n",
    "                 'synthetic_cubism': 'cubism',\n",
    "                 'ukiyo_e': None}\n",
    "\n",
    "df_mov1=df.replace(merge_mov_1.keys(),merge_mov_1.values())\n",
    "df_mov1=df_mov1[df_mov1['movement'].notnull()]\n",
    "df_mov1.shape"
   ]
  },
  {
   "cell_type": "code",
   "execution_count": 11,
   "id": "4f2e775e",
   "metadata": {
    "ExecuteTime": {
     "end_time": "2021-08-26T17:53:25.132908Z",
     "start_time": "2021-08-26T17:53:25.056163Z"
    }
   },
   "outputs": [
    {
     "name": "stdout",
     "output_type": "stream",
     "text": [
      "Number of images : 800\n"
     ]
    }
   ],
   "source": [
    "\n",
    "MAIN_PATH = \"../raw_data/wikiart/\" # Path to the directory which contains CSVs and the folder 'dataset'\n",
    "IMAGES = \"dataset\"\n",
    "CSV_NAME = \"wikiart-movement-genre_True-class_8-merge_mov-1-n_100_max.csv\" # Nwikiart-movement-genre_True-class_3-merge_test1-n_1000_max.csvme of the CSV we want to use\n",
    "NUM_MOVEMENT = 8 # Number of movements to classify\n",
    "NUM_GENRE = 10 # Number of genres to classify\n",
    "IMG_HEIGHT = IMG_WIDTH = 224 # Model's inputs shapes\n",
    "\n",
    "USER = \"gregoire\" # Choose between 'common', 'pablo', 'quentin', 'gregoire', 'alex'\n",
    "MODEL_NAME = \"Custom v1\" # Set the name of the model \n",
    "\n",
    "'''----------------------------------\n",
    "Load the CSV\n",
    "----------------------------------'''\n",
    "BATCH_SIZE = 32\n",
    "EPOCHS = 50\n",
    "\n",
    "\n",
    "'''----------------------------------\n",
    "Load the CSV\n",
    "----------------------------------'''\n",
    "raw_df = pd.read_csv(MAIN_PATH + CSV_NAME)\n",
    "df = raw_df.iloc[:, 0:3]\n",
    "assert type(df) == type(pd.DataFrame()) # Check if we created a dataframe\n",
    "assert df.iloc[:, 1].nunique() ==  NUM_MOVEMENT # Check if we have the correct number of movements\n",
    "assert df.iloc[:, 2].nunique() ==  NUM_GENRE # Check if we have the correct number of genres\n",
    "\n",
    "print(f\"Number of images : {df.shape[0]}\")\n",
    "\n",
    "'''----------------------------------\n",
    "OHE\n",
    "----------------------------------'''\n",
    "\n",
    "df_genre_ohe = pd.get_dummies(df['genre'])\n",
    "df_mov_ohe = pd.get_dummies(df['movement'])\n",
    "\n",
    "df = pd.concat([df,df_genre_ohe, df_mov_ohe], axis=1)\n"
   ]
  },
  {
   "cell_type": "code",
   "execution_count": 12,
   "id": "e68e816a",
   "metadata": {
    "ExecuteTime": {
     "end_time": "2021-08-26T17:53:41.086261Z",
     "start_time": "2021-08-26T17:53:40.991483Z"
    }
   },
   "outputs": [
    {
     "data": {
      "text/html": [
       "<div>\n",
       "<style scoped>\n",
       "    .dataframe tbody tr th:only-of-type {\n",
       "        vertical-align: middle;\n",
       "    }\n",
       "\n",
       "    .dataframe tbody tr th {\n",
       "        vertical-align: top;\n",
       "    }\n",
       "\n",
       "    .dataframe thead th {\n",
       "        text-align: right;\n",
       "    }\n",
       "</style>\n",
       "<table border=\"1\" class=\"dataframe\">\n",
       "  <thead>\n",
       "    <tr style=\"text-align: right;\">\n",
       "      <th></th>\n",
       "      <th>file_name</th>\n",
       "      <th>movement</th>\n",
       "      <th>genre</th>\n",
       "      <th>abstract_painting</th>\n",
       "      <th>cityscape</th>\n",
       "      <th>genre_painting</th>\n",
       "      <th>illustration</th>\n",
       "      <th>landscape</th>\n",
       "      <th>nude_painting</th>\n",
       "      <th>portrait</th>\n",
       "      <th>...</th>\n",
       "      <th>sketch_and_study</th>\n",
       "      <th>still_life</th>\n",
       "      <th>abstract</th>\n",
       "      <th>color_field_painting</th>\n",
       "      <th>cubism</th>\n",
       "      <th>expressionism</th>\n",
       "      <th>impressionism</th>\n",
       "      <th>realism</th>\n",
       "      <th>renaissance</th>\n",
       "      <th>romanticism</th>\n",
       "    </tr>\n",
       "  </thead>\n",
       "  <tbody>\n",
       "    <tr>\n",
       "      <th>0</th>\n",
       "      <td>abstract-expressionism_esteban-vicente_copla-1...</td>\n",
       "      <td>abstract</td>\n",
       "      <td>abstract_painting</td>\n",
       "      <td>1</td>\n",
       "      <td>0</td>\n",
       "      <td>0</td>\n",
       "      <td>0</td>\n",
       "      <td>0</td>\n",
       "      <td>0</td>\n",
       "      <td>0</td>\n",
       "      <td>...</td>\n",
       "      <td>0</td>\n",
       "      <td>0</td>\n",
       "      <td>1</td>\n",
       "      <td>0</td>\n",
       "      <td>0</td>\n",
       "      <td>0</td>\n",
       "      <td>0</td>\n",
       "      <td>0</td>\n",
       "      <td>0</td>\n",
       "      <td>0</td>\n",
       "    </tr>\n",
       "    <tr>\n",
       "      <th>1</th>\n",
       "      <td>abstract-expressionism_sam-francis_untitled-sf...</td>\n",
       "      <td>abstract</td>\n",
       "      <td>abstract_painting</td>\n",
       "      <td>1</td>\n",
       "      <td>0</td>\n",
       "      <td>0</td>\n",
       "      <td>0</td>\n",
       "      <td>0</td>\n",
       "      <td>0</td>\n",
       "      <td>0</td>\n",
       "      <td>...</td>\n",
       "      <td>0</td>\n",
       "      <td>0</td>\n",
       "      <td>1</td>\n",
       "      <td>0</td>\n",
       "      <td>0</td>\n",
       "      <td>0</td>\n",
       "      <td>0</td>\n",
       "      <td>0</td>\n",
       "      <td>0</td>\n",
       "      <td>0</td>\n",
       "    </tr>\n",
       "    <tr>\n",
       "      <th>2</th>\n",
       "      <td>abstract-expressionism_brice-marden_cyprian-ev...</td>\n",
       "      <td>abstract</td>\n",
       "      <td>abstract_painting</td>\n",
       "      <td>1</td>\n",
       "      <td>0</td>\n",
       "      <td>0</td>\n",
       "      <td>0</td>\n",
       "      <td>0</td>\n",
       "      <td>0</td>\n",
       "      <td>0</td>\n",
       "      <td>...</td>\n",
       "      <td>0</td>\n",
       "      <td>0</td>\n",
       "      <td>1</td>\n",
       "      <td>0</td>\n",
       "      <td>0</td>\n",
       "      <td>0</td>\n",
       "      <td>0</td>\n",
       "      <td>0</td>\n",
       "      <td>0</td>\n",
       "      <td>0</td>\n",
       "    </tr>\n",
       "    <tr>\n",
       "      <th>3</th>\n",
       "      <td>abstract-expressionism_audrey-flack_still-life...</td>\n",
       "      <td>abstract</td>\n",
       "      <td>still_life</td>\n",
       "      <td>0</td>\n",
       "      <td>0</td>\n",
       "      <td>0</td>\n",
       "      <td>0</td>\n",
       "      <td>0</td>\n",
       "      <td>0</td>\n",
       "      <td>0</td>\n",
       "      <td>...</td>\n",
       "      <td>0</td>\n",
       "      <td>1</td>\n",
       "      <td>1</td>\n",
       "      <td>0</td>\n",
       "      <td>0</td>\n",
       "      <td>0</td>\n",
       "      <td>0</td>\n",
       "      <td>0</td>\n",
       "      <td>0</td>\n",
       "      <td>0</td>\n",
       "    </tr>\n",
       "    <tr>\n",
       "      <th>4</th>\n",
       "      <td>action-painting_jackson-pollock_black-white-nu...</td>\n",
       "      <td>abstract</td>\n",
       "      <td>abstract_painting</td>\n",
       "      <td>1</td>\n",
       "      <td>0</td>\n",
       "      <td>0</td>\n",
       "      <td>0</td>\n",
       "      <td>0</td>\n",
       "      <td>0</td>\n",
       "      <td>0</td>\n",
       "      <td>...</td>\n",
       "      <td>0</td>\n",
       "      <td>0</td>\n",
       "      <td>1</td>\n",
       "      <td>0</td>\n",
       "      <td>0</td>\n",
       "      <td>0</td>\n",
       "      <td>0</td>\n",
       "      <td>0</td>\n",
       "      <td>0</td>\n",
       "      <td>0</td>\n",
       "    </tr>\n",
       "  </tbody>\n",
       "</table>\n",
       "<p>5 rows × 21 columns</p>\n",
       "</div>"
      ],
      "text/plain": [
       "                                           file_name  movement  \\\n",
       "0  abstract-expressionism_esteban-vicente_copla-1...  abstract   \n",
       "1  abstract-expressionism_sam-francis_untitled-sf...  abstract   \n",
       "2  abstract-expressionism_brice-marden_cyprian-ev...  abstract   \n",
       "3  abstract-expressionism_audrey-flack_still-life...  abstract   \n",
       "4  action-painting_jackson-pollock_black-white-nu...  abstract   \n",
       "\n",
       "               genre  abstract_painting  cityscape  genre_painting  \\\n",
       "0  abstract_painting                  1          0               0   \n",
       "1  abstract_painting                  1          0               0   \n",
       "2  abstract_painting                  1          0               0   \n",
       "3         still_life                  0          0               0   \n",
       "4  abstract_painting                  1          0               0   \n",
       "\n",
       "   illustration  landscape  nude_painting  portrait  ...  sketch_and_study  \\\n",
       "0             0          0              0         0  ...                 0   \n",
       "1             0          0              0         0  ...                 0   \n",
       "2             0          0              0         0  ...                 0   \n",
       "3             0          0              0         0  ...                 0   \n",
       "4             0          0              0         0  ...                 0   \n",
       "\n",
       "   still_life  abstract  color_field_painting  cubism  expressionism  \\\n",
       "0           0         1                     0       0              0   \n",
       "1           0         1                     0       0              0   \n",
       "2           0         1                     0       0              0   \n",
       "3           1         1                     0       0              0   \n",
       "4           0         1                     0       0              0   \n",
       "\n",
       "   impressionism  realism  renaissance  romanticism  \n",
       "0              0        0            0            0  \n",
       "1              0        0            0            0  \n",
       "2              0        0            0            0  \n",
       "3              0        0            0            0  \n",
       "4              0        0            0            0  \n",
       "\n",
       "[5 rows x 21 columns]"
      ]
     },
     "execution_count": 12,
     "metadata": {},
     "output_type": "execute_result"
    }
   ],
   "source": [
    "df.head()"
   ]
  },
  {
   "cell_type": "code",
   "execution_count": 23,
   "id": "4a4d1cfd",
   "metadata": {
    "ExecuteTime": {
     "end_time": "2021-08-26T18:06:23.149349Z",
     "start_time": "2021-08-26T18:06:23.072781Z"
    }
   },
   "outputs": [
    {
     "name": "stdout",
     "output_type": "stream",
     "text": [
      "Number of images in train set : 512\n",
      "Number of images in val set : 128\n",
      "Number of images in test set : 160\n",
      "\n",
      "\n"
     ]
    }
   ],
   "source": [
    "'''----------------------------------\n",
    "Train, test, val split\n",
    "----------------------------------'''\n",
    "df_train, df_test = train_test_split(df, test_size=0.2, shuffle=True)\n",
    "df_train, df_val = train_test_split(df_train, test_size=0.2, shuffle=True)\n",
    "# assert type(df_train) == type(pd.DataFrame()) # Check if we created dataframes\n",
    "# assert type(df_test) == type(pd.DataFrame())\n",
    "# assert type(df_val) == type(pd.DataFrame())\n",
    "\n",
    "print(f\"Number of images in train set : {df_train.shape[0]}\")\n",
    "print(f\"Number of images in val set : {df_val.shape[0]}\")\n",
    "print(f\"Number of images in test set : {df_test.shape[0]}\")\n",
    "print('\\n')\n",
    "\n",
    "'''----------------------------------\n",
    "Baselines\n",
    "----------------------------------'''\n",
    "\n",
    "#baseline calculated on occurence in train set \n",
    "baseline_mov=dict(df_train.groupby(by='movement')['file_name'].count()/df_train.shape[0])\n",
    "baseline_gen=dict(df_train.groupby(by='genre')['file_name'].count()/df_train.shape[0])\n",
    "\n",
    "assert sum(baseline_mov.values())==1\n",
    "assert sum(baseline_gen.values())==1\n"
   ]
  },
  {
   "cell_type": "code",
   "execution_count": 24,
   "id": "830d43c6",
   "metadata": {
    "ExecuteTime": {
     "end_time": "2021-08-26T18:11:24.821973Z",
     "start_time": "2021-08-26T18:11:24.700055Z"
    }
   },
   "outputs": [
    {
     "name": "stdout",
     "output_type": "stream",
     "text": [
      "Found 512 validated image filenames.\n",
      "Found 128 validated image filenames.\n",
      "Found 160 validated image filenames.\n"
     ]
    }
   ],
   "source": [
    "'''----------------------------------\n",
    "Setup outputs columns\n",
    "----------------------------------'''\n",
    "#assert len(list(df.columns[1:])) == 2 # Check if we have two outputs columns\n",
    "#columns=list(df.columns[1:])\n",
    "\n",
    "columns_genre = list(df_genre_ohe.columns)\n",
    "columns_mov = list(df_mov_ohe.columns)\n",
    "columns = columns_mov + columns_genre \n",
    "\n",
    "'''----------------------------------\n",
    "Train ImageDataGenerator\n",
    "----------------------------------'''\n",
    "train_datagen = ImageDataGenerator( # This generator is only used to train data because it has data augmentation and we do not want to augment data from the test or val set\n",
    "    rescale=1./255,\n",
    "    rotation_range=15,\n",
    "    zoom_range=(0.95, 0.95),\n",
    "    horizontal_flip=True,\n",
    "    dtype=tf.float32\n",
    "    )\n",
    "\n",
    "#assert type(train_datagen) == type(ImageDataGenerator())\n",
    "\n",
    "train_generator = train_datagen.flow_from_dataframe(\n",
    "    dataframe=df_train, # Dataset used to get the path (column filename) and the linked outputs\n",
    "    directory=MAIN_PATH + IMAGES, # Path to the images\n",
    "    x_col=\"file_name\", # Column with the name of the images that the generator will get from the directory\n",
    "    y_col=columns, # Columns with the output of the images that the generator will get from the csv\n",
    "    batch_size=BATCH_SIZE,\n",
    "    seed=None,\n",
    "    shuffle=True,\n",
    "    class_mode=\"raw\", # numpy array of values in y_col columns\n",
    "    target_size=(IMG_HEIGHT, IMG_WIDTH), # Resize the images to the input shape of the model\n",
    "    data_format='channels_last'\n",
    "    ) \n",
    "\n",
    "\n",
    "'''----------------------------------\n",
    "Test and Val ImageDataGenerator\n",
    "----------------------------------'''\n",
    "test_val_datagen = ImageDataGenerator(  # We use a new generator without data augmentation\n",
    "    rescale=1./255\n",
    "    )\n",
    "\n",
    "val_generator = test_val_datagen.flow_from_dataframe(\n",
    "    dataframe=df_val, \n",
    "    directory=MAIN_PATH + IMAGES,\n",
    "    x_col=\"file_name\",\n",
    "    y_col=columns,\n",
    "    batch_size=BATCH_SIZE,\n",
    "    seed=None,\n",
    "    shuffle=False,\n",
    "    class_mode=\"raw\", \n",
    "    target_size=(IMG_HEIGHT, IMG_WIDTH),\n",
    "    data_format='channels_last'\n",
    "    )\n",
    "\n",
    "test_generator = test_val_datagen.flow_from_dataframe(\n",
    "    dataframe=df_test,\n",
    "    directory=MAIN_PATH + IMAGES,\n",
    "    x_col=\"file_name\",\n",
    "    batch_size=1,\n",
    "    seed=None,\n",
    "    shuffle=False,\n",
    "    class_mode=None, # No targets are returned (the generator will only yield batches of image data, which is useful to use in model.predict()\n",
    "    target_size=(IMG_HEIGHT, IMG_WIDTH),\n",
    "    data_format='channels_last'\n",
    "    )\n",
    "\n",
    "\n",
    "#assert type(test_val_datagen) == type(ImageDataGenerator())"
   ]
  },
  {
   "cell_type": "markdown",
   "id": "ee5f41ec",
   "metadata": {},
   "source": [
    "# Baseline"
   ]
  },
  {
   "cell_type": "markdown",
   "id": "9f180824",
   "metadata": {
    "ExecuteTime": {
     "end_time": "2021-08-26T14:40:40.732419Z",
     "start_time": "2021-08-26T14:40:40.691621Z"
    }
   },
   "source": [
    "## Occurence Baseline"
   ]
  },
  {
   "cell_type": "code",
   "execution_count": 27,
   "id": "eb86c2ca",
   "metadata": {
    "ExecuteTime": {
     "end_time": "2021-08-26T18:11:50.057466Z",
     "start_time": "2021-08-26T18:11:49.985715Z"
    }
   },
   "outputs": [
    {
     "data": {
      "text/plain": [
       "{'abstract': 0.134765625,\n",
       " 'color_field_painting': 0.1328125,\n",
       " 'cubism': 0.119140625,\n",
       " 'expressionism': 0.134765625,\n",
       " 'impressionism': 0.12109375,\n",
       " 'realism': 0.123046875,\n",
       " 'renaissance': 0.123046875,\n",
       " 'romanticism': 0.111328125}"
      ]
     },
     "execution_count": 27,
     "metadata": {},
     "output_type": "execute_result"
    }
   ],
   "source": [
    "baseline_mov=dict(df_train.groupby(by='movement')['file_name'].count()/df_train.shape[0])\n",
    "baseline_mov"
   ]
  },
  {
   "cell_type": "code",
   "execution_count": 31,
   "id": "c13868d7",
   "metadata": {
    "ExecuteTime": {
     "end_time": "2021-08-26T18:13:04.852559Z",
     "start_time": "2021-08-26T18:13:04.546493Z"
    }
   },
   "outputs": [
    {
     "data": {
      "image/png": "[encoded data removed]",
      "text/plain": [
       "<Figure size 720x360 with 1 Axes>"
      ]
     },
     "metadata": {
      "needs_background": "light"
     },
     "output_type": "display_data"
    }
   ],
   "source": [
    "import matplotlib.pyplot as plt\n",
    "mov_bas=pd.DataFrame(df_train.groupby(by='movement')['file_name'].count()/df_train.shape[0]).reset_index()\n",
    "plt.figure(figsize=(10, 5))\n",
    "plt.scatter(x=mov_bas['movement'],y=mov_bas['file_name'],c='b');"
   ]
  },
  {
   "cell_type": "code",
   "execution_count": 32,
   "id": "ddcc62a8",
   "metadata": {
    "ExecuteTime": {
     "end_time": "2021-08-26T18:13:36.127855Z",
     "start_time": "2021-08-26T18:13:36.050758Z"
    }
   },
   "outputs": [
    {
     "data": {
      "text/plain": [
       "{'abstract_painting': 0.26171875,\n",
       " 'cityscape': 0.052734375,\n",
       " 'genre_painting': 0.11328125,\n",
       " 'illustration': 0.025390625,\n",
       " 'landscape': 0.123046875,\n",
       " 'nude_painting': 0.02734375,\n",
       " 'portrait': 0.173828125,\n",
       " 'religious_painting': 0.09375,\n",
       " 'sketch_and_study': 0.060546875,\n",
       " 'still_life': 0.068359375}"
      ]
     },
     "execution_count": 32,
     "metadata": {},
     "output_type": "execute_result"
    }
   ],
   "source": [
    "baseline_gnd=dict(df_train.groupby(by='genre')['file_name'].count()/df_train.shape[0])\n",
    "baseline_gnd"
   ]
  },
  {
   "cell_type": "code",
   "execution_count": 34,
   "id": "5321639b",
   "metadata": {
    "ExecuteTime": {
     "end_time": "2021-08-26T18:13:58.425822Z",
     "start_time": "2021-08-26T18:13:58.256335Z"
    }
   },
   "outputs": [
    {
     "data": {
      "image/png": "[encoded data removed]",
      "text/plain": [
       "<Figure size 1080x360 with 1 Axes>"
      ]
     },
     "metadata": {
      "needs_background": "light"
     },
     "output_type": "display_data"
    }
   ],
   "source": [
    "mov_bas=pd.DataFrame(df_train.groupby(by='genre')['file_name'].count()/df_train.shape[0]).reset_index()\n",
    "plt.figure(figsize=(15, 5))\n",
    "plt.scatter(x=mov_bas['genre'],y=mov_bas['file_name'],c='b');"
   ]
  },
  {
   "cell_type": "markdown",
   "id": "b13ad5ce",
   "metadata": {},
   "source": [
    "## Mean color baseline"
   ]
  },
  {
   "cell_type": "code",
   "execution_count": 127,
   "id": "714c419a",
   "metadata": {
    "ExecuteTime": {
     "end_time": "2021-08-26T19:45:40.277542Z",
     "start_time": "2021-08-26T19:45:40.144299Z"
    }
   },
   "outputs": [
    {
     "data": {
      "text/plain": [
       "571           realism_fyodor-vasilyev_summer-hot-day.jpg\n",
       "519    realism_boris-kustodiev_portrait-of-o-p-myasoe...\n",
       "539    realism_vincent-van-gogh_sien-with-cigar-sitti...\n",
       "542             realism_edouard-manet_the-fifer-1866.jpg\n",
       "593    realism_vasily-perov_portrait-avdotya-kuznetso...\n",
       "Name: file_name, dtype: object"
      ]
     },
     "execution_count": 127,
     "metadata": {},
     "output_type": "execute_result"
    }
   ],
   "source": [
    "test=df_train['file_name'][df_train['movement']=='realism']\n",
    "test[0:5]"
   ]
  },
  {
   "cell_type": "code",
   "execution_count": 142,
   "id": "aeef9e46",
   "metadata": {
    "ExecuteTime": {
     "end_time": "2021-08-26T19:58:29.776729Z",
     "start_time": "2021-08-26T19:58:29.720607Z"
    }
   },
   "outputs": [
    {
     "data": {
      "text/plain": [
       "(63,)"
      ]
     },
     "execution_count": 142,
     "metadata": {},
     "output_type": "execute_result"
    }
   ],
   "source": [
    "test.shape"
   ]
  },
  {
   "cell_type": "code",
   "execution_count": 136,
   "id": "243753d8",
   "metadata": {
    "ExecuteTime": {
     "end_time": "2021-08-26T19:51:31.963272Z",
     "start_time": "2021-08-26T19:51:12.163960Z"
    }
   },
   "outputs": [],
   "source": [
    "\n",
    "\n",
    "pixels=np.empty(3)\n",
    "for file in list(test):\n",
    "#pixels are stacked next to each other\n",
    "    path=MAIN_PATH+IMAGES+'/'+file\n",
    "    img=plt.imread(path)\n",
    "    img_pixel = np.float32(img.reshape(-1, 3))\n",
    "    pixels=np.vstack((pixels,img_pixel))\n",
    "    \n",
    "avg_color=pixels.mean(axis=0)\n",
    "#pixels.shape  \n"
   ]
  },
  {
   "cell_type": "code",
   "execution_count": 83,
   "id": "b3d23130",
   "metadata": {
    "ExecuteTime": {
     "end_time": "2021-08-26T19:10:16.823751Z",
     "start_time": "2021-08-26T19:10:16.753620Z"
    }
   },
   "outputs": [
    {
     "data": {
      "text/plain": [
       "(159360, 3)"
      ]
     },
     "execution_count": 83,
     "metadata": {},
     "output_type": "execute_result"
    }
   ],
   "source": [
    "pixels2.shape"
   ]
  },
  {
   "cell_type": "code",
   "execution_count": 139,
   "id": "59c68d81",
   "metadata": {
    "ExecuteTime": {
     "end_time": "2021-08-26T19:57:45.352890Z",
     "start_time": "2021-08-26T19:55:25.045933Z"
    }
   },
   "outputs": [],
   "source": [
    "#Recherche couleur dominante par méthode des kmoyens (sur 5 couleurs)\n",
    "pixels=np.float32(pixels)\n",
    "import cv2 # requires pip install opencv-python\n",
    "n_colors = 5\n",
    "criteria = (cv2.TERM_CRITERIA_EPS + cv2.TERM_CRITERIA_MAX_ITER, 1000, .5)\n",
    "flags = cv2.KMEANS_RANDOM_CENTERS\n",
    "\n",
    "_, labels, palette = cv2.kmeans(pixels, n_colors, None, criteria, 10, flags)\n",
    "_, counts = np.unique(labels, return_counts=True)\n",
    "dom_color = palette[np.argmax(counts)]"
   ]
  },
  {
   "cell_type": "code",
   "execution_count": 140,
   "id": "e2a9ab76",
   "metadata": {
    "ExecuteTime": {
     "end_time": "2021-08-26T19:57:54.020655Z",
     "start_time": "2021-08-26T19:57:53.922045Z"
    }
   },
   "outputs": [
    {
     "data": {
      "text/plain": [
       "array([33.071487, 24.548716, 20.182127], dtype=float32)"
      ]
     },
     "execution_count": 140,
     "metadata": {},
     "output_type": "execute_result"
    }
   ],
   "source": [
    "dom_color"
   ]
  },
  {
   "cell_type": "code",
   "execution_count": 141,
   "id": "69dbd3dc",
   "metadata": {
    "ExecuteTime": {
     "end_time": "2021-08-26T19:58:06.282263Z",
     "start_time": "2021-08-26T19:58:05.914289Z"
    }
   },
   "outputs": [
    {
     "data": {
      "image/png": "[encoded data removed]",
      "text/plain": [
       "<Figure size 864x432 with 2 Axes>"
      ]
     },
     "metadata": {
      "needs_background": "light"
     },
     "output_type": "display_data"
    },
    {
     "data": {
      "text/plain": [
       "array([  0, 123, 220, 280, 338, 379])"
      ]
     },
     "execution_count": 141,
     "metadata": {},
     "output_type": "execute_result"
    }
   ],
   "source": [
    "import matplotlib.pyplot as plt\n",
    "\n",
    "#on prend la taille de l'image d'origine, remplie de 1 et on applique la couleur moyenne\n",
    "avg_patch = np.ones(shape=img1.shape, dtype=np.uint8)*np.uint8(avg_color)\n",
    "\n",
    "indices = np.argsort(counts)[::-1]   \n",
    "freqs = np.cumsum(np.hstack([[0], counts[indices]/float(counts.sum())]))\n",
    "rows = np.int_(img1.shape[0]*freqs)\n",
    "\n",
    "dom_patch = np.zeros(shape=img1.shape, dtype=np.uint8)\n",
    "for i in range(len(rows) - 1):\n",
    "    dom_patch[rows[i]:rows[i + 1], :, :] += np.uint8(palette[indices[i]])\n",
    "    \n",
    "fig, (ax0, ax1) = plt.subplots(1, 2, figsize=(12,6))\n",
    "ax0.imshow(avg_patch)\n",
    "ax0.set_title('Average color')\n",
    "ax0.axis('off')\n",
    "ax1.imshow(dom_patch)\n",
    "ax1.set_title('Dominant colors')\n",
    "ax1.axis('off')\n",
    "plt.show(fig)\n",
    "rows"
   ]
  },
  {
   "cell_type": "code",
   "execution_count": null,
   "id": "e1ccb3e2",
   "metadata": {},
   "outputs": [],
   "source": []
  }
 ],
 "metadata": {
  "kernelspec": {
   "display_name": "Python 3 (ipykernel)",
   "language": "python",
   "name": "python3"
  },
  "language_info": {
   "codemirror_mode": {
    "name": "ipython",
    "version": 3
   },
   "file_extension": ".py",
   "mimetype": "text/x-python",
   "name": "python",
   "nbconvert_exporter": "python",
   "pygments_lexer": "ipython3",
   "version": "3.7.11"
  },
  "toc": {
   "base_numbering": 1,
   "nav_menu": {},
   "number_sections": true,
   "sideBar": true,
   "skip_h1_title": false,
   "title_cell": "Table of Contents",
   "title_sidebar": "Contents",
   "toc_cell": false,
   "toc_position": {},
   "toc_section_display": true,
   "toc_window_display": false
  }
 },
 "nbformat": 4,
 "nbformat_minor": 5
}
