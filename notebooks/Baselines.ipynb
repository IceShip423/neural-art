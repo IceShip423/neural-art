{
 "cells": [
  {
   "cell_type": "markdown",
   "id": "36124c39",
   "metadata": {
    "ExecuteTime": {
     "end_time": "2021-08-27T18:15:10.801964Z",
     "start_time": "2021-08-27T18:15:10.614794Z"
    }
   },
   "source": [
    "# TO DO\n",
    "\n",
    "- Faire le test avec dataset de 1400 img/mov\n",
    "- Prevoir de la dataviz sur le sujet\n",
    "\n",
    "**optionnel :**\n",
    "- Basculer sur sklearn pour voir si plus rapide\n",
    "- ajouter les précisions par mouvement pour chaque méthode pour voir ce qui marche mieux par mouvements\n"
   ]
  },
  {
   "cell_type": "markdown",
   "id": "a66d2614",
   "metadata": {},
   "source": [
    "# Import"
   ]
  },
  {
   "cell_type": "code",
   "execution_count": 75,
   "id": "05dac03d",
   "metadata": {
    "ExecuteTime": {
     "end_time": "2021-08-30T14:21:10.728224Z",
     "start_time": "2021-08-30T14:21:10.309980Z"
    }
   },
   "outputs": [
    {
     "name": "stdout",
     "output_type": "stream",
     "text": [
      "The autoreload extension is already loaded. To reload it, use:\n",
      "  %reload_ext autoreload\n"
     ]
    }
   ],
   "source": [
    "%load_ext autoreload\n",
    "%autoreload 2"
   ]
  },
  {
   "cell_type": "code",
   "execution_count": 13,
   "id": "aaab3d16",
   "metadata": {
    "ExecuteTime": {
     "end_time": "2021-08-30T13:08:03.943257Z",
     "start_time": "2021-08-30T13:08:03.877094Z"
    }
   },
   "outputs": [],
   "source": [
    "# sklearn\n",
    "from sklearn.model_selection import train_test_split\n",
    "import numpy as np\n",
    "import cv2\n",
    "\n",
    "# tensorflow and keras\n",
    "import tensorflow as tf\n",
    "from tensorflow.keras.preprocessing.image import ImageDataGenerator\n",
    "from tensorflow.keras.layers import Dense, MaxPooling2D, Dropout, Input, Conv2D, Flatten, Activation\n",
    "from tensorflow.keras.models import Model\n",
    "from tensorflow.keras.metrics import Accuracy, CategoricalAccuracy\n",
    "from tensorflow.keras.losses import CategoricalCrossentropy\n",
    "from tensorflow.keras.callbacks import EarlyStopping, ReduceLROnPlateau, TensorBoard\n",
    "from tensorflow.keras.utils import to_categorical\n",
    "import datetime\n",
    "import pandas as pd"
   ]
  },
  {
   "cell_type": "code",
   "execution_count": 17,
   "id": "f93d8833",
   "metadata": {
    "ExecuteTime": {
     "end_time": "2021-08-30T13:08:47.036082Z",
     "start_time": "2021-08-30T13:08:46.908229Z"
    }
   },
   "outputs": [],
   "source": [
    "from neuralart.data import *\n",
    "from neuralart.fourier import *\n",
    "from neuralart.baseline import *\n"
   ]
  },
  {
   "cell_type": "code",
   "execution_count": 63,
   "id": "8077fefc",
   "metadata": {
    "ExecuteTime": {
     "end_time": "2021-08-30T14:10:42.474135Z",
     "start_time": "2021-08-30T14:10:42.401482Z"
    }
   },
   "outputs": [
    {
     "name": "stdout",
     "output_type": "stream",
     "text": [
      "../raw_data/wikiart/train_val_test_True_200/\n"
     ]
    },
    {
     "data": {
      "text/html": [
       "<div>\n",
       "<style scoped>\n",
       "    .dataframe tbody tr th:only-of-type {\n",
       "        vertical-align: middle;\n",
       "    }\n",
       "\n",
       "    .dataframe tbody tr th {\n",
       "        vertical-align: top;\n",
       "    }\n",
       "\n",
       "    .dataframe thead th {\n",
       "        text-align: right;\n",
       "    }\n",
       "</style>\n",
       "<table border=\"1\" class=\"dataframe\">\n",
       "  <thead>\n",
       "    <tr style=\"text-align: right;\">\n",
       "      <th></th>\n",
       "      <th>file_name</th>\n",
       "      <th>movement</th>\n",
       "      <th>genre</th>\n",
       "      <th>artist</th>\n",
       "      <th>split</th>\n",
       "      <th>img_path</th>\n",
       "    </tr>\n",
       "  </thead>\n",
       "  <tbody>\n",
       "    <tr>\n",
       "      <th>0</th>\n",
       "      <td>abstract-expressionism_esteban-vicente_copla-1...</td>\n",
       "      <td>abstract</td>\n",
       "      <td>abstract_painting</td>\n",
       "      <td>esteban-vicente</td>\n",
       "      <td>train</td>\n",
       "      <td>../raw_data/wikiart/train_val_test_True_200/tr...</td>\n",
       "    </tr>\n",
       "    <tr>\n",
       "      <th>1</th>\n",
       "      <td>abstract-expressionism_sam-francis_untitled-sf...</td>\n",
       "      <td>abstract</td>\n",
       "      <td>abstract_painting</td>\n",
       "      <td>sam-francis</td>\n",
       "      <td>train</td>\n",
       "      <td>../raw_data/wikiart/train_val_test_True_200/tr...</td>\n",
       "    </tr>\n",
       "    <tr>\n",
       "      <th>2</th>\n",
       "      <td>abstract-expressionism_brice-marden_cyprian-ev...</td>\n",
       "      <td>abstract</td>\n",
       "      <td>abstract_painting</td>\n",
       "      <td>brice-marden</td>\n",
       "      <td>train</td>\n",
       "      <td>../raw_data/wikiart/train_val_test_True_200/tr...</td>\n",
       "    </tr>\n",
       "    <tr>\n",
       "      <th>3</th>\n",
       "      <td>abstract-expressionism_audrey-flack_still-life...</td>\n",
       "      <td>abstract</td>\n",
       "      <td>still_life</td>\n",
       "      <td>audrey-flack</td>\n",
       "      <td>train</td>\n",
       "      <td>../raw_data/wikiart/train_val_test_True_200/tr...</td>\n",
       "    </tr>\n",
       "    <tr>\n",
       "      <th>4</th>\n",
       "      <td>action-painting_jackson-pollock_black-white-nu...</td>\n",
       "      <td>abstract</td>\n",
       "      <td>abstract_painting</td>\n",
       "      <td>jackson-pollock</td>\n",
       "      <td>train</td>\n",
       "      <td>../raw_data/wikiart/train_val_test_True_200/tr...</td>\n",
       "    </tr>\n",
       "  </tbody>\n",
       "</table>\n",
       "</div>"
      ],
      "text/plain": [
       "                                           file_name  movement  \\\n",
       "0  abstract-expressionism_esteban-vicente_copla-1...  abstract   \n",
       "1  abstract-expressionism_sam-francis_untitled-sf...  abstract   \n",
       "2  abstract-expressionism_brice-marden_cyprian-ev...  abstract   \n",
       "3  abstract-expressionism_audrey-flack_still-life...  abstract   \n",
       "4  action-painting_jackson-pollock_black-white-nu...  abstract   \n",
       "\n",
       "               genre           artist  split  \\\n",
       "0  abstract_painting  esteban-vicente  train   \n",
       "1  abstract_painting      sam-francis  train   \n",
       "2  abstract_painting     brice-marden  train   \n",
       "3         still_life     audrey-flack  train   \n",
       "4  abstract_painting  jackson-pollock  train   \n",
       "\n",
       "                                            img_path  \n",
       "0  ../raw_data/wikiart/train_val_test_True_200/tr...  \n",
       "1  ../raw_data/wikiart/train_val_test_True_200/tr...  \n",
       "2  ../raw_data/wikiart/train_val_test_True_200/tr...  \n",
       "3  ../raw_data/wikiart/train_val_test_True_200/tr...  \n",
       "4  ../raw_data/wikiart/train_val_test_True_200/tr...  "
      ]
     },
     "execution_count": 63,
     "metadata": {},
     "output_type": "execute_result"
    }
   ],
   "source": [
    "print(root)\n",
    "X_BASE.head()\n"
   ]
  },
  {
   "cell_type": "code",
   "execution_count": 74,
   "id": "b68784d0",
   "metadata": {
    "ExecuteTime": {
     "end_time": "2021-08-30T14:16:11.102047Z",
     "start_time": "2021-08-30T14:16:11.033649Z"
    }
   },
   "outputs": [
    {
     "name": "stdout",
     "output_type": "stream",
     "text": [
      " Train set : 1280 paintings     Val set : 160 paintings     Test set : 160 paintings\n"
     ]
    }
   ],
   "source": [
    "#Baseline class initialization\n",
    "baseline=Baseline(X_BASE)\n",
    "print(f' Train set : {baseline.X_train.shape[0]} paintings \\\n",
    "    Val set : {baseline.X_val.shape[0]} paintings \\\n",
    "    Test set : {baseline.X_test.shape[0]} paintings')"
   ]
  },
  {
   "cell_type": "code",
   "execution_count": 73,
   "id": "7720e0eb",
   "metadata": {
    "ExecuteTime": {
     "end_time": "2021-08-30T14:15:33.219457Z",
     "start_time": "2021-08-30T14:15:33.150639Z"
    }
   },
   "outputs": [
    {
     "name": "stdout",
     "output_type": "stream",
     "text": [
      "{'abstract': 0.125, 'color_field_painting': 0.125, 'cubism': 0.125, 'expressionism': 0.125, 'impressionism': 0.125, 'realism': 0.125, 'renaissance': 0.125, 'romanticism': 0.125}\n",
      "{'abstract_painting': 0.249375, 'cityscape': 0.049375, 'genre_painting': 0.1175, 'illustration': 0.020625, 'landscape': 0.136875, 'nude_painting': 0.03, 'portrait': 0.1725, 'religious_painting': 0.10125, 'sketch_and_study': 0.0625, 'still_life': 0.06}\n"
     ]
    }
   ],
   "source": [
    "#Occurence of paintings in Train set\n",
    "baseline_mov, baseline_gen = baseline.occurence()\n",
    "print(baseline_mov)\n",
    "print(baseline_gen)"
   ]
  },
  {
   "cell_type": "code",
   "execution_count": 76,
   "id": "109ad00a",
   "metadata": {
    "ExecuteTime": {
     "end_time": "2021-08-30T14:21:57.867593Z",
     "start_time": "2021-08-30T14:21:21.554350Z"
    }
   },
   "outputs": [
    {
     "data": {
      "image/png": "[encoded data removed]",
      "text/plain": [
       "<Figure size 1152x720 with 3 Axes>"
      ]
     },
     "metadata": {
      "needs_background": "light"
     },
     "output_type": "display_data"
    }
   ],
   "source": [
    "\n",
    "mov='realism'\n",
    "\n",
    "test=baselines_viz_mov(X_BASE,mov)\n"
   ]
  },
  {
   "cell_type": "code",
   "execution_count": 77,
   "id": "1dae6fde",
   "metadata": {
    "ExecuteTime": {
     "end_time": "2021-08-30T14:26:12.994749Z",
     "start_time": "2021-08-30T14:22:19.445634Z"
    }
   },
   "outputs": [
    {
     "name": "stderr",
     "output_type": "stream",
     "text": [
      "/usr/local/Caskroom/miniforge/base/envs/lewagon/lib/python3.7/site-packages/PIL/Image.py:2914: DecompressionBombWarning: Image size (107327830 pixels) exceeds limit of 89478485 pixels, could be decompression bomb DOS attack.\n",
      "  DecompressionBombWarning,\n"
     ]
    }
   ],
   "source": [
    "basedict=baseline.basedict()"
   ]
  },
  {
   "cell_type": "code",
   "execution_count": 80,
   "id": "19e6dedd",
   "metadata": {
    "ExecuteTime": {
     "end_time": "2021-08-30T14:44:23.838196Z",
     "start_time": "2021-08-30T14:40:05.633519Z"
    }
   },
   "outputs": [],
   "source": [
    "prediction=baseline.prediction()"
   ]
  },
  {
   "cell_type": "code",
   "execution_count": 79,
   "id": "264abe06",
   "metadata": {
    "ExecuteTime": {
     "end_time": "2021-08-30T14:40:00.570858Z",
     "start_time": "2021-08-30T14:40:00.504009Z"
    }
   },
   "outputs": [
    {
     "data": {
      "text/plain": [
       "{'avg_color_pred': 0.1625, 'dom_color_pred': 0.225, 'fft_pred': 0.25}"
      ]
     },
     "execution_count": 79,
     "metadata": {},
     "output_type": "execute_result"
    }
   ],
   "source": [
    "prediction"
   ]
  },
  {
   "cell_type": "code",
   "execution_count": null,
   "id": "4f2e775e",
   "metadata": {
    "ExecuteTime": {
     "end_time": "2021-08-30T12:45:43.165214Z",
     "start_time": "2021-08-30T12:45:43.165206Z"
    }
   },
   "outputs": [],
   "source": [
    "\n",
    "MAIN_PATH = \"../raw_data/wikiart/\" # Path to the directory which contains CSVs and the folder 'dataset'\n",
    "IMAGES = \"dataset\"\n",
    "CSV_NAME = \"wikiart-movement-genre_True-class_8-merge_mov-1-n_100_max.csv\" # Nwikiart-movement-genre_True-class_3-merge_test1-n_1000_max.csvme of the CSV we want to use\n",
    "NUM_MOVEMENT = 8 # Number of movements to classify\n",
    "NUM_GENRE = 10 # Number of genres to classify\n",
    "IMG_HEIGHT = IMG_WIDTH = 224 # Model's inputs shapes\n",
    "\n",
    "USER = \"gregoire\" # Choose between 'common', 'pablo', 'quentin', 'gregoire', 'alex'\n",
    "MODEL_NAME = \"Custom v1\" # Set the name of the model \n",
    "\n",
    "'''----------------------------------\n",
    "Load the CSV\n",
    "----------------------------------'''\n",
    "BATCH_SIZE = 32\n",
    "EPOCHS = 50\n",
    "\n",
    "\n",
    "'''----------------------------------\n",
    "Load the CSV\n",
    "----------------------------------'''\n",
    "raw_df = pd.read_csv(MAIN_PATH + CSV_NAME)\n",
    "df = raw_df.iloc[:, 0:3]\n",
    "assert type(df) == type(pd.DataFrame()) # Check if we created a dataframe\n",
    "assert df.iloc[:, 1].nunique() ==  NUM_MOVEMENT # Check if we have the correct number of movements\n",
    "assert df.iloc[:, 2].nunique() ==  NUM_GENRE # Check if we have the correct number of genres\n",
    "\n",
    "print(f\"Number of images : {df.shape[0]}\")\n",
    "\n",
    "'''----------------------------------\n",
    "OHE\n",
    "----------------------------------'''\n",
    "\n",
    "df_genre_ohe = pd.get_dummies(df['genre'])\n",
    "df_mov_ohe = pd.get_dummies(df['movement'])\n",
    "\n",
    "df = pd.concat([df,df_genre_ohe, df_mov_ohe], axis=1)\n"
   ]
  },
  {
   "cell_type": "code",
   "execution_count": null,
   "id": "e68e816a",
   "metadata": {
    "ExecuteTime": {
     "end_time": "2021-08-30T12:45:43.165956Z",
     "start_time": "2021-08-30T12:45:43.165948Z"
    }
   },
   "outputs": [],
   "source": [
    "df.head()"
   ]
  },
  {
   "cell_type": "code",
   "execution_count": null,
   "id": "4a4d1cfd",
   "metadata": {
    "ExecuteTime": {
     "end_time": "2021-08-30T12:45:43.166929Z",
     "start_time": "2021-08-30T12:45:43.166921Z"
    }
   },
   "outputs": [],
   "source": [
    "'''----------------------------------\n",
    "Train, test, val split\n",
    "----------------------------------'''\n",
    "df_train, df_test = train_test_split(df, test_size=0.2, shuffle=True)\n",
    "df_train, df_val = train_test_split(df_train, test_size=0.2, shuffle=True)\n",
    "# assert type(df_train) == type(pd.DataFrame()) # Check if we created dataframes\n",
    "# assert type(df_test) == type(pd.DataFrame())\n",
    "# assert type(df_val) == type(pd.DataFrame())\n",
    "\n",
    "print(f\"Number of images in train set : {df_train.shape[0]}\")\n",
    "print(f\"Number of images in val set : {df_val.shape[0]}\")\n",
    "print(f\"Number of images in test set : {df_test.shape[0]}\")\n",
    "print('\\n')\n",
    "\n",
    "'''----------------------------------\n",
    "Baselines\n",
    "----------------------------------'''\n",
    "\n",
    "#baseline calculated on occurence in train set \n",
    "baseline_mov=dict(df_train.groupby(by='movement')['file_name'].count()/df_train.shape[0])\n",
    "baseline_gen=dict(df_train.groupby(by='genre')['file_name'].count()/df_train.shape[0])\n",
    "\n",
    "assert sum(baseline_mov.values())==1\n",
    "assert sum(baseline_gen.values())==1\n"
   ]
  },
  {
   "cell_type": "code",
   "execution_count": null,
   "id": "830d43c6",
   "metadata": {
    "ExecuteTime": {
     "end_time": "2021-08-30T12:45:43.167824Z",
     "start_time": "2021-08-30T12:45:43.167811Z"
    }
   },
   "outputs": [],
   "source": [
    "'''----------------------------------\n",
    "Setup outputs columns\n",
    "----------------------------------'''\n",
    "#assert len(list(df.columns[1:])) == 2 # Check if we have two outputs columns\n",
    "#columns=list(df.columns[1:])\n",
    "\n",
    "columns_genre = list(df_genre_ohe.columns)\n",
    "columns_mov = list(df_mov_ohe.columns)\n",
    "columns = columns_mov + columns_genre \n",
    "\n",
    "'''----------------------------------\n",
    "Train ImageDataGenerator\n",
    "----------------------------------'''\n",
    "train_datagen = ImageDataGenerator( # This generator is only used to train data because it has data augmentation and we do not want to augment data from the test or val set\n",
    "    rescale=1./255,\n",
    "    rotation_range=15,\n",
    "    zoom_range=(0.95, 0.95),\n",
    "    horizontal_flip=True,\n",
    "    dtype=tf.float32\n",
    "    )\n",
    "\n",
    "#assert type(train_datagen) == type(ImageDataGenerator())\n",
    "\n",
    "train_generator = train_datagen.flow_from_dataframe(\n",
    "    dataframe=df_train, # Dataset used to get the path (column filename) and the linked outputs\n",
    "    directory=MAIN_PATH + IMAGES, # Path to the images\n",
    "    x_col=\"file_name\", # Column with the name of the images that the generator will get from the directory\n",
    "    y_col=columns, # Columns with the output of the images that the generator will get from the csv\n",
    "    batch_size=BATCH_SIZE,\n",
    "    seed=None,\n",
    "    shuffle=True,\n",
    "    class_mode=\"raw\", # numpy array of values in y_col columns\n",
    "    target_size=(IMG_HEIGHT, IMG_WIDTH), # Resize the images to the input shape of the model\n",
    "    data_format='channels_last'\n",
    "    ) \n",
    "\n",
    "\n",
    "'''----------------------------------\n",
    "Test and Val ImageDataGenerator\n",
    "----------------------------------'''\n",
    "test_val_datagen = ImageDataGenerator(  # We use a new generator without data augmentation\n",
    "    rescale=1./255\n",
    "    )\n",
    "\n",
    "val_generator = test_val_datagen.flow_from_dataframe(\n",
    "    dataframe=df_val, \n",
    "    directory=MAIN_PATH + IMAGES,\n",
    "    x_col=\"file_name\",\n",
    "    y_col=columns,\n",
    "    batch_size=BATCH_SIZE,\n",
    "    seed=None,\n",
    "    shuffle=False,\n",
    "    class_mode=\"raw\", \n",
    "    target_size=(IMG_HEIGHT, IMG_WIDTH),\n",
    "    data_format='channels_last'\n",
    "    )\n",
    "\n",
    "test_generator = test_val_datagen.flow_from_dataframe(\n",
    "    dataframe=df_test,\n",
    "    directory=MAIN_PATH + IMAGES,\n",
    "    x_col=\"file_name\",\n",
    "    batch_size=1,\n",
    "    seed=None,\n",
    "    shuffle=False,\n",
    "    class_mode=None, # No targets are returned (the generator will only yield batches of image data, which is useful to use in model.predict()\n",
    "    target_size=(IMG_HEIGHT, IMG_WIDTH),\n",
    "    data_format='channels_last'\n",
    "    )\n",
    "\n",
    "\n",
    "#assert type(test_val_datagen) == type(ImageDataGenerator())"
   ]
  },
  {
   "cell_type": "markdown",
   "id": "ee5f41ec",
   "metadata": {},
   "source": [
    "# Baseline Functions"
   ]
  },
  {
   "cell_type": "code",
   "execution_count": null,
   "id": "995ce74d",
   "metadata": {
    "ExecuteTime": {
     "end_time": "2021-08-30T12:45:43.168741Z",
     "start_time": "2021-08-30T12:45:43.168732Z"
    }
   },
   "outputs": [],
   "source": [
    "root=MAIN_PATH + IMAGES + '/'\n",
    "n_colors=5"
   ]
  },
  {
   "cell_type": "markdown",
   "id": "9f180824",
   "metadata": {
    "ExecuteTime": {
     "end_time": "2021-08-26T14:40:40.732419Z",
     "start_time": "2021-08-26T14:40:40.691621Z"
    },
    "heading_collapsed": true
   },
   "source": [
    "## Occurence Baseline"
   ]
  },
  {
   "cell_type": "code",
   "execution_count": null,
   "id": "eb86c2ca",
   "metadata": {
    "ExecuteTime": {
     "end_time": "2021-08-30T12:45:43.169639Z",
     "start_time": "2021-08-30T12:45:43.169579Z"
    },
    "hidden": true
   },
   "outputs": [],
   "source": [
    "baseline_mov=dict(df_train.groupby(by='movement')['file_name'].count()/df_train.shape[0])\n",
    "baseline_mov"
   ]
  },
  {
   "cell_type": "code",
   "execution_count": null,
   "id": "c13868d7",
   "metadata": {
    "ExecuteTime": {
     "end_time": "2021-08-30T12:45:43.170267Z",
     "start_time": "2021-08-30T12:45:43.170258Z"
    },
    "hidden": true
   },
   "outputs": [],
   "source": [
    "import matplotlib.pyplot as plt\n",
    "mov_bas=pd.DataFrame(df_train.groupby(by='movement')['file_name'].count()/df_train.shape[0]).reset_index()\n",
    "plt.figure(figsize=(10, 5))\n",
    "plt.scatter(x=mov_bas['movement'],y=mov_bas['file_name'],c='b');"
   ]
  },
  {
   "cell_type": "code",
   "execution_count": null,
   "id": "ddcc62a8",
   "metadata": {
    "ExecuteTime": {
     "end_time": "2021-08-30T12:45:43.171052Z",
     "start_time": "2021-08-30T12:45:43.171041Z"
    },
    "hidden": true
   },
   "outputs": [],
   "source": [
    "baseline_gnd=dict(df_train.groupby(by='genre')['file_name'].count()/df_train.shape[0])\n",
    "baseline_gnd"
   ]
  },
  {
   "cell_type": "code",
   "execution_count": null,
   "id": "5321639b",
   "metadata": {
    "ExecuteTime": {
     "end_time": "2021-08-30T12:45:43.171753Z",
     "start_time": "2021-08-30T12:45:43.171745Z"
    },
    "hidden": true
   },
   "outputs": [],
   "source": [
    "mov_bas=pd.DataFrame(df_train.groupby(by='genre')['file_name'].count()/df_train.shape[0]).reset_index()\n",
    "plt.figure(figsize=(15, 5))\n",
    "plt.scatter(x=mov_bas['genre'],y=mov_bas['file_name'],c='b');"
   ]
  },
  {
   "cell_type": "markdown",
   "id": "b13ad5ce",
   "metadata": {},
   "source": [
    "## Average and dominant color baseline"
   ]
  },
  {
   "cell_type": "markdown",
   "id": "55a181a4",
   "metadata": {
    "ExecuteTime": {
     "end_time": "2021-08-29T13:05:48.909750Z",
     "start_time": "2021-08-29T13:05:48.774614Z"
    },
    "heading_collapsed": true
   },
   "source": [
    "### General Fourier Functions"
   ]
  },
  {
   "cell_type": "code",
   "execution_count": null,
   "id": "eda0970f",
   "metadata": {
    "ExecuteTime": {
     "end_time": "2021-08-30T12:45:43.173032Z",
     "start_time": "2021-08-30T12:45:43.173024Z"
    },
    "hidden": true
   },
   "outputs": [],
   "source": [
    "#functions for Fourier Transformation\n",
    "import numpy\n",
    "from numpy.fft import fft2, fftshift\n",
    "\n",
    "\n",
    "def matriceImage(matrice,gamma,rgb):\n",
    "    s = matrice.shape\n",
    "    a=1.0/gamma;\n",
    "    norm=matrice.max()\n",
    "    m = np.power(matrice/norm,a)\n",
    "    im = np.zeros((s[0],s[1],3),dtype=float)\n",
    "    im[:,:,0] = rgb[0]*m\n",
    "    im[:,:,1] = rgb[1]*m\n",
    "    im[:,:,2] = rgb[2]*m\n",
    "    return im\n",
    "\n",
    "def matriceImageLog(matrice,rgb):\n",
    "    s = matrice.shape\n",
    "    m = np.log10(1+matrice)\n",
    "    min = m.min()\n",
    "    max = m.max()\n",
    "    m = (m-min)/(max-min)\n",
    "    im = numpy.zeros((s[0],s[1],3),dtype=float)\n",
    "    im[:,:,0] = rgb[0]*m\n",
    "    im[:,:,1] = rgb[1]*m\n",
    "    im[:,:,2] = rgb[2]*m\n",
    "    return im\n",
    "\n",
    "def plotSpectre(image,Lx,Ly):\n",
    "    (Ny,Nx,p) = image.shape\n",
    "    fxm = Nx*1.0/(2*Lx)\n",
    "    fym = Ny*1.0/(2*Ly)\n",
    "    plt.imshow(image,extent=[-fxm,fxm,-fym,fym])\n",
    "    \n",
    "    plt.xlabel(\"fx\")\n",
    "    plt.ylabel(\"fy\")"
   ]
  },
  {
   "cell_type": "markdown",
   "id": "b72dddb4",
   "metadata": {},
   "source": [
    "### Function for one image"
   ]
  },
  {
   "cell_type": "code",
   "execution_count": null,
   "id": "7815664a",
   "metadata": {
    "ExecuteTime": {
     "end_time": "2021-08-30T12:45:43.173723Z",
     "start_time": "2021-08-30T12:45:43.173714Z"
    }
   },
   "outputs": [],
   "source": [
    "#Fonction pour une image\n",
    "\n",
    "def baselines_viz_single(img,n_colors = 5,plot=True,array=True,rgb_fft='g'):\n",
    "\n",
    "    import cv2 # requires pip install opencv-python\n",
    "\n",
    "    #resize and flatten\n",
    "    img_224=np.array(tf.image.resize(img,[224,224]))\n",
    "    img_pixel = np.float32(img_224.reshape(-1, 3))\n",
    "\n",
    "    #average color\n",
    "    avg_color=img_pixel.mean(axis=0)\n",
    "    img_pixel.shape  \n",
    "\n",
    "    #Recherche palette dominante et couleur dominante par méthode des kmoyens (sur 5 couleurs par défaut)\n",
    "    pixels=np.float32(img_pixel)\n",
    "\n",
    "\n",
    "    criteria = (cv2.TERM_CRITERIA_EPS + cv2.TERM_CRITERIA_MAX_ITER, 1000, .5)\n",
    "    flags = cv2.KMEANS_RANDOM_CENTERS\n",
    "\n",
    "    _, labels, palette = cv2.kmeans(pixels, n_colors, None, criteria, 10, flags)\n",
    "    _, counts = np.unique(labels, return_counts=True)\n",
    "    dom_color = palette[np.argmax(counts)]\n",
    "\n",
    "    \n",
    "    #Magnitude Spectrum\n",
    "    \n",
    "    rgb_dict={'r':0,'g':1,'b':2}\n",
    "    \n",
    "    U=numpy.array(img_224[:,:,rgb_dict[rgb_fft]],dtype=np.float64)\n",
    "    V=np.fft.fft2(U)\n",
    "    VC = np.fft.fftshift(V)\n",
    "    P = np.power(numpy.abs(VC),2)\n",
    "    img_tff = matriceImageLog(P,[1,0,0])\n",
    "\n",
    "    \n",
    "    \n",
    "    #Viz functions\n",
    "    avg_patch = np.ones(shape=(224,224,3), dtype=np.uint8)*np.uint8(avg_color)\n",
    "\n",
    "    indices = np.argsort(counts)[::-1]   \n",
    "    freqs = np.cumsum(np.hstack([[0], counts[indices]/float(counts.sum())]))\n",
    "    rows = np.int_(224*freqs)\n",
    "\n",
    "    dom_patch = np.zeros(shape=(224,224,3), dtype=np.uint8)\n",
    "    for i in range(len(rows) - 1):\n",
    "        dom_patch[rows[i]:rows[i + 1], :, :] += np.uint8(palette[indices[i]])\n",
    "\n",
    "    #fig, (ax0, ax1, ax2, ax3, ax4) = plt.subplots(1, 5, figsize=(16,10))\n",
    "    #ax0.imshow(img)\n",
    "    #ax0.set_title('Original Image')\n",
    "    #ax0.axis('off')\n",
    "    #ax1.imshow(np.array(img_224,dtype=int))\n",
    "    #ax1.set_title('Resized Image')\n",
    "    #ax1.axis('off')\n",
    "    #ax2.imshow(avg_patch)\n",
    "    #ax2.set_title('Average color')\n",
    "    #ax2.axis('off')\n",
    "    #ax3.imshow(dom_patch)\n",
    "    #ax3.set_title('Dominant colors')\n",
    "    #ax3.axis('off')\n",
    "    #ax4.imshow(img_tff)\n",
    "    #ax4.set_title('Magnitude Spectrum')\n",
    "    #ax4.axis('off')\n",
    "    \n",
    "    #output selection\n",
    "    \n",
    "    #if plot :\n",
    "    #    plt.show(fig)\n",
    "    \n",
    "    weights=counts/pixels.shape[0]\n",
    "    out=None\n",
    "    if array: \n",
    "\n",
    "        img_dict={}\n",
    "        img_dict['avg_color']=avg_color\n",
    "        img_dict['dom_color']=palette\n",
    "        img_dict['dom_weights']=weights\n",
    "        img_dict['magnitude_spectrum']=img_tff\n",
    "    \n",
    "    return img_dict"
   ]
  },
  {
   "cell_type": "code",
   "execution_count": null,
   "id": "714c419a",
   "metadata": {
    "ExecuteTime": {
     "end_time": "2021-08-30T12:45:43.174897Z",
     "start_time": "2021-08-30T12:45:43.174888Z"
    }
   },
   "outputs": [],
   "source": [
    "test=df_train['file_name'].sample(6)\n",
    "test"
   ]
  },
  {
   "cell_type": "code",
   "execution_count": null,
   "id": "cc9c3d72",
   "metadata": {
    "ExecuteTime": {
     "end_time": "2021-08-30T12:45:43.175594Z",
     "start_time": "2021-08-30T12:45:43.175585Z"
    }
   },
   "outputs": [],
   "source": [
    "paintings_sample=['expressionism_jean-paul-lemieux_jeune-fille-au-chandail-rouge-1974.jpg',\n",
    "'expressionism_ernst-ludwig-kirchner_mountains-and-houses-in-the-snow.jpg',\n",
    "'expressionism_oskar-kokoschka_not_detected_235840.jpg',\n",
    "'impressionism_pierre-auguste-renoir_head-of-a-woman-1913.jpg',\n",
    "'abstract-expressionism_esteban-vicente_orange-red-black-1962.jpg',\n",
    "'northern-renaissance_hans-holbein-the-younger_studies-of-the-hands-of-erasmus-of-rotterdam.jpg',\n",
    "'impressionism_edmund-charles-tarbell_profile-1900.jpg',\n",
    "'cubism_pablo-picasso_portrait-of-manuel-pallares-1909.jpg',\n",
    "'expressionism_august-macke_sketch-of-the-bridge.jpg'\n",
    "]"
   ]
  },
  {
   "cell_type": "code",
   "execution_count": null,
   "id": "7dc8b35c",
   "metadata": {
    "ExecuteTime": {
     "end_time": "2021-08-30T12:45:43.176358Z",
     "start_time": "2021-08-30T12:45:43.176350Z"
    }
   },
   "outputs": [],
   "source": [
    "test_img1=plt.imread(MAIN_PATH+IMAGES+'/'+paintings_sample[0])\n",
    "test_img2=plt.imread(MAIN_PATH+IMAGES+'/'+paintings_sample[1])\n",
    "test_img3=plt.imread(MAIN_PATH+IMAGES+'/'+paintings_sample[2])\n",
    "test_img4=plt.imread(MAIN_PATH+IMAGES+'/'+paintings_sample[3])\n",
    "test_img5=plt.imread(MAIN_PATH+IMAGES+'/'+paintings_sample[4])\n",
    "test_img6=plt.imread(MAIN_PATH+IMAGES+'/'+paintings_sample[5])\n",
    "test_img7=plt.imread(MAIN_PATH+IMAGES+'/'+paintings_sample[6])\n",
    "test_img8=plt.imread(MAIN_PATH+IMAGES+'/'+paintings_sample[7])\n",
    "test_img9=plt.imread(MAIN_PATH+IMAGES+'/'+paintings_sample[8])"
   ]
  },
  {
   "cell_type": "code",
   "execution_count": null,
   "id": "29ba31c6",
   "metadata": {
    "ExecuteTime": {
     "end_time": "2021-08-30T12:45:43.177089Z",
     "start_time": "2021-08-30T12:45:43.177080Z"
    }
   },
   "outputs": [],
   "source": [
    "test_img1.shape"
   ]
  },
  {
   "cell_type": "code",
   "execution_count": null,
   "id": "63cc52ec",
   "metadata": {
    "ExecuteTime": {
     "end_time": "2021-08-30T12:45:43.177670Z",
     "start_time": "2021-08-30T12:45:43.177662Z"
    },
    "scrolled": false
   },
   "outputs": [],
   "source": [
    "img1_col=baselines_viz_single(test_img1,array=True)\n",
    "img2_col=baselines_viz_single(test_img2,array=True)\n",
    "img3_col=baselines_viz_single(test_img3,array=True)\n",
    "img4_col=baselines_viz_single(test_img4,array=True)\n",
    "img5_col=baselines_viz_single(test_img5,array=True)\n",
    "img6_col=baselines_viz_single(test_img6,array=True)\n",
    "img7_col=baselines_viz_single(test_img7,array=True)\n",
    "img8_col=baselines_viz_single(test_img8,array=True)\n",
    "img9_col=baselines_viz_single(test_img9,array=True)"
   ]
  },
  {
   "cell_type": "markdown",
   "id": "cc5bbfc4",
   "metadata": {
    "ExecuteTime": {
     "end_time": "2021-08-29T07:07:59.129041Z",
     "start_time": "2021-08-29T07:07:59.063330Z"
    }
   },
   "source": [
    "### Function for a dataset of images or a movement"
   ]
  },
  {
   "cell_type": "code",
   "execution_count": null,
   "id": "044ecda5",
   "metadata": {
    "ExecuteTime": {
     "end_time": "2021-08-30T12:45:43.178736Z",
     "start_time": "2021-08-30T12:45:43.178728Z"
    }
   },
   "outputs": [],
   "source": [
    "\n",
    "def baselines_viz_mov(df,root,mov,n_colors = 5,plot=True,array=True,rgb_fft='g'):\n",
    "\n",
    "    '''\n",
    "    df : DataFrame ; initial dataframe with filename and movement\n",
    "    mov : String ; chosen movement for baseline observation\n",
    "    plot : Bool ; chose to print the colors when executing the function\n",
    "    plot : Bool ; returns the arrays for colors : (avg_color,palette)\n",
    "    \n",
    "    '''\n",
    "    \n",
    "    path_list=df['file_name'][df['movement']==mov]\n",
    "    pixels=np.empty(3)\n",
    "    fourier_img=np.zeros((224,224, 3))\n",
    "    for file in list(path_list):\n",
    "        #average and dominant colors :\n",
    "        #images are reshaped to 224X224 and pixels are stacked next to each other\n",
    "        path=root+file\n",
    "        img=plt.imread(path)\n",
    "        img_224=np.array(tf.image.resize(img,[224,224]))\n",
    "        img_pixel = np.float32(img_224.reshape(-1, 3))\n",
    "        pixels=np.vstack((pixels,img_pixel))\n",
    "        \n",
    "        #Fourier transfo : average value for each image inside the movement\n",
    "        #f = np.fft.fft2(img_224,)\n",
    "        #fshift = np.fft.fftshift(f)\n",
    "        #np.seterr(divide = 'ignore') \n",
    "        #fourier_img += 75*np.log(np.abs(fshift))\n",
    "        #np.seterr(divide = 'warn')\n",
    "\n",
    "            #Magnitude Spectrum\n",
    "    \n",
    "        rgb_dict={'r':0,'g':1,'b':2}\n",
    "    \n",
    "        U=numpy.array(img_224[:,:,rgb_dict[rgb_fft]],dtype=np.float64)\n",
    "        V=np.fft.fft2(U)\n",
    "        VC = np.fft.fftshift(V)\n",
    "        P = np.power(numpy.abs(VC),2)\n",
    "        img_tff = matriceImageLog(P,[1,0,0])\n",
    "        fourier_img += img_tff\n",
    "        \n",
    "    avg_color=pixels.mean(axis=0)\n",
    "\n",
    "\n",
    "    #Recherche palette dominante et couleur dominante par méthode des kmoyens (sur 5 couleurs par défaut)\n",
    "    #premier pixel était là pour initialiser, il faut le virer\n",
    "    pixels=np.float32(pixels)[1:]\n",
    "\n",
    "    criteria = (cv2.TERM_CRITERIA_EPS + cv2.TERM_CRITERIA_MAX_ITER, 10000, .5)\n",
    "    flags = cv2.KMEANS_RANDOM_CENTERS\n",
    "\n",
    "    _, labels, palette = cv2.kmeans(pixels, n_colors, None, criteria, 10, flags)\n",
    "    _, counts = np.unique(labels, return_counts=True)\n",
    "    dom_color = palette[np.argmax(counts)]\n",
    "\n",
    "        ##Magnitude Spectrum\n",
    "\n",
    "    magnitude_spectrum = fourier_img/len(path_list)\n",
    "        \n",
    "        #Viz functions\n",
    "    avg_patch = np.ones(shape=(224,224,3), dtype=np.uint8)*np.uint8(avg_color)\n",
    "\n",
    "    indices = np.argsort(counts)[::-1]   \n",
    "    freqs = np.cumsum(np.hstack([[0], counts[indices]/float(counts.sum())]))\n",
    "    rows = np.int_(224*freqs)\n",
    "\n",
    "    dom_patch = np.zeros(shape=(224,224,3), dtype=np.uint8)\n",
    "    for i in range(len(rows) - 1):\n",
    "        dom_patch[rows[i]:rows[i + 1], :, :] += np.uint8(palette[indices[i]])\n",
    "        \n",
    "        \n",
    "    fig, (ax0, ax1, ax2) = plt.subplots(1, 3, figsize=(16,10))\n",
    "    ax0.imshow(avg_patch)\n",
    "    ax0.set_title(mov.capitalize()+' - Average color')\n",
    "    ax0.axis('off')\n",
    "    ax1.imshow(dom_patch)\n",
    "    ax1.set_title(mov.capitalize()+' - Dominant colors')\n",
    "    ax1.axis('off')\n",
    "    ax2.imshow(magnitude_spectrum, cmap = 'gray')\n",
    "    ax2.set_title('Magnitude Spectrum')\n",
    "    ax2.axis('off')\n",
    "    plt.show(fig)\n",
    "\n",
    "    #output selection\n",
    "    \n",
    "    if plot :\n",
    "        plt.show(fig)\n",
    "    \n",
    "\n",
    "    weights=counts/pixels.shape[0]\n",
    "    out=None\n",
    "    if array: \n",
    "        out =(avg_color,palette,weights,magnitude_spectrum)\n",
    "    \n",
    "    return out\n",
    "    "
   ]
  },
  {
   "cell_type": "markdown",
   "id": "5e5df48f",
   "metadata": {},
   "source": [
    "##### Test on a specific movement : expressionism"
   ]
  },
  {
   "cell_type": "code",
   "execution_count": null,
   "id": "592548ea",
   "metadata": {
    "ExecuteTime": {
     "end_time": "2021-08-30T12:45:43.179632Z",
     "start_time": "2021-08-30T12:45:43.179624Z"
    }
   },
   "outputs": [],
   "source": [
    "mov_test='expressionism'\n",
    "test2=df_train[df_train['movement']==mov_test]['file_name'][0:6]\n",
    "test2"
   ]
  },
  {
   "cell_type": "code",
   "execution_count": null,
   "id": "6b1a1fd6",
   "metadata": {
    "ExecuteTime": {
     "end_time": "2021-08-30T12:45:43.180436Z",
     "start_time": "2021-08-30T12:45:43.180425Z"
    }
   },
   "outputs": [],
   "source": [
    "test2_img1=plt.imread(MAIN_PATH+IMAGES+'/'+test2[test2.index[0]])\n",
    "test2_img2=plt.imread(MAIN_PATH+IMAGES+'/'+test2[test2.index[1]])\n",
    "test2_img3=plt.imread(MAIN_PATH+IMAGES+'/'+test2[test2.index[2]])\n",
    "test2_img4=plt.imread(MAIN_PATH+IMAGES+'/'+test2[test2.index[3]])\n",
    "test2_img5=plt.imread(MAIN_PATH+IMAGES+'/'+test2[test2.index[4]])\n",
    "test2_img6=plt.imread(MAIN_PATH+IMAGES+'/'+test2[test2.index[5]])\n"
   ]
  },
  {
   "cell_type": "code",
   "execution_count": null,
   "id": "ef93b393",
   "metadata": {
    "ExecuteTime": {
     "end_time": "2021-08-30T12:45:43.181027Z",
     "start_time": "2021-08-30T12:45:43.181018Z"
    }
   },
   "outputs": [],
   "source": [
    "print(test2[test2.index[1]])"
   ]
  },
  {
   "cell_type": "code",
   "execution_count": null,
   "id": "1ef6cd79",
   "metadata": {
    "ExecuteTime": {
     "end_time": "2021-08-30T12:45:43.181657Z",
     "start_time": "2021-08-30T12:45:43.181648Z"
    }
   },
   "outputs": [],
   "source": [
    "img1_col=baselines_viz_single(test2_img1,array=True)\n",
    "img2_col=baselines_viz_single(test2_img2,array=True)\n",
    "img3_col=baselines_viz_single(test2_img3,array=True)\n",
    "img4_col=baselines_viz_single(test2_img4,array=True)\n",
    "img5_col=baselines_viz_single(test2_img5,array=True)\n",
    "img6_col=baselines_viz_single(test2_img6,array=True)"
   ]
  },
  {
   "cell_type": "code",
   "execution_count": null,
   "id": "3be35945",
   "metadata": {
    "ExecuteTime": {
     "end_time": "2021-08-30T12:45:43.182296Z",
     "start_time": "2021-08-30T12:45:43.182288Z"
    },
    "scrolled": true
   },
   "outputs": [],
   "source": [
    "baseline_expressionism=baselines_viz_mov(df,root,'expressionism',5)\n",
    "baseline_expressionism"
   ]
  },
  {
   "cell_type": "markdown",
   "id": "ad2ec314",
   "metadata": {},
   "source": [
    "**Create baseline dict**"
   ]
  },
  {
   "cell_type": "code",
   "execution_count": null,
   "id": "02990dd5",
   "metadata": {
    "ExecuteTime": {
     "end_time": "2021-08-30T12:45:43.182954Z",
     "start_time": "2021-08-30T12:45:43.182946Z"
    }
   },
   "outputs": [],
   "source": [
    "#function to calculate baseline dictionnary of colors\n",
    "\n",
    "root=MAIN_PATH + IMAGES + '/'\n",
    "\n",
    "def baseline_dict(df,root,n_colors=5):\n",
    "\n",
    "    mov_list=list(df['movement'].unique())\n",
    "    base_dict={}\n",
    "    for mov in mov_list:\n",
    "        mov_dict={}\n",
    "        baseline=baselines_viz_mov(df,root,mov,n_colors,plot=False,array=True)\n",
    "        mov_dict['avg_color']=baseline[0]\n",
    "        mov_dict['dom_color']=baseline[1]\n",
    "        mov_dict['dom_weights']=baseline[2]\n",
    "        mov_dict['mov_fft']=baseline[3]\n",
    "        base_dict[mov]=mov_dict\n",
    "    \n",
    "    return base_dict"
   ]
  },
  {
   "cell_type": "code",
   "execution_count": null,
   "id": "2eb6f02e",
   "metadata": {
    "ExecuteTime": {
     "end_time": "2021-08-30T12:45:43.183692Z",
     "start_time": "2021-08-30T12:45:43.183682Z"
    }
   },
   "outputs": [],
   "source": [
    "base_dict=baseline_dict(df_train,root,5)\n"
   ]
  },
  {
   "cell_type": "code",
   "execution_count": null,
   "id": "a365fcb3",
   "metadata": {
    "ExecuteTime": {
     "end_time": "2021-08-30T12:45:43.184197Z",
     "start_time": "2021-08-30T12:45:43.184188Z"
    }
   },
   "outputs": [],
   "source": [
    "base_dict"
   ]
  },
  {
   "cell_type": "markdown",
   "id": "fe0f131f",
   "metadata": {},
   "source": [
    "## Compute loss function for average color"
   ]
  },
  {
   "cell_type": "code",
   "execution_count": null,
   "id": "1753fbed",
   "metadata": {
    "ExecuteTime": {
     "end_time": "2021-08-30T12:45:43.184784Z",
     "start_time": "2021-08-30T12:45:43.184776Z"
    }
   },
   "outputs": [],
   "source": [
    "y_pred_exp=base_dict['expressionism']['avg_color']\n",
    "y_pred_cfp=base_dict['color_field_painting']['avg_color']\n",
    "y=avg_color\n",
    "\n",
    "print(y,y_pred_exp,y_pred_cfp)\n"
   ]
  },
  {
   "cell_type": "markdown",
   "id": "314c25c0",
   "metadata": {},
   "source": [
    "##### quick test (can only be executed after running a movement example)"
   ]
  },
  {
   "cell_type": "code",
   "execution_count": null,
   "id": "7edfb26c",
   "metadata": {
    "ExecuteTime": {
     "end_time": "2021-08-30T12:45:43.185410Z",
     "start_time": "2021-08-30T12:45:43.185402Z"
    }
   },
   "outputs": [],
   "source": [
    "from sklearn.metrics import mean_squared_error, mean_absolute_error, r2_score, max_error\n",
    "import math\n",
    "\n",
    "mse = mean_squared_error(y, y_pred_exp)\n",
    "mse2 = mean_squared_error(y, y_pred_cfp)\n",
    "\n",
    "rmse = math.sqrt(mse)\n",
    "rmse2 = math.sqrt(mse2)\n",
    "\n",
    "mae = mean_absolute_error(y, y_pred_exp)\n",
    "mae2 = mean_absolute_error(y, y_pred_cfp)\n",
    "\n",
    "rsquared = r2_score(y, y_pred_exp)\n",
    "rsquared2 = r2_score(y, y_pred_cfp)\n",
    "\n",
    "max_err = max_error(y, y_pred_exp)\n",
    "max_err2 = max_error(y, y_pred_cfp)\n",
    "\n",
    "print('Comparison to expressionism')\n",
    "print('MSE =', round(mse, 2))\n",
    "print('RMSE =', round(rmse, 2))\n",
    "print('MAE =', round(mae, 2))\n",
    "print('R2 =', round(rsquared, 2))\n",
    "print('Max Error =', round(max_err, 2))\n",
    "print('\\n')\n",
    "print('Comparison to color field painting')\n",
    "print('MSE =', round(mse2, 2))\n",
    "print('RMSE =', round(rmse2, 2))\n",
    "print('MAE =', round(mae2, 2))\n",
    "print('R2 =', round(rsquared2, 2))\n",
    "print('Max Error =', round(max_err2, 2))\n"
   ]
  },
  {
   "cell_type": "code",
   "execution_count": null,
   "id": "f68d0e0d",
   "metadata": {
    "ExecuteTime": {
     "end_time": "2021-08-30T12:45:43.186141Z",
     "start_time": "2021-08-30T12:45:43.186133Z"
    }
   },
   "outputs": [],
   "source": [
    "base_pred_avg(y,base_dict)"
   ]
  },
  {
   "cell_type": "markdown",
   "id": "d031f5fe",
   "metadata": {
    "ExecuteTime": {
     "end_time": "2021-08-27T16:23:12.868200Z",
     "start_time": "2021-08-27T16:23:12.804231Z"
    }
   },
   "source": [
    "##### function"
   ]
  },
  {
   "cell_type": "code",
   "execution_count": null,
   "id": "21ee988e",
   "metadata": {
    "ExecuteTime": {
     "end_time": "2021-08-30T12:45:43.187089Z",
     "start_time": "2021-08-30T12:45:43.187079Z"
    }
   },
   "outputs": [],
   "source": [
    "#try on mae :\n",
    "\n",
    "from sklearn.metrics import mean_absolute_error\n",
    "\n",
    "y=img1_col['avg_color']\n",
    "\n",
    "def base_pred_avg(avg_color,base_dict):\n",
    "\n",
    "    mov_list=list(base_dict.keys())\n",
    "\n",
    "    loss_dict={}     \n",
    "\n",
    "    for mov in mov_list:\n",
    "        loss_dict[mov]=mean_absolute_error(avg_color, base_dict[mov]['avg_color'])\n",
    "        \n",
    "    return min(loss_dict, key=loss_dict.get)\n",
    "    "
   ]
  },
  {
   "cell_type": "markdown",
   "id": "c5d5eb84",
   "metadata": {
    "ExecuteTime": {
     "end_time": "2021-08-27T16:31:24.973951Z",
     "start_time": "2021-08-27T16:31:24.836912Z"
    }
   },
   "source": [
    "## Compute loss function for dominant color"
   ]
  },
  {
   "cell_type": "code",
   "execution_count": null,
   "id": "109d5fc0",
   "metadata": {
    "ExecuteTime": {
     "end_time": "2021-08-30T12:45:43.188760Z",
     "start_time": "2021-08-30T12:45:43.188752Z"
    }
   },
   "outputs": [],
   "source": [
    "def base_pred_dom(img,base_dict,n_colors=5):\n",
    "\n",
    "    '''\n",
    "    Description : movement prediction based on dominant colors\n",
    "    \n",
    "    '''\n",
    "    #each color gets compared to dominant colors of every movement\n",
    "    #rating is done using MAE weighted by the inverse of dominance weights\n",
    "    #minimal weighted distance is then used as a loss\n",
    "\n",
    "    mov_list=list(base_dict.keys())\n",
    "\n",
    "    loss_dict={}\n",
    "\n",
    "    for mov in mov_list:\n",
    "        loss_mov=0\n",
    "        for color_dom in list(range(0,n_colors)):\n",
    "            loss_list=[]\n",
    "            for color_mov in list(range(0,n_colors)):\n",
    "                loss_list.append((base_dict[mov]['dom_weights'][color_mov]*img['dom_weights'][color_dom])**-1 *\\\n",
    "                    mean_absolute_error(img['dom_color'][color_dom]/255,base_dict[mov]['dom_color'][color_mov]/255))\n",
    "            loss_mov+=min(loss_list)\n",
    "        loss_dict[mov]=loss_mov    \n",
    "\n",
    "    return min(loss_dict, key=loss_dict.get)"
   ]
  },
  {
   "cell_type": "code",
   "execution_count": null,
   "id": "95c6d622",
   "metadata": {
    "ExecuteTime": {
     "end_time": "2021-08-30T12:45:43.190544Z",
     "start_time": "2021-08-30T12:45:43.190533Z"
    }
   },
   "outputs": [],
   "source": [
    "print(base_pred_dom(img1_col,base_dict,n_colors))\n",
    "print(base_pred_dom(img2_col,base_dict,n_colors))\n",
    "print(base_pred_dom(img3_col,base_dict,n_colors))\n",
    "print(base_pred_dom(img4_col,base_dict,n_colors))\n",
    "print(base_pred_dom(img5_col,base_dict,n_colors))\n",
    "print(base_pred_dom(img6_col,base_dict,n_colors))"
   ]
  },
  {
   "cell_type": "markdown",
   "id": "f872c7eb",
   "metadata": {},
   "source": [
    "### Check of function prediction on dominant colors images of movements"
   ]
  },
  {
   "cell_type": "code",
   "execution_count": null,
   "id": "9c0c918f",
   "metadata": {
    "ExecuteTime": {
     "end_time": "2021-08-30T12:45:43.193119Z",
     "start_time": "2021-08-30T12:45:43.193109Z"
    }
   },
   "outputs": [],
   "source": [
    "mov='color_field_painting'\n",
    "n_colors=5\n",
    "df=df_train\n",
    "root=MAIN_PATH+IMAGES+'/'\n",
    "\n",
    "\n",
    "    \n",
    "path_list=df['file_name'][df['movement']==mov]\n",
    "pixels=np.empty(3)\n",
    "for file in list(path_list):\n",
    "#images are reshaped to 224X224 and pixels are stacked next to each other\n",
    "    path=root+file\n",
    "    img=plt.imread(path)\n",
    "    img_224=np.array(tf.image.resize(img,[224,224]))\n",
    "    img_pixel = np.float32(img_224.reshape(-1, 3))\n",
    "    pixels=np.vstack((pixels,img_pixel))\n",
    "\n",
    "avg_color=pixels.mean(axis=0)\n",
    "\n",
    "\n",
    "#Recherche palette dominante et couleur dominante par méthode des kmoyens (sur 5 couleurs par défaut)\n",
    "#premier pixel était là pour initialiser, il faut le virer\n",
    "pixels=np.float32(pixels)[1:]\n",
    "\n",
    "criteria = (cv2.TERM_CRITERIA_EPS + cv2.TERM_CRITERIA_MAX_ITER, 10000, .5)\n",
    "flags = cv2.KMEANS_RANDOM_CENTERS\n",
    "\n",
    "_, labels, palette = cv2.kmeans(pixels, n_colors, None, criteria, 10, flags)\n",
    "_, counts = np.unique(labels, return_counts=True)\n",
    "dom_color_cfp = palette[np.argmax(counts)]\n",
    "\n",
    "    #Viz functions\n",
    "avg_patch = np.ones(shape=(224,224,3), dtype=np.uint8)*np.uint8(avg_color)\n",
    "\n",
    "indices = np.argsort(counts)[::-1]   \n",
    "freqs = np.cumsum(np.hstack([[0], counts[indices]/float(counts.sum())]))\n",
    "rows = np.int_(224*freqs)\n",
    "\n",
    "dom_patch_cfp = np.zeros(shape=(224,224,3), dtype=np.uint8)\n",
    "for i in range(len(rows) - 1):\n",
    "    dom_patch_cfp[rows[i]:rows[i + 1], :, :] += np.uint8(palette[indices[i]])\n",
    "\n",
    "\n",
    "fig, (ax0, ax1) = plt.subplots(1, 2, figsize=(12,6))\n",
    "ax0.imshow(avg_patch)\n",
    "ax0.set_title(mov.capitalize()+' - Average color')\n",
    "ax0.axis('off')\n",
    "ax1.imshow(dom_patch_cfp)\n",
    "ax1.set_title(mov.capitalize()+' - Dominant colors')\n",
    "ax1.axis('off')\n",
    "plt.show(fig) \n",
    "\n",
    "#output selection\n",
    "\n",
    "plt.show(fig)\n",
    "\n",
    "\n",
    "weights=counts/pixels.shape[0]\n",
    "out=None\n",
    "out =(avg_color,palette,weights)\n"
   ]
  },
  {
   "cell_type": "code",
   "execution_count": null,
   "id": "2acf20dd",
   "metadata": {
    "ExecuteTime": {
     "end_time": "2021-08-30T12:45:43.194501Z",
     "start_time": "2021-08-30T12:45:43.194492Z"
    }
   },
   "outputs": [],
   "source": [
    "img_cfp=baselines_viz_single(dom_patch_cfp,array=True)"
   ]
  },
  {
   "cell_type": "code",
   "execution_count": null,
   "id": "d907f5f2",
   "metadata": {
    "ExecuteTime": {
     "end_time": "2021-08-30T12:45:43.195439Z",
     "start_time": "2021-08-30T12:45:43.195430Z"
    }
   },
   "outputs": [],
   "source": [
    "print(base_pred_dom(img_cfp,base_dict,n_colors))"
   ]
  },
  {
   "cell_type": "code",
   "execution_count": null,
   "id": "652c7382",
   "metadata": {
    "ExecuteTime": {
     "end_time": "2021-08-30T12:45:43.196002Z",
     "start_time": "2021-08-30T12:45:43.195994Z"
    }
   },
   "outputs": [],
   "source": [
    "mov='realism'\n",
    "n_colors=5\n",
    "df=df_train\n",
    "root=MAIN_PATH+IMAGES+'/'\n",
    "\n",
    "\n",
    "    \n",
    "path_list=df['file_name'][df['movement']==mov]\n",
    "pixels=np.empty(3)\n",
    "for file in list(path_list):\n",
    "#images are reshaped to 224X224 and pixels are stacked next to each other\n",
    "    path=root+file\n",
    "    img=plt.imread(path)\n",
    "    img_224=np.array(tf.image.resize(img,[224,224]))\n",
    "    img_pixel = np.float32(img_224.reshape(-1, 3))\n",
    "    pixels=np.vstack((pixels,img_pixel))\n",
    "\n",
    "avg_color=pixels.mean(axis=0)\n",
    "\n",
    "\n",
    "#Recherche palette dominante et couleur dominante par méthode des kmoyens (sur 5 couleurs par défaut)\n",
    "#premier pixel était là pour initialiser, il faut le virer\n",
    "pixels=np.float32(pixels)[1:]\n",
    "\n",
    "criteria = (cv2.TERM_CRITERIA_EPS + cv2.TERM_CRITERIA_MAX_ITER, 10000, .5)\n",
    "flags = cv2.KMEANS_RANDOM_CENTERS\n",
    "\n",
    "_, labels, palette = cv2.kmeans(pixels, n_colors, None, criteria, 10, flags)\n",
    "_, counts = np.unique(labels, return_counts=True)\n",
    "dom_color_realism = palette[np.argmax(counts)]\n",
    "\n",
    "    #Viz functions\n",
    "avg_patch = np.ones(shape=(224,224,3), dtype=np.uint8)*np.uint8(avg_color)\n",
    "\n",
    "indices = np.argsort(counts)[::-1]   \n",
    "freqs = np.cumsum(np.hstack([[0], counts[indices]/float(counts.sum())]))\n",
    "rows = np.int_(224*freqs)\n",
    "\n",
    "dom_patch_realism = np.zeros(shape=(224,224,3), dtype=np.uint8)\n",
    "for i in range(len(rows) - 1):\n",
    "    dom_patch_realism[rows[i]:rows[i + 1], :, :] += np.uint8(palette[indices[i]])\n",
    "\n",
    "\n",
    "fig, (ax0, ax1) = plt.subplots(1, 2, figsize=(12,6))\n",
    "ax0.imshow(avg_patch)\n",
    "ax0.set_title(mov.capitalize()+' - Average color')\n",
    "ax0.axis('off')\n",
    "ax1.imshow(dom_patch_realism)\n",
    "ax1.set_title(mov.capitalize()+' - Dominant colors')\n",
    "ax1.axis('off')\n",
    "plt.show(fig) \n",
    "\n",
    "#output selection\n",
    "\n",
    "plt.show(fig)\n",
    "\n",
    "\n",
    "weights=counts/pixels.shape[0]\n",
    "out=None\n",
    "out =(avg_color,palette,weights)\n"
   ]
  },
  {
   "cell_type": "code",
   "execution_count": null,
   "id": "2f76375b",
   "metadata": {
    "ExecuteTime": {
     "end_time": "2021-08-30T12:45:43.197183Z",
     "start_time": "2021-08-30T12:45:43.197172Z"
    }
   },
   "outputs": [],
   "source": [
    "img_realism=baselines_viz_single(dom_patch_realism,array=True)"
   ]
  },
  {
   "cell_type": "code",
   "execution_count": null,
   "id": "1aa371e3",
   "metadata": {
    "ExecuteTime": {
     "end_time": "2021-08-30T12:45:43.199025Z",
     "start_time": "2021-08-30T12:45:43.199016Z"
    }
   },
   "outputs": [],
   "source": [
    "print(base_pred_dom(img_realism,base_dict,n_colors))"
   ]
  },
  {
   "cell_type": "markdown",
   "id": "73c9f477",
   "metadata": {},
   "source": [
    "## Compute loss function from Fourier Transformation"
   ]
  },
  {
   "cell_type": "markdown",
   "id": "7e23ceba",
   "metadata": {},
   "source": [
    "##### Check of Fourier Transformation error computation"
   ]
  },
  {
   "cell_type": "code",
   "execution_count": null,
   "id": "c036168f",
   "metadata": {
    "ExecuteTime": {
     "end_time": "2021-08-30T12:45:43.199798Z",
     "start_time": "2021-08-30T12:45:43.199790Z"
    }
   },
   "outputs": [],
   "source": [
    "mean_ms=5*np.abs((img3_col['magnitude_spectrum']-img2_col['magnitude_spectrum']))\n",
    "plt.imshow(mean_ms, cmap = 'gray')\n",
    "\n",
    "mean_ms.sum()"
   ]
  },
  {
   "cell_type": "code",
   "execution_count": null,
   "id": "365695a7",
   "metadata": {
    "ExecuteTime": {
     "end_time": "2021-08-30T12:45:43.200521Z",
     "start_time": "2021-08-30T12:45:43.200511Z"
    }
   },
   "outputs": [],
   "source": [
    "mean_ms=5*np.abs((img6_col['magnitude_spectrum']-img4_col['magnitude_spectrum']))\n",
    "plt.imshow(mean_ms, cmap = 'gray')\n",
    "mean_ms.sum()"
   ]
  },
  {
   "cell_type": "code",
   "execution_count": null,
   "id": "28968f32",
   "metadata": {
    "ExecuteTime": {
     "end_time": "2021-08-30T12:45:43.201305Z",
     "start_time": "2021-08-30T12:45:43.201296Z"
    }
   },
   "outputs": [],
   "source": [
    "# coeff of 5 seems to be enough to illustrate differences in shapes\n",
    "\n",
    "mean_ms=5*np.abs((img_realism['magnitude_spectrum']-img_cfp['magnitude_spectrum']))\n",
    "\n",
    "\n",
    "fig1, ((ax0, ax1),(ax2, ax3)) = plt.subplots(2, 2, figsize=(15.5,9))\n",
    "ax0.imshow(dom_patch_realism)\n",
    "ax0.set_title('Realism Dominant colors')\n",
    "ax0.axis('off')\n",
    "ax1.imshow(dom_patch_cfp)\n",
    "ax1.set_title('Color Field Painting Dominant colors')\n",
    "ax1.axis('off')\n",
    "ax2.imshow(img_realism['magnitude_spectrum'])\n",
    "ax2.set_title('Realism FFT Magnitude')\n",
    "ax2.axis('off')\n",
    "ax3.imshow(img_cfp['magnitude_spectrum'])\n",
    "ax3.set_title('Color Field Painting  FFT Magnitude')\n",
    "ax3.axis('off')\n",
    "\n",
    "fig2, (ax0,ax1,ax2) = plt.subplots(1, 3, figsize=(12.5,5))\n",
    "ax0.axis('off')\n",
    "\n",
    "ax1.imshow(mean_ms, cmap = 'gray')\n",
    "ax1.set_title('FFT Magnitude Comparison')\n",
    "ax1.axis('off')\n",
    "\n",
    "ax2.axis('off')\n",
    "\n"
   ]
  },
  {
   "cell_type": "code",
   "execution_count": null,
   "id": "8b6d7908",
   "metadata": {
    "ExecuteTime": {
     "end_time": "2021-08-30T12:45:43.202077Z",
     "start_time": "2021-08-30T12:45:43.202069Z"
    }
   },
   "outputs": [],
   "source": [
    "def base_pred_fft(img,base_dict):\n",
    "    \n",
    "    mov_list=list(base_dict.keys())\n",
    "\n",
    "    loss_dict={}\n",
    "\n",
    "    for mov in mov_list:\n",
    "        loss_dict[mov]=5*np.abs(img['magnitude_spectrum']-base_dict[mov]['mov_fft']).sum()\n",
    "        \n",
    "    return min(loss_dict, key=loss_dict.get)\n",
    "    "
   ]
  },
  {
   "cell_type": "code",
   "execution_count": null,
   "id": "6b96c111",
   "metadata": {
    "ExecuteTime": {
     "end_time": "2021-08-30T12:45:43.202802Z",
     "start_time": "2021-08-30T12:45:43.202793Z"
    }
   },
   "outputs": [],
   "source": [
    "print(base_pred_fft(img1_col,base_dict))\n",
    "print(base_pred_fft(img2_col,base_dict))\n",
    "print(base_pred_fft(img3_col,base_dict))\n",
    "print(base_pred_fft(img4_col,base_dict))\n",
    "print(base_pred_fft(img5_col,base_dict))\n",
    "print(base_pred_fft(img6_col,base_dict))\n",
    "            "
   ]
  },
  {
   "cell_type": "markdown",
   "id": "8061c594",
   "metadata": {},
   "source": [
    "# Baseline Predictions"
   ]
  },
  {
   "cell_type": "code",
   "execution_count": null,
   "id": "6bbc173b",
   "metadata": {
    "ExecuteTime": {
     "end_time": "2021-08-30T12:45:43.203639Z",
     "start_time": "2021-08-30T12:45:43.203630Z"
    },
    "scrolled": true
   },
   "outputs": [],
   "source": [
    "# Prediction function for baseline's accuracies\n",
    "\n",
    "def baseline_accuracy(df,base_dict):\n",
    "\n",
    "    test_pred=df.copy()\n",
    "    test_pred['avg_color_pred']=''\n",
    "    test_pred['dom_color_pred']=''\n",
    "    test_pred['fft_pred']=''\n",
    "    \n",
    "    for paint in test_pred['file_name'].index:\n",
    "        img=plt.imread(MAIN_PATH+IMAGES+'/'+test_pred.loc[paint]['file_name'])\n",
    "        baseline=baselines_viz_single(img,plot=False)\n",
    "        test_pred.loc[paint,'avg_color_pred']=(base_pred_avg(baseline['avg_color'],base_dict)==test_pred.loc[paint,'movement'])\n",
    "        test_pred.loc[paint,'dom_color_pred']=(base_pred_dom(baseline,base_dict,5)==test_pred.loc[paint,'movement'])\n",
    "        test_pred.loc[paint,'fft_pred']=(base_pred_fft(baseline,base_dict)==test_pred.loc[paint,'movement'])\n",
    "\n",
    "    baseline_pred_accuracy={'avg_color_pred':test_pred['avg_color_pred'].sum()/test_pred.shape[0],\n",
    "                        'dom_color_pred':test_pred['dom_color_pred'].sum()/test_pred.shape[0],\n",
    "                        'fft_pred':test_pred['fft_pred'].sum()/test_pred.shape[0]}\n",
    "\n",
    "    return baseline_pred_accuracy\n"
   ]
  },
  {
   "cell_type": "code",
   "execution_count": null,
   "id": "f757a1fc",
   "metadata": {
    "ExecuteTime": {
     "end_time": "2021-08-30T12:45:43.204629Z",
     "start_time": "2021-08-30T12:45:43.204620Z"
    }
   },
   "outputs": [],
   "source": [
    "baseline_accuracy(df_test,base_dict)"
   ]
  },
  {
   "cell_type": "code",
   "execution_count": null,
   "id": "27323ba0",
   "metadata": {},
   "outputs": [],
   "source": []
  }
 ],
 "metadata": {
  "kernelspec": {
   "display_name": "Python 3 (ipykernel)",
   "language": "python",
   "name": "python3"
  },
  "language_info": {
   "codemirror_mode": {
    "name": "ipython",
    "version": 3
   },
   "file_extension": ".py",
   "mimetype": "text/x-python",
   "name": "python",
   "nbconvert_exporter": "python",
   "pygments_lexer": "ipython3",
   "version": "3.7.11"
  },
  "toc": {
   "base_numbering": 1,
   "nav_menu": {},
   "number_sections": true,
   "sideBar": true,
   "skip_h1_title": false,
   "title_cell": "Table of Contents",
   "title_sidebar": "Contents",
   "toc_cell": false,
   "toc_position": {},
   "toc_section_display": true,
   "toc_window_display": false
  }
 },
 "nbformat": 4,
 "nbformat_minor": 5
}
